{
 "cells": [
  {
   "cell_type": "markdown",
   "metadata": {},
   "source": [
    "# Tutorial1\n",
    "We show how to train a profitable RL agent on portfolio managemnt with EIIE algorithm on US stock market."
   ]
  },
  {
   "cell_type": "markdown",
   "metadata": {},
   "source": [
    "## Step 1: Import Packages\n",
    "Modify the system path and load the corresponding packages and functions"
   ]
  },
  {
   "cell_type": "code",
   "execution_count": 15,
   "metadata": {},
   "outputs": [],
   "source": [
    "import os\n",
    "import sys\n",
    "from pathlib import Path\n",
    "import warnings\n",
    "warnings.filterwarnings(\"ignore\")\n",
    "ROOT = os.path.dirname(os.path.abspath(\".\"))\n",
    "sys.path.append(ROOT)\n",
    "import torch\n",
    "import argparse\n",
    "import os.path as osp\n",
    "from mmcv import Config\n",
    "from trademaster.utils import replace_cfg_vals\n",
    "from trademaster.nets.builder import build_net\n",
    "from trademaster.environments.builder import build_environment\n",
    "from trademaster.datasets.builder import build_dataset\n",
    "from trademaster.agents.builder import build_agent\n",
    "from trademaster.optimizers.builder import build_optimizer\n",
    "from trademaster.losses.builder import build_loss\n",
    "from trademaster.trainers.builder import build_trainer\n",
    "from trademaster.transition.builder import build_transition\n",
    "from trademaster.utils import plot"
    "from trademaster.utils import set_seed"
    "set_seed(2023)"
   ]
  },
  {
   "cell_type": "markdown",
   "metadata": {},
   "source": [
    "## Step 2: Load Configs\n",
    "Load default config from the file `configs/portfolio_management/portfolio_management_dj30_eiie_eiie_adam_mse.py`"
   ]
  },
  {
   "cell_type": "code",
   "execution_count": 16,
   "metadata": {},
   "outputs": [],
   "source": [
    "parser = argparse.ArgumentParser(description='Download Alpaca Datasets')\n",
    "parser.add_argument(\"--config\", default=osp.join(ROOT, \"configs\", \"portfolio_management\", \"portfolio_management_dj30_eiie_eiie_adam_mse.py\"),\n",
    "                    help=\"download datasets config file path\")\n",
    "parser.add_argument(\"--task_name\", type=str, default=\"train\")\n",
    "\n",
    "args, _= parser.parse_known_args()\n",
    "cfg = Config.fromfile(args.config)\n",
    "task_name = args.task_name\n",
    "cfg = replace_cfg_vals(cfg)"
   ]
  },
  {
   "cell_type": "code",
   "execution_count": 17,
   "metadata": {},
   "outputs": [
    {
     "data": {
      "text/plain": [
       "Config (path: E:\\workspace\\RA\\TradeMaster\\configs\\portfolio_management\\portfolio_management_dj30_eiie_eiie_adam_mse.py): {'data': {'type': 'PortfolioManagementDataset', 'data_path': 'data/portfolio_management/dj30', 'train_path': 'data/portfolio_management/dj30/train.csv', 'valid_path': 'data/portfolio_management/dj30/valid.csv', 'test_path': 'data/portfolio_management/dj30/test.csv', 'tech_indicator_list': ['zopen', 'zhigh', 'zlow', 'zadjcp', 'zclose', 'zd_5', 'zd_10', 'zd_15', 'zd_20', 'zd_25', 'zd_30'], 'length_day': 10, 'initial_amount': 100000, 'transaction_cost_pct': 0.001, 'test_dynamic_path': 'data/portfolio_management/dj30/DJI_label_by_DJIindex_3_24_-0.25_0.25.csv'}, 'environment': {'type': 'PortfolioManagementEIIEEnvironment'}, 'agent': {'type': 'PortfolioManagementEIIE', 'memory_capacity': 1000, 'gamma': 0.99, 'policy_update_frequency': 500}, 'trainer': {'type': 'PortfolioManagementEIIETrainer', 'epochs': 10, 'work_dir': 'work_dir/portfolio_management_dj30_eiie_eiie_adam_mse', 'if_remove': False}, 'loss': {'type': 'MSELoss'}, 'optimizer': {'type': 'Adam', 'lr': 0.001}, 'act': {'type': 'EIIEConv', 'input_dim': None, 'output_dim': 1, 'time_steps': 10, 'kernel_size': 3, 'dims': [32]}, 'cri': {'type': 'EIIECritic', 'input_dim': None, 'action_dim': None, 'output_dim': 1, 'time_steps': None, 'num_layers': 1, 'hidden_size': 32}, 'transition': {'type': 'Transition'}, 'task_name': 'portfolio_management', 'dataset_name': 'dj30', 'net_name': 'eiie', 'agent_name': 'eiie', 'optimizer_name': 'adam', 'loss_name': 'mse', 'work_dir': 'work_dir/portfolio_management_dj30_eiie_eiie_adam_mse'}"
      ]
     },
     "execution_count": 17,
     "metadata": {},
     "output_type": "execute_result"
    }
   ],
   "source": [
    "cfg"
   ]
  },
  {
   "cell_type": "markdown",
   "metadata": {},
   "source": [
    "## Step 3: Build Dataset"
   ]
  },
  {
   "cell_type": "code",
   "execution_count": 18,
   "metadata": {},
   "outputs": [],
   "source": [
    "dataset = build_dataset(cfg)"
   ]
  },
  {
   "cell_type": "markdown",
   "metadata": {},
   "source": [
    "## Step 4: Build Reinforcement Learning Environments"
   ]
  },
  {
   "cell_type": "code",
   "execution_count": 19,
   "metadata": {},
   "outputs": [],
   "source": [
    "train_environment = build_environment(cfg, default_args=dict(dataset=dataset, task=\"train\"))\n",
    "valid_environment = build_environment(cfg, default_args=dict(dataset=dataset, task=\"valid\"))\n",
    "test_environment = build_environment(cfg, default_args=dict(dataset=dataset, task=\"test\"))"
   ]
  },
  {
   "cell_type": "code",
   "execution_count": 20,
   "metadata": {},
   "outputs": [
    {
     "data": {
      "text/html": [
       "<div>\n",
       "<style scoped>\n",
       "    .dataframe tbody tr th:only-of-type {\n",
       "        vertical-align: middle;\n",
       "    }\n",
       "\n",
       "    .dataframe tbody tr th {\n",
       "        vertical-align: top;\n",
       "    }\n",
       "\n",
       "    .dataframe thead th {\n",
       "        text-align: right;\n",
       "    }\n",
       "</style>\n",
       "<table border=\"1\" class=\"dataframe\">\n",
       "  <thead>\n",
       "    <tr style=\"text-align: right;\">\n",
       "      <th></th>\n",
       "      <th>date</th>\n",
       "      <th>open</th>\n",
       "      <th>high</th>\n",
       "      <th>low</th>\n",
       "      <th>close</th>\n",
       "      <th>adjcp</th>\n",
       "      <th>tic</th>\n",
       "      <th>zopen</th>\n",
       "      <th>zhigh</th>\n",
       "      <th>zlow</th>\n",
       "      <th>zadjcp</th>\n",
       "      <th>zclose</th>\n",
       "      <th>zd_5</th>\n",
       "      <th>zd_10</th>\n",
       "      <th>zd_15</th>\n",
       "      <th>zd_20</th>\n",
       "      <th>zd_25</th>\n",
       "      <th>zd_30</th>\n",
       "    </tr>\n",
       "  </thead>\n",
       "  <tbody>\n",
       "    <tr>\n",
       "      <th>0</th>\n",
       "      <td>2012-01-04</td>\n",
       "      <td>14.642857</td>\n",
       "      <td>14.810000</td>\n",
       "      <td>14.617143</td>\n",
       "      <td>14.765714</td>\n",
       "      <td>12.643501</td>\n",
       "      <td>AAPL</td>\n",
       "      <td>-0.008320</td>\n",
       "      <td>0.002999</td>\n",
       "      <td>-0.010062</td>\n",
       "      <td>-0.143726</td>\n",
       "      <td>0.005374</td>\n",
       "      <td>-0.010348</td>\n",
       "      <td>-0.011415</td>\n",
       "      <td>0.002751</td>\n",
       "      <td>-0.061124</td>\n",
       "      <td>-0.072128</td>\n",
       "      <td>-0.126481</td>\n",
       "    </tr>\n",
       "    <tr>\n",
       "      <th>0</th>\n",
       "      <td>2012-01-04</td>\n",
       "      <td>64.099998</td>\n",
       "      <td>64.129997</td>\n",
       "      <td>63.400002</td>\n",
       "      <td>63.759998</td>\n",
       "      <td>49.393219</td>\n",
       "      <td>AMGN</td>\n",
       "      <td>0.005332</td>\n",
       "      <td>0.005803</td>\n",
       "      <td>-0.005646</td>\n",
       "      <td>-0.225326</td>\n",
       "      <td>-0.005459</td>\n",
       "      <td>0.007794</td>\n",
       "      <td>-0.008521</td>\n",
       "      <td>-0.008222</td>\n",
       "      <td>-0.017393</td>\n",
       "      <td>-0.031253</td>\n",
       "      <td>-0.042012</td>\n",
       "    </tr>\n",
       "    <tr>\n",
       "      <th>0</th>\n",
       "      <td>2012-01-04</td>\n",
       "      <td>48.020000</td>\n",
       "      <td>48.380001</td>\n",
       "      <td>47.400002</td>\n",
       "      <td>48.240002</td>\n",
       "      <td>41.672607</td>\n",
       "      <td>AXP</td>\n",
       "      <td>-0.004561</td>\n",
       "      <td>0.002902</td>\n",
       "      <td>-0.017413</td>\n",
       "      <td>-0.136140</td>\n",
       "      <td>-0.003100</td>\n",
       "      <td>0.004561</td>\n",
       "      <td>-0.004885</td>\n",
       "      <td>-0.017185</td>\n",
       "      <td>-0.029824</td>\n",
       "      <td>-0.045096</td>\n",
       "      <td>-0.052918</td>\n",
       "    </tr>\n",
       "    <tr>\n",
       "      <th>0</th>\n",
       "      <td>2012-01-04</td>\n",
       "      <td>74.099998</td>\n",
       "      <td>74.599998</td>\n",
       "      <td>73.589996</td>\n",
       "      <td>74.330002</td>\n",
       "      <td>60.821106</td>\n",
       "      <td>BA</td>\n",
       "      <td>-0.003094</td>\n",
       "      <td>0.003632</td>\n",
       "      <td>-0.009956</td>\n",
       "      <td>-0.181742</td>\n",
       "      <td>0.001482</td>\n",
       "      <td>0.002922</td>\n",
       "      <td>-0.007421</td>\n",
       "      <td>-0.004776</td>\n",
       "      <td>-0.002812</td>\n",
       "      <td>-0.013054</td>\n",
       "      <td>-0.001687</td>\n",
       "    </tr>\n",
       "    <tr>\n",
       "      <th>0</th>\n",
       "      <td>2012-01-04</td>\n",
       "      <td>93.410004</td>\n",
       "      <td>95.510002</td>\n",
       "      <td>93.410004</td>\n",
       "      <td>94.849998</td>\n",
       "      <td>70.945084</td>\n",
       "      <td>CAT</td>\n",
       "      <td>-0.015182</td>\n",
       "      <td>0.006958</td>\n",
       "      <td>-0.015182</td>\n",
       "      <td>-0.252029</td>\n",
       "      <td>0.009257</td>\n",
       "      <td>0.010322</td>\n",
       "      <td>-0.004803</td>\n",
       "      <td>-0.010627</td>\n",
       "      <td>-0.001714</td>\n",
       "      <td>-0.005438</td>\n",
       "      <td>0.006133</td>\n",
       "    </tr>\n",
       "  </tbody>\n",
       "</table>\n",
       "</div>"
      ],
      "text/plain": [
       "         date       open       high        low      close      adjcp   tic  \\\n",
       "0  2012-01-04  14.642857  14.810000  14.617143  14.765714  12.643501  AAPL   \n",
       "0  2012-01-04  64.099998  64.129997  63.400002  63.759998  49.393219  AMGN   \n",
       "0  2012-01-04  48.020000  48.380001  47.400002  48.240002  41.672607   AXP   \n",
       "0  2012-01-04  74.099998  74.599998  73.589996  74.330002  60.821106    BA   \n",
       "0  2012-01-04  93.410004  95.510002  93.410004  94.849998  70.945084   CAT   \n",
       "\n",
       "      zopen     zhigh      zlow    zadjcp    zclose      zd_5     zd_10  \\\n",
       "0 -0.008320  0.002999 -0.010062 -0.143726  0.005374 -0.010348 -0.011415   \n",
       "0  0.005332  0.005803 -0.005646 -0.225326 -0.005459  0.007794 -0.008521   \n",
       "0 -0.004561  0.002902 -0.017413 -0.136140 -0.003100  0.004561 -0.004885   \n",
       "0 -0.003094  0.003632 -0.009956 -0.181742  0.001482  0.002922 -0.007421   \n",
       "0 -0.015182  0.006958 -0.015182 -0.252029  0.009257  0.010322 -0.004803   \n",
       "\n",
       "      zd_15     zd_20     zd_25     zd_30  \n",
       "0  0.002751 -0.061124 -0.072128 -0.126481  \n",
       "0 -0.008222 -0.017393 -0.031253 -0.042012  \n",
       "0 -0.017185 -0.029824 -0.045096 -0.052918  \n",
       "0 -0.004776 -0.002812 -0.013054 -0.001687  \n",
       "0 -0.010627 -0.001714 -0.005438  0.006133  "
      ]
     },
     "execution_count": 20,
     "metadata": {},
     "output_type": "execute_result"
    }
   ],
   "source": [
    "train_environment.df.head()"
   ]
  },
  {
   "cell_type": "markdown",
   "metadata": {},
   "source": [
    "## Step 5: Build Net \n",
    "Update information on the state and action dimension. Crreate networks and optimizer for EIIE."
   ]
  },
  {
   "cell_type": "code",
   "execution_count": 23,
   "metadata": {},
   "outputs": [],
   "source": [
    "action_dim = train_environment.action_dim # 29\n",
    "state_dim = train_environment.state_dim # 11\n",
    "input_dim = len(train_environment.tech_indicator_list)\n",
    "time_steps = train_environment.time_steps\n",
    "\n",
    "cfg.act.update(dict(input_dim=input_dim, time_steps=time_steps))\n",
    "cfg.cri.update(dict(input_dim=input_dim, action_dim= action_dim, time_steps=time_steps))\n",
    "\n",
    "act = build_net(cfg.act)\n",
    "cri = build_net(cfg.cri)\n",
    "act_optimizer = build_optimizer(cfg, default_args=dict(params=act.parameters()))\n",
    "cri_optimizer = build_optimizer(cfg, default_args=dict(params=cri.parameters()))"
   ]
  },
  {
   "cell_type": "markdown",
   "metadata": {},
   "source": [
    "## Step 6: Build Loss Function"
   ]
  },
  {
   "cell_type": "code",
   "execution_count": 24,
   "metadata": {},
   "outputs": [],
   "source": [
    "criterion = build_loss(cfg)"
   ]
  },
  {
   "cell_type": "markdown",
   "metadata": {},
   "source": [
    "## Step 7: Build Transition"
   ]
  },
  {
   "cell_type": "code",
   "execution_count": 25,
   "metadata": {},
   "outputs": [],
   "source": [
    "transition = build_transition(cfg)\n"
   ]
  },
  {
   "cell_type": "markdown",
   "metadata": {},
   "source": [
    "## Step 8: Build Agent"
   ]
  },
  {
   "cell_type": "code",
   "execution_count": 27,
   "metadata": {},
   "outputs": [],
   "source": [
    "device = torch.device('cuda' if torch.cuda.is_available() else 'cpu')\n",
    "agent = build_agent(cfg, default_args=dict(action_dim=action_dim,state_dim=state_dim,time_steps = time_steps,act=act,cri=cri,act_optimizer=act_optimizer,cri_optimizer = cri_optimizer,criterion=criterion,transition = transition,device = device))"
   ]
  },
  {
   "cell_type": "markdown",
   "metadata": {},
   "source": [
    "## Step 9: Build Trainer\n",
    "Build trainer from config and create work directionary to save the result, model and config"
   ]
  },
  {
   "cell_type": "code",
   "execution_count": 28,
   "metadata": {},
   "outputs": [
    {
     "name": "stdout",
     "output_type": "stream",
     "text": [
      "| Arguments Keep work_dir: E:\\workspace\\RA\\TradeMaster\\work_dir/portfolio_management_dj30_eiie_eiie_adam_mse\n"
     ]
    }
   ],
   "source": [
    "trainer = build_trainer(cfg, default_args=dict(train_environment=train_environment,valid_environment=valid_environment,test_environment=test_environment,agent=agent,device=device))\n",
    "work_dir = os.path.join(ROOT, cfg.trainer.work_dir)\n",
    "\n",
    "if not os.path.exists(work_dir):\n",
    "    os.makedirs(work_dir)\n",
    "cfg.dump(osp.join(work_dir, osp.basename(args.config)))"
   ]
  },
  {
   "cell_type": "markdown",
   "metadata": {},
   "source": [
    "## Step 10: RL Agent Training\n",
    "Train the EIIE agent based on the config and save results in workdir"
   ]
  },
  {
   "cell_type": "code",
   "execution_count": 29,
   "metadata": {},
   "outputs": [
    {
     "name": "stdout",
     "output_type": "stream",
     "text": [
      "Train Episode: [1/10]\n",
      "+--------------+-------------+------------+--------------+\n",
      "| Total Return | Sharp Ratio | Volatility | Max Drawdown |\n",
      "+--------------+-------------+------------+--------------+\n",
      "| 180.538517%  |  84.592018  | 0.757197%  |  15.048310%  |\n",
      "+--------------+-------------+------------+--------------+\n",
      "Valid Episode: [1/10]\n",
      "+--------------+-------------+------------+--------------+\n",
      "| Total Return | Sharp Ratio | Volatility | Max Drawdown |\n",
      "+--------------+-------------+------------+--------------+\n",
      "|  9.570612%   |   4.540308  | 2.142199%  |  31.100391%  |\n",
      "+--------------+-------------+------------+--------------+\n",
      "Train Episode: [2/10]\n",
      "+--------------+-------------+------------+--------------+\n",
      "| Total Return | Sharp Ratio | Volatility | Max Drawdown |\n",
      "+--------------+-------------+------------+--------------+\n",
      "| 180.546097%  |  84.594732  | 0.757204%  |  15.048266%  |\n",
      "+--------------+-------------+------------+--------------+\n",
      "Valid Episode: [2/10]\n",
      "+--------------+-------------+------------+--------------+\n",
      "| Total Return | Sharp Ratio | Volatility | Max Drawdown |\n",
      "+--------------+-------------+------------+--------------+\n",
      "|  9.570523%   |   4.540255  | 2.142204%  |  31.100505%  |\n",
      "+--------------+-------------+------------+--------------+\n",
      "Train Episode: [3/10]\n",
      "+--------------+-------------+------------+--------------+\n",
      "| Total Return | Sharp Ratio | Volatility | Max Drawdown |\n",
      "+--------------+-------------+------------+--------------+\n",
      "| 180.541861%  |  84.594017  | 0.757193%  |  15.047618%  |\n",
      "+--------------+-------------+------------+--------------+\n",
      "Valid Episode: [3/10]\n",
      "+--------------+-------------+------------+--------------+\n",
      "| Total Return | Sharp Ratio | Volatility | Max Drawdown |\n",
      "+--------------+-------------+------------+--------------+\n",
      "|  9.570879%   |   4.540462  | 2.142186%  |  31.100059%  |\n",
      "+--------------+-------------+------------+--------------+\n",
      "Train Episode: [4/10]\n",
      "+--------------+-------------+------------+--------------+\n",
      "| Total Return | Sharp Ratio | Volatility | Max Drawdown |\n",
      "+--------------+-------------+------------+--------------+\n",
      "| 180.547960%  |  84.596207  | 0.757199%  |  15.048151%  |\n",
      "+--------------+-------------+------------+--------------+\n",
      "Valid Episode: [4/10]\n",
      "+--------------+-------------+------------+--------------+\n",
      "| Total Return | Sharp Ratio | Volatility | Max Drawdown |\n",
      "+--------------+-------------+------------+--------------+\n",
      "|  9.568950%   |   4.539346  | 2.142281%  |  31.102406%  |\n",
      "+--------------+-------------+------------+--------------+\n",
      "Train Episode: [5/10]\n",
      "+--------------+-------------+------------+--------------+\n",
      "| Total Return | Sharp Ratio | Volatility | Max Drawdown |\n",
      "+--------------+-------------+------------+--------------+\n",
      "| 180.552026%  |  84.597049  | 0.757208%  |  15.048280%  |\n",
      "+--------------+-------------+------------+--------------+\n",
      "Valid Episode: [5/10]\n",
      "+--------------+-------------+------------+--------------+\n",
      "| Total Return | Sharp Ratio | Volatility | Max Drawdown |\n",
      "+--------------+-------------+------------+--------------+\n",
      "|  9.568237%   |   4.538935  | 2.142315%  |  31.103218%  |\n",
      "+--------------+-------------+------------+--------------+\n",
      "Train Episode: [6/10]\n",
      "+--------------+-------------+------------+--------------+\n",
      "| Total Return | Sharp Ratio | Volatility | Max Drawdown |\n",
      "+--------------+-------------+------------+--------------+\n",
      "| 180.556997%  |  84.597766  | 0.757223%  |  15.048927%  |\n",
      "+--------------+-------------+------------+--------------+\n",
      "Valid Episode: [6/10]\n",
      "+--------------+-------------+------------+--------------+\n",
      "| Total Return | Sharp Ratio | Volatility | Max Drawdown |\n",
      "+--------------+-------------+------------+--------------+\n",
      "|  9.566166%   |   4.537738  | 2.142416%  |  31.105720%  |\n",
      "+--------------+-------------+------------+--------------+\n",
      "Train Episode: [7/10]\n",
      "+--------------+-------------+------------+--------------+\n",
      "| Total Return | Sharp Ratio | Volatility | Max Drawdown |\n",
      "+--------------+-------------+------------+--------------+\n",
      "| 180.559490%  |  84.595837  | 0.757250%  |  15.049989%  |\n",
      "+--------------+-------------+------------+--------------+\n",
      "Valid Episode: [7/10]\n",
      "+--------------+-------------+------------+--------------+\n",
      "| Total Return | Sharp Ratio | Volatility | Max Drawdown |\n",
      "+--------------+-------------+------------+--------------+\n",
      "|  9.561909%   |   4.535279  | 2.142624%  |  31.110843%  |\n",
      "+--------------+-------------+------------+--------------+\n",
      "Train Episode: [8/10]\n",
      "+--------------+-------------+------------+--------------+\n",
      "| Total Return | Sharp Ratio | Volatility | Max Drawdown |\n",
      "+--------------+-------------+------------+--------------+\n",
      "| 180.577053%  |  84.601389  | 0.757274%  |  15.050024%  |\n",
      "+--------------+-------------+------------+--------------+\n",
      "Valid Episode: [8/10]\n",
      "+--------------+-------------+------------+--------------+\n",
      "| Total Return | Sharp Ratio | Volatility | Max Drawdown |\n",
      "+--------------+-------------+------------+--------------+\n",
      "|  9.562284%   |   4.535498  | 2.142605%  |  31.110349%  |\n",
      "+--------------+-------------+------------+--------------+\n",
      "Train Episode: [9/10]\n",
      "+--------------+-------------+------------+--------------+\n",
      "| Total Return | Sharp Ratio | Volatility | Max Drawdown |\n",
      "+--------------+-------------+------------+--------------+\n",
      "| 180.578069%  |  84.601534  | 0.757277%  |  15.050124%  |\n",
      "+--------------+-------------+------------+--------------+\n",
      "Valid Episode: [9/10]\n",
      "+--------------+-------------+------------+--------------+\n",
      "| Total Return | Sharp Ratio | Volatility | Max Drawdown |\n",
      "+--------------+-------------+------------+--------------+\n",
      "|  9.563983%   |   4.536485  | 2.142519%  |  31.108250%  |\n",
      "+--------------+-------------+------------+--------------+\n",
      "Train Episode: [10/10]\n",
      "+--------------+-------------+------------+--------------+\n",
      "| Total Return | Sharp Ratio | Volatility | Max Drawdown |\n",
      "+--------------+-------------+------------+--------------+\n",
      "| 180.569225%  |  84.599119  | 0.757262%  |  15.049749%  |\n",
      "+--------------+-------------+------------+--------------+\n",
      "Valid Episode: [10/10]\n",
      "+--------------+-------------+------------+--------------+\n",
      "| Total Return | Sharp Ratio | Volatility | Max Drawdown |\n",
      "+--------------+-------------+------------+--------------+\n",
      "|  9.562503%   |   4.535633  | 2.142590%  |  31.109977%  |\n",
      "+--------------+-------------+------------+--------------+\n"
     ]
    }
   ],
   "source": [
    "trainer.train_and_valid()"
   ]
  },
  {
   "cell_type": "markdown",
   "metadata": {},
   "source": [
    "## Step 11: RL Agent Testing"
   ]
  },
  {
   "cell_type": "code",
   "execution_count": 30,
   "metadata": {},
   "outputs": [
    {
     "name": "stdout",
     "output_type": "stream",
     "text": [
      "Resume checkpoint E:\\workspace\\RA\\TradeMaster\\work_dir/portfolio_management_dj30_eiie_eiie_adam_mse\\checkpoints\\best.pth\n",
      "Test Best Episode\n",
      "+--------------+-------------+------------+--------------+\n",
      "| Total Return | Sharp Ratio | Volatility | Max Drawdown |\n",
      "+--------------+-------------+------------+--------------+\n",
      "|  14.617324%  |  20.697943  | 0.719180%  |  6.740932%   |\n",
      "+--------------+-------------+------------+--------------+\n"
     ]
    },
    {
     "data": {
      "text/plain": [
       "array([ 0.00000000e+00,  2.79307864e-03,  8.03235722e-03, -3.93809069e-04,\n",
       "       -7.13566242e-03, -8.14274141e-04,  1.60016523e-04, -1.77175544e-02,\n",
       "        9.15854289e-03, -1.90938578e-02,  6.05741047e-03,  1.32627770e-02,\n",
       "        1.01153230e-03,  1.16507352e-02,  4.71529342e-03,  7.33856503e-03,\n",
       "       -9.77104404e-04,  5.85172654e-04, -7.16182035e-06,  1.49281178e-03,\n",
       "        8.19229606e-04,  4.16264979e-03, -6.54780099e-03, -8.86493845e-04,\n",
       "        2.40050355e-04,  1.36838120e-04,  1.06449953e-02, -1.54122393e-02,\n",
       "       -1.48947502e-02,  1.76103594e-02, -5.31748966e-03, -4.05890861e-03,\n",
       "       -1.02564200e-02,  1.85990659e-02,  8.44538536e-03,  1.76600645e-03,\n",
       "        1.44480053e-02,  4.27544712e-03,  7.32522456e-03,  6.87199206e-03,\n",
       "       -2.66940633e-03,  3.45965908e-03, -7.61248812e-03, -5.77343675e-03,\n",
       "        5.02211048e-03, -7.06976797e-03, -1.05412416e-03,  5.75415668e-03,\n",
       "        1.51537217e-02,  3.80512916e-03, -4.60344688e-03, -1.51846979e-03,\n",
       "        4.46925664e-03,  1.26125143e-02, -2.56504256e-03,  1.01294104e-03,\n",
       "       -6.02946489e-05,  6.60028458e-03, -2.54404698e-03, -2.24162125e-03,\n",
       "        5.57637147e-04,  6.39268135e-03,  4.61609745e-03, -3.10210861e-03,\n",
       "       -5.76507293e-03,  8.56341451e-03, -9.61451727e-03,  3.74805987e-03,\n",
       "       -2.90591069e-03, -6.37963356e-04, -3.33849933e-03,  6.79100526e-03,\n",
       "       -4.50971374e-03,  7.51748672e-03, -1.29003606e-03,  2.69446567e-03,\n",
       "        8.30689617e-03,  5.17104944e-03, -7.25743160e-04, -1.22560986e-02,\n",
       "       -1.78778571e-02,  1.25373412e-02,  9.86904142e-03, -1.05771910e-03,\n",
       "       -6.11298114e-03, -4.05777247e-03,  5.53498213e-03,  1.79321807e-03,\n",
       "        5.43444127e-03, -2.86621301e-03, -9.78439517e-04,  3.08812902e-03,\n",
       "        1.22806292e-03,  3.01200725e-04,  2.37338336e-03, -1.18887475e-04,\n",
       "        5.73494144e-03, -3.44174605e-03, -1.54746431e-03, -3.49532474e-03,\n",
       "        3.41183060e-03,  9.96268633e-04, -2.62815146e-03, -2.35626743e-03,\n",
       "       -8.07129563e-03, -4.76277108e-03, -1.63789698e-02,  1.57938223e-02,\n",
       "        1.68051253e-03, -2.76794429e-03,  8.21531461e-03,  8.36413335e-03,\n",
       "       -3.66363893e-03, -9.29182033e-04,  6.64509788e-03,  1.25727330e-03,\n",
       "        3.53339945e-03, -5.61762502e-03,  2.73819716e-03, -6.47121421e-03,\n",
       "        1.14683920e-02,  2.49123282e-03, -1.93162485e-03,  2.38352956e-03,\n",
       "        3.09926391e-04, -7.37006897e-03, -1.75829250e-02,  1.29202697e-02,\n",
       "        7.62954879e-03, -3.67310572e-04,  5.24838044e-03,  3.62049900e-03,\n",
       "       -2.08456569e-03, -3.34630230e-03,  3.77918767e-03, -2.86434454e-03,\n",
       "       -2.84919185e-03,  7.76816700e-03, -9.26968478e-03,  8.10243235e-03,\n",
       "        2.50951572e-03, -2.20194744e-03,  5.35286298e-03,  6.19939573e-03,\n",
       "        4.14675793e-04,  9.13141696e-04,  2.84401100e-03, -5.89139869e-03,\n",
       "       -1.14585330e-02, -1.72650459e-03,  5.65585230e-03,  5.46521128e-03,\n",
       "       -1.84050850e-05,  1.28000295e-03, -6.47215019e-03,  5.49920692e-03,\n",
       "       -4.09339300e-05,  5.12877694e-04, -1.64180029e-03,  4.50758026e-03,\n",
       "       -1.78651486e-03, -7.96119874e-03, -6.47155630e-04, -4.93626167e-03,\n",
       "       -6.91374034e-03,  5.71511631e-03, -8.63309323e-03,  7.09577871e-03,\n",
       "       -2.21462308e-03, -4.80280882e-03, -1.57466076e-02, -1.65363974e-03,\n",
       "        8.74813223e-03,  1.33477504e-02,  6.09344583e-04,  1.00878211e-03,\n",
       "       -1.35902219e-02,  3.31803489e-03, -1.40399454e-02,  1.31412666e-02,\n",
       "       -7.09218213e-03,  6.87112081e-03,  2.22196844e-03,  8.76014921e-03,\n",
       "       -6.93101731e-04, -6.45121743e-03, -4.28268452e-03, -6.98556420e-04,\n",
       "        1.46940158e-02,  6.91922338e-03, -2.46711200e-03,  7.56678270e-03,\n",
       "        5.83766236e-03, -1.71628315e-03, -1.20949235e-03,  1.80972080e-03,\n",
       "       -8.83853718e-04, -7.99539380e-03,  7.48057208e-03,  2.58348650e-03,\n",
       "        2.98735951e-03,  3.62714077e-03,  3.87904513e-03, -2.19032812e-04,\n",
       "        4.66531617e-03,  1.36266735e-03, -2.98550740e-03, -4.25160710e-03,\n",
       "       -4.48005516e-03,  2.36602553e-03,  3.60708623e-04, -1.88337606e-03,\n",
       "       -6.21780159e-03, -3.83526773e-03, -7.44385010e-03,  3.30381861e-03,\n",
       "        4.88229166e-03, -9.70808801e-05, -2.28479723e-02,  3.73849250e-03,\n",
       "       -1.78570200e-02, -1.19353089e-02,  1.59104205e-02,  1.55906727e-03,\n",
       "        1.75960651e-02,  1.10085230e-02,  3.83375286e-04,  8.44633312e-05,\n",
       "        6.82744977e-03, -5.29747663e-03, -9.35806802e-04,  8.90392814e-03,\n",
       "        1.25104576e-03, -1.31402651e-02, -9.96666433e-03,  1.44919526e-02,\n",
       "        5.87889640e-03,  4.56747953e-03,  8.82223127e-03,  3.47001349e-03,\n",
       "        2.08408383e-03, -1.89181958e-03, -8.75357193e-04])"
      ]
     },
     "execution_count": 30,
     "metadata": {},
     "output_type": "execute_result"
    }
   ],
   "source": [
    "trainer.test()"
   ]
  },
  {
   "cell_type": "code",
   "execution_count": 31,
   "metadata": {},
   "outputs": [
    {
     "data": {
      "image/png": "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",
      "text/plain": [
       "<Figure size 640x480 with 1 Axes>"
      ]
     },
     "metadata": {},
     "output_type": "display_data"
    }
   ],
   "source": [
    "plot(trainer.test_environment.save_asset_memory(),alg=\"EIIE\")"
   ]
  }
 ],
 "metadata": {
  "kernelspec": {
   "display_name": "Python 3 (ipykernel)",
   "language": "python",
   "name": "python3"
  },
  "language_info": {
   "codemirror_mode": {
    "name": "ipython",
    "version": 3
   },
   "file_extension": ".py",
   "mimetype": "text/x-python",
   "name": "python",
   "nbconvert_exporter": "python",
   "pygments_lexer": "ipython3",
   "version": "3.8.12"
  },
  "vscode": {
   "interpreter": {
    "hash": "a1f97403911abd3f02553c8f2b0c54537fddc7efadd9f5d3e31784db6e40c347"
   }
  }
 },
 "nbformat": 4,
 "nbformat_minor": 2
}
