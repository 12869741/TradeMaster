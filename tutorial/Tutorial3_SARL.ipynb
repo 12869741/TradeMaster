{
 "cells": [
  {
   "cell_type": "markdown",
   "metadata": {
    "collapsed": false
   },
   "source": [
    "# SARL for Portfolio Management on DJ30\n",
    "This tutorial is to demonstrate an example of using SARL to do portfolio management on DJ30"
   ]
  },
  {
   "cell_type": "markdown",
   "metadata": {
    "collapsed": false
   },
   "source": [
    "## Step1: Import Packages"
   ]
  },
  {
   "cell_type": "code",
   "execution_count": 1,
   "metadata": {
    "collapsed": false
   },
   "outputs": [
    {
     "name": "stderr",
     "output_type": "stream",
     "text": [
      "2023-02-28 14:34:23,739\tINFO worker.py:973 -- Calling ray.init() again after it has already been called.\n"
     ]
    }
   ],
   "source": [
    "import warnings\n",
    "\n",
    "warnings.filterwarnings(\"ignore\")\n",
    "import sys\n",
    "from pathlib import Path\n",
    "import os\n",
    "import torch\n",
    "\n",
    "ROOT = os.path.dirname(os.path.abspath(\".\"))\n",
    "sys.path.append(ROOT)\n",
    "from trademaster.utils import plot\n",
    "import argparse\n",
    "import os.path as osp\n",
    "from mmcv import Config\n",
    "from trademaster.utils import replace_cfg_vals\n",
    "from trademaster.datasets.builder import build_dataset\n",
    "from trademaster.trainers.builder import build_trainer"
   ]
  },
  {
   "cell_type": "markdown",
   "metadata": {
    "collapsed": false
   },
   "source": [
    "## Step2: Import Configs"
   ]
  },
  {
   "cell_type": "code",
   "execution_count": 2,
   "metadata": {
    "collapsed": false
   },
   "outputs": [],
   "source": [
    "\n",
    "parser = argparse.ArgumentParser(description='Download Alpaca Datasets')\n",
    "parser.add_argument(\"--config\", default=osp.join(ROOT, \"configs\", \"portfolio_management\", \"portfolio_management_dj30_sarl_sarl_adam_mse.py\"),\n",
    "                    help=\"download datasets config file path\")\n",
    "parser.add_argument(\"--task_name\", type=str, default=\"train\")\n",
    "args, _ = parser.parse_known_args()\n",
    "\n",
    "cfg = Config.fromfile(args.config)\n",
    "task_name = args.task_name\n",
    "cfg = replace_cfg_vals(cfg)"
   ]
  },
  {
   "cell_type": "code",
   "execution_count": 3,
   "metadata": {
    "collapsed": false
   },
   "outputs": [
    {
     "data": {
      "text/plain": "Config (path: D:\\pycharm_workspace\\TradeMaster\\configs\\portfolio_management\\portfolio_management_dj30_sarl_sarl_adam_mse.py): {'data': {'type': 'PortfolioManagementDataset', 'data_path': 'data/portfolio_management/dj30', 'train_path': 'data/portfolio_management/dj30/train.csv', 'valid_path': 'data/portfolio_management/dj30/valid.csv', 'test_path': 'data/portfolio_management/dj30/test.csv', 'tech_indicator_list': ['high', 'low', 'open', 'close', 'adjcp', 'zopen', 'zhigh', 'zlow', 'zadjcp', 'zclose', 'zd_5', 'zd_10', 'zd_15', 'zd_20', 'zd_25', 'zd_30'], 'length_day': 5, 'initial_amount': 10000, 'transaction_cost_pct': 0.001, 'test_dynamic_path': 'data/portfolio_management/dj30/DJI_label_by_DJIindex_3_24_-0.25_0.25.csv'}, 'environment': {'type': 'PortfolioManagementSARLEnvironment'}, 'trainer': {'type': 'PortfolioManagementSARLTrainer', 'agent_name': 'ddpg', 'if_remove': False, 'configs': {'framework': 'tf2', 'num_workers': 0}, 'work_dir': 'work_dir/portfolio_management_dj30_sarl_sarl_adam_mse'}, 'loss': {'type': 'MSELoss'}, 'optimizer': {'type': 'Adam', 'lr': 0.001}, 'task_name': 'portfolio_management', 'dataset_name': 'dj30', 'net_name': 'sarl', 'agent_name': 'sarl', 'optimizer_name': 'adam', 'loss_name': 'mse', 'work_dir': 'work_dir/portfolio_management_dj30_sarl_sarl_adam_mse'}"
     },
     "execution_count": 3,
     "metadata": {},
     "output_type": "execute_result"
    }
   ],
   "source": [
    "cfg"
   ]
  },
  {
   "cell_type": "markdown",
   "metadata": {
    "collapsed": false
   },
   "source": [
    "## Step3: Build Dataset"
   ]
  },
  {
   "cell_type": "code",
   "execution_count": 4,
   "metadata": {
    "collapsed": false
   },
   "outputs": [],
   "source": [
    "dataset = build_dataset(cfg)"
   ]
  },
  {
   "cell_type": "markdown",
   "metadata": {
    "collapsed": false
   },
   "source": [
    "## Step4: Build Trainer"
   ]
  },
  {
   "cell_type": "code",
   "execution_count": 5,
   "metadata": {
    "collapsed": false
   },
   "outputs": [
    {
     "name": "stdout",
     "output_type": "stream",
     "text": [
      "| Arguments Keep work_dir: D:\\pycharm_workspace\\TradeMaster\\work_dir/portfolio_management_dj30_sarl_sarl_adam_mse\n"
     ]
    }
   ],
   "source": [
    "device = torch.device('cuda' if torch.cuda.is_available() else 'cpu')\n",
    "work_dir = os.path.join(ROOT, cfg.trainer.work_dir)\n",
    "\n",
    "if not os.path.exists(work_dir):\n",
    "    os.makedirs(work_dir)\n",
    "cfg.dump(osp.join(work_dir, osp.basename(args.config)))\n",
    "\n",
    "trainer = build_trainer(cfg, default_args=dict(dataset=dataset, device = device))"
   ]
  },
  {
   "cell_type": "markdown",
   "metadata": {
    "collapsed": false
   },
   "source": [
    "## Step5: Train, Valid and Test"
   ]
  },
  {
   "cell_type": "code",
   "execution_count": 7,
   "metadata": {
    "collapsed": false
   },
   "outputs": [
    {
     "name": "stderr",
     "output_type": "stream",
     "text": [
      "2023-02-28 14:34:31,050\tINFO trainer.py:2321 -- Executing eagerly (framework='tf2'), with eager_tracing=False. For production workloads, make sure to set eager_tracing=True  in order to match the speed of tf-static-graph (framework='tf'). For debugging purposes, `eager_tracing=False` is the best choice.\n",
      "2023-02-28 14:34:31,051\tWARNING deprecation.py:46 -- DeprecationWarning: `config['prioritized_replay']` has been deprecated. Replay prioritization specified at new location config['replay_buffer_config']['prioritized_replay'] will be overwritten. This will raise an error in the future!\n",
      "2023-02-28 14:34:31,052\tWARNING deprecation.py:46 -- DeprecationWarning: `config[prioritized_replay_alpha]` has been deprecated. config['replay_buffer_config'][prioritized_replay_alpha] should be used for Q-Learning algorithms. Ignore this warning if you are not using a Q-Learning algorithm and still provide prioritized_replay_alpha. This will raise an error in the future!\n",
      "2023-02-28 14:34:31,052\tWARNING deprecation.py:46 -- DeprecationWarning: `config[prioritized_replay_beta]` has been deprecated. config['replay_buffer_config'][prioritized_replay_beta] should be used for Q-Learning algorithms. Ignore this warning if you are not using a Q-Learning algorithm and still provide prioritized_replay_beta. This will raise an error in the future!\n",
      "2023-02-28 14:34:31,052\tWARNING deprecation.py:46 -- DeprecationWarning: `config[prioritized_replay_eps]` has been deprecated. config['replay_buffer_config'][prioritized_replay_eps] should be used for Q-Learning algorithms. Ignore this warning if you are not using a Q-Learning algorithm and still provide prioritized_replay_eps. This will raise an error in the future!\n",
      "2023-02-28 14:34:31,053\tWARNING deprecation.py:46 -- DeprecationWarning: `config[learning_starts]` has been deprecated. config['replay_buffer_config'][learning_starts] should be used for Q-Learning algorithms. Ignore this warning if you are not using a Q-Learning algorithm and still provide learning_starts. This will raise an error in the future!\n",
      "2023-02-28 14:34:31,053\tINFO trainer.py:903 -- Current log_level is WARN. For more information, set 'log_level': 'INFO' / 'DEBUG' or use the -v and -vv flags.\n",
      "2023-02-28 14:34:33,888\tWARNING env.py:135 -- Your env doesn't have a .spec.max_episode_steps attribute. This is fine if you have set 'horizon' in your config dictionary, or `soft_horizon`. However, if you haven't, 'horizon' will default to infinity, and your environment will not be reset.\n",
      "2023-02-28 14:34:34,200\tWARNING util.py:65 -- Install gputil for GPU system monitoring.\n"
     ]
    },
    {
     "name": "stdout",
     "output_type": "stream",
     "text": [
      "Train Episode: [1/20]\n",
      "Valid Episode: [1/20]\n",
      "+--------------+-------------+------------+--------------+\n",
      "| Total Return | Sharp Ratio | Volatility | Max Drawdown |\n",
      "+--------------+-------------+------------+--------------+\n",
      "|  7.953910%   |   3.778823  | 2.121771%  |  31.771785%  |\n",
      "+--------------+-------------+------------+--------------+\n",
      "Train Episode: [2/20]\n",
      "+--------------+-------------+------------+--------------+\n",
      "| Total Return | Sharp Ratio | Volatility | Max Drawdown |\n",
      "+--------------+-------------+------------+--------------+\n",
      "| -16.804172%  |  -7.464375  | 0.797918%  |  59.806837%  |\n",
      "+--------------+-------------+------------+--------------+\n",
      "Valid Episode: [2/20]\n",
      "+--------------+-------------+------------+--------------+\n",
      "| Total Return | Sharp Ratio | Volatility | Max Drawdown |\n",
      "+--------------+-------------+------------+--------------+\n",
      "|  11.938123%  |   5.751683  | 2.092259%  |  31.535895%  |\n",
      "+--------------+-------------+------------+--------------+\n",
      "Train Episode: [3/20]\n",
      "Valid Episode: [3/20]\n",
      "+--------------+-------------+------------+--------------+\n",
      "| Total Return | Sharp Ratio | Volatility | Max Drawdown |\n",
      "+--------------+-------------+------------+--------------+\n",
      "|  9.913050%   |   4.783677  | 2.088911%  |  30.933088%  |\n",
      "+--------------+-------------+------------+--------------+\n",
      "Train Episode: [4/20]\n",
      "+--------------+-------------+------------+--------------+\n",
      "| Total Return | Sharp Ratio | Volatility | Max Drawdown |\n",
      "+--------------+-------------+------------+--------------+\n",
      "| 166.165459%  |  75.536955  | 0.779679%  |  14.586673%  |\n",
      "+--------------+-------------+------------+--------------+\n"
     ]
    },
    {
     "ename": "KeyboardInterrupt",
     "evalue": "",
     "output_type": "error",
     "traceback": [
      "\u001B[1;31m---------------------------------------------------------------------------\u001B[0m",
      "\u001B[1;31mKeyboardInterrupt\u001B[0m                         Traceback (most recent call last)",
      "Cell \u001B[1;32mIn[7], line 1\u001B[0m\n\u001B[1;32m----> 1\u001B[0m \u001B[43mtrainer\u001B[49m\u001B[38;5;241;43m.\u001B[39;49m\u001B[43mtrain_and_valid\u001B[49m\u001B[43m(\u001B[49m\u001B[43m)\u001B[49m\n",
      "File \u001B[1;32mD:\\pycharm_workspace\\TradeMaster\\trademaster\\trainers\\portfolio_management\\sarl_trainer.py:105\u001B[0m, in \u001B[0;36mPortfolioManagementSARLTrainer.train_and_valid\u001B[1;34m(self)\u001B[0m\n\u001B[0;32m    103\u001B[0m \u001B[38;5;28;01mfor\u001B[39;00m epoch \u001B[38;5;129;01min\u001B[39;00m \u001B[38;5;28mrange\u001B[39m(\u001B[38;5;241m1\u001B[39m, \u001B[38;5;28mself\u001B[39m\u001B[38;5;241m.\u001B[39mepochs\u001B[38;5;241m+\u001B[39m\u001B[38;5;241m1\u001B[39m):\n\u001B[0;32m    104\u001B[0m     \u001B[38;5;28mprint\u001B[39m(\u001B[38;5;124m\"\u001B[39m\u001B[38;5;124mTrain Episode: [\u001B[39m\u001B[38;5;132;01m{}\u001B[39;00m\u001B[38;5;124m/\u001B[39m\u001B[38;5;132;01m{}\u001B[39;00m\u001B[38;5;124m]\u001B[39m\u001B[38;5;124m\"\u001B[39m\u001B[38;5;241m.\u001B[39mformat(epoch, \u001B[38;5;28mself\u001B[39m\u001B[38;5;241m.\u001B[39mepochs))\n\u001B[1;32m--> 105\u001B[0m     \u001B[38;5;28;43mself\u001B[39;49m\u001B[38;5;241;43m.\u001B[39;49m\u001B[43mtrainer\u001B[49m\u001B[38;5;241;43m.\u001B[39;49m\u001B[43mtrain\u001B[49m\u001B[43m(\u001B[49m\u001B[43m)\u001B[49m\n\u001B[0;32m    107\u001B[0m     config \u001B[38;5;241m=\u001B[39m \u001B[38;5;28mdict\u001B[39m(dataset\u001B[38;5;241m=\u001B[39m\u001B[38;5;28mself\u001B[39m\u001B[38;5;241m.\u001B[39mdataset, task\u001B[38;5;241m=\u001B[39m\u001B[38;5;124m\"\u001B[39m\u001B[38;5;124mvalid\u001B[39m\u001B[38;5;124m\"\u001B[39m)\n\u001B[0;32m    108\u001B[0m     \u001B[38;5;28mself\u001B[39m\u001B[38;5;241m.\u001B[39mvalid_environment \u001B[38;5;241m=\u001B[39m env_creator(\u001B[38;5;124m\"\u001B[39m\u001B[38;5;124mportfolio_management_sarl\u001B[39m\u001B[38;5;124m\"\u001B[39m)(config)\n",
      "File \u001B[1;32m~\\.conda\\envs\\TradeMaster\\lib\\site-packages\\ray\\tune\\trainable.py:360\u001B[0m, in \u001B[0;36mTrainable.train\u001B[1;34m(self)\u001B[0m\n\u001B[0;32m    358\u001B[0m     \u001B[38;5;28mself\u001B[39m\u001B[38;5;241m.\u001B[39m_warmup_time \u001B[38;5;241m=\u001B[39m time\u001B[38;5;241m.\u001B[39mtime() \u001B[38;5;241m-\u001B[39m \u001B[38;5;28mself\u001B[39m\u001B[38;5;241m.\u001B[39m_start_time\n\u001B[0;32m    359\u001B[0m start \u001B[38;5;241m=\u001B[39m time\u001B[38;5;241m.\u001B[39mtime()\n\u001B[1;32m--> 360\u001B[0m result \u001B[38;5;241m=\u001B[39m \u001B[38;5;28;43mself\u001B[39;49m\u001B[38;5;241;43m.\u001B[39;49m\u001B[43mstep\u001B[49m\u001B[43m(\u001B[49m\u001B[43m)\u001B[49m\n\u001B[0;32m    361\u001B[0m \u001B[38;5;28;01massert\u001B[39;00m \u001B[38;5;28misinstance\u001B[39m(result, \u001B[38;5;28mdict\u001B[39m), \u001B[38;5;124m\"\u001B[39m\u001B[38;5;124mstep() needs to return a dict.\u001B[39m\u001B[38;5;124m\"\u001B[39m\n\u001B[0;32m    363\u001B[0m \u001B[38;5;66;03m# We do not modify internal state nor update this result if duplicate.\u001B[39;00m\n",
      "File \u001B[1;32m~\\.conda\\envs\\TradeMaster\\lib\\site-packages\\ray\\rllib\\agents\\trainer.py:1112\u001B[0m, in \u001B[0;36mTrainer.step\u001B[1;34m(self)\u001B[0m\n\u001B[0;32m   1109\u001B[0m \u001B[38;5;28;01mwhile\u001B[39;00m \u001B[38;5;129;01mnot\u001B[39;00m step_ctx\u001B[38;5;241m.\u001B[39mshould_stop(step_attempt_results):\n\u001B[0;32m   1110\u001B[0m     \u001B[38;5;66;03m# Try to train one step.\u001B[39;00m\n\u001B[0;32m   1111\u001B[0m     \u001B[38;5;28;01mtry\u001B[39;00m:\n\u001B[1;32m-> 1112\u001B[0m         step_attempt_results \u001B[38;5;241m=\u001B[39m \u001B[38;5;28;43mself\u001B[39;49m\u001B[38;5;241;43m.\u001B[39;49m\u001B[43mstep_attempt\u001B[49m\u001B[43m(\u001B[49m\u001B[43m)\u001B[49m\n\u001B[0;32m   1113\u001B[0m     \u001B[38;5;66;03m# @ray.remote RolloutWorker failure.\u001B[39;00m\n\u001B[0;32m   1114\u001B[0m     \u001B[38;5;28;01mexcept\u001B[39;00m RayError \u001B[38;5;28;01mas\u001B[39;00m e:\n\u001B[0;32m   1115\u001B[0m         \u001B[38;5;66;03m# Try to recover w/o the failed worker.\u001B[39;00m\n",
      "File \u001B[1;32m~\\.conda\\envs\\TradeMaster\\lib\\site-packages\\ray\\rllib\\agents\\trainer.py:1214\u001B[0m, in \u001B[0;36mTrainer.step_attempt\u001B[1;34m(self)\u001B[0m\n\u001B[0;32m   1212\u001B[0m \u001B[38;5;66;03m# No evaluation necessary, just run the next training iteration.\u001B[39;00m\n\u001B[0;32m   1213\u001B[0m \u001B[38;5;28;01mif\u001B[39;00m \u001B[38;5;129;01mnot\u001B[39;00m evaluate_this_iter:\n\u001B[1;32m-> 1214\u001B[0m     step_results \u001B[38;5;241m=\u001B[39m \u001B[38;5;28;43mself\u001B[39;49m\u001B[38;5;241;43m.\u001B[39;49m\u001B[43m_exec_plan_or_training_iteration_fn\u001B[49m\u001B[43m(\u001B[49m\u001B[43m)\u001B[49m\n\u001B[0;32m   1215\u001B[0m \u001B[38;5;66;03m# We have to evaluate in this training iteration.\u001B[39;00m\n\u001B[0;32m   1216\u001B[0m \u001B[38;5;28;01melse\u001B[39;00m:\n\u001B[0;32m   1217\u001B[0m     \u001B[38;5;66;03m# No parallelism.\u001B[39;00m\n\u001B[0;32m   1218\u001B[0m     \u001B[38;5;28;01mif\u001B[39;00m \u001B[38;5;129;01mnot\u001B[39;00m \u001B[38;5;28mself\u001B[39m\u001B[38;5;241m.\u001B[39mconfig[\u001B[38;5;124m\"\u001B[39m\u001B[38;5;124mevaluation_parallel_to_training\u001B[39m\u001B[38;5;124m\"\u001B[39m]:\n",
      "File \u001B[1;32m~\\.conda\\envs\\TradeMaster\\lib\\site-packages\\ray\\rllib\\agents\\trainer.py:2211\u001B[0m, in \u001B[0;36mTrainer._exec_plan_or_training_iteration_fn\u001B[1;34m(self)\u001B[0m\n\u001B[0;32m   2209\u001B[0m         results \u001B[38;5;241m=\u001B[39m \u001B[38;5;28mself\u001B[39m\u001B[38;5;241m.\u001B[39mtraining_iteration()\n\u001B[0;32m   2210\u001B[0m     \u001B[38;5;28;01melse\u001B[39;00m:\n\u001B[1;32m-> 2211\u001B[0m         results \u001B[38;5;241m=\u001B[39m \u001B[38;5;28;43mnext\u001B[39;49m\u001B[43m(\u001B[49m\u001B[38;5;28;43mself\u001B[39;49m\u001B[38;5;241;43m.\u001B[39;49m\u001B[43mtrain_exec_impl\u001B[49m\u001B[43m)\u001B[49m\n\u001B[0;32m   2212\u001B[0m \u001B[38;5;28;01mreturn\u001B[39;00m results\n",
      "File \u001B[1;32m~\\.conda\\envs\\TradeMaster\\lib\\site-packages\\ray\\util\\iter.py:779\u001B[0m, in \u001B[0;36mLocalIterator.__next__\u001B[1;34m(self)\u001B[0m\n\u001B[0;32m    777\u001B[0m \u001B[38;5;28;01mdef\u001B[39;00m \u001B[38;5;21m__next__\u001B[39m(\u001B[38;5;28mself\u001B[39m):\n\u001B[0;32m    778\u001B[0m     \u001B[38;5;28mself\u001B[39m\u001B[38;5;241m.\u001B[39m_build_once()\n\u001B[1;32m--> 779\u001B[0m     \u001B[38;5;28;01mreturn\u001B[39;00m \u001B[38;5;28;43mnext\u001B[39;49m\u001B[43m(\u001B[49m\u001B[38;5;28;43mself\u001B[39;49m\u001B[38;5;241;43m.\u001B[39;49m\u001B[43mbuilt_iterator\u001B[49m\u001B[43m)\u001B[49m\n",
      "File \u001B[1;32m~\\.conda\\envs\\TradeMaster\\lib\\site-packages\\ray\\util\\iter.py:807\u001B[0m, in \u001B[0;36mLocalIterator.for_each.<locals>.apply_foreach\u001B[1;34m(it)\u001B[0m\n\u001B[0;32m    806\u001B[0m \u001B[38;5;28;01mdef\u001B[39;00m \u001B[38;5;21mapply_foreach\u001B[39m(it):\n\u001B[1;32m--> 807\u001B[0m     \u001B[38;5;28;01mfor\u001B[39;00m item \u001B[38;5;129;01min\u001B[39;00m it:\n\u001B[0;32m    808\u001B[0m         \u001B[38;5;28;01mif\u001B[39;00m \u001B[38;5;28misinstance\u001B[39m(item, _NextValueNotReady):\n\u001B[0;32m    809\u001B[0m             \u001B[38;5;28;01myield\u001B[39;00m item\n",
      "File \u001B[1;32m~\\.conda\\envs\\TradeMaster\\lib\\site-packages\\ray\\util\\iter.py:869\u001B[0m, in \u001B[0;36mLocalIterator.filter.<locals>.apply_filter\u001B[1;34m(it)\u001B[0m\n\u001B[0;32m    868\u001B[0m \u001B[38;5;28;01mdef\u001B[39;00m \u001B[38;5;21mapply_filter\u001B[39m(it):\n\u001B[1;32m--> 869\u001B[0m     \u001B[38;5;28;01mfor\u001B[39;00m item \u001B[38;5;129;01min\u001B[39;00m it:\n\u001B[0;32m    870\u001B[0m         \u001B[38;5;28;01mwith\u001B[39;00m \u001B[38;5;28mself\u001B[39m\u001B[38;5;241m.\u001B[39m_metrics_context():\n\u001B[0;32m    871\u001B[0m             \u001B[38;5;28;01mif\u001B[39;00m \u001B[38;5;28misinstance\u001B[39m(item, _NextValueNotReady) \u001B[38;5;129;01mor\u001B[39;00m fn(item):\n",
      "File \u001B[1;32m~\\.conda\\envs\\TradeMaster\\lib\\site-packages\\ray\\util\\iter.py:869\u001B[0m, in \u001B[0;36mLocalIterator.filter.<locals>.apply_filter\u001B[1;34m(it)\u001B[0m\n\u001B[0;32m    868\u001B[0m \u001B[38;5;28;01mdef\u001B[39;00m \u001B[38;5;21mapply_filter\u001B[39m(it):\n\u001B[1;32m--> 869\u001B[0m     \u001B[38;5;28;01mfor\u001B[39;00m item \u001B[38;5;129;01min\u001B[39;00m it:\n\u001B[0;32m    870\u001B[0m         \u001B[38;5;28;01mwith\u001B[39;00m \u001B[38;5;28mself\u001B[39m\u001B[38;5;241m.\u001B[39m_metrics_context():\n\u001B[0;32m    871\u001B[0m             \u001B[38;5;28;01mif\u001B[39;00m \u001B[38;5;28misinstance\u001B[39m(item, _NextValueNotReady) \u001B[38;5;129;01mor\u001B[39;00m fn(item):\n",
      "File \u001B[1;32m~\\.conda\\envs\\TradeMaster\\lib\\site-packages\\ray\\util\\iter.py:807\u001B[0m, in \u001B[0;36mLocalIterator.for_each.<locals>.apply_foreach\u001B[1;34m(it)\u001B[0m\n\u001B[0;32m    806\u001B[0m \u001B[38;5;28;01mdef\u001B[39;00m \u001B[38;5;21mapply_foreach\u001B[39m(it):\n\u001B[1;32m--> 807\u001B[0m     \u001B[38;5;28;01mfor\u001B[39;00m item \u001B[38;5;129;01min\u001B[39;00m it:\n\u001B[0;32m    808\u001B[0m         \u001B[38;5;28;01mif\u001B[39;00m \u001B[38;5;28misinstance\u001B[39m(item, _NextValueNotReady):\n\u001B[0;32m    809\u001B[0m             \u001B[38;5;28;01myield\u001B[39;00m item\n",
      "File \u001B[1;32m~\\.conda\\envs\\TradeMaster\\lib\\site-packages\\ray\\util\\iter.py:869\u001B[0m, in \u001B[0;36mLocalIterator.filter.<locals>.apply_filter\u001B[1;34m(it)\u001B[0m\n\u001B[0;32m    868\u001B[0m \u001B[38;5;28;01mdef\u001B[39;00m \u001B[38;5;21mapply_filter\u001B[39m(it):\n\u001B[1;32m--> 869\u001B[0m     \u001B[38;5;28;01mfor\u001B[39;00m item \u001B[38;5;129;01min\u001B[39;00m it:\n\u001B[0;32m    870\u001B[0m         \u001B[38;5;28;01mwith\u001B[39;00m \u001B[38;5;28mself\u001B[39m\u001B[38;5;241m.\u001B[39m_metrics_context():\n\u001B[0;32m    871\u001B[0m             \u001B[38;5;28;01mif\u001B[39;00m \u001B[38;5;28misinstance\u001B[39m(item, _NextValueNotReady) \u001B[38;5;129;01mor\u001B[39;00m fn(item):\n",
      "File \u001B[1;32m~\\.conda\\envs\\TradeMaster\\lib\\site-packages\\ray\\util\\iter.py:1108\u001B[0m, in \u001B[0;36mLocalIterator.union.<locals>.build_union\u001B[1;34m(timeout)\u001B[0m\n\u001B[0;32m   1106\u001B[0m \u001B[38;5;28;01mtry\u001B[39;00m:\n\u001B[0;32m   1107\u001B[0m     \u001B[38;5;28;01mfor\u001B[39;00m _ \u001B[38;5;129;01min\u001B[39;00m \u001B[38;5;28mrange\u001B[39m(max_pull):\n\u001B[1;32m-> 1108\u001B[0m         item \u001B[38;5;241m=\u001B[39m \u001B[38;5;28;43mnext\u001B[39;49m\u001B[43m(\u001B[49m\u001B[43mit\u001B[49m\u001B[43m)\u001B[49m\n\u001B[0;32m   1109\u001B[0m         \u001B[38;5;28;01mif\u001B[39;00m \u001B[38;5;28misinstance\u001B[39m(item, _NextValueNotReady):\n\u001B[0;32m   1110\u001B[0m             \u001B[38;5;28;01mif\u001B[39;00m timeout \u001B[38;5;129;01mis\u001B[39;00m \u001B[38;5;129;01mnot\u001B[39;00m \u001B[38;5;28;01mNone\u001B[39;00m:\n",
      "File \u001B[1;32m~\\.conda\\envs\\TradeMaster\\lib\\site-packages\\ray\\util\\iter.py:779\u001B[0m, in \u001B[0;36mLocalIterator.__next__\u001B[1;34m(self)\u001B[0m\n\u001B[0;32m    777\u001B[0m \u001B[38;5;28;01mdef\u001B[39;00m \u001B[38;5;21m__next__\u001B[39m(\u001B[38;5;28mself\u001B[39m):\n\u001B[0;32m    778\u001B[0m     \u001B[38;5;28mself\u001B[39m\u001B[38;5;241m.\u001B[39m_build_once()\n\u001B[1;32m--> 779\u001B[0m     \u001B[38;5;28;01mreturn\u001B[39;00m \u001B[38;5;28;43mnext\u001B[39;49m\u001B[43m(\u001B[49m\u001B[38;5;28;43mself\u001B[39;49m\u001B[38;5;241;43m.\u001B[39;49m\u001B[43mbuilt_iterator\u001B[49m\u001B[43m)\u001B[49m\n",
      "File \u001B[1;32m~\\.conda\\envs\\TradeMaster\\lib\\site-packages\\ray\\util\\iter.py:807\u001B[0m, in \u001B[0;36mLocalIterator.for_each.<locals>.apply_foreach\u001B[1;34m(it)\u001B[0m\n\u001B[0;32m    806\u001B[0m \u001B[38;5;28;01mdef\u001B[39;00m \u001B[38;5;21mapply_foreach\u001B[39m(it):\n\u001B[1;32m--> 807\u001B[0m     \u001B[38;5;28;01mfor\u001B[39;00m item \u001B[38;5;129;01min\u001B[39;00m it:\n\u001B[0;32m    808\u001B[0m         \u001B[38;5;28;01mif\u001B[39;00m \u001B[38;5;28misinstance\u001B[39m(item, _NextValueNotReady):\n\u001B[0;32m    809\u001B[0m             \u001B[38;5;28;01myield\u001B[39;00m item\n",
      "File \u001B[1;32m~\\.conda\\envs\\TradeMaster\\lib\\site-packages\\ray\\util\\iter.py:807\u001B[0m, in \u001B[0;36mLocalIterator.for_each.<locals>.apply_foreach\u001B[1;34m(it)\u001B[0m\n\u001B[0;32m    806\u001B[0m \u001B[38;5;28;01mdef\u001B[39;00m \u001B[38;5;21mapply_foreach\u001B[39m(it):\n\u001B[1;32m--> 807\u001B[0m     \u001B[38;5;28;01mfor\u001B[39;00m item \u001B[38;5;129;01min\u001B[39;00m it:\n\u001B[0;32m    808\u001B[0m         \u001B[38;5;28;01mif\u001B[39;00m \u001B[38;5;28misinstance\u001B[39m(item, _NextValueNotReady):\n\u001B[0;32m    809\u001B[0m             \u001B[38;5;28;01myield\u001B[39;00m item\n",
      "File \u001B[1;32m~\\.conda\\envs\\TradeMaster\\lib\\site-packages\\ray\\util\\iter.py:807\u001B[0m, in \u001B[0;36mLocalIterator.for_each.<locals>.apply_foreach\u001B[1;34m(it)\u001B[0m\n\u001B[0;32m    806\u001B[0m \u001B[38;5;28;01mdef\u001B[39;00m \u001B[38;5;21mapply_foreach\u001B[39m(it):\n\u001B[1;32m--> 807\u001B[0m     \u001B[38;5;28;01mfor\u001B[39;00m item \u001B[38;5;129;01min\u001B[39;00m it:\n\u001B[0;32m    808\u001B[0m         \u001B[38;5;28;01mif\u001B[39;00m \u001B[38;5;28misinstance\u001B[39m(item, _NextValueNotReady):\n\u001B[0;32m    809\u001B[0m             \u001B[38;5;28;01myield\u001B[39;00m item\n",
      "File \u001B[1;32m~\\.conda\\envs\\TradeMaster\\lib\\site-packages\\ray\\rllib\\evaluation\\rollout_worker.py:415\u001B[0m, in \u001B[0;36mRolloutWorker.__init__.<locals>.gen_rollouts\u001B[1;34m()\u001B[0m\n\u001B[0;32m    413\u001B[0m \u001B[38;5;28;01mdef\u001B[39;00m \u001B[38;5;21mgen_rollouts\u001B[39m():\n\u001B[0;32m    414\u001B[0m     \u001B[38;5;28;01mwhile\u001B[39;00m \u001B[38;5;28;01mTrue\u001B[39;00m:\n\u001B[1;32m--> 415\u001B[0m         \u001B[38;5;28;01myield\u001B[39;00m \u001B[38;5;28;43mself\u001B[39;49m\u001B[38;5;241;43m.\u001B[39;49m\u001B[43msample\u001B[49m\u001B[43m(\u001B[49m\u001B[43m)\u001B[49m\n",
      "File \u001B[1;32m~\\.conda\\envs\\TradeMaster\\lib\\site-packages\\ray\\rllib\\evaluation\\rollout_worker.py:825\u001B[0m, in \u001B[0;36mRolloutWorker.sample\u001B[1;34m(self)\u001B[0m\n\u001B[0;32m    818\u001B[0m \u001B[38;5;28;01mif\u001B[39;00m log_once(\u001B[38;5;124m\"\u001B[39m\u001B[38;5;124msample_start\u001B[39m\u001B[38;5;124m\"\u001B[39m):\n\u001B[0;32m    819\u001B[0m     logger\u001B[38;5;241m.\u001B[39minfo(\n\u001B[0;32m    820\u001B[0m         \u001B[38;5;124m\"\u001B[39m\u001B[38;5;124mGenerating sample batch of size \u001B[39m\u001B[38;5;132;01m{}\u001B[39;00m\u001B[38;5;124m\"\u001B[39m\u001B[38;5;241m.\u001B[39mformat(\n\u001B[0;32m    821\u001B[0m             \u001B[38;5;28mself\u001B[39m\u001B[38;5;241m.\u001B[39mrollout_fragment_length\n\u001B[0;32m    822\u001B[0m         )\n\u001B[0;32m    823\u001B[0m     )\n\u001B[1;32m--> 825\u001B[0m batches \u001B[38;5;241m=\u001B[39m [\u001B[38;5;28;43mself\u001B[39;49m\u001B[38;5;241;43m.\u001B[39;49m\u001B[43minput_reader\u001B[49m\u001B[38;5;241;43m.\u001B[39;49m\u001B[43mnext\u001B[49m\u001B[43m(\u001B[49m\u001B[43m)\u001B[49m]\n\u001B[0;32m    826\u001B[0m steps_so_far \u001B[38;5;241m=\u001B[39m (\n\u001B[0;32m    827\u001B[0m     batches[\u001B[38;5;241m0\u001B[39m]\u001B[38;5;241m.\u001B[39mcount\n\u001B[0;32m    828\u001B[0m     \u001B[38;5;28;01mif\u001B[39;00m \u001B[38;5;28mself\u001B[39m\u001B[38;5;241m.\u001B[39mcount_steps_by \u001B[38;5;241m==\u001B[39m \u001B[38;5;124m\"\u001B[39m\u001B[38;5;124menv_steps\u001B[39m\u001B[38;5;124m\"\u001B[39m\n\u001B[0;32m    829\u001B[0m     \u001B[38;5;28;01melse\u001B[39;00m batches[\u001B[38;5;241m0\u001B[39m]\u001B[38;5;241m.\u001B[39magent_steps()\n\u001B[0;32m    830\u001B[0m )\n\u001B[0;32m    832\u001B[0m \u001B[38;5;66;03m# In truncate_episodes mode, never pull more than 1 batch per env.\u001B[39;00m\n\u001B[0;32m    833\u001B[0m \u001B[38;5;66;03m# This avoids over-running the target batch size.\u001B[39;00m\n",
      "File \u001B[1;32m~\\.conda\\envs\\TradeMaster\\lib\\site-packages\\ray\\rllib\\evaluation\\sampler.py:115\u001B[0m, in \u001B[0;36mSamplerInput.next\u001B[1;34m(self)\u001B[0m\n\u001B[0;32m    113\u001B[0m \u001B[38;5;129m@override\u001B[39m(InputReader)\n\u001B[0;32m    114\u001B[0m \u001B[38;5;28;01mdef\u001B[39;00m \u001B[38;5;21mnext\u001B[39m(\u001B[38;5;28mself\u001B[39m) \u001B[38;5;241m-\u001B[39m\u001B[38;5;241m>\u001B[39m SampleBatchType:\n\u001B[1;32m--> 115\u001B[0m     batches \u001B[38;5;241m=\u001B[39m [\u001B[38;5;28;43mself\u001B[39;49m\u001B[38;5;241;43m.\u001B[39;49m\u001B[43mget_data\u001B[49m\u001B[43m(\u001B[49m\u001B[43m)\u001B[49m]\n\u001B[0;32m    116\u001B[0m     batches\u001B[38;5;241m.\u001B[39mextend(\u001B[38;5;28mself\u001B[39m\u001B[38;5;241m.\u001B[39mget_extra_batches())\n\u001B[0;32m    117\u001B[0m     \u001B[38;5;28;01mif\u001B[39;00m \u001B[38;5;28mlen\u001B[39m(batches) \u001B[38;5;241m>\u001B[39m \u001B[38;5;241m1\u001B[39m:\n",
      "File \u001B[1;32m~\\.conda\\envs\\TradeMaster\\lib\\site-packages\\ray\\rllib\\evaluation\\sampler.py:288\u001B[0m, in \u001B[0;36mSyncSampler.get_data\u001B[1;34m(self)\u001B[0m\n\u001B[0;32m    285\u001B[0m \u001B[38;5;129m@override\u001B[39m(SamplerInput)\n\u001B[0;32m    286\u001B[0m \u001B[38;5;28;01mdef\u001B[39;00m \u001B[38;5;21mget_data\u001B[39m(\u001B[38;5;28mself\u001B[39m) \u001B[38;5;241m-\u001B[39m\u001B[38;5;241m>\u001B[39m SampleBatchType:\n\u001B[0;32m    287\u001B[0m     \u001B[38;5;28;01mwhile\u001B[39;00m \u001B[38;5;28;01mTrue\u001B[39;00m:\n\u001B[1;32m--> 288\u001B[0m         item \u001B[38;5;241m=\u001B[39m \u001B[38;5;28;43mnext\u001B[39;49m\u001B[43m(\u001B[49m\u001B[38;5;28;43mself\u001B[39;49m\u001B[38;5;241;43m.\u001B[39;49m\u001B[43m_env_runner\u001B[49m\u001B[43m)\u001B[49m\n\u001B[0;32m    289\u001B[0m         \u001B[38;5;28;01mif\u001B[39;00m \u001B[38;5;28misinstance\u001B[39m(item, RolloutMetrics):\n\u001B[0;32m    290\u001B[0m             \u001B[38;5;28mself\u001B[39m\u001B[38;5;241m.\u001B[39mmetrics_queue\u001B[38;5;241m.\u001B[39mput(item)\n",
      "File \u001B[1;32m~\\.conda\\envs\\TradeMaster\\lib\\site-packages\\ray\\rllib\\evaluation\\sampler.py:721\u001B[0m, in \u001B[0;36m_env_runner\u001B[1;34m(worker, base_env, extra_batch_callback, horizon, normalize_actions, clip_actions, multiple_episodes_in_batch, callbacks, perf_stats, soft_horizon, no_done_at_end, observation_fn, sample_collector, render)\u001B[0m\n\u001B[0;32m    718\u001B[0m \u001B[38;5;66;03m# Return computed actions to ready envs. We also send to envs that have\u001B[39;00m\n\u001B[0;32m    719\u001B[0m \u001B[38;5;66;03m# taken off-policy actions; those envs are free to ignore the action.\u001B[39;00m\n\u001B[0;32m    720\u001B[0m t4 \u001B[38;5;241m=\u001B[39m time\u001B[38;5;241m.\u001B[39mtime()\n\u001B[1;32m--> 721\u001B[0m \u001B[43mbase_env\u001B[49m\u001B[38;5;241;43m.\u001B[39;49m\u001B[43msend_actions\u001B[49m\u001B[43m(\u001B[49m\u001B[43mactions_to_send\u001B[49m\u001B[43m)\u001B[49m\n\u001B[0;32m    722\u001B[0m perf_stats\u001B[38;5;241m.\u001B[39menv_wait_time \u001B[38;5;241m+\u001B[39m\u001B[38;5;241m=\u001B[39m time\u001B[38;5;241m.\u001B[39mtime() \u001B[38;5;241m-\u001B[39m t4\n\u001B[0;32m    724\u001B[0m \u001B[38;5;66;03m# Try to render the env, if required.\u001B[39;00m\n",
      "File \u001B[1;32m~\\.conda\\envs\\TradeMaster\\lib\\site-packages\\ray\\rllib\\env\\vector_env.py:315\u001B[0m, in \u001B[0;36mVectorEnvWrapper.send_actions\u001B[1;34m(self, action_dict)\u001B[0m\n\u001B[0;32m    308\u001B[0m \u001B[38;5;28;01mfor\u001B[39;00m i \u001B[38;5;129;01min\u001B[39;00m \u001B[38;5;28mrange\u001B[39m(\u001B[38;5;28mself\u001B[39m\u001B[38;5;241m.\u001B[39mnum_envs):\n\u001B[0;32m    309\u001B[0m     action_vector[i] \u001B[38;5;241m=\u001B[39m action_dict[i][_DUMMY_AGENT_ID]\n\u001B[0;32m    310\u001B[0m (\n\u001B[0;32m    311\u001B[0m     \u001B[38;5;28mself\u001B[39m\u001B[38;5;241m.\u001B[39mnew_obs,\n\u001B[0;32m    312\u001B[0m     \u001B[38;5;28mself\u001B[39m\u001B[38;5;241m.\u001B[39mcur_rewards,\n\u001B[0;32m    313\u001B[0m     \u001B[38;5;28mself\u001B[39m\u001B[38;5;241m.\u001B[39mcur_dones,\n\u001B[0;32m    314\u001B[0m     \u001B[38;5;28mself\u001B[39m\u001B[38;5;241m.\u001B[39mcur_infos,\n\u001B[1;32m--> 315\u001B[0m ) \u001B[38;5;241m=\u001B[39m \u001B[38;5;28;43mself\u001B[39;49m\u001B[38;5;241;43m.\u001B[39;49m\u001B[43mvector_env\u001B[49m\u001B[38;5;241;43m.\u001B[39;49m\u001B[43mvector_step\u001B[49m\u001B[43m(\u001B[49m\u001B[43maction_vector\u001B[49m\u001B[43m)\u001B[49m\n",
      "File \u001B[1;32m~\\.conda\\envs\\TradeMaster\\lib\\site-packages\\ray\\rllib\\env\\vector_env.py:239\u001B[0m, in \u001B[0;36m_VectorizedGymEnv.vector_step\u001B[1;34m(self, actions)\u001B[0m\n\u001B[0;32m    237\u001B[0m obs_batch, rew_batch, done_batch, info_batch \u001B[38;5;241m=\u001B[39m [], [], [], []\n\u001B[0;32m    238\u001B[0m \u001B[38;5;28;01mfor\u001B[39;00m i \u001B[38;5;129;01min\u001B[39;00m \u001B[38;5;28mrange\u001B[39m(\u001B[38;5;28mself\u001B[39m\u001B[38;5;241m.\u001B[39mnum_envs):\n\u001B[1;32m--> 239\u001B[0m     obs, r, done, info \u001B[38;5;241m=\u001B[39m \u001B[38;5;28;43mself\u001B[39;49m\u001B[38;5;241;43m.\u001B[39;49m\u001B[43menvs\u001B[49m\u001B[43m[\u001B[49m\u001B[43mi\u001B[49m\u001B[43m]\u001B[49m\u001B[38;5;241;43m.\u001B[39;49m\u001B[43mstep\u001B[49m\u001B[43m(\u001B[49m\u001B[43mactions\u001B[49m\u001B[43m[\u001B[49m\u001B[43mi\u001B[49m\u001B[43m]\u001B[49m\u001B[43m)\u001B[49m\n\u001B[0;32m    240\u001B[0m     \u001B[38;5;28;01mif\u001B[39;00m \u001B[38;5;129;01mnot\u001B[39;00m \u001B[38;5;28misinstance\u001B[39m(info, \u001B[38;5;28mdict\u001B[39m):\n\u001B[0;32m    241\u001B[0m         \u001B[38;5;28;01mraise\u001B[39;00m \u001B[38;5;167;01mValueError\u001B[39;00m(\n\u001B[0;32m    242\u001B[0m             \u001B[38;5;124m\"\u001B[39m\u001B[38;5;124mInfo should be a dict, got \u001B[39m\u001B[38;5;132;01m{}\u001B[39;00m\u001B[38;5;124m (\u001B[39m\u001B[38;5;132;01m{}\u001B[39;00m\u001B[38;5;124m)\u001B[39m\u001B[38;5;124m\"\u001B[39m\u001B[38;5;241m.\u001B[39mformat(info, \u001B[38;5;28mtype\u001B[39m(info))\n\u001B[0;32m    243\u001B[0m         )\n",
      "File \u001B[1;32mD:\\pycharm_workspace\\TradeMaster\\trademaster\\environments\\portfolio_management\\sarl_environment.py:194\u001B[0m, in \u001B[0;36mPortfolioManagementSARLEnvironment.step\u001B[1;34m(self, actions)\u001B[0m\n\u001B[0;32m    192\u001B[0m X \u001B[38;5;241m=\u001B[39m []\n\u001B[0;32m    193\u001B[0m \u001B[38;5;28;01mfor\u001B[39;00m tic \u001B[38;5;129;01min\u001B[39;00m tic_list:\n\u001B[1;32m--> 194\u001B[0m     df_tic \u001B[38;5;241m=\u001B[39m \u001B[38;5;28mself\u001B[39m\u001B[38;5;241m.\u001B[39mdf[\u001B[38;5;28;43mself\u001B[39;49m\u001B[38;5;241;43m.\u001B[39;49m\u001B[43mdf\u001B[49m\u001B[38;5;241;43m.\u001B[39;49m\u001B[43mtic\u001B[49m\u001B[43m \u001B[49m\u001B[38;5;241;43m==\u001B[39;49m\u001B[43m \u001B[49m\u001B[43mtic\u001B[49m]\n\u001B[0;32m    195\u001B[0m     df_information \u001B[38;5;241m=\u001B[39m df_tic[\u001B[38;5;28mself\u001B[39m\u001B[38;5;241m.\u001B[39mday \u001B[38;5;241m-\u001B[39m \u001B[38;5;28mself\u001B[39m\u001B[38;5;241m.\u001B[39mlength_day:\u001B[38;5;28mself\u001B[39m\u001B[38;5;241m.\u001B[39mday][\n\u001B[0;32m    196\u001B[0m         \u001B[38;5;28mself\u001B[39m\u001B[38;5;241m.\u001B[39mtech_indicator_list]\u001B[38;5;241m.\u001B[39mto_numpy()\n\u001B[0;32m    197\u001B[0m     df_information \u001B[38;5;241m=\u001B[39m torch\u001B[38;5;241m.\u001B[39mfrom_numpy(\n\u001B[0;32m    198\u001B[0m         df_information)\u001B[38;5;241m.\u001B[39mfloat()\u001B[38;5;241m.\u001B[39munsqueeze(\u001B[38;5;241m0\u001B[39m)\n",
      "File \u001B[1;32m~\\.conda\\envs\\TradeMaster\\lib\\site-packages\\pandas\\core\\ops\\common.py:72\u001B[0m, in \u001B[0;36m_unpack_zerodim_and_defer.<locals>.new_method\u001B[1;34m(self, other)\u001B[0m\n\u001B[0;32m     68\u001B[0m             \u001B[38;5;28;01mreturn\u001B[39;00m \u001B[38;5;28mNotImplemented\u001B[39m\n\u001B[0;32m     70\u001B[0m other \u001B[38;5;241m=\u001B[39m item_from_zerodim(other)\n\u001B[1;32m---> 72\u001B[0m \u001B[38;5;28;01mreturn\u001B[39;00m \u001B[43mmethod\u001B[49m\u001B[43m(\u001B[49m\u001B[38;5;28;43mself\u001B[39;49m\u001B[43m,\u001B[49m\u001B[43m \u001B[49m\u001B[43mother\u001B[49m\u001B[43m)\u001B[49m\n",
      "File \u001B[1;32m~\\.conda\\envs\\TradeMaster\\lib\\site-packages\\pandas\\core\\arraylike.py:42\u001B[0m, in \u001B[0;36mOpsMixin.__eq__\u001B[1;34m(self, other)\u001B[0m\n\u001B[0;32m     40\u001B[0m \u001B[38;5;129m@unpack_zerodim_and_defer\u001B[39m(\u001B[38;5;124m\"\u001B[39m\u001B[38;5;124m__eq__\u001B[39m\u001B[38;5;124m\"\u001B[39m)\n\u001B[0;32m     41\u001B[0m \u001B[38;5;28;01mdef\u001B[39;00m \u001B[38;5;21m__eq__\u001B[39m(\u001B[38;5;28mself\u001B[39m, other):\n\u001B[1;32m---> 42\u001B[0m     \u001B[38;5;28;01mreturn\u001B[39;00m \u001B[38;5;28;43mself\u001B[39;49m\u001B[38;5;241;43m.\u001B[39;49m\u001B[43m_cmp_method\u001B[49m\u001B[43m(\u001B[49m\u001B[43mother\u001B[49m\u001B[43m,\u001B[49m\u001B[43m \u001B[49m\u001B[43moperator\u001B[49m\u001B[38;5;241;43m.\u001B[39;49m\u001B[43meq\u001B[49m\u001B[43m)\u001B[49m\n",
      "File \u001B[1;32m~\\.conda\\envs\\TradeMaster\\lib\\site-packages\\pandas\\core\\series.py:6243\u001B[0m, in \u001B[0;36mSeries._cmp_method\u001B[1;34m(self, other, op)\u001B[0m\n\u001B[0;32m   6240\u001B[0m rvalues \u001B[38;5;241m=\u001B[39m extract_array(other, extract_numpy\u001B[38;5;241m=\u001B[39m\u001B[38;5;28;01mTrue\u001B[39;00m, extract_range\u001B[38;5;241m=\u001B[39m\u001B[38;5;28;01mTrue\u001B[39;00m)\n\u001B[0;32m   6242\u001B[0m \u001B[38;5;28;01mwith\u001B[39;00m np\u001B[38;5;241m.\u001B[39merrstate(\u001B[38;5;28mall\u001B[39m\u001B[38;5;241m=\u001B[39m\u001B[38;5;124m\"\u001B[39m\u001B[38;5;124mignore\u001B[39m\u001B[38;5;124m\"\u001B[39m):\n\u001B[1;32m-> 6243\u001B[0m     res_values \u001B[38;5;241m=\u001B[39m \u001B[43mops\u001B[49m\u001B[38;5;241;43m.\u001B[39;49m\u001B[43mcomparison_op\u001B[49m\u001B[43m(\u001B[49m\u001B[43mlvalues\u001B[49m\u001B[43m,\u001B[49m\u001B[43m \u001B[49m\u001B[43mrvalues\u001B[49m\u001B[43m,\u001B[49m\u001B[43m \u001B[49m\u001B[43mop\u001B[49m\u001B[43m)\u001B[49m\n\u001B[0;32m   6245\u001B[0m \u001B[38;5;28;01mreturn\u001B[39;00m \u001B[38;5;28mself\u001B[39m\u001B[38;5;241m.\u001B[39m_construct_result(res_values, name\u001B[38;5;241m=\u001B[39mres_name)\n",
      "File \u001B[1;32m~\\.conda\\envs\\TradeMaster\\lib\\site-packages\\pandas\\core\\ops\\array_ops.py:287\u001B[0m, in \u001B[0;36mcomparison_op\u001B[1;34m(left, right, op)\u001B[0m\n\u001B[0;32m    284\u001B[0m     \u001B[38;5;28;01mreturn\u001B[39;00m invalid_comparison(lvalues, rvalues, op)\n\u001B[0;32m    286\u001B[0m \u001B[38;5;28;01melif\u001B[39;00m is_object_dtype(lvalues\u001B[38;5;241m.\u001B[39mdtype) \u001B[38;5;129;01mor\u001B[39;00m \u001B[38;5;28misinstance\u001B[39m(rvalues, \u001B[38;5;28mstr\u001B[39m):\n\u001B[1;32m--> 287\u001B[0m     res_values \u001B[38;5;241m=\u001B[39m \u001B[43mcomp_method_OBJECT_ARRAY\u001B[49m\u001B[43m(\u001B[49m\u001B[43mop\u001B[49m\u001B[43m,\u001B[49m\u001B[43m \u001B[49m\u001B[43mlvalues\u001B[49m\u001B[43m,\u001B[49m\u001B[43m \u001B[49m\u001B[43mrvalues\u001B[49m\u001B[43m)\u001B[49m\n\u001B[0;32m    289\u001B[0m \u001B[38;5;28;01melse\u001B[39;00m:\n\u001B[0;32m    290\u001B[0m     res_values \u001B[38;5;241m=\u001B[39m _na_arithmetic_op(lvalues, rvalues, op, is_cmp\u001B[38;5;241m=\u001B[39m\u001B[38;5;28;01mTrue\u001B[39;00m)\n",
      "File \u001B[1;32m~\\.conda\\envs\\TradeMaster\\lib\\site-packages\\pandas\\core\\ops\\array_ops.py:75\u001B[0m, in \u001B[0;36mcomp_method_OBJECT_ARRAY\u001B[1;34m(op, x, y)\u001B[0m\n\u001B[0;32m     73\u001B[0m     result \u001B[38;5;241m=\u001B[39m libops\u001B[38;5;241m.\u001B[39mvec_compare(x\u001B[38;5;241m.\u001B[39mravel(), y\u001B[38;5;241m.\u001B[39mravel(), op)\n\u001B[0;32m     74\u001B[0m \u001B[38;5;28;01melse\u001B[39;00m:\n\u001B[1;32m---> 75\u001B[0m     result \u001B[38;5;241m=\u001B[39m \u001B[43mlibops\u001B[49m\u001B[38;5;241;43m.\u001B[39;49m\u001B[43mscalar_compare\u001B[49m\u001B[43m(\u001B[49m\u001B[43mx\u001B[49m\u001B[38;5;241;43m.\u001B[39;49m\u001B[43mravel\u001B[49m\u001B[43m(\u001B[49m\u001B[43m)\u001B[49m\u001B[43m,\u001B[49m\u001B[43m \u001B[49m\u001B[43my\u001B[49m\u001B[43m,\u001B[49m\u001B[43m \u001B[49m\u001B[43mop\u001B[49m\u001B[43m)\u001B[49m\n\u001B[0;32m     76\u001B[0m \u001B[38;5;28;01mreturn\u001B[39;00m result\u001B[38;5;241m.\u001B[39mreshape(x\u001B[38;5;241m.\u001B[39mshape)\n",
      "\u001B[1;31mKeyboardInterrupt\u001B[0m: "
     ]
    }
   ],
   "source": [
    "trainer.train_and_valid()"
   ]
  },
  {
   "cell_type": "code",
   "execution_count": null,
   "metadata": {
    "collapsed": false
   },
   "outputs": [],
   "source": [
    "import ray\n",
    "from ray.tune.registry import register_env\n",
    "from trademaster.environments.portfolio_management.sarl_environment import PortfolioManagementSARLEnvironment\n",
    "def env_creator(env_name):\n",
    "    if env_name == 'portfolio_management_sarl':\n",
    "        env = PortfolioManagementSARLEnvironment\n",
    "    else:\n",
    "        raise NotImplementedError\n",
    "    return env\n",
    "ray.init(ignore_reinit_error=True)\n",
    "register_env(\"portfolio_management_sarl\", lambda config: env_creator(\"portfolio_management_sarl\")(config))\n",
    "trainer.test()"
   ]
  },
  {
   "cell_type": "code",
   "execution_count": null,
   "metadata": {},
   "outputs": [],
   "source": [
    "plot(trainer.test_environment.save_asset_memory(),alg=\"SARL\")"
   ]
  }
 ],
 "metadata": {
  "kernelspec": {
   "display_name": "TradeMaster",
   "language": "python",
   "name": "python3"
  },
  "language_info": {
   "codemirror_mode": {
    "name": "ipython",
    "version": 3
   },
   "file_extension": ".py",
   "mimetype": "text/x-python",
   "name": "python",
   "nbconvert_exporter": "python",
   "pygments_lexer": "ipython3",
   "version": "3.7.13"
  },
  "vscode": {
   "interpreter": {
    "hash": "a1f97403911abd3f02553c8f2b0c54537fddc7efadd9f5d3e31784db6e40c347"
   }
  }
 },
 "nbformat": 4,
 "nbformat_minor": 0
}
