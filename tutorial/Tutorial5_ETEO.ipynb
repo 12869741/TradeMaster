{
 "cells": [
  {
   "cell_type": "markdown",
   "source": [
    "# ETEO for Order Execution\n",
    "This tutorial is to demonstrate an example of using ETEO to do order execution"
   ],
   "metadata": {
    "collapsed": false
   }
  },
  {
   "cell_type": "markdown",
   "source": [
    "## Step1: Import Packages"
   ],
   "metadata": {
    "collapsed": false
   }
  },
  {
   "cell_type": "code",
   "execution_count": 1,
   "outputs": [],
   "source": [
    "import warnings\n",
    "warnings.filterwarnings(\"ignore\")\n",
    "\n",
    "import sys\n",
    "from pathlib import Path\n",
    "import os\n",
    "import torch\n",
    "\n",
    "ROOT = os.path.dirname(os.path.abspath(\".\"))\n",
    "sys.path.append(ROOT)\n",
    "\n",
    "import argparse\n",
    "import os.path as osp\n",
    "from mmcv import Config\n",
    "from trademaster.utils import replace_cfg_vals\n",
    "from trademaster.nets.builder import build_net\n",
    "from trademaster.environments.builder import build_environment\n",
    "from trademaster.datasets.builder import build_dataset\n",
    "from trademaster.agents.builder import build_agent\n",
    "from trademaster.optimizers.builder import build_optimizer\n",
    "from trademaster.losses.builder import build_loss\n",
    "from trademaster.trainers.builder import build_trainer\n",
    "from trademaster.transition.builder import build_transition\n",
    "from collections import Counter"
   ],
   "metadata": {
    "collapsed": false
   }
  },
  {
   "cell_type": "markdown",
   "source": [
    "## Step2: Import Configs"
   ],
   "metadata": {
    "collapsed": false
   }
  },
  {
   "cell_type": "code",
   "execution_count": 2,
   "outputs": [],
   "source": [
    "parser = argparse.ArgumentParser(description='Download Alpaca Datasets')\n",
    "parser.add_argument(\"--config\", default=osp.join(ROOT, \"configs\", \"order_execution\",\n",
    "                                                 \"order_execution_BTC_eteo_eteo_adam_mse.py\"),\n",
    "                    help=\"download datasets config file path\")\n",
    "parser.add_argument(\"--task_name\", type=str, default=\"train\")\n",
    "parser.add_argument(\"--test_style\", type=str, default=\"-1\")\n",
    "args,_ = parser.parse_known_args()\n",
    "\n",
    "cfg = Config.fromfile(args.config)\n",
    "task_name = args.task_name\n",
    "cfg = replace_cfg_vals(cfg)"
   ],
   "metadata": {
    "collapsed": false
   }
  },
  {
   "cell_type": "markdown",
   "source": [
    "## Step3: Build Dataset"
   ],
   "metadata": {
    "collapsed": false
   }
  },
  {
   "cell_type": "code",
   "execution_count": 4,
   "outputs": [
    {
     "name": "stdout",
     "output_type": "stream",
     "text": [
      "The 18_th segment length is less than the min length so it won't be tested\n"
     ]
    }
   ],
   "source": [
    "dataset = build_dataset(cfg)"
   ],
   "metadata": {
    "collapsed": false
   }
  },
  {
   "cell_type": "markdown",
   "source": [
    "## Step4: Build Environment"
   ],
   "metadata": {
    "collapsed": false
   }
  },
  {
   "cell_type": "code",
   "execution_count": 5,
   "outputs": [],
   "source": [
    "device = torch.device('cuda' if torch.cuda.is_available() else 'cpu')\n",
    "train_environment = build_environment(cfg, default_args=dict(dataset=dataset, task=\"train\"))\n",
    "valid_environment = build_environment(cfg, default_args=dict(dataset=dataset, task=\"valid\"))\n",
    "test_environment = build_environment(cfg, default_args=dict(dataset=dataset, task=\"test\"))"
   ],
   "metadata": {
    "collapsed": false
   }
  },
  {
   "cell_type": "code",
   "execution_count": 6,
   "outputs": [
    {
     "data": {
      "text/plain": "                        system_time   midpoint  spread          buys  \\\n0  2021-04-07 11:33:41.122161+00:00  55896.285    0.01  4.448599e+06   \n1  2021-04-07 11:34:41.122161+00:00  55948.685    1.43  1.243244e+06   \n2  2021-04-07 11:35:41.122161+00:00  56013.785    0.01  3.069094e+06   \n3  2021-04-07 11:36:41.122161+00:00  55903.575    7.17  1.220819e+06   \n4  2021-04-07 11:37:41.122161+00:00  55899.995    0.01  2.011287e+06   \n\n          sells  bids_distance_0  bids_distance_1  bids_distance_2  \\\n0  3.899402e+06    -8.945138e-08        -0.000065        -0.000073   \n1  3.606502e+06    -1.277957e-05        -0.000013        -0.000242   \n2  1.575759e+06    -8.926374e-08        -0.000009        -0.000070   \n3  1.321487e+06    -6.412827e-05        -0.000182        -0.000188   \n4  3.083005e+06    -8.944544e-08        -0.000129        -0.000130   \n\n   bids_distance_3  bids_distance_4  ...  asks_market_notional_5  \\\n0        -0.000154        -0.000162  ...                     0.0   \n1        -0.000242        -0.000259  ...                     0.0   \n2        -0.000088        -0.000173  ...                     0.0   \n3        -0.000225        -0.000310  ...                     0.0   \n4        -0.000143        -0.000201  ...                     0.0   \n\n   asks_market_notional_6  asks_market_notional_7  asks_market_notional_8  \\\n0                0.000000                     0.0                     0.0   \n1                0.000000                     0.0                     0.0   \n2                0.000000                     0.0                     0.0   \n3              312.040009                     0.0                     0.0   \n4                0.000000                     0.0                     0.0   \n\n   asks_market_notional_9  asks_market_notional_10  asks_market_notional_11  \\\n0                     0.0                      0.0                      0.0   \n1                     0.0                      0.0                      0.0   \n2                     0.0                      0.0                      0.0   \n3                     0.0                      0.0                      0.0   \n4                     0.0                      0.0                      0.0   \n\n   asks_market_notional_12  asks_market_notional_13  asks_market_notional_14  \n0                      0.0               1176.72998                      0.0  \n1                      0.0                  0.00000                      0.0  \n2                      0.0                  0.00000                      0.0  \n3                      0.0                  0.00000                      0.0  \n4                      0.0                  0.00000                      0.0  \n\n[5 rows x 155 columns]",
      "text/html": "<div>\n<style scoped>\n    .dataframe tbody tr th:only-of-type {\n        vertical-align: middle;\n    }\n\n    .dataframe tbody tr th {\n        vertical-align: top;\n    }\n\n    .dataframe thead th {\n        text-align: right;\n    }\n</style>\n<table border=\"1\" class=\"dataframe\">\n  <thead>\n    <tr style=\"text-align: right;\">\n      <th></th>\n      <th>system_time</th>\n      <th>midpoint</th>\n      <th>spread</th>\n      <th>buys</th>\n      <th>sells</th>\n      <th>bids_distance_0</th>\n      <th>bids_distance_1</th>\n      <th>bids_distance_2</th>\n      <th>bids_distance_3</th>\n      <th>bids_distance_4</th>\n      <th>...</th>\n      <th>asks_market_notional_5</th>\n      <th>asks_market_notional_6</th>\n      <th>asks_market_notional_7</th>\n      <th>asks_market_notional_8</th>\n      <th>asks_market_notional_9</th>\n      <th>asks_market_notional_10</th>\n      <th>asks_market_notional_11</th>\n      <th>asks_market_notional_12</th>\n      <th>asks_market_notional_13</th>\n      <th>asks_market_notional_14</th>\n    </tr>\n  </thead>\n  <tbody>\n    <tr>\n      <th>0</th>\n      <td>2021-04-07 11:33:41.122161+00:00</td>\n      <td>55896.285</td>\n      <td>0.01</td>\n      <td>4.448599e+06</td>\n      <td>3.899402e+06</td>\n      <td>-8.945138e-08</td>\n      <td>-0.000065</td>\n      <td>-0.000073</td>\n      <td>-0.000154</td>\n      <td>-0.000162</td>\n      <td>...</td>\n      <td>0.0</td>\n      <td>0.000000</td>\n      <td>0.0</td>\n      <td>0.0</td>\n      <td>0.0</td>\n      <td>0.0</td>\n      <td>0.0</td>\n      <td>0.0</td>\n      <td>1176.72998</td>\n      <td>0.0</td>\n    </tr>\n    <tr>\n      <th>1</th>\n      <td>2021-04-07 11:34:41.122161+00:00</td>\n      <td>55948.685</td>\n      <td>1.43</td>\n      <td>1.243244e+06</td>\n      <td>3.606502e+06</td>\n      <td>-1.277957e-05</td>\n      <td>-0.000013</td>\n      <td>-0.000242</td>\n      <td>-0.000242</td>\n      <td>-0.000259</td>\n      <td>...</td>\n      <td>0.0</td>\n      <td>0.000000</td>\n      <td>0.0</td>\n      <td>0.0</td>\n      <td>0.0</td>\n      <td>0.0</td>\n      <td>0.0</td>\n      <td>0.0</td>\n      <td>0.00000</td>\n      <td>0.0</td>\n    </tr>\n    <tr>\n      <th>2</th>\n      <td>2021-04-07 11:35:41.122161+00:00</td>\n      <td>56013.785</td>\n      <td>0.01</td>\n      <td>3.069094e+06</td>\n      <td>1.575759e+06</td>\n      <td>-8.926374e-08</td>\n      <td>-0.000009</td>\n      <td>-0.000070</td>\n      <td>-0.000088</td>\n      <td>-0.000173</td>\n      <td>...</td>\n      <td>0.0</td>\n      <td>0.000000</td>\n      <td>0.0</td>\n      <td>0.0</td>\n      <td>0.0</td>\n      <td>0.0</td>\n      <td>0.0</td>\n      <td>0.0</td>\n      <td>0.00000</td>\n      <td>0.0</td>\n    </tr>\n    <tr>\n      <th>3</th>\n      <td>2021-04-07 11:36:41.122161+00:00</td>\n      <td>55903.575</td>\n      <td>7.17</td>\n      <td>1.220819e+06</td>\n      <td>1.321487e+06</td>\n      <td>-6.412827e-05</td>\n      <td>-0.000182</td>\n      <td>-0.000188</td>\n      <td>-0.000225</td>\n      <td>-0.000310</td>\n      <td>...</td>\n      <td>0.0</td>\n      <td>312.040009</td>\n      <td>0.0</td>\n      <td>0.0</td>\n      <td>0.0</td>\n      <td>0.0</td>\n      <td>0.0</td>\n      <td>0.0</td>\n      <td>0.00000</td>\n      <td>0.0</td>\n    </tr>\n    <tr>\n      <th>4</th>\n      <td>2021-04-07 11:37:41.122161+00:00</td>\n      <td>55899.995</td>\n      <td>0.01</td>\n      <td>2.011287e+06</td>\n      <td>3.083005e+06</td>\n      <td>-8.944544e-08</td>\n      <td>-0.000129</td>\n      <td>-0.000130</td>\n      <td>-0.000143</td>\n      <td>-0.000201</td>\n      <td>...</td>\n      <td>0.0</td>\n      <td>0.000000</td>\n      <td>0.0</td>\n      <td>0.0</td>\n      <td>0.0</td>\n      <td>0.0</td>\n      <td>0.0</td>\n      <td>0.0</td>\n      <td>0.00000</td>\n      <td>0.0</td>\n    </tr>\n  </tbody>\n</table>\n<p>5 rows × 155 columns</p>\n</div>"
     },
     "execution_count": 6,
     "metadata": {},
     "output_type": "execute_result"
    }
   ],
   "source": [
    "train_environment.df.head()"
   ],
   "metadata": {
    "collapsed": false,
    "pycharm": {
     "name": "#%%\n"
    }
   }
  },
  {
   "cell_type": "code",
   "execution_count": 7,
   "outputs": [
    {
     "data": {
      "text/plain": "                        system_time   midpoint  spread          buys  \\\n0  2021-04-13 10:44:00.423670+00:00  62541.695    9.15  5.787658e+05   \n1  2021-04-13 10:45:00.423670+00:00  62533.385    0.01  3.625578e+05   \n2  2021-04-13 10:46:00.423670+00:00  62600.005    0.01  1.293376e+06   \n3  2021-04-13 10:47:00.423670+00:00  62555.790    0.02  6.849401e+05   \n4  2021-04-13 10:48:00.423670+00:00  62555.785    0.01  2.627973e+05   \n\n           sells  bids_distance_0  bids_distance_1  bids_distance_2  \\\n0  106771.290598    -7.315120e-05    -7.331109e-05        -0.000073   \n1  933043.632293    -7.995729e-08    -2.398719e-07        -0.000054   \n2  162076.891581    -7.987220e-08    -1.465655e-04        -0.000148   \n3  606836.562291    -1.598573e-07    -4.747762e-05        -0.000052   \n4  806676.814266    -7.992866e-08    -1.078238e-04        -0.000138   \n\n   bids_distance_3  bids_distance_4  ...  asks_market_notional_5  \\\n0        -0.000074        -0.000139  ...                     0.0   \n1        -0.000097        -0.000097  ...                     0.0   \n2        -0.000159        -0.000199  ...                     0.0   \n3        -0.000057        -0.000108  ...                     0.0   \n4        -0.000206        -0.000298  ...                     0.0   \n\n   asks_market_notional_6  asks_market_notional_7  asks_market_notional_8  \\\n0                     0.0                     0.0                     0.0   \n1                     0.0                     0.0                     0.0   \n2                     0.0                     0.0                     0.0   \n3                     0.0                     0.0                     0.0   \n4                     0.0                     0.0                     0.0   \n\n   asks_market_notional_9  asks_market_notional_10  asks_market_notional_11  \\\n0              233.169998                      0.0                      0.0   \n1                0.000000                      0.0                      0.0   \n2                0.000000                      0.0                      0.0   \n3                0.000000                      0.0                      0.0   \n4                0.000000                      0.0                      0.0   \n\n   asks_market_notional_12  asks_market_notional_13  asks_market_notional_14  \n0                      0.0                      0.0                 0.000000  \n1                      0.0                      0.0                 0.000000  \n2                      0.0                      0.0                 0.000000  \n3                      0.0                      0.0               191.479996  \n4                      0.0                      0.0                 0.000000  \n\n[5 rows x 155 columns]",
      "text/html": "<div>\n<style scoped>\n    .dataframe tbody tr th:only-of-type {\n        vertical-align: middle;\n    }\n\n    .dataframe tbody tr th {\n        vertical-align: top;\n    }\n\n    .dataframe thead th {\n        text-align: right;\n    }\n</style>\n<table border=\"1\" class=\"dataframe\">\n  <thead>\n    <tr style=\"text-align: right;\">\n      <th></th>\n      <th>system_time</th>\n      <th>midpoint</th>\n      <th>spread</th>\n      <th>buys</th>\n      <th>sells</th>\n      <th>bids_distance_0</th>\n      <th>bids_distance_1</th>\n      <th>bids_distance_2</th>\n      <th>bids_distance_3</th>\n      <th>bids_distance_4</th>\n      <th>...</th>\n      <th>asks_market_notional_5</th>\n      <th>asks_market_notional_6</th>\n      <th>asks_market_notional_7</th>\n      <th>asks_market_notional_8</th>\n      <th>asks_market_notional_9</th>\n      <th>asks_market_notional_10</th>\n      <th>asks_market_notional_11</th>\n      <th>asks_market_notional_12</th>\n      <th>asks_market_notional_13</th>\n      <th>asks_market_notional_14</th>\n    </tr>\n  </thead>\n  <tbody>\n    <tr>\n      <th>0</th>\n      <td>2021-04-13 10:44:00.423670+00:00</td>\n      <td>62541.695</td>\n      <td>9.15</td>\n      <td>5.787658e+05</td>\n      <td>106771.290598</td>\n      <td>-7.315120e-05</td>\n      <td>-7.331109e-05</td>\n      <td>-0.000073</td>\n      <td>-0.000074</td>\n      <td>-0.000139</td>\n      <td>...</td>\n      <td>0.0</td>\n      <td>0.0</td>\n      <td>0.0</td>\n      <td>0.0</td>\n      <td>233.169998</td>\n      <td>0.0</td>\n      <td>0.0</td>\n      <td>0.0</td>\n      <td>0.0</td>\n      <td>0.000000</td>\n    </tr>\n    <tr>\n      <th>1</th>\n      <td>2021-04-13 10:45:00.423670+00:00</td>\n      <td>62533.385</td>\n      <td>0.01</td>\n      <td>3.625578e+05</td>\n      <td>933043.632293</td>\n      <td>-7.995729e-08</td>\n      <td>-2.398719e-07</td>\n      <td>-0.000054</td>\n      <td>-0.000097</td>\n      <td>-0.000097</td>\n      <td>...</td>\n      <td>0.0</td>\n      <td>0.0</td>\n      <td>0.0</td>\n      <td>0.0</td>\n      <td>0.000000</td>\n      <td>0.0</td>\n      <td>0.0</td>\n      <td>0.0</td>\n      <td>0.0</td>\n      <td>0.000000</td>\n    </tr>\n    <tr>\n      <th>2</th>\n      <td>2021-04-13 10:46:00.423670+00:00</td>\n      <td>62600.005</td>\n      <td>0.01</td>\n      <td>1.293376e+06</td>\n      <td>162076.891581</td>\n      <td>-7.987220e-08</td>\n      <td>-1.465655e-04</td>\n      <td>-0.000148</td>\n      <td>-0.000159</td>\n      <td>-0.000199</td>\n      <td>...</td>\n      <td>0.0</td>\n      <td>0.0</td>\n      <td>0.0</td>\n      <td>0.0</td>\n      <td>0.000000</td>\n      <td>0.0</td>\n      <td>0.0</td>\n      <td>0.0</td>\n      <td>0.0</td>\n      <td>0.000000</td>\n    </tr>\n    <tr>\n      <th>3</th>\n      <td>2021-04-13 10:47:00.423670+00:00</td>\n      <td>62555.790</td>\n      <td>0.02</td>\n      <td>6.849401e+05</td>\n      <td>606836.562291</td>\n      <td>-1.598573e-07</td>\n      <td>-4.747762e-05</td>\n      <td>-0.000052</td>\n      <td>-0.000057</td>\n      <td>-0.000108</td>\n      <td>...</td>\n      <td>0.0</td>\n      <td>0.0</td>\n      <td>0.0</td>\n      <td>0.0</td>\n      <td>0.000000</td>\n      <td>0.0</td>\n      <td>0.0</td>\n      <td>0.0</td>\n      <td>0.0</td>\n      <td>191.479996</td>\n    </tr>\n    <tr>\n      <th>4</th>\n      <td>2021-04-13 10:48:00.423670+00:00</td>\n      <td>62555.785</td>\n      <td>0.01</td>\n      <td>2.627973e+05</td>\n      <td>806676.814266</td>\n      <td>-7.992866e-08</td>\n      <td>-1.078238e-04</td>\n      <td>-0.000138</td>\n      <td>-0.000206</td>\n      <td>-0.000298</td>\n      <td>...</td>\n      <td>0.0</td>\n      <td>0.0</td>\n      <td>0.0</td>\n      <td>0.0</td>\n      <td>0.000000</td>\n      <td>0.0</td>\n      <td>0.0</td>\n      <td>0.0</td>\n      <td>0.0</td>\n      <td>0.000000</td>\n    </tr>\n  </tbody>\n</table>\n<p>5 rows × 155 columns</p>\n</div>"
     },
     "execution_count": 7,
     "metadata": {},
     "output_type": "execute_result"
    }
   ],
   "source": [
    "valid_environment.df.head()"
   ],
   "metadata": {
    "collapsed": false,
    "pycharm": {
     "name": "#%%\n"
    }
   }
  },
  {
   "cell_type": "code",
   "execution_count": 8,
   "outputs": [
    {
     "data": {
      "text/plain": "                        system_time   midpoint  spread           buys  \\\n0  2021-04-17 00:38:00.281751+00:00  61357.035    0.01  297283.360397   \n1  2021-04-17 00:39:00.281751+00:00  61399.575    0.01  580371.169864   \n2  2021-04-17 00:40:00.281751+00:00  61319.665    0.05   70460.909745   \n3  2021-04-17 00:41:00.281751+00:00  61396.515    0.01  464370.628504   \n4  2021-04-17 00:42:00.281751+00:00  61331.785    0.01  215821.000056   \n\n           sells  bids_distance_0  bids_distance_1  bids_distance_2  \\\n0  131197.795034    -8.149025e-08        -0.000015        -0.000109   \n1  422586.530538    -8.143379e-08        -0.000044        -0.000052   \n2  128334.135492    -4.076996e-07        -0.000023        -0.000027   \n3  431485.596255    -8.143785e-08        -0.000225        -0.000241   \n4   47201.539144    -8.152379e-08        -0.000007        -0.000041   \n\n   bids_distance_3  bids_distance_4  ...  asks_market_notional_5  \\\n0        -0.000135        -0.000138  ...                     0.0   \n1        -0.000056        -0.000122  ...                     0.0   \n2        -0.000062        -0.000062  ...                     0.0   \n3        -0.000249        -0.000253  ...                     0.0   \n4        -0.000058        -0.000076  ...                     0.0   \n\n   asks_market_notional_6  asks_market_notional_7  asks_market_notional_8  \\\n0                     0.0                     0.0                     0.0   \n1                     0.0                     0.0                     0.0   \n2                     0.0                     0.0                     0.0   \n3                     0.0                     0.0                     0.0   \n4                     0.0                     0.0                     0.0   \n\n   asks_market_notional_9  asks_market_notional_10  asks_market_notional_11  \\\n0                     0.0                      0.0                      0.0   \n1                     0.0                      0.0                      0.0   \n2                     0.0                      0.0                      0.0   \n3                     0.0                      0.0                      0.0   \n4                     0.0                      0.0                      0.0   \n\n   asks_market_notional_12  asks_market_notional_13  asks_market_notional_14  \n0                      0.0                      0.0                      0.0  \n1                      0.0                      0.0                      0.0  \n2                      0.0                      0.0                      0.0  \n3                      0.0                      0.0                      0.0  \n4                      0.0                      0.0                      0.0  \n\n[5 rows x 155 columns]",
      "text/html": "<div>\n<style scoped>\n    .dataframe tbody tr th:only-of-type {\n        vertical-align: middle;\n    }\n\n    .dataframe tbody tr th {\n        vertical-align: top;\n    }\n\n    .dataframe thead th {\n        text-align: right;\n    }\n</style>\n<table border=\"1\" class=\"dataframe\">\n  <thead>\n    <tr style=\"text-align: right;\">\n      <th></th>\n      <th>system_time</th>\n      <th>midpoint</th>\n      <th>spread</th>\n      <th>buys</th>\n      <th>sells</th>\n      <th>bids_distance_0</th>\n      <th>bids_distance_1</th>\n      <th>bids_distance_2</th>\n      <th>bids_distance_3</th>\n      <th>bids_distance_4</th>\n      <th>...</th>\n      <th>asks_market_notional_5</th>\n      <th>asks_market_notional_6</th>\n      <th>asks_market_notional_7</th>\n      <th>asks_market_notional_8</th>\n      <th>asks_market_notional_9</th>\n      <th>asks_market_notional_10</th>\n      <th>asks_market_notional_11</th>\n      <th>asks_market_notional_12</th>\n      <th>asks_market_notional_13</th>\n      <th>asks_market_notional_14</th>\n    </tr>\n  </thead>\n  <tbody>\n    <tr>\n      <th>0</th>\n      <td>2021-04-17 00:38:00.281751+00:00</td>\n      <td>61357.035</td>\n      <td>0.01</td>\n      <td>297283.360397</td>\n      <td>131197.795034</td>\n      <td>-8.149025e-08</td>\n      <td>-0.000015</td>\n      <td>-0.000109</td>\n      <td>-0.000135</td>\n      <td>-0.000138</td>\n      <td>...</td>\n      <td>0.0</td>\n      <td>0.0</td>\n      <td>0.0</td>\n      <td>0.0</td>\n      <td>0.0</td>\n      <td>0.0</td>\n      <td>0.0</td>\n      <td>0.0</td>\n      <td>0.0</td>\n      <td>0.0</td>\n    </tr>\n    <tr>\n      <th>1</th>\n      <td>2021-04-17 00:39:00.281751+00:00</td>\n      <td>61399.575</td>\n      <td>0.01</td>\n      <td>580371.169864</td>\n      <td>422586.530538</td>\n      <td>-8.143379e-08</td>\n      <td>-0.000044</td>\n      <td>-0.000052</td>\n      <td>-0.000056</td>\n      <td>-0.000122</td>\n      <td>...</td>\n      <td>0.0</td>\n      <td>0.0</td>\n      <td>0.0</td>\n      <td>0.0</td>\n      <td>0.0</td>\n      <td>0.0</td>\n      <td>0.0</td>\n      <td>0.0</td>\n      <td>0.0</td>\n      <td>0.0</td>\n    </tr>\n    <tr>\n      <th>2</th>\n      <td>2021-04-17 00:40:00.281751+00:00</td>\n      <td>61319.665</td>\n      <td>0.05</td>\n      <td>70460.909745</td>\n      <td>128334.135492</td>\n      <td>-4.076996e-07</td>\n      <td>-0.000023</td>\n      <td>-0.000027</td>\n      <td>-0.000062</td>\n      <td>-0.000062</td>\n      <td>...</td>\n      <td>0.0</td>\n      <td>0.0</td>\n      <td>0.0</td>\n      <td>0.0</td>\n      <td>0.0</td>\n      <td>0.0</td>\n      <td>0.0</td>\n      <td>0.0</td>\n      <td>0.0</td>\n      <td>0.0</td>\n    </tr>\n    <tr>\n      <th>3</th>\n      <td>2021-04-17 00:41:00.281751+00:00</td>\n      <td>61396.515</td>\n      <td>0.01</td>\n      <td>464370.628504</td>\n      <td>431485.596255</td>\n      <td>-8.143785e-08</td>\n      <td>-0.000225</td>\n      <td>-0.000241</td>\n      <td>-0.000249</td>\n      <td>-0.000253</td>\n      <td>...</td>\n      <td>0.0</td>\n      <td>0.0</td>\n      <td>0.0</td>\n      <td>0.0</td>\n      <td>0.0</td>\n      <td>0.0</td>\n      <td>0.0</td>\n      <td>0.0</td>\n      <td>0.0</td>\n      <td>0.0</td>\n    </tr>\n    <tr>\n      <th>4</th>\n      <td>2021-04-17 00:42:00.281751+00:00</td>\n      <td>61331.785</td>\n      <td>0.01</td>\n      <td>215821.000056</td>\n      <td>47201.539144</td>\n      <td>-8.152379e-08</td>\n      <td>-0.000007</td>\n      <td>-0.000041</td>\n      <td>-0.000058</td>\n      <td>-0.000076</td>\n      <td>...</td>\n      <td>0.0</td>\n      <td>0.0</td>\n      <td>0.0</td>\n      <td>0.0</td>\n      <td>0.0</td>\n      <td>0.0</td>\n      <td>0.0</td>\n      <td>0.0</td>\n      <td>0.0</td>\n      <td>0.0</td>\n    </tr>\n  </tbody>\n</table>\n<p>5 rows × 155 columns</p>\n</div>"
     },
     "execution_count": 8,
     "metadata": {},
     "output_type": "execute_result"
    }
   ],
   "source": [
    "test_environment.df.head()"
   ],
   "metadata": {
    "collapsed": false,
    "pycharm": {
     "name": "#%%\n"
    }
   }
  },
  {
   "cell_type": "markdown",
   "source": [
    "## Step5: Build Net"
   ],
   "metadata": {
    "collapsed": false
   }
  },
  {
   "cell_type": "code",
   "execution_count": 9,
   "outputs": [],
   "source": [
    "action_dim = train_environment.action_dim\n",
    "state_dim = train_environment.state_dim\n",
    "\n",
    "cfg.act.update(dict(action_dim=action_dim, state_dim=state_dim))\n",
    "cfg.cri.update(dict(action_dim=action_dim, state_dim=state_dim))\n",
    "\n",
    "act = build_net(cfg.act)\n",
    "cri = build_net(cfg.cri)"
   ],
   "metadata": {
    "collapsed": false
   }
  },
  {
   "cell_type": "markdown",
   "source": [
    "## Step6: Build Optimizer"
   ],
   "metadata": {
    "collapsed": false
   }
  },
  {
   "cell_type": "code",
   "execution_count": 10,
   "outputs": [],
   "source": [
    "act_optimizer = build_optimizer(cfg, default_args=dict(params=act.parameters()))\n",
    "cri_optimizer = None"
   ],
   "metadata": {
    "collapsed": false
   }
  },
  {
   "cell_type": "markdown",
   "source": [
    "## Step7: Build Loss"
   ],
   "metadata": {
    "collapsed": false
   }
  },
  {
   "cell_type": "code",
   "execution_count": 11,
   "outputs": [],
   "source": [
    "criterion = build_loss(cfg)"
   ],
   "metadata": {
    "collapsed": false
   }
  },
  {
   "cell_type": "markdown",
   "source": [
    "## Step8: Build Transition"
   ],
   "metadata": {
    "collapsed": false
   }
  },
  {
   "cell_type": "code",
   "execution_count": 12,
   "outputs": [],
   "source": [
    "transition = build_transition(cfg)"
   ],
   "metadata": {
    "collapsed": false
   }
  },
  {
   "cell_type": "markdown",
   "source": [
    "## Step9: Build Agent"
   ],
   "metadata": {
    "collapsed": false
   }
  },
  {
   "cell_type": "code",
   "execution_count": 13,
   "outputs": [],
   "source": [
    "agent = build_agent(cfg, default_args=dict(action_dim=action_dim,state_dim=state_dim,act=act,cri=cri,act_optimizer=act_optimizer,cri_optimizer=cri_optimizer,criterion=criterion,transition=transition,device=device))"
   ],
   "metadata": {
    "collapsed": false
   }
  },
  {
   "cell_type": "markdown",
   "source": [
    "## Step10: Build Trainer"
   ],
   "metadata": {
    "collapsed": false
   }
  },
  {
   "cell_type": "code",
   "execution_count": 14,
   "outputs": [
    {
     "name": "stdout",
     "output_type": "stream",
     "text": [
      "| Arguments Keep work_dir: E:\\workspace\\RA\\TradeMaster\\work_dir/order_execution_BTC_eteo_eteo_adam_mse\n"
     ]
    }
   ],
   "source": [
    "trainer = build_trainer(cfg, default_args=dict(train_environment=train_environment,valid_environment=valid_environment,test_environment=test_environment,agent=agent,device=device))"
   ],
   "metadata": {
    "collapsed": false
   }
  },
  {
   "cell_type": "markdown",
   "source": [
    "## Step11: Train, Valid and Test"
   ],
   "metadata": {
    "collapsed": false
   }
  },
  {
   "cell_type": "code",
   "execution_count": 15,
   "outputs": [
    {
     "name": "stdout",
     "output_type": "stream",
     "text": [
      "Train Episode: [1/10]\n",
      "+--------------+--------------+-----------------+\n",
      "|  Cash Left   |     TWAP     | Cash Left Ratio |\n",
      "+--------------+--------------+-----------------+\n",
      "| 48950.975103 | 37461.153500 |    30.671297%   |\n",
      "+--------------+--------------+-----------------+\n",
      "Valid Episode: [1/10]\n",
      "+--------------+--------------+-----------------+\n",
      "|  Cash Left   |     TWAP     | Cash Left Ratio |\n",
      "+--------------+--------------+-----------------+\n",
      "| 36578.324606 | 38610.495450 |    -5.263260%   |\n",
      "+--------------+--------------+-----------------+\n",
      "Train Episode: [2/10]\n",
      "+--------------+--------------+-----------------+\n",
      "|  Cash Left   |     TWAP     | Cash Left Ratio |\n",
      "+--------------+--------------+-----------------+\n",
      "| 49264.609981 | 37461.153500 |    31.508524%   |\n",
      "+--------------+--------------+-----------------+\n",
      "Valid Episode: [2/10]\n",
      "+--------------+--------------+-----------------+\n",
      "|  Cash Left   |     TWAP     | Cash Left Ratio |\n",
      "+--------------+--------------+-----------------+\n",
      "| 36582.345316 | 38610.495450 |    -5.252847%   |\n",
      "+--------------+--------------+-----------------+\n",
      "Train Episode: [3/10]\n",
      "+--------------+--------------+-----------------+\n",
      "|  Cash Left   |     TWAP     | Cash Left Ratio |\n",
      "+--------------+--------------+-----------------+\n",
      "| 49344.782470 | 37461.153500 |    31.722539%   |\n",
      "+--------------+--------------+-----------------+\n",
      "Valid Episode: [3/10]\n",
      "+--------------+--------------+-----------------+\n",
      "|  Cash Left   |     TWAP     | Cash Left Ratio |\n",
      "+--------------+--------------+-----------------+\n",
      "| 36556.690796 | 38610.495450 |    -5.319291%   |\n",
      "+--------------+--------------+-----------------+\n",
      "Train Episode: [4/10]\n",
      "+--------------+--------------+-----------------+\n",
      "|  Cash Left   |     TWAP     | Cash Left Ratio |\n",
      "+--------------+--------------+-----------------+\n",
      "| 49239.677904 | 37461.153500 |    31.441969%   |\n",
      "+--------------+--------------+-----------------+\n",
      "Valid Episode: [4/10]\n",
      "+--------------+--------------+-----------------+\n",
      "|  Cash Left   |     TWAP     | Cash Left Ratio |\n",
      "+--------------+--------------+-----------------+\n",
      "| 36590.664350 | 38610.495450 |    -5.231301%   |\n",
      "+--------------+--------------+-----------------+\n",
      "Train Episode: [5/10]\n",
      "+--------------+--------------+-----------------+\n",
      "|  Cash Left   |     TWAP     | Cash Left Ratio |\n",
      "+--------------+--------------+-----------------+\n",
      "| 49276.588912 | 37461.153500 |    31.540501%   |\n",
      "+--------------+--------------+-----------------+\n",
      "Valid Episode: [5/10]\n",
      "+--------------+--------------+-----------------+\n",
      "|  Cash Left   |     TWAP     | Cash Left Ratio |\n",
      "+--------------+--------------+-----------------+\n",
      "| 36590.664350 | 38610.495450 |    -5.231301%   |\n",
      "+--------------+--------------+-----------------+\n",
      "Train Episode: [6/10]\n",
      "+--------------+--------------+-----------------+\n",
      "|  Cash Left   |     TWAP     | Cash Left Ratio |\n",
      "+--------------+--------------+-----------------+\n",
      "| 49105.234148 | 37461.153500 |    31.083081%   |\n",
      "+--------------+--------------+-----------------+\n",
      "Valid Episode: [6/10]\n",
      "+--------------+--------------+-----------------+\n",
      "|  Cash Left   |     TWAP     | Cash Left Ratio |\n",
      "+--------------+--------------+-----------------+\n",
      "| 36590.664350 | 38610.495450 |    -5.231301%   |\n",
      "+--------------+--------------+-----------------+\n",
      "Train Episode: [7/10]\n",
      "+--------------+--------------+-----------------+\n",
      "|  Cash Left   |     TWAP     | Cash Left Ratio |\n",
      "+--------------+--------------+-----------------+\n",
      "| 49280.111029 | 37461.153500 |    31.549903%   |\n",
      "+--------------+--------------+-----------------+\n",
      "Valid Episode: [7/10]\n",
      "+--------------+--------------+-----------------+\n",
      "|  Cash Left   |     TWAP     | Cash Left Ratio |\n",
      "+--------------+--------------+-----------------+\n",
      "| 36536.108234 | 38610.495450 |    -5.372599%   |\n",
      "+--------------+--------------+-----------------+\n",
      "Train Episode: [8/10]\n",
      "+--------------+--------------+-----------------+\n",
      "|  Cash Left   |     TWAP     | Cash Left Ratio |\n",
      "+--------------+--------------+-----------------+\n",
      "| 49326.254852 | 37461.153500 |    31.673081%   |\n",
      "+--------------+--------------+-----------------+\n",
      "Valid Episode: [8/10]\n",
      "+--------------+--------------+-----------------+\n",
      "|  Cash Left   |     TWAP     | Cash Left Ratio |\n",
      "+--------------+--------------+-----------------+\n",
      "| 36590.664350 | 38610.495450 |    -5.231301%   |\n",
      "+--------------+--------------+-----------------+\n",
      "Train Episode: [9/10]\n",
      "+--------------+--------------+-----------------+\n",
      "|  Cash Left   |     TWAP     | Cash Left Ratio |\n",
      "+--------------+--------------+-----------------+\n",
      "| 49323.042459 | 37461.153500 |    31.664505%   |\n",
      "+--------------+--------------+-----------------+\n",
      "Valid Episode: [9/10]\n",
      "+--------------+--------------+-----------------+\n",
      "|  Cash Left   |     TWAP     | Cash Left Ratio |\n",
      "+--------------+--------------+-----------------+\n",
      "| 36590.664350 | 38610.495450 |    -5.231301%   |\n",
      "+--------------+--------------+-----------------+\n",
      "Train Episode: [10/10]\n",
      "+--------------+--------------+-----------------+\n",
      "|  Cash Left   |     TWAP     | Cash Left Ratio |\n",
      "+--------------+--------------+-----------------+\n",
      "| 49308.264702 | 37461.153500 |    31.625057%   |\n",
      "+--------------+--------------+-----------------+\n",
      "Valid Episode: [10/10]\n",
      "+--------------+--------------+-----------------+\n",
      "|  Cash Left   |     TWAP     | Cash Left Ratio |\n",
      "+--------------+--------------+-----------------+\n",
      "| 36590.664350 | 38610.495450 |    -5.231301%   |\n",
      "+--------------+--------------+-----------------+\n"
     ]
    }
   ],
   "source": [
    "trainer.train_and_valid()"
   ],
   "metadata": {
    "collapsed": false
   }
  },
  {
   "cell_type": "code",
   "execution_count": 16,
   "outputs": [
    {
     "name": "stdout",
     "output_type": "stream",
     "text": [
      "Resume checkpoint E:\\workspace\\RA\\TradeMaster\\work_dir/order_execution_BTC_eteo_eteo_adam_mse\\checkpoints\\best.pth\n",
      "Test Best Episode\n",
      "+--------------+--------------+-----------------+\n",
      "|  Cash Left   |     TWAP     | Cash Left Ratio |\n",
      "+--------------+--------------+-----------------+\n",
      "| 36590.664350 | 38610.495450 |    -5.231301%   |\n",
      "+--------------+--------------+-----------------+\n"
     ]
    },
    {
     "data": {
      "text/plain": "0"
     },
     "execution_count": 16,
     "metadata": {},
     "output_type": "execute_result"
    }
   ],
   "source": [
    "trainer.test()\n"
   ],
   "metadata": {
    "collapsed": false,
    "pycharm": {
     "name": "#%%\n"
    }
   }
  }
 ],
 "metadata": {
  "kernelspec": {
   "name": "pycharm-5c427241",
   "language": "python",
   "display_name": "PyCharm (TradeMaster)"
  },
  "language_info": {
   "codemirror_mode": {
    "name": "ipython",
    "version": 2
   },
   "file_extension": ".py",
   "mimetype": "text/x-python",
   "name": "python",
   "nbconvert_exporter": "python",
   "pygments_lexer": "ipython2",
   "version": "2.7.6"
  }
 },
 "nbformat": 4,
 "nbformat_minor": 0
}