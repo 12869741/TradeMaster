{
 "cells": [
  {
   "cell_type": "markdown",
   "metadata": {
    "collapsed": false
   },
   "source": [
    "# PPO for Portfolio Management\n",
    "This tutorial is to demonstrate an example of using PPO to do portfolio management"
   ]
  },
  {
   "cell_type": "markdown",
   "metadata": {
    "collapsed": false
   },
   "source": [
    "## Step1: Import Packages"
   ]
  },
  {
   "cell_type": "code",
   "execution_count": 2,
   "metadata": {
    "collapsed": false
   },
   "outputs": [],
   "source": [
    "\n",
    "import warnings\n",
    "warnings.filterwarnings(\"ignore\")\n",
    "import sys\n",
    "from pathlib import Path\n",
    "import os\n",
    "import torch\n",
    "\n",
    "ROOT = os.path.dirname(os.path.abspath(\".\"))\n",
    "sys.path.append(ROOT)\n",
    "\n",
    "import argparse\n",
    "import os.path as osp\n",
    "from mmcv import Config\n",
    "from trademaster.utils import replace_cfg_vals\n",
    "from trademaster.nets.builder import build_net\n",
    "from trademaster.environments.builder import build_environment\n",
    "from trademaster.datasets.builder import build_dataset\n",
    "from trademaster.agents.builder import build_agent\n",
    "from trademaster.optimizers.builder import build_optimizer\n",
    "from trademaster.losses.builder import build_loss\n",
    "from trademaster.trainers.builder import build_trainer"
   ]
  },
  {
   "cell_type": "markdown",
   "metadata": {
    "collapsed": false
   },
   "source": [
    "## Step2: Import Configs"
   ]
  },
  {
   "cell_type": "code",
   "execution_count": 3,
   "metadata": {
    "collapsed": false
   },
   "outputs": [],
   "source": [
    "parser = argparse.ArgumentParser(description='Download Alpaca Datasets')\n",
    "parser.add_argument(\"--config\", default=osp.join(ROOT, \"configs\", \"portfolio_management\", \"portfolio_management_exchange_ppo_ppo_adam_mse.py\"),\n",
    "                    help=\"download datasets config file path\")\n",
    "parser.add_argument(\"--task_name\", type=str, default=\"train\")\n",
    "args, _ = parser.parse_known_args()\n",
    "\n",
    "cfg = Config.fromfile(args.config)\n",
    "task_name = args.task_name\n",
    "cfg = replace_cfg_vals(cfg)\n"
   ]
  },
  {
   "cell_type": "markdown",
   "metadata": {
    "collapsed": false
   },
   "source": [
    "## Step3: Build Dataset"
   ]
  },
  {
   "cell_type": "code",
   "execution_count": 4,
   "metadata": {
    "collapsed": false
   },
   "outputs": [],
   "source": [
    "dataset = build_dataset(cfg)\n"
   ]
  },
  {
   "cell_type": "markdown",
   "metadata": {
    "collapsed": false
   },
   "source": [
    "## Step4: Build Trainer"
   ]
  },
  {
   "cell_type": "code",
   "execution_count": 5,
   "metadata": {
    "collapsed": false
   },
   "outputs": [
    {
     "name": "stdout",
     "output_type": "stream",
     "text": [
      "| Arguments Keep work_dir: E:\\workspace\\RA\\TradeMaster\\work_dir/portfolio_management_exchange_ppo_ppo_adam_mse\n"
     ]
    }
   ],
   "source": [
    "device = torch.device('cuda' if torch.cuda.is_available() else 'cpu')\n",
    "work_dir = os.path.join(ROOT, cfg.trainer.work_dir)\n",
    "\n",
    "if not os.path.exists(work_dir):\n",
    "    os.makedirs(work_dir)\n",
    "cfg.dump(osp.join(work_dir, osp.basename(args.config)))\n",
    "\n",
    "trainer = build_trainer(cfg, default_args=dict(dataset=dataset, device = device))"
   ]
  },
  {
   "cell_type": "markdown",
   "metadata": {
    "collapsed": false
   },
   "source": [
    "## Step5: Train, Valid and Test"
   ]
  },
  {
   "cell_type": "code",
   "execution_count": 6,
   "metadata": {
    "collapsed": false
   },
   "outputs": [
    {
     "name": "stderr",
     "output_type": "stream",
     "text": [
      "2023-02-28 01:08:34,116\tINFO trainer.py:2321 -- Executing eagerly (framework='tf2'), with eager_tracing=False. For production workloads, make sure to set eager_tracing=True  in order to match the speed of tf-static-graph (framework='tf'). For debugging purposes, `eager_tracing=False` is the best choice.\n",
      "2023-02-28 01:08:34,117\tINFO trainer.py:903 -- Current log_level is WARN. For more information, set 'log_level': 'INFO' / 'DEBUG' or use the -v and -vv flags.\n",
      "\u001B[2m\u001B[36m(RolloutWorker pid=20440)\u001B[0m D:\\ProgramData\\Anaconda3\\envs\\python3.9\\lib\\site-packages\\mmcv\\__init__.py:20: UserWarning: On January 1, 2023, MMCV will release v2.0.0, in which it will remove components related to the training process and add a data transformation module. In addition, it will rename the package names mmcv to mmcv-lite and mmcv-full to mmcv. See https://github.com/open-mmlab/mmcv/blob/master/docs/en/compatibility.md for more details.\n",
      "\u001B[2m\u001B[36m(RolloutWorker pid=20440)\u001B[0m   warnings.warn(\n",
      "\u001B[2m\u001B[36m(RolloutWorker pid=19936)\u001B[0m D:\\ProgramData\\Anaconda3\\envs\\python3.9\\lib\\site-packages\\mmcv\\__init__.py:20: UserWarning: On January 1, 2023, MMCV will release v2.0.0, in which it will remove components related to the training process and add a data transformation module. In addition, it will rename the package names mmcv to mmcv-lite and mmcv-full to mmcv. See https://github.com/open-mmlab/mmcv/blob/master/docs/en/compatibility.md for more details.\n",
      "\u001B[2m\u001B[36m(RolloutWorker pid=19936)\u001B[0m   warnings.warn(\n",
      "\u001B[2m\u001B[36m(RolloutWorker pid=20440)\u001B[0m 2023-02-28 01:08:45,679\tWARNING env.py:135 -- Your env doesn't have a .spec.max_episode_steps attribute. This is fine if you have set 'horizon' in your config dictionary, or `soft_horizon`. However, if you haven't, 'horizon' will default to infinity, and your environment will not be reset.\n",
      "\u001B[2m\u001B[36m(RolloutWorker pid=19936)\u001B[0m 2023-02-28 01:08:45,700\tWARNING env.py:135 -- Your env doesn't have a .spec.max_episode_steps attribute. This is fine if you have set 'horizon' in your config dictionary, or `soft_horizon`. However, if you haven't, 'horizon' will default to infinity, and your environment will not be reset.\n",
      "2023-02-28 01:08:46,207\tINFO trainable.py:159 -- Trainable.setup took 12.093 seconds. If your trainable is slow to initialize, consider setting reuse_actors=True to reduce actor creation overheads.\n",
      "2023-02-28 01:08:46,211\tWARNING util.py:65 -- Install gputil for GPU system monitoring.\n"
     ]
    },
    {
     "name": "stdout",
     "output_type": "stream",
     "text": [
      "Train Episode: [1/20]\n"
     ]
    },
    {
     "name": "stderr",
     "output_type": "stream",
     "text": [
      "2023-02-28 01:09:09,690\tWARNING deprecation.py:46 -- DeprecationWarning: `_get_slice_indices` has been deprecated. This will raise an error in the future!\n",
      "2023-02-28 01:09:09,691\tWARNING deprecation.py:46 -- DeprecationWarning: `slice` has been deprecated. Use `SampleBatch[start:stop]` instead. This will raise an error in the future!\n"
     ]
    },
    {
     "name": "stdout",
     "output_type": "stream",
     "text": [
      "Valid Episode: [1/20]\n",
      "+--------------+-------------+------------+--------------+\n",
      "| Total Return | Sharp Ratio | Volatility | Max Drawdown |\n",
      "+--------------+-------------+------------+--------------+\n",
      "| -49.961655%  |  -90.971991 | 0.389892%  |  50.212797%  |\n",
      "+--------------+-------------+------------+--------------+\n",
      "Train Episode: [2/20]\n",
      "Valid Episode: [2/20]\n",
      "+--------------+-------------+------------+--------------+\n",
      "| Total Return | Sharp Ratio | Volatility | Max Drawdown |\n",
      "+--------------+-------------+------------+--------------+\n",
      "| -50.680183%  |  -94.262338 | 0.381694%  |  50.931566%  |\n",
      "+--------------+-------------+------------+--------------+\n",
      "Train Episode: [3/20]\n",
      "\u001B[2m\u001B[36m(RolloutWorker pid=20440)\u001B[0m +--------------+-------------+------------+--------------+\n",
      "\u001B[2m\u001B[36m(RolloutWorker pid=20440)\u001B[0m | Total Return | Sharp Ratio | Volatility | Max Drawdown |\n",
      "\u001B[2m\u001B[36m(RolloutWorker pid=20440)\u001B[0m +--------------+-------------+------------+--------------+\n",
      "\u001B[2m\u001B[36m(RolloutWorker pid=20440)\u001B[0m | -99.838413%  |  -62.103237 | 0.402705%  |  99.838413%  |\n",
      "\u001B[2m\u001B[36m(RolloutWorker pid=20440)\u001B[0m +--------------+-------------+------------+--------------+\n",
      "\u001B[2m\u001B[36m(RolloutWorker pid=19936)\u001B[0m +--------------+-------------+------------+--------------+\n",
      "\u001B[2m\u001B[36m(RolloutWorker pid=19936)\u001B[0m | Total Return | Sharp Ratio | Volatility | Max Drawdown |\n",
      "\u001B[2m\u001B[36m(RolloutWorker pid=19936)\u001B[0m +--------------+-------------+------------+--------------+\n",
      "\u001B[2m\u001B[36m(RolloutWorker pid=19936)\u001B[0m | -99.811345%  |  -61.243639 | 0.408246%  |  99.811345%  |\n",
      "\u001B[2m\u001B[36m(RolloutWorker pid=19936)\u001B[0m +--------------+-------------+------------+--------------+\n",
      "Valid Episode: [3/20]\n",
      "+--------------+-------------+------------+--------------+\n",
      "| Total Return | Sharp Ratio | Volatility | Max Drawdown |\n",
      "+--------------+-------------+------------+--------------+\n",
      "| -49.999555%  |  -97.248101 | 0.365006%  |  50.180270%  |\n",
      "+--------------+-------------+------------+--------------+\n",
      "Train Episode: [4/20]\n",
      "Valid Episode: [4/20]\n",
      "+--------------+-------------+------------+--------------+\n",
      "| Total Return | Sharp Ratio | Volatility | Max Drawdown |\n",
      "+--------------+-------------+------------+--------------+\n",
      "| -49.891524%  |  -85.629550 | 0.413636%  |  49.964745%  |\n",
      "+--------------+-------------+------------+--------------+\n",
      "Train Episode: [5/20]\n",
      "\u001B[2m\u001B[36m(RolloutWorker pid=20440)\u001B[0m +--------------+-------------+------------+--------------+\n",
      "\u001B[2m\u001B[36m(RolloutWorker pid=20440)\u001B[0m | Total Return | Sharp Ratio | Volatility | Max Drawdown |\n",
      "\u001B[2m\u001B[36m(RolloutWorker pid=20440)\u001B[0m +--------------+-------------+------------+--------------+\n",
      "\u001B[2m\u001B[36m(RolloutWorker pid=20440)\u001B[0m | -99.822190%  |  -63.636691 | 0.392937%  |  99.822190%  |\n",
      "\u001B[2m\u001B[36m(RolloutWorker pid=20440)\u001B[0m +--------------+-------------+------------+--------------+\n",
      "\u001B[2m\u001B[36m(RolloutWorker pid=19936)\u001B[0m +--------------+-------------+------------+--------------+\n",
      "\u001B[2m\u001B[36m(RolloutWorker pid=19936)\u001B[0m | Total Return | Sharp Ratio | Volatility | Max Drawdown |\n",
      "\u001B[2m\u001B[36m(RolloutWorker pid=19936)\u001B[0m +--------------+-------------+------------+--------------+\n",
      "\u001B[2m\u001B[36m(RolloutWorker pid=19936)\u001B[0m | -99.851486%  |  -60.977966 | 0.410190%  |  99.851486%  |\n",
      "\u001B[2m\u001B[36m(RolloutWorker pid=19936)\u001B[0m +--------------+-------------+------------+--------------+\n",
      "Valid Episode: [5/20]\n",
      "+--------------+-------------+------------+--------------+\n",
      "| Total Return | Sharp Ratio | Volatility | Max Drawdown |\n",
      "+--------------+-------------+------------+--------------+\n",
      "| -56.179668%  |  -96.967351 | 0.411310%  |  56.253699%  |\n",
      "+--------------+-------------+------------+--------------+\n",
      "Train Episode: [6/20]\n",
      "Valid Episode: [6/20]\n",
      "+--------------+-------------+------------+--------------+\n",
      "| Total Return | Sharp Ratio | Volatility | Max Drawdown |\n",
      "+--------------+-------------+------------+--------------+\n",
      "| -48.753864%  |  -92.537016 | 0.374032%  |  49.237442%  |\n",
      "+--------------+-------------+------------+--------------+\n",
      "Train Episode: [7/20]\n",
      "\u001B[2m\u001B[36m(RolloutWorker pid=20440)\u001B[0m +--------------+-------------+------------+--------------+\n",
      "\u001B[2m\u001B[36m(RolloutWorker pid=20440)\u001B[0m | Total Return | Sharp Ratio | Volatility | Max Drawdown |\n",
      "\u001B[2m\u001B[36m(RolloutWorker pid=20440)\u001B[0m +--------------+-------------+------------+--------------+\n",
      "\u001B[2m\u001B[36m(RolloutWorker pid=20440)\u001B[0m | -99.849212%  |  -60.990676 | 0.410095%  |  99.849430%  |\n",
      "\u001B[2m\u001B[36m(RolloutWorker pid=20440)\u001B[0m +--------------+-------------+------------+--------------+\n",
      "\u001B[2m\u001B[36m(RolloutWorker pid=19936)\u001B[0m +--------------+-------------+------------+--------------+\n",
      "\u001B[2m\u001B[36m(RolloutWorker pid=19936)\u001B[0m | Total Return | Sharp Ratio | Volatility | Max Drawdown |\n",
      "\u001B[2m\u001B[36m(RolloutWorker pid=19936)\u001B[0m +--------------+-------------+------------+--------------+\n",
      "\u001B[2m\u001B[36m(RolloutWorker pid=19936)\u001B[0m | -99.850958%  |  -62.021835 | 0.403284%  |  99.851007%  |\n",
      "\u001B[2m\u001B[36m(RolloutWorker pid=19936)\u001B[0m +--------------+-------------+------------+--------------+\n",
      "Valid Episode: [7/20]\n",
      "+--------------+-------------+------------+--------------+\n",
      "| Total Return | Sharp Ratio | Volatility | Max Drawdown |\n",
      "+--------------+-------------+------------+--------------+\n",
      "| -48.378563%  |  -86.879547 | 0.395322%  |  48.804732%  |\n",
      "+--------------+-------------+------------+--------------+\n",
      "Train Episode: [8/20]\n",
      "Valid Episode: [8/20]\n",
      "+--------------+-------------+------------+--------------+\n",
      "| Total Return | Sharp Ratio | Volatility | Max Drawdown |\n",
      "+--------------+-------------+------------+--------------+\n",
      "| -51.701842%  |  -93.924823 | 0.390788%  |  51.855747%  |\n",
      "+--------------+-------------+------------+--------------+\n",
      "Train Episode: [9/20]\n",
      "\u001B[2m\u001B[36m(RolloutWorker pid=20440)\u001B[0m +--------------+-------------+------------+--------------+\n",
      "\u001B[2m\u001B[36m(RolloutWorker pid=20440)\u001B[0m | Total Return | Sharp Ratio | Volatility | Max Drawdown |\n",
      "\u001B[2m\u001B[36m(RolloutWorker pid=20440)\u001B[0m +--------------+-------------+------------+--------------+\n",
      "\u001B[2m\u001B[36m(RolloutWorker pid=20440)\u001B[0m | -99.814571%  |  -61.326885 | 0.407705%  |  99.814571%  |\n",
      "\u001B[2m\u001B[36m(RolloutWorker pid=20440)\u001B[0m +--------------+-------------+------------+--------------+\n",
      "\u001B[2m\u001B[36m(RolloutWorker pid=19936)\u001B[0m +--------------+-------------+------------+--------------+\n",
      "\u001B[2m\u001B[36m(RolloutWorker pid=19936)\u001B[0m | Total Return | Sharp Ratio | Volatility | Max Drawdown |\n",
      "\u001B[2m\u001B[36m(RolloutWorker pid=19936)\u001B[0m +--------------+-------------+------------+--------------+\n",
      "\u001B[2m\u001B[36m(RolloutWorker pid=19936)\u001B[0m | -99.814617%  |  -61.682358 | 0.405356%  |  99.814664%  |\n",
      "\u001B[2m\u001B[36m(RolloutWorker pid=19936)\u001B[0m +--------------+-------------+------------+--------------+\n",
      "Valid Episode: [9/20]\n",
      "+--------------+-------------+------------+--------------+\n",
      "| Total Return | Sharp Ratio | Volatility | Max Drawdown |\n",
      "+--------------+-------------+------------+--------------+\n",
      "| -49.530693%  |  -91.948205 | 0.382425%  |  49.811811%  |\n",
      "+--------------+-------------+------------+--------------+\n",
      "Train Episode: [10/20]\n",
      "Valid Episode: [10/20]\n",
      "+--------------+-------------+------------+--------------+\n",
      "| Total Return | Sharp Ratio | Volatility | Max Drawdown |\n",
      "+--------------+-------------+------------+--------------+\n",
      "| -52.780024%  |  -97.676305 | 0.383615%  |  53.232871%  |\n",
      "+--------------+-------------+------------+--------------+\n",
      "Train Episode: [11/20]\n",
      "\u001B[2m\u001B[36m(RolloutWorker pid=20440)\u001B[0m +--------------+-------------+------------+--------------+\n",
      "\u001B[2m\u001B[36m(RolloutWorker pid=20440)\u001B[0m | Total Return | Sharp Ratio | Volatility | Max Drawdown |\n",
      "\u001B[2m\u001B[36m(RolloutWorker pid=20440)\u001B[0m +--------------+-------------+------------+--------------+\n",
      "\u001B[2m\u001B[36m(RolloutWorker pid=20440)\u001B[0m | -99.819367%  |  -60.974386 | 0.410082%  |  99.819367%  |\n",
      "\u001B[2m\u001B[36m(RolloutWorker pid=20440)\u001B[0m +--------------+-------------+------------+--------------+\n",
      "\u001B[2m\u001B[36m(RolloutWorker pid=19936)\u001B[0m +--------------+-------------+------------+--------------+\n",
      "\u001B[2m\u001B[36m(RolloutWorker pid=19936)\u001B[0m | Total Return | Sharp Ratio | Volatility | Max Drawdown |\n",
      "\u001B[2m\u001B[36m(RolloutWorker pid=19936)\u001B[0m +--------------+-------------+------------+--------------+\n",
      "\u001B[2m\u001B[36m(RolloutWorker pid=19936)\u001B[0m | -99.799971%  |  -62.016183 | 0.403115%  |  99.800148%  |\n",
      "\u001B[2m\u001B[36m(RolloutWorker pid=19936)\u001B[0m +--------------+-------------+------------+--------------+\n",
      "Valid Episode: [11/20]\n",
      "+--------------+-------------+------------+--------------+\n",
      "| Total Return | Sharp Ratio | Volatility | Max Drawdown |\n",
      "+--------------+-------------+------------+--------------+\n",
      "| -49.280656%  |  -87.365613 | 0.400453%  |  49.370305%  |\n",
      "+--------------+-------------+------------+--------------+\n",
      "Train Episode: [12/20]\n",
      "Valid Episode: [12/20]\n",
      "+--------------+-------------+------------+--------------+\n",
      "| Total Return | Sharp Ratio | Volatility | Max Drawdown |\n",
      "+--------------+-------------+------------+--------------+\n",
      "| -51.577195%  |  -90.052808 | 0.406608%  |  52.090988%  |\n",
      "+--------------+-------------+------------+--------------+\n",
      "Train Episode: [13/20]\n",
      "\u001B[2m\u001B[36m(RolloutWorker pid=20440)\u001B[0m +--------------+-------------+------------+--------------+\n",
      "\u001B[2m\u001B[36m(RolloutWorker pid=20440)\u001B[0m | Total Return | Sharp Ratio | Volatility | Max Drawdown |\n",
      "\u001B[2m\u001B[36m(RolloutWorker pid=20440)\u001B[0m +--------------+-------------+------------+--------------+\n",
      "\u001B[2m\u001B[36m(RolloutWorker pid=20440)\u001B[0m | -99.804796%  |  -62.028339 | 0.403055%  |  99.805586%  |\n",
      "\u001B[2m\u001B[36m(RolloutWorker pid=20440)\u001B[0m +--------------+-------------+------------+--------------+\n",
      "\u001B[2m\u001B[36m(RolloutWorker pid=19936)\u001B[0m +--------------+-------------+------------+--------------+\n",
      "\u001B[2m\u001B[36m(RolloutWorker pid=19936)\u001B[0m | Total Return | Sharp Ratio | Volatility | Max Drawdown |\n",
      "\u001B[2m\u001B[36m(RolloutWorker pid=19936)\u001B[0m +--------------+-------------+------------+--------------+\n",
      "\u001B[2m\u001B[36m(RolloutWorker pid=19936)\u001B[0m | -99.844503%  |  -62.091906 | 0.402803%  |  99.844503%  |\n",
      "\u001B[2m\u001B[36m(RolloutWorker pid=19936)\u001B[0m +--------------+-------------+------------+--------------+\n",
      "Valid Episode: [13/20]\n",
      "+--------------+-------------+------------+--------------+\n",
      "| Total Return | Sharp Ratio | Volatility | Max Drawdown |\n",
      "+--------------+-------------+------------+--------------+\n",
      "| -51.767084%  |  -93.094537 | 0.394771%  |  52.092114%  |\n",
      "+--------------+-------------+------------+--------------+\n",
      "Train Episode: [14/20]\n",
      "Valid Episode: [14/20]\n",
      "+--------------+-------------+------------+--------------+\n",
      "| Total Return | Sharp Ratio | Volatility | Max Drawdown |\n",
      "+--------------+-------------+------------+--------------+\n",
      "| -50.254242%  |  -86.848565 | 0.410795%  |  50.556171%  |\n",
      "+--------------+-------------+------------+--------------+\n",
      "Train Episode: [15/20]\n",
      "\u001B[2m\u001B[36m(RolloutWorker pid=20440)\u001B[0m +--------------+-------------+------------+--------------+\n",
      "\u001B[2m\u001B[36m(RolloutWorker pid=20440)\u001B[0m | Total Return | Sharp Ratio | Volatility | Max Drawdown |\n",
      "\u001B[2m\u001B[36m(RolloutWorker pid=20440)\u001B[0m +--------------+-------------+------------+--------------+\n",
      "\u001B[2m\u001B[36m(RolloutWorker pid=20440)\u001B[0m | -99.851870%  |  -61.167232 | 0.408922%  |  99.851884%  |\n",
      "\u001B[2m\u001B[36m(RolloutWorker pid=20440)\u001B[0m +--------------+-------------+------------+--------------+\n",
      "\u001B[2m\u001B[36m(RolloutWorker pid=19936)\u001B[0m +--------------+-------------+------------+--------------+\n",
      "\u001B[2m\u001B[36m(RolloutWorker pid=19936)\u001B[0m | Total Return | Sharp Ratio | Volatility | Max Drawdown |\n",
      "\u001B[2m\u001B[36m(RolloutWorker pid=19936)\u001B[0m +--------------+-------------+------------+--------------+\n",
      "\u001B[2m\u001B[36m(RolloutWorker pid=19936)\u001B[0m | -99.819351%  |  -62.119314 | 0.402524%  |  99.819351%  |\n",
      "\u001B[2m\u001B[36m(RolloutWorker pid=19936)\u001B[0m +--------------+-------------+------------+--------------+\n",
      "Valid Episode: [15/20]\n",
      "+--------------+-------------+------------+--------------+\n",
      "| Total Return | Sharp Ratio | Volatility | Max Drawdown |\n",
      "+--------------+-------------+------------+--------------+\n",
      "| -51.105701%  |  -96.055704 | 0.377713%  |  51.347085%  |\n",
      "+--------------+-------------+------------+--------------+\n",
      "Train Episode: [16/20]\n",
      "Valid Episode: [16/20]\n",
      "+--------------+-------------+------------+--------------+\n",
      "| Total Return | Sharp Ratio | Volatility | Max Drawdown |\n",
      "+--------------+-------------+------------+--------------+\n",
      "| -48.117243%  |  -82.878002 | 0.412170%  |  48.327114%  |\n",
      "+--------------+-------------+------------+--------------+\n",
      "Train Episode: [17/20]\n",
      "\u001B[2m\u001B[36m(RolloutWorker pid=19936)\u001B[0m +--------------+-------------+------------+--------------+\n",
      "\u001B[2m\u001B[36m(RolloutWorker pid=19936)\u001B[0m | Total Return | Sharp Ratio | Volatility | Max Drawdown |\n",
      "\u001B[2m\u001B[36m(RolloutWorker pid=19936)\u001B[0m +--------------+-------------+------------+--------------+\n",
      "\u001B[2m\u001B[36m(RolloutWorker pid=19936)\u001B[0m | -99.821002%  |  -60.568430 | 0.412837%  |  99.821002%  |\n",
      "\u001B[2m\u001B[36m(RolloutWorker pid=19936)\u001B[0m +--------------+-------------+------------+--------------+\n",
      "\u001B[2m\u001B[36m(RolloutWorker pid=20440)\u001B[0m +--------------+-------------+------------+--------------+\n",
      "\u001B[2m\u001B[36m(RolloutWorker pid=20440)\u001B[0m | Total Return | Sharp Ratio | Volatility | Max Drawdown |\n",
      "\u001B[2m\u001B[36m(RolloutWorker pid=20440)\u001B[0m +--------------+-------------+------------+--------------+\n",
      "\u001B[2m\u001B[36m(RolloutWorker pid=20440)\u001B[0m | -99.833827%  |  -64.256346 | 0.389193%  |  99.833827%  |\n",
      "\u001B[2m\u001B[36m(RolloutWorker pid=20440)\u001B[0m +--------------+-------------+------------+--------------+\n",
      "Valid Episode: [17/20]\n",
      "+--------------+-------------+------------+--------------+\n",
      "| Total Return | Sharp Ratio | Volatility | Max Drawdown |\n",
      "+--------------+-------------+------------+--------------+\n",
      "| -51.006536%  |  -95.310598 | 0.379927%  |  51.160579%  |\n",
      "+--------------+-------------+------------+--------------+\n",
      "Train Episode: [18/20]\n",
      "Valid Episode: [18/20]\n",
      "+--------------+-------------+------------+--------------+\n",
      "| Total Return | Sharp Ratio | Volatility | Max Drawdown |\n",
      "+--------------+-------------+------------+--------------+\n",
      "| -53.069589%  |  -98.182358 | 0.383732%  |  53.122032%  |\n",
      "+--------------+-------------+------------+--------------+\n",
      "Train Episode: [19/20]\n",
      "\u001B[2m\u001B[36m(RolloutWorker pid=20440)\u001B[0m +--------------+-------------+------------+--------------+\n",
      "\u001B[2m\u001B[36m(RolloutWorker pid=20440)\u001B[0m | Total Return | Sharp Ratio | Volatility | Max Drawdown |\n",
      "\u001B[2m\u001B[36m(RolloutWorker pid=20440)\u001B[0m +--------------+-------------+------------+--------------+\n",
      "\u001B[2m\u001B[36m(RolloutWorker pid=20440)\u001B[0m | -99.801492%  |  -62.240020 | 0.401671%  |  99.801492%  |\n",
      "\u001B[2m\u001B[36m(RolloutWorker pid=20440)\u001B[0m +--------------+-------------+------------+--------------+\n",
      "\u001B[2m\u001B[36m(RolloutWorker pid=19936)\u001B[0m +--------------+-------------+------------+--------------+\n",
      "\u001B[2m\u001B[36m(RolloutWorker pid=19936)\u001B[0m | Total Return | Sharp Ratio | Volatility | Max Drawdown |\n",
      "\u001B[2m\u001B[36m(RolloutWorker pid=19936)\u001B[0m +--------------+-------------+------------+--------------+\n",
      "\u001B[2m\u001B[36m(RolloutWorker pid=19936)\u001B[0m | -99.806629%  |  -62.486032 | 0.400110%  |  99.806845%  |\n",
      "\u001B[2m\u001B[36m(RolloutWorker pid=19936)\u001B[0m +--------------+-------------+------------+--------------+\n",
      "Valid Episode: [19/20]\n",
      "+--------------+-------------+------------+--------------+\n",
      "| Total Return | Sharp Ratio | Volatility | Max Drawdown |\n",
      "+--------------+-------------+------------+--------------+\n",
      "| -51.299907%  |  -94.810196 | 0.384129%  |  51.412485%  |\n",
      "+--------------+-------------+------------+--------------+\n",
      "Train Episode: [20/20]\n",
      "Valid Episode: [20/20]\n",
      "+--------------+-------------+------------+--------------+\n",
      "| Total Return | Sharp Ratio | Volatility | Max Drawdown |\n",
      "+--------------+-------------+------------+--------------+\n",
      "| -52.279597%  |  -97.581873 | 0.380346%  |  52.351602%  |\n",
      "+--------------+-------------+------------+--------------+\n"
     ]
    }
   ],
   "source": [
    "trainer.train_and_valid()\n"
   ]
  },
  {
   "cell_type": "code",
   "execution_count": 10,
   "metadata": {},
   "outputs": [
    {
     "name": "stderr",
     "output_type": "stream",
     "text": [
      "\u001B[2m\u001B[36m(RolloutWorker pid=23324)\u001B[0m D:\\ProgramData\\Anaconda3\\envs\\python3.9\\lib\\site-packages\\mmcv\\__init__.py:20: UserWarning: On January 1, 2023, MMCV will release v2.0.0, in which it will remove components related to the training process and add a data transformation module. In addition, it will rename the package names mmcv to mmcv-lite and mmcv-full to mmcv. See https://github.com/open-mmlab/mmcv/blob/master/docs/en/compatibility.md for more details.\n",
      "\u001B[2m\u001B[36m(RolloutWorker pid=23324)\u001B[0m   warnings.warn(\n",
      "\u001B[2m\u001B[36m(RolloutWorker pid=24012)\u001B[0m D:\\ProgramData\\Anaconda3\\envs\\python3.9\\lib\\site-packages\\mmcv\\__init__.py:20: UserWarning: On January 1, 2023, MMCV will release v2.0.0, in which it will remove components related to the training process and add a data transformation module. In addition, it will rename the package names mmcv to mmcv-lite and mmcv-full to mmcv. See https://github.com/open-mmlab/mmcv/blob/master/docs/en/compatibility.md for more details.\n",
      "\u001B[2m\u001B[36m(RolloutWorker pid=24012)\u001B[0m   warnings.warn(\n",
      "\u001B[2m\u001B[36m(RolloutWorker pid=23324)\u001B[0m 2023-02-28 01:40:53,855\tERROR worker.py:451 -- Exception raised in creation task: The actor died because of an error raised in its creation task, \u001B[36mray::RolloutWorker.__init__()\u001B[39m (pid=23324, ip=127.0.0.1, repr=<ray.rllib.evaluation.rollout_worker.RolloutWorker object at 0x000002197C016BB0>)\n",
      "\u001B[2m\u001B[36m(RolloutWorker pid=23324)\u001B[0m   File \"D:\\ProgramData\\Anaconda3\\envs\\python3.9\\lib\\site-packages\\gym\\envs\\registration.py\", line 156, in make\n",
      "\u001B[2m\u001B[36m(RolloutWorker pid=23324)\u001B[0m     return registry.make(id, **kwargs)\n",
      "\u001B[2m\u001B[36m(RolloutWorker pid=23324)\u001B[0m   File \"D:\\ProgramData\\Anaconda3\\envs\\python3.9\\lib\\site-packages\\gym\\envs\\registration.py\", line 100, in make\n",
      "\u001B[2m\u001B[36m(RolloutWorker pid=23324)\u001B[0m     spec = self.spec(path)\n",
      "\u001B[2m\u001B[36m(RolloutWorker pid=23324)\u001B[0m   File \"D:\\ProgramData\\Anaconda3\\envs\\python3.9\\lib\\site-packages\\gym\\envs\\registration.py\", line 129, in spec\n",
      "\u001B[2m\u001B[36m(RolloutWorker pid=23324)\u001B[0m     raise error.Error('Attempted to look up malformed environment ID: {}. (Currently all IDs must be of the form {}.)'.format(id.encode('utf-8'), env_id_re.pattern))\n",
      "\u001B[2m\u001B[36m(RolloutWorker pid=23324)\u001B[0m gym.error.Error: Attempted to look up malformed environment ID: b'portfolio_management'. (Currently all IDs must be of the form ^(?:[\\w:-]+\\/)?([\\w:.-]+)-v(\\d+)$.)\n",
      "\u001B[2m\u001B[36m(RolloutWorker pid=23324)\u001B[0m \n",
      "\u001B[2m\u001B[36m(RolloutWorker pid=23324)\u001B[0m During handling of the above exception, another exception occurred:\n",
      "\u001B[2m\u001B[36m(RolloutWorker pid=23324)\u001B[0m \n",
      "\u001B[2m\u001B[36m(RolloutWorker pid=23324)\u001B[0m \u001B[36mray::RolloutWorker.__init__()\u001B[39m (pid=23324, ip=127.0.0.1, repr=<ray.rllib.evaluation.rollout_worker.RolloutWorker object at 0x000002197C016BB0>)\n",
      "\u001B[2m\u001B[36m(RolloutWorker pid=23324)\u001B[0m   File \"python\\ray\\_raylet.pyx\", line 658, in ray._raylet.execute_task\n",
      "\u001B[2m\u001B[36m(RolloutWorker pid=23324)\u001B[0m   File \"python\\ray\\_raylet.pyx\", line 699, in ray._raylet.execute_task\n",
      "\u001B[2m\u001B[36m(RolloutWorker pid=23324)\u001B[0m   File \"python\\ray\\_raylet.pyx\", line 665, in ray._raylet.execute_task\n",
      "\u001B[2m\u001B[36m(RolloutWorker pid=23324)\u001B[0m   File \"python\\ray\\_raylet.pyx\", line 669, in ray._raylet.execute_task\n",
      "\u001B[2m\u001B[36m(RolloutWorker pid=23324)\u001B[0m   File \"python\\ray\\_raylet.pyx\", line 616, in ray._raylet.execute_task.function_executor\n",
      "\u001B[2m\u001B[36m(RolloutWorker pid=23324)\u001B[0m   File \"D:\\ProgramData\\Anaconda3\\envs\\python3.9\\lib\\site-packages\\ray\\_private\\function_manager.py\", line 675, in actor_method_executor\n",
      "\u001B[2m\u001B[36m(RolloutWorker pid=23324)\u001B[0m     return method(__ray_actor, *args, **kwargs)\n",
      "\u001B[2m\u001B[36m(RolloutWorker pid=23324)\u001B[0m   File \"D:\\ProgramData\\Anaconda3\\envs\\python3.9\\lib\\site-packages\\ray\\util\\tracing\\tracing_helper.py\", line 462, in _resume_span\n",
      "\u001B[2m\u001B[36m(RolloutWorker pid=23324)\u001B[0m     return method(self, *_args, **_kwargs)\n",
      "\u001B[2m\u001B[36m(RolloutWorker pid=23324)\u001B[0m   File \"D:\\ProgramData\\Anaconda3\\envs\\python3.9\\lib\\site-packages\\ray\\rllib\\evaluation\\rollout_worker.py\", line 506, in __init__\n",
      "\u001B[2m\u001B[36m(RolloutWorker pid=23324)\u001B[0m     self.env = env_creator(copy.deepcopy(self.env_context))\n",
      "\u001B[2m\u001B[36m(RolloutWorker pid=23324)\u001B[0m   File \"D:\\ProgramData\\Anaconda3\\envs\\python3.9\\lib\\site-packages\\ray\\rllib\\env\\utils.py\", line 56, in gym_env_creator\n",
      "\u001B[2m\u001B[36m(RolloutWorker pid=23324)\u001B[0m     raise EnvError(ERR_MSG_INVALID_ENV_DESCRIPTOR.format(env_descriptor))\n",
      "\u001B[2m\u001B[36m(RolloutWorker pid=23324)\u001B[0m ray.rllib.utils.error.EnvError: The env string you provided ('portfolio_management') is:\n",
      "\u001B[2m\u001B[36m(RolloutWorker pid=23324)\u001B[0m a) Not a supported/installed environment.\n",
      "\u001B[2m\u001B[36m(RolloutWorker pid=23324)\u001B[0m b) Not a tune-registered environment creator.\n",
      "\u001B[2m\u001B[36m(RolloutWorker pid=23324)\u001B[0m c) Not a valid env class string.\n",
      "\u001B[2m\u001B[36m(RolloutWorker pid=23324)\u001B[0m \n",
      "\u001B[2m\u001B[36m(RolloutWorker pid=23324)\u001B[0m Try one of the following:\n",
      "\u001B[2m\u001B[36m(RolloutWorker pid=23324)\u001B[0m a) For Atari support: `pip install gym[atari] autorom[accept-rom-license]`.\n",
      "\u001B[2m\u001B[36m(RolloutWorker pid=23324)\u001B[0m    For VizDoom support: Install VizDoom\n",
      "\u001B[2m\u001B[36m(RolloutWorker pid=23324)\u001B[0m    (https://github.com/mwydmuch/ViZDoom/blob/master/doc/Building.md) and\n",
      "\u001B[2m\u001B[36m(RolloutWorker pid=23324)\u001B[0m    `pip install vizdoomgym`.\n",
      "\u001B[2m\u001B[36m(RolloutWorker pid=23324)\u001B[0m    For PyBullet support: `pip install pybullet`.\n",
      "\u001B[2m\u001B[36m(RolloutWorker pid=23324)\u001B[0m b) To register your custom env, do `from ray import tune;\n",
      "\u001B[2m\u001B[36m(RolloutWorker pid=23324)\u001B[0m    tune.register('[name]', lambda cfg: [return env obj from here using cfg])`.\n",
      "\u001B[2m\u001B[36m(RolloutWorker pid=23324)\u001B[0m    Then in your config, do `config['env'] = [name]`.\n",
      "\u001B[2m\u001B[36m(RolloutWorker pid=23324)\u001B[0m c) Make sure you provide a fully qualified classpath, e.g.:\n",
      "\u001B[2m\u001B[36m(RolloutWorker pid=23324)\u001B[0m    `ray.rllib.examples.env.repeat_after_me_env.RepeatAfterMeEnv`\n"
     ]
    },
    {
     "ename": "RayActorError",
     "evalue": "The actor died because of an error raised in its creation task, \u001B[36mray::RolloutWorker.__init__()\u001B[39m (pid=24012, ip=127.0.0.1, repr=<ray.rllib.evaluation.rollout_worker.RolloutWorker object at 0x00000237D1B0BBB0>)\n  File \"D:\\ProgramData\\Anaconda3\\envs\\python3.9\\lib\\site-packages\\gym\\envs\\registration.py\", line 156, in make\n    return registry.make(id, **kwargs)\n  File \"D:\\ProgramData\\Anaconda3\\envs\\python3.9\\lib\\site-packages\\gym\\envs\\registration.py\", line 100, in make\n    spec = self.spec(path)\n  File \"D:\\ProgramData\\Anaconda3\\envs\\python3.9\\lib\\site-packages\\gym\\envs\\registration.py\", line 129, in spec\n    raise error.Error('Attempted to look up malformed environment ID: {}. (Currently all IDs must be of the form {}.)'.format(id.encode('utf-8'), env_id_re.pattern))\ngym.error.Error: Attempted to look up malformed environment ID: b'portfolio_management'. (Currently all IDs must be of the form ^(?:[\\w:-]+\\/)?([\\w:.-]+)-v(\\d+)$.)\n\nDuring handling of the above exception, another exception occurred:\n\n\u001B[36mray::RolloutWorker.__init__()\u001B[39m (pid=24012, ip=127.0.0.1, repr=<ray.rllib.evaluation.rollout_worker.RolloutWorker object at 0x00000237D1B0BBB0>)\n  File \"python\\ray\\_raylet.pyx\", line 658, in ray._raylet.execute_task\n  File \"python\\ray\\_raylet.pyx\", line 699, in ray._raylet.execute_task\n  File \"python\\ray\\_raylet.pyx\", line 665, in ray._raylet.execute_task\n  File \"python\\ray\\_raylet.pyx\", line 669, in ray._raylet.execute_task\n  File \"python\\ray\\_raylet.pyx\", line 616, in ray._raylet.execute_task.function_executor\n  File \"D:\\ProgramData\\Anaconda3\\envs\\python3.9\\lib\\site-packages\\ray\\_private\\function_manager.py\", line 675, in actor_method_executor\n    return method(__ray_actor, *args, **kwargs)\n  File \"D:\\ProgramData\\Anaconda3\\envs\\python3.9\\lib\\site-packages\\ray\\util\\tracing\\tracing_helper.py\", line 462, in _resume_span\n    return method(self, *_args, **_kwargs)\n  File \"D:\\ProgramData\\Anaconda3\\envs\\python3.9\\lib\\site-packages\\ray\\rllib\\evaluation\\rollout_worker.py\", line 506, in __init__\n    self.env = env_creator(copy.deepcopy(self.env_context))\n  File \"D:\\ProgramData\\Anaconda3\\envs\\python3.9\\lib\\site-packages\\ray\\rllib\\env\\utils.py\", line 56, in gym_env_creator\n    raise EnvError(ERR_MSG_INVALID_ENV_DESCRIPTOR.format(env_descriptor))\nray.rllib.utils.error.EnvError: The env string you provided ('portfolio_management') is:\na) Not a supported/installed environment.\nb) Not a tune-registered environment creator.\nc) Not a valid env class string.\n\nTry one of the following:\na) For Atari support: `pip install gym[atari] autorom[accept-rom-license]`.\n   For VizDoom support: Install VizDoom\n   (https://github.com/mwydmuch/ViZDoom/blob/master/doc/Building.md) and\n   `pip install vizdoomgym`.\n   For PyBullet support: `pip install pybullet`.\nb) To register your custom env, do `from ray import tune;\n   tune.register('[name]', lambda cfg: [return env obj from here using cfg])`.\n   Then in your config, do `config['env'] = [name]`.\nc) Make sure you provide a fully qualified classpath, e.g.:\n   `ray.rllib.examples.env.repeat_after_me_env.RepeatAfterMeEnv`",
     "output_type": "error",
     "traceback": [
      "\u001B[1;31m---------------------------------------------------------------------------\u001B[0m",
      "\u001B[1;31mNotImplementedError\u001B[0m                       Traceback (most recent call last)",
      "File \u001B[1;32mD:\\ProgramData\\Anaconda3\\envs\\python3.9\\lib\\site-packages\\ray\\rllib\\agents\\trainer.py:935\u001B[0m, in \u001B[0;36mTrainer.setup\u001B[1;34m(self, config)\u001B[0m\n\u001B[0;32m    934\u001B[0m \u001B[38;5;28;01mtry\u001B[39;00m:\n\u001B[1;32m--> 935\u001B[0m     \u001B[38;5;28;43mself\u001B[39;49m\u001B[38;5;241;43m.\u001B[39;49m\u001B[43m_init\u001B[49m\u001B[43m(\u001B[49m\u001B[38;5;28;43mself\u001B[39;49m\u001B[38;5;241;43m.\u001B[39;49m\u001B[43mconfig\u001B[49m\u001B[43m,\u001B[49m\u001B[43m \u001B[49m\u001B[38;5;28;43mself\u001B[39;49m\u001B[38;5;241;43m.\u001B[39;49m\u001B[43menv_creator\u001B[49m\u001B[43m)\u001B[49m\n\u001B[0;32m    936\u001B[0m \u001B[38;5;66;03m# New design: Override `Trainable.setup()` (as indented by Trainable)\u001B[39;00m\n\u001B[0;32m    937\u001B[0m \u001B[38;5;66;03m# and do or don't call super().setup() from within your override.\u001B[39;00m\n\u001B[0;32m    938\u001B[0m \u001B[38;5;66;03m# By default, `super().setup()` will create both worker sets:\u001B[39;00m\n\u001B[1;32m   (...)\u001B[0m\n\u001B[0;32m    941\u001B[0m \u001B[38;5;66;03m# parallel to training.\u001B[39;00m\n\u001B[0;32m    942\u001B[0m \u001B[38;5;66;03m# TODO: Deprecate `_init()` and remove this try/except block.\u001B[39;00m\n",
      "File \u001B[1;32mD:\\ProgramData\\Anaconda3\\envs\\python3.9\\lib\\site-packages\\ray\\rllib\\agents\\trainer.py:1074\u001B[0m, in \u001B[0;36mTrainer._init\u001B[1;34m(self, config, env_creator)\u001B[0m\n\u001B[0;32m   1073\u001B[0m \u001B[38;5;28;01mdef\u001B[39;00m \u001B[38;5;21m_init\u001B[39m(\u001B[38;5;28mself\u001B[39m, config: TrainerConfigDict, env_creator: EnvCreator) \u001B[38;5;241m-\u001B[39m\u001B[38;5;241m>\u001B[39m \u001B[38;5;28;01mNone\u001B[39;00m:\n\u001B[1;32m-> 1074\u001B[0m     \u001B[38;5;28;01mraise\u001B[39;00m \u001B[38;5;167;01mNotImplementedError\u001B[39;00m\n",
      "\u001B[1;31mNotImplementedError\u001B[0m: ",
      "\nDuring handling of the above exception, another exception occurred:\n",
      "\u001B[1;31mRayActorError\u001B[0m                             Traceback (most recent call last)",
      "Cell \u001B[1;32mIn[10], line 1\u001B[0m\n\u001B[1;32m----> 1\u001B[0m \u001B[43mtrainer\u001B[49m\u001B[38;5;241;43m.\u001B[39;49m\u001B[43mtest\u001B[49m\u001B[43m(\u001B[49m\u001B[43m)\u001B[49m\n",
      "File \u001B[1;32mE:\\workspace\\RA\\TradeMaster\\trademaster\\trainers\\portfolio_management\\trainer.py:129\u001B[0m, in \u001B[0;36mPortfolioManagementTrainer.test\u001B[1;34m(self)\u001B[0m\n\u001B[0;32m    128\u001B[0m \u001B[38;5;28;01mdef\u001B[39;00m \u001B[38;5;21mtest\u001B[39m(\u001B[38;5;28mself\u001B[39m):\n\u001B[1;32m--> 129\u001B[0m     \u001B[38;5;28mself\u001B[39m\u001B[38;5;241m.\u001B[39mtrainer \u001B[38;5;241m=\u001B[39m \u001B[38;5;28;43mself\u001B[39;49m\u001B[38;5;241;43m.\u001B[39;49m\u001B[43mtrainer_name\u001B[49m\u001B[43m(\u001B[49m\u001B[43menv\u001B[49m\u001B[38;5;241;43m=\u001B[39;49m\u001B[38;5;124;43m\"\u001B[39;49m\u001B[38;5;124;43mportfolio_management\u001B[39;49m\u001B[38;5;124;43m\"\u001B[39;49m\u001B[43m,\u001B[49m\u001B[43m \u001B[49m\u001B[43mconfig\u001B[49m\u001B[38;5;241;43m=\u001B[39;49m\u001B[38;5;28;43mself\u001B[39;49m\u001B[38;5;241;43m.\u001B[39;49m\u001B[43mconfigs\u001B[49m\u001B[43m)\u001B[49m\n\u001B[0;32m    131\u001B[0m     obj \u001B[38;5;241m=\u001B[39m load_object(os\u001B[38;5;241m.\u001B[39mpath\u001B[38;5;241m.\u001B[39mjoin(\u001B[38;5;28mself\u001B[39m\u001B[38;5;241m.\u001B[39mcheckpoints_path, \u001B[38;5;124m\"\u001B[39m\u001B[38;5;124mbest.pkl\u001B[39m\u001B[38;5;124m\"\u001B[39m))\n\u001B[0;32m    132\u001B[0m     \u001B[38;5;28mself\u001B[39m\u001B[38;5;241m.\u001B[39mtrainer\u001B[38;5;241m.\u001B[39mrestore_from_object(obj)\n",
      "File \u001B[1;32mD:\\ProgramData\\Anaconda3\\envs\\python3.9\\lib\\site-packages\\ray\\rllib\\agents\\trainer.py:870\u001B[0m, in \u001B[0;36mTrainer.__init__\u001B[1;34m(self, config, env, logger_creator, remote_checkpoint_dir, sync_function_tpl)\u001B[0m\n\u001B[0;32m    858\u001B[0m \u001B[38;5;66;03m# Initialize common evaluation_metrics to nan, before they become\u001B[39;00m\n\u001B[0;32m    859\u001B[0m \u001B[38;5;66;03m# available. We want to make sure the metrics are always present\u001B[39;00m\n\u001B[0;32m    860\u001B[0m \u001B[38;5;66;03m# (although their values may be nan), so that Tune does not complain\u001B[39;00m\n\u001B[0;32m    861\u001B[0m \u001B[38;5;66;03m# when we use these as stopping criteria.\u001B[39;00m\n\u001B[0;32m    862\u001B[0m \u001B[38;5;28mself\u001B[39m\u001B[38;5;241m.\u001B[39mevaluation_metrics \u001B[38;5;241m=\u001B[39m {\n\u001B[0;32m    863\u001B[0m     \u001B[38;5;124m\"\u001B[39m\u001B[38;5;124mevaluation\u001B[39m\u001B[38;5;124m\"\u001B[39m: {\n\u001B[0;32m    864\u001B[0m         \u001B[38;5;124m\"\u001B[39m\u001B[38;5;124mepisode_reward_max\u001B[39m\u001B[38;5;124m\"\u001B[39m: np\u001B[38;5;241m.\u001B[39mnan,\n\u001B[1;32m   (...)\u001B[0m\n\u001B[0;32m    867\u001B[0m     }\n\u001B[0;32m    868\u001B[0m }\n\u001B[1;32m--> 870\u001B[0m \u001B[38;5;28;43msuper\u001B[39;49m\u001B[43m(\u001B[49m\u001B[43m)\u001B[49m\u001B[38;5;241;43m.\u001B[39;49m\u001B[38;5;21;43m__init__\u001B[39;49m\u001B[43m(\u001B[49m\n\u001B[0;32m    871\u001B[0m \u001B[43m    \u001B[49m\u001B[43mconfig\u001B[49m\u001B[43m,\u001B[49m\u001B[43m \u001B[49m\u001B[43mlogger_creator\u001B[49m\u001B[43m,\u001B[49m\u001B[43m \u001B[49m\u001B[43mremote_checkpoint_dir\u001B[49m\u001B[43m,\u001B[49m\u001B[43m \u001B[49m\u001B[43msync_function_tpl\u001B[49m\n\u001B[0;32m    872\u001B[0m \u001B[43m\u001B[49m\u001B[43m)\u001B[49m\n",
      "File \u001B[1;32mD:\\ProgramData\\Anaconda3\\envs\\python3.9\\lib\\site-packages\\ray\\tune\\trainable.py:156\u001B[0m, in \u001B[0;36mTrainable.__init__\u001B[1;34m(self, config, logger_creator, remote_checkpoint_dir, sync_function_tpl)\u001B[0m\n\u001B[0;32m    154\u001B[0m start_time \u001B[38;5;241m=\u001B[39m time\u001B[38;5;241m.\u001B[39mtime()\n\u001B[0;32m    155\u001B[0m \u001B[38;5;28mself\u001B[39m\u001B[38;5;241m.\u001B[39m_local_ip \u001B[38;5;241m=\u001B[39m \u001B[38;5;28mself\u001B[39m\u001B[38;5;241m.\u001B[39mget_current_ip()\n\u001B[1;32m--> 156\u001B[0m \u001B[38;5;28;43mself\u001B[39;49m\u001B[38;5;241;43m.\u001B[39;49m\u001B[43msetup\u001B[49m\u001B[43m(\u001B[49m\u001B[43mcopy\u001B[49m\u001B[38;5;241;43m.\u001B[39;49m\u001B[43mdeepcopy\u001B[49m\u001B[43m(\u001B[49m\u001B[38;5;28;43mself\u001B[39;49m\u001B[38;5;241;43m.\u001B[39;49m\u001B[43mconfig\u001B[49m\u001B[43m)\u001B[49m\u001B[43m)\u001B[49m\n\u001B[0;32m    157\u001B[0m setup_time \u001B[38;5;241m=\u001B[39m time\u001B[38;5;241m.\u001B[39mtime() \u001B[38;5;241m-\u001B[39m start_time\n\u001B[0;32m    158\u001B[0m \u001B[38;5;28;01mif\u001B[39;00m setup_time \u001B[38;5;241m>\u001B[39m SETUP_TIME_THRESHOLD:\n",
      "File \u001B[1;32mD:\\ProgramData\\Anaconda3\\envs\\python3.9\\lib\\site-packages\\ray\\rllib\\agents\\trainer.py:950\u001B[0m, in \u001B[0;36mTrainer.setup\u001B[1;34m(self, config)\u001B[0m\n\u001B[0;32m    936\u001B[0m \u001B[38;5;66;03m# New design: Override `Trainable.setup()` (as indented by Trainable)\u001B[39;00m\n\u001B[0;32m    937\u001B[0m \u001B[38;5;66;03m# and do or don't call super().setup() from within your override.\u001B[39;00m\n\u001B[0;32m    938\u001B[0m \u001B[38;5;66;03m# By default, `super().setup()` will create both worker sets:\u001B[39;00m\n\u001B[1;32m   (...)\u001B[0m\n\u001B[0;32m    941\u001B[0m \u001B[38;5;66;03m# parallel to training.\u001B[39;00m\n\u001B[0;32m    942\u001B[0m \u001B[38;5;66;03m# TODO: Deprecate `_init()` and remove this try/except block.\u001B[39;00m\n\u001B[0;32m    943\u001B[0m \u001B[38;5;28;01mexcept\u001B[39;00m \u001B[38;5;167;01mNotImplementedError\u001B[39;00m:\n\u001B[0;32m    944\u001B[0m     \u001B[38;5;66;03m# Only if user did not override `_init()`:\u001B[39;00m\n\u001B[0;32m    945\u001B[0m     \u001B[38;5;66;03m# - Create rollout workers here automatically.\u001B[39;00m\n\u001B[1;32m   (...)\u001B[0m\n\u001B[0;32m    948\u001B[0m     \u001B[38;5;66;03m# This matches the behavior of using `build_trainer()`, which\u001B[39;00m\n\u001B[0;32m    949\u001B[0m     \u001B[38;5;66;03m# has been deprecated.\u001B[39;00m\n\u001B[1;32m--> 950\u001B[0m     \u001B[38;5;28mself\u001B[39m\u001B[38;5;241m.\u001B[39mworkers \u001B[38;5;241m=\u001B[39m \u001B[43mWorkerSet\u001B[49m\u001B[43m(\u001B[49m\n\u001B[0;32m    951\u001B[0m \u001B[43m        \u001B[49m\u001B[43menv_creator\u001B[49m\u001B[38;5;241;43m=\u001B[39;49m\u001B[38;5;28;43mself\u001B[39;49m\u001B[38;5;241;43m.\u001B[39;49m\u001B[43menv_creator\u001B[49m\u001B[43m,\u001B[49m\n\u001B[0;32m    952\u001B[0m \u001B[43m        \u001B[49m\u001B[43mvalidate_env\u001B[49m\u001B[38;5;241;43m=\u001B[39;49m\u001B[38;5;28;43mself\u001B[39;49m\u001B[38;5;241;43m.\u001B[39;49m\u001B[43mvalidate_env\u001B[49m\u001B[43m,\u001B[49m\n\u001B[0;32m    953\u001B[0m \u001B[43m        \u001B[49m\u001B[43mpolicy_class\u001B[49m\u001B[38;5;241;43m=\u001B[39;49m\u001B[38;5;28;43mself\u001B[39;49m\u001B[38;5;241;43m.\u001B[39;49m\u001B[43mget_default_policy_class\u001B[49m\u001B[43m(\u001B[49m\u001B[38;5;28;43mself\u001B[39;49m\u001B[38;5;241;43m.\u001B[39;49m\u001B[43mconfig\u001B[49m\u001B[43m)\u001B[49m\u001B[43m,\u001B[49m\n\u001B[0;32m    954\u001B[0m \u001B[43m        \u001B[49m\u001B[43mtrainer_config\u001B[49m\u001B[38;5;241;43m=\u001B[39;49m\u001B[38;5;28;43mself\u001B[39;49m\u001B[38;5;241;43m.\u001B[39;49m\u001B[43mconfig\u001B[49m\u001B[43m,\u001B[49m\n\u001B[0;32m    955\u001B[0m \u001B[43m        \u001B[49m\u001B[43mnum_workers\u001B[49m\u001B[38;5;241;43m=\u001B[39;49m\u001B[38;5;28;43mself\u001B[39;49m\u001B[38;5;241;43m.\u001B[39;49m\u001B[43mconfig\u001B[49m\u001B[43m[\u001B[49m\u001B[38;5;124;43m\"\u001B[39;49m\u001B[38;5;124;43mnum_workers\u001B[39;49m\u001B[38;5;124;43m\"\u001B[39;49m\u001B[43m]\u001B[49m\u001B[43m,\u001B[49m\n\u001B[0;32m    956\u001B[0m \u001B[43m        \u001B[49m\u001B[43mlocal_worker\u001B[49m\u001B[38;5;241;43m=\u001B[39;49m\u001B[38;5;28;43;01mTrue\u001B[39;49;00m\u001B[43m,\u001B[49m\n\u001B[0;32m    957\u001B[0m \u001B[43m        \u001B[49m\u001B[43mlogdir\u001B[49m\u001B[38;5;241;43m=\u001B[39;49m\u001B[38;5;28;43mself\u001B[39;49m\u001B[38;5;241;43m.\u001B[39;49m\u001B[43mlogdir\u001B[49m\u001B[43m,\u001B[49m\n\u001B[0;32m    958\u001B[0m \u001B[43m    \u001B[49m\u001B[43m)\u001B[49m\n\u001B[0;32m    959\u001B[0m     \u001B[38;5;66;03m# By default, collect metrics for all remote workers.\u001B[39;00m\n\u001B[0;32m    960\u001B[0m     \u001B[38;5;28mself\u001B[39m\u001B[38;5;241m.\u001B[39m_remote_workers_for_metrics \u001B[38;5;241m=\u001B[39m \u001B[38;5;28mself\u001B[39m\u001B[38;5;241m.\u001B[39mworkers\u001B[38;5;241m.\u001B[39mremote_workers()\n",
      "File \u001B[1;32mD:\\ProgramData\\Anaconda3\\envs\\python3.9\\lib\\site-packages\\ray\\rllib\\evaluation\\worker_set.py:142\u001B[0m, in \u001B[0;36mWorkerSet.__init__\u001B[1;34m(self, env_creator, validate_env, policy_class, trainer_config, num_workers, local_worker, logdir, _setup)\u001B[0m\n\u001B[0;32m    129\u001B[0m \u001B[38;5;66;03m# Create a local worker, if needed.\u001B[39;00m\n\u001B[0;32m    130\u001B[0m \u001B[38;5;66;03m# If num_workers > 0 and we don't have an env on the local worker,\u001B[39;00m\n\u001B[0;32m    131\u001B[0m \u001B[38;5;66;03m# get the observation- and action spaces for each policy from\u001B[39;00m\n\u001B[0;32m    132\u001B[0m \u001B[38;5;66;03m# the first remote worker (which does have an env).\u001B[39;00m\n\u001B[0;32m    133\u001B[0m \u001B[38;5;28;01mif\u001B[39;00m (\n\u001B[0;32m    134\u001B[0m     local_worker\n\u001B[0;32m    135\u001B[0m     \u001B[38;5;129;01mand\u001B[39;00m \u001B[38;5;28mself\u001B[39m\u001B[38;5;241m.\u001B[39m_remote_workers\n\u001B[1;32m   (...)\u001B[0m\n\u001B[0;32m    140\u001B[0m     )\n\u001B[0;32m    141\u001B[0m ):\n\u001B[1;32m--> 142\u001B[0m     remote_spaces \u001B[38;5;241m=\u001B[39m \u001B[43mray\u001B[49m\u001B[38;5;241;43m.\u001B[39;49m\u001B[43mget\u001B[49m\u001B[43m(\u001B[49m\n\u001B[0;32m    143\u001B[0m \u001B[43m        \u001B[49m\u001B[38;5;28;43mself\u001B[39;49m\u001B[38;5;241;43m.\u001B[39;49m\u001B[43mremote_workers\u001B[49m\u001B[43m(\u001B[49m\u001B[43m)\u001B[49m\u001B[43m[\u001B[49m\u001B[38;5;241;43m0\u001B[39;49m\u001B[43m]\u001B[49m\u001B[38;5;241;43m.\u001B[39;49m\u001B[43mforeach_policy\u001B[49m\u001B[38;5;241;43m.\u001B[39;49m\u001B[43mremote\u001B[49m\u001B[43m(\u001B[49m\n\u001B[0;32m    144\u001B[0m \u001B[43m            \u001B[49m\u001B[38;5;28;43;01mlambda\u001B[39;49;00m\u001B[43m \u001B[49m\u001B[43mp\u001B[49m\u001B[43m,\u001B[49m\u001B[43m \u001B[49m\u001B[43mpid\u001B[49m\u001B[43m:\u001B[49m\u001B[43m \u001B[49m\u001B[43m(\u001B[49m\u001B[43mpid\u001B[49m\u001B[43m,\u001B[49m\u001B[43m \u001B[49m\u001B[43mp\u001B[49m\u001B[38;5;241;43m.\u001B[39;49m\u001B[43mobservation_space\u001B[49m\u001B[43m,\u001B[49m\u001B[43m \u001B[49m\u001B[43mp\u001B[49m\u001B[38;5;241;43m.\u001B[39;49m\u001B[43maction_space\u001B[49m\u001B[43m)\u001B[49m\n\u001B[0;32m    145\u001B[0m \u001B[43m        \u001B[49m\u001B[43m)\u001B[49m\n\u001B[0;32m    146\u001B[0m \u001B[43m    \u001B[49m\u001B[43m)\u001B[49m\n\u001B[0;32m    147\u001B[0m     spaces \u001B[38;5;241m=\u001B[39m {\n\u001B[0;32m    148\u001B[0m         e[\u001B[38;5;241m0\u001B[39m]: (\u001B[38;5;28mgetattr\u001B[39m(e[\u001B[38;5;241m1\u001B[39m], \u001B[38;5;124m\"\u001B[39m\u001B[38;5;124moriginal_space\u001B[39m\u001B[38;5;124m\"\u001B[39m, e[\u001B[38;5;241m1\u001B[39m]), e[\u001B[38;5;241m2\u001B[39m])\n\u001B[0;32m    149\u001B[0m         \u001B[38;5;28;01mfor\u001B[39;00m e \u001B[38;5;129;01min\u001B[39;00m remote_spaces\n\u001B[0;32m    150\u001B[0m     }\n\u001B[0;32m    151\u001B[0m     \u001B[38;5;66;03m# Try to add the actual env's obs/action spaces.\u001B[39;00m\n",
      "File \u001B[1;32mD:\\ProgramData\\Anaconda3\\envs\\python3.9\\lib\\site-packages\\ray\\_private\\client_mode_hook.py:105\u001B[0m, in \u001B[0;36mclient_mode_hook.<locals>.wrapper\u001B[1;34m(*args, **kwargs)\u001B[0m\n\u001B[0;32m    103\u001B[0m     \u001B[38;5;28;01mif\u001B[39;00m func\u001B[38;5;241m.\u001B[39m\u001B[38;5;18m__name__\u001B[39m \u001B[38;5;241m!=\u001B[39m \u001B[38;5;124m\"\u001B[39m\u001B[38;5;124minit\u001B[39m\u001B[38;5;124m\"\u001B[39m \u001B[38;5;129;01mor\u001B[39;00m is_client_mode_enabled_by_default:\n\u001B[0;32m    104\u001B[0m         \u001B[38;5;28;01mreturn\u001B[39;00m \u001B[38;5;28mgetattr\u001B[39m(ray, func\u001B[38;5;241m.\u001B[39m\u001B[38;5;18m__name__\u001B[39m)(\u001B[38;5;241m*\u001B[39margs, \u001B[38;5;241m*\u001B[39m\u001B[38;5;241m*\u001B[39mkwargs)\n\u001B[1;32m--> 105\u001B[0m \u001B[38;5;28;01mreturn\u001B[39;00m func(\u001B[38;5;241m*\u001B[39margs, \u001B[38;5;241m*\u001B[39m\u001B[38;5;241m*\u001B[39mkwargs)\n",
      "File \u001B[1;32mD:\\ProgramData\\Anaconda3\\envs\\python3.9\\lib\\site-packages\\ray\\worker.py:1833\u001B[0m, in \u001B[0;36mget\u001B[1;34m(object_refs, timeout)\u001B[0m\n\u001B[0;32m   1831\u001B[0m             \u001B[38;5;28;01mraise\u001B[39;00m value\u001B[38;5;241m.\u001B[39mas_instanceof_cause()\n\u001B[0;32m   1832\u001B[0m         \u001B[38;5;28;01melse\u001B[39;00m:\n\u001B[1;32m-> 1833\u001B[0m             \u001B[38;5;28;01mraise\u001B[39;00m value\n\u001B[0;32m   1835\u001B[0m \u001B[38;5;28;01mif\u001B[39;00m is_individual_id:\n\u001B[0;32m   1836\u001B[0m     values \u001B[38;5;241m=\u001B[39m values[\u001B[38;5;241m0\u001B[39m]\n",
      "\u001B[1;31mRayActorError\u001B[0m: The actor died because of an error raised in its creation task, \u001B[36mray::RolloutWorker.__init__()\u001B[39m (pid=24012, ip=127.0.0.1, repr=<ray.rllib.evaluation.rollout_worker.RolloutWorker object at 0x00000237D1B0BBB0>)\n  File \"D:\\ProgramData\\Anaconda3\\envs\\python3.9\\lib\\site-packages\\gym\\envs\\registration.py\", line 156, in make\n    return registry.make(id, **kwargs)\n  File \"D:\\ProgramData\\Anaconda3\\envs\\python3.9\\lib\\site-packages\\gym\\envs\\registration.py\", line 100, in make\n    spec = self.spec(path)\n  File \"D:\\ProgramData\\Anaconda3\\envs\\python3.9\\lib\\site-packages\\gym\\envs\\registration.py\", line 129, in spec\n    raise error.Error('Attempted to look up malformed environment ID: {}. (Currently all IDs must be of the form {}.)'.format(id.encode('utf-8'), env_id_re.pattern))\ngym.error.Error: Attempted to look up malformed environment ID: b'portfolio_management'. (Currently all IDs must be of the form ^(?:[\\w:-]+\\/)?([\\w:.-]+)-v(\\d+)$.)\n\nDuring handling of the above exception, another exception occurred:\n\n\u001B[36mray::RolloutWorker.__init__()\u001B[39m (pid=24012, ip=127.0.0.1, repr=<ray.rllib.evaluation.rollout_worker.RolloutWorker object at 0x00000237D1B0BBB0>)\n  File \"python\\ray\\_raylet.pyx\", line 658, in ray._raylet.execute_task\n  File \"python\\ray\\_raylet.pyx\", line 699, in ray._raylet.execute_task\n  File \"python\\ray\\_raylet.pyx\", line 665, in ray._raylet.execute_task\n  File \"python\\ray\\_raylet.pyx\", line 669, in ray._raylet.execute_task\n  File \"python\\ray\\_raylet.pyx\", line 616, in ray._raylet.execute_task.function_executor\n  File \"D:\\ProgramData\\Anaconda3\\envs\\python3.9\\lib\\site-packages\\ray\\_private\\function_manager.py\", line 675, in actor_method_executor\n    return method(__ray_actor, *args, **kwargs)\n  File \"D:\\ProgramData\\Anaconda3\\envs\\python3.9\\lib\\site-packages\\ray\\util\\tracing\\tracing_helper.py\", line 462, in _resume_span\n    return method(self, *_args, **_kwargs)\n  File \"D:\\ProgramData\\Anaconda3\\envs\\python3.9\\lib\\site-packages\\ray\\rllib\\evaluation\\rollout_worker.py\", line 506, in __init__\n    self.env = env_creator(copy.deepcopy(self.env_context))\n  File \"D:\\ProgramData\\Anaconda3\\envs\\python3.9\\lib\\site-packages\\ray\\rllib\\env\\utils.py\", line 56, in gym_env_creator\n    raise EnvError(ERR_MSG_INVALID_ENV_DESCRIPTOR.format(env_descriptor))\nray.rllib.utils.error.EnvError: The env string you provided ('portfolio_management') is:\na) Not a supported/installed environment.\nb) Not a tune-registered environment creator.\nc) Not a valid env class string.\n\nTry one of the following:\na) For Atari support: `pip install gym[atari] autorom[accept-rom-license]`.\n   For VizDoom support: Install VizDoom\n   (https://github.com/mwydmuch/ViZDoom/blob/master/doc/Building.md) and\n   `pip install vizdoomgym`.\n   For PyBullet support: `pip install pybullet`.\nb) To register your custom env, do `from ray import tune;\n   tune.register('[name]', lambda cfg: [return env obj from here using cfg])`.\n   Then in your config, do `config['env'] = [name]`.\nc) Make sure you provide a fully qualified classpath, e.g.:\n   `ray.rllib.examples.env.repeat_after_me_env.RepeatAfterMeEnv`"
     ]
    },
    {
     "name": "stderr",
     "output_type": "stream",
     "text": [
      "\u001B[2m\u001B[36m(RolloutWorker pid=24012)\u001B[0m 2023-02-28 01:40:53,855\tERROR worker.py:451 -- Exception raised in creation task: The actor died because of an error raised in its creation task, \u001B[36mray::RolloutWorker.__init__()\u001B[39m (pid=24012, ip=127.0.0.1, repr=<ray.rllib.evaluation.rollout_worker.RolloutWorker object at 0x00000237D1B0BBB0>)\n",
      "\u001B[2m\u001B[36m(RolloutWorker pid=24012)\u001B[0m   File \"D:\\ProgramData\\Anaconda3\\envs\\python3.9\\lib\\site-packages\\gym\\envs\\registration.py\", line 156, in make\n",
      "\u001B[2m\u001B[36m(RolloutWorker pid=24012)\u001B[0m     return registry.make(id, **kwargs)\n",
      "\u001B[2m\u001B[36m(RolloutWorker pid=24012)\u001B[0m   File \"D:\\ProgramData\\Anaconda3\\envs\\python3.9\\lib\\site-packages\\gym\\envs\\registration.py\", line 100, in make\n",
      "\u001B[2m\u001B[36m(RolloutWorker pid=24012)\u001B[0m     spec = self.spec(path)\n",
      "\u001B[2m\u001B[36m(RolloutWorker pid=24012)\u001B[0m   File \"D:\\ProgramData\\Anaconda3\\envs\\python3.9\\lib\\site-packages\\gym\\envs\\registration.py\", line 129, in spec\n",
      "\u001B[2m\u001B[36m(RolloutWorker pid=24012)\u001B[0m     raise error.Error('Attempted to look up malformed environment ID: {}. (Currently all IDs must be of the form {}.)'.format(id.encode('utf-8'), env_id_re.pattern))\n",
      "\u001B[2m\u001B[36m(RolloutWorker pid=24012)\u001B[0m gym.error.Error: Attempted to look up malformed environment ID: b'portfolio_management'. (Currently all IDs must be of the form ^(?:[\\w:-]+\\/)?([\\w:.-]+)-v(\\d+)$.)\n",
      "\u001B[2m\u001B[36m(RolloutWorker pid=24012)\u001B[0m \n",
      "\u001B[2m\u001B[36m(RolloutWorker pid=24012)\u001B[0m During handling of the above exception, another exception occurred:\n",
      "\u001B[2m\u001B[36m(RolloutWorker pid=24012)\u001B[0m \n",
      "\u001B[2m\u001B[36m(RolloutWorker pid=24012)\u001B[0m \u001B[36mray::RolloutWorker.__init__()\u001B[39m (pid=24012, ip=127.0.0.1, repr=<ray.rllib.evaluation.rollout_worker.RolloutWorker object at 0x00000237D1B0BBB0>)\n",
      "\u001B[2m\u001B[36m(RolloutWorker pid=24012)\u001B[0m   File \"python\\ray\\_raylet.pyx\", line 658, in ray._raylet.execute_task\n",
      "\u001B[2m\u001B[36m(RolloutWorker pid=24012)\u001B[0m   File \"python\\ray\\_raylet.pyx\", line 699, in ray._raylet.execute_task\n",
      "\u001B[2m\u001B[36m(RolloutWorker pid=24012)\u001B[0m   File \"python\\ray\\_raylet.pyx\", line 665, in ray._raylet.execute_task\n",
      "\u001B[2m\u001B[36m(RolloutWorker pid=24012)\u001B[0m   File \"python\\ray\\_raylet.pyx\", line 669, in ray._raylet.execute_task\n",
      "\u001B[2m\u001B[36m(RolloutWorker pid=24012)\u001B[0m   File \"python\\ray\\_raylet.pyx\", line 616, in ray._raylet.execute_task.function_executor\n",
      "\u001B[2m\u001B[36m(RolloutWorker pid=24012)\u001B[0m   File \"D:\\ProgramData\\Anaconda3\\envs\\python3.9\\lib\\site-packages\\ray\\_private\\function_manager.py\", line 675, in actor_method_executor\n",
      "\u001B[2m\u001B[36m(RolloutWorker pid=24012)\u001B[0m     return method(__ray_actor, *args, **kwargs)\n",
      "\u001B[2m\u001B[36m(RolloutWorker pid=24012)\u001B[0m   File \"D:\\ProgramData\\Anaconda3\\envs\\python3.9\\lib\\site-packages\\ray\\util\\tracing\\tracing_helper.py\", line 462, in _resume_span\n",
      "\u001B[2m\u001B[36m(RolloutWorker pid=24012)\u001B[0m     return method(self, *_args, **_kwargs)\n",
      "\u001B[2m\u001B[36m(RolloutWorker pid=24012)\u001B[0m   File \"D:\\ProgramData\\Anaconda3\\envs\\python3.9\\lib\\site-packages\\ray\\rllib\\evaluation\\rollout_worker.py\", line 506, in __init__\n",
      "\u001B[2m\u001B[36m(RolloutWorker pid=24012)\u001B[0m     self.env = env_creator(copy.deepcopy(self.env_context))\n",
      "\u001B[2m\u001B[36m(RolloutWorker pid=24012)\u001B[0m   File \"D:\\ProgramData\\Anaconda3\\envs\\python3.9\\lib\\site-packages\\ray\\rllib\\env\\utils.py\", line 56, in gym_env_creator\n",
      "\u001B[2m\u001B[36m(RolloutWorker pid=24012)\u001B[0m     raise EnvError(ERR_MSG_INVALID_ENV_DESCRIPTOR.format(env_descriptor))\n",
      "\u001B[2m\u001B[36m(RolloutWorker pid=24012)\u001B[0m ray.rllib.utils.error.EnvError: The env string you provided ('portfolio_management') is:\n",
      "\u001B[2m\u001B[36m(RolloutWorker pid=24012)\u001B[0m a) Not a supported/installed environment.\n",
      "\u001B[2m\u001B[36m(RolloutWorker pid=24012)\u001B[0m b) Not a tune-registered environment creator.\n",
      "\u001B[2m\u001B[36m(RolloutWorker pid=24012)\u001B[0m c) Not a valid env class string.\n",
      "\u001B[2m\u001B[36m(RolloutWorker pid=24012)\u001B[0m \n",
      "\u001B[2m\u001B[36m(RolloutWorker pid=24012)\u001B[0m Try one of the following:\n",
      "\u001B[2m\u001B[36m(RolloutWorker pid=24012)\u001B[0m a) For Atari support: `pip install gym[atari] autorom[accept-rom-license]`.\n",
      "\u001B[2m\u001B[36m(RolloutWorker pid=24012)\u001B[0m    For VizDoom support: Install VizDoom\n",
      "\u001B[2m\u001B[36m(RolloutWorker pid=24012)\u001B[0m    (https://github.com/mwydmuch/ViZDoom/blob/master/doc/Building.md) and\n",
      "\u001B[2m\u001B[36m(RolloutWorker pid=24012)\u001B[0m    `pip install vizdoomgym`.\n",
      "\u001B[2m\u001B[36m(RolloutWorker pid=24012)\u001B[0m    For PyBullet support: `pip install pybullet`.\n",
      "\u001B[2m\u001B[36m(RolloutWorker pid=24012)\u001B[0m b) To register your custom env, do `from ray import tune;\n",
      "\u001B[2m\u001B[36m(RolloutWorker pid=24012)\u001B[0m    tune.register('[name]', lambda cfg: [return env obj from here using cfg])`.\n",
      "\u001B[2m\u001B[36m(RolloutWorker pid=24012)\u001B[0m    Then in your config, do `config['env'] = [name]`.\n",
      "\u001B[2m\u001B[36m(RolloutWorker pid=24012)\u001B[0m c) Make sure you provide a fully qualified classpath, e.g.:\n",
      "\u001B[2m\u001B[36m(RolloutWorker pid=24012)\u001B[0m    `ray.rllib.examples.env.repeat_after_me_env.RepeatAfterMeEnv`\n"
     ]
    }
   ],
   "source": [
    "trainer.test()"
   ]
  }
 ],
 "metadata": {
  "kernelspec": {
   "name": "pycharm-5c427241",
   "language": "python",
   "display_name": "PyCharm (TradeMaster)"
  },
  "language_info": {
   "codemirror_mode": {
    "name": "ipython",
    "version": 3
   },
   "file_extension": ".py",
   "mimetype": "text/x-python",
   "name": "python",
   "nbconvert_exporter": "python",
   "pygments_lexer": "ipython3",
   "version": "3.7.13"
  },
  "vscode": {
   "interpreter": {
    "hash": "a1f97403911abd3f02553c8f2b0c54537fddc7efadd9f5d3e31784db6e40c347"
   }
  }
 },
 "nbformat": 4,
 "nbformat_minor": 0
}