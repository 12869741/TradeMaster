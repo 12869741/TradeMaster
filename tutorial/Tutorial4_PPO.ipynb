{
 "cells": [
  {
   "cell_type": "markdown",
   "metadata": {
    "collapsed": false
   },
   "source": [
    "# PPO for Portfolio Management\n",
    "This tutorial is to demonstrate an example of using PPO to do portfolio management"
   ]
  },
  {
   "cell_type": "markdown",
   "metadata": {
    "collapsed": false
   },
   "source": [
    "## Step1: Import Packages"
   ]
  },
  {
   "cell_type": "code",
   "execution_count": 12,
   "metadata": {
    "collapsed": false
   },
   "outputs": [],
   "source": [
    "\n",
    "import warnings\n",
    "warnings.filterwarnings(\"ignore\")\n",
    "import sys\n",
    "from pathlib import Path\n",
    "import os\n",
    "import torch\n",
    "\n",
    "ROOT = os.path.dirname(os.path.abspath(\".\"))\n",
    "sys.path.append(ROOT)\n",
    "\n",
    "import argparse\n",
    "import os.path as osp\n",
    "from mmcv import Config\n",
    "from trademaster.utils import replace_cfg_vals\n",
    "from trademaster.nets.builder import build_net\n",
    "from trademaster.environments.builder import build_environment\n",
    "from trademaster.datasets.builder import build_dataset\n",
    "from trademaster.agents.builder import build_agent\n",
    "from trademaster.optimizers.builder import build_optimizer\n",
    "from trademaster.losses.builder import build_loss\n",
    "from trademaster.trainers.builder import build_trainer\n",
    "from trademaster.utils import plot"
   ]
  },
  {
   "cell_type": "markdown",
   "metadata": {
    "collapsed": false
   },
   "source": [
    "## Step2: Import Configs"
   ]
  },
  {
   "cell_type": "code",
   "execution_count": 13,
   "metadata": {
    "collapsed": false
   },
   "outputs": [],
   "source": [
    "parser = argparse.ArgumentParser(description='Download Alpaca Datasets')\n",
    "parser.add_argument(\"--config\", default=osp.join(ROOT, \"configs\", \"portfolio_management\", \"portfolio_management_exchange_ppo_ppo_adam_mse.py\"),\n",
    "                    help=\"download datasets config file path\")\n",
    "parser.add_argument(\"--task_name\", type=str, default=\"train\")\n",
    "args, _ = parser.parse_known_args()\n",
    "\n",
    "cfg = Config.fromfile(args.config)\n",
    "task_name = args.task_name\n",
    "cfg = replace_cfg_vals(cfg)"
   ]
  },
  {
   "cell_type": "markdown",
   "metadata": {
    "collapsed": false
   },
   "source": [
    "## Step3: Build Dataset"
   ]
  },
  {
   "cell_type": "code",
   "execution_count": 14,
   "metadata": {
    "collapsed": false
   },
   "outputs": [],
   "source": [
    "dataset = build_dataset(cfg)\n"
   ]
  },
  {
   "cell_type": "markdown",
   "metadata": {
    "collapsed": false
   },
   "source": [
    "## Step4: Build Trainer"
   ]
  },
  {
   "cell_type": "code",
   "execution_count": 15,
   "metadata": {
    "collapsed": false
   },
   "outputs": [
    {
     "name": "stderr",
     "output_type": "stream",
     "text": [
      "2023-02-28 14:29:45,516\tINFO worker.py:973 -- Calling ray.init() again after it has already been called.\n"
     ]
    },
    {
     "name": "stdout",
     "output_type": "stream",
     "text": [
      "| Arguments Keep work_dir: D:\\pycharm_workspace\\TradeMaster\\work_dir/portfolio_management_exchange_ppo_ppo_adam_mse\n"
     ]
    }
   ],
   "source": [
    "device = torch.device('cuda' if torch.cuda.is_available() else 'cpu')\n",
    "work_dir = os.path.join(ROOT, cfg.trainer.work_dir)\n",
    "\n",
    "if not os.path.exists(work_dir):\n",
    "    os.makedirs(work_dir)\n",
    "cfg.dump(osp.join(work_dir, osp.basename(args.config)))\n",
    "\n",
    "trainer = build_trainer(cfg, default_args=dict(dataset=dataset, device = device))"
   ]
  },
  {
   "cell_type": "markdown",
   "metadata": {
    "collapsed": false
   },
   "source": [
    "## Step5: Train, Valid and Test"
   ]
  },
  {
   "cell_type": "code",
   "execution_count": 17,
   "metadata": {
    "collapsed": false
   },
   "outputs": [
    {
     "name": "stderr",
     "output_type": "stream",
     "text": [
      "2023-02-28 14:29:45,713\tWARNING env.py:135 -- Your env doesn't have a .spec.max_episode_steps attribute. This is fine if you have set 'horizon' in your config dictionary, or `soft_horizon`. However, if you haven't, 'horizon' will default to infinity, and your environment will not be reset.\n",
      "2023-02-28 14:29:45,780\tWARNING util.py:65 -- Install gputil for GPU system monitoring.\n"
     ]
    },
    {
     "name": "stdout",
     "output_type": "stream",
     "text": [
      "Train Episode: [1/20]\n",
      "Valid Episode: [1/20]\n",
      "+--------------+-------------+------------+--------------+\n",
      "| Total Return | Sharp Ratio | Volatility | Max Drawdown |\n",
      "+--------------+-------------+------------+--------------+\n",
      "| -52.638330%  | -100.238232 | 0.372807%  |  52.746183%  |\n",
      "+--------------+-------------+------------+--------------+\n",
      "Train Episode: [2/20]\n",
      "+--------------+-------------+------------+--------------+\n",
      "| Total Return | Sharp Ratio | Volatility | Max Drawdown |\n",
      "+--------------+-------------+------------+--------------+\n",
      "| -99.846414%  |  -61.658818 | 0.405640%  |  99.846459%  |\n",
      "+--------------+-------------+------------+--------------+\n",
      "Valid Episode: [2/20]\n",
      "+--------------+-------------+------------+--------------+\n",
      "| Total Return | Sharp Ratio | Volatility | Max Drawdown |\n",
      "+--------------+-------------+------------+--------------+\n",
      "| -49.727308%  |  -90.370805 | 0.390645%  |  50.079012%  |\n",
      "+--------------+-------------+------------+--------------+\n",
      "Train Episode: [3/20]\n",
      "+--------------+-------------+------------+--------------+\n",
      "| Total Return | Sharp Ratio | Volatility | Max Drawdown |\n",
      "+--------------+-------------+------------+--------------+\n",
      "| -99.827738%  |  -62.766108 | 0.398409%  |  99.827738%  |\n",
      "+--------------+-------------+------------+--------------+\n",
      "Valid Episode: [3/20]\n",
      "+--------------+-------------+------------+--------------+\n",
      "| Total Return | Sharp Ratio | Volatility | Max Drawdown |\n",
      "+--------------+-------------+------------+--------------+\n",
      "| -50.185189%  |  -91.370254 | 0.389929%  |  50.463789%  |\n",
      "+--------------+-------------+------------+--------------+\n",
      "Train Episode: [4/20]\n",
      "+--------------+-------------+------------+--------------+\n",
      "| Total Return | Sharp Ratio | Volatility | Max Drawdown |\n",
      "+--------------+-------------+------------+--------------+\n",
      "| -99.821085%  |  -64.007252 | 0.390658%  |  99.821085%  |\n",
      "+--------------+-------------+------------+--------------+\n",
      "Valid Episode: [4/20]\n",
      "+--------------+-------------+------------+--------------+\n",
      "| Total Return | Sharp Ratio | Volatility | Max Drawdown |\n",
      "+--------------+-------------+------------+--------------+\n",
      "| -51.726518%  |  -99.577187 | 0.368781%  |  51.773961%  |\n",
      "+--------------+-------------+------------+--------------+\n",
      "Train Episode: [5/20]\n",
      "+--------------+-------------+------------+--------------+\n",
      "| Total Return | Sharp Ratio | Volatility | Max Drawdown |\n",
      "+--------------+-------------+------------+--------------+\n",
      "| -99.817583%  |  -61.135435 | 0.408994%  |  99.817583%  |\n",
      "+--------------+-------------+------------+--------------+\n",
      "Valid Episode: [5/20]\n",
      "+--------------+-------------+------------+--------------+\n",
      "| Total Return | Sharp Ratio | Volatility | Max Drawdown |\n",
      "+--------------+-------------+------------+--------------+\n",
      "| -51.985934%  |  -96.239867 | 0.383483%  |  52.422541%  |\n",
      "+--------------+-------------+------------+--------------+\n",
      "Train Episode: [6/20]\n",
      "+--------------+-------------+------------+--------------+\n",
      "| Total Return | Sharp Ratio | Volatility | Max Drawdown |\n",
      "+--------------+-------------+------------+--------------+\n",
      "| -99.817809%  |  -61.602438 | 0.405895%  |  99.817835%  |\n",
      "+--------------+-------------+------------+--------------+\n",
      "Valid Episode: [6/20]\n",
      "+--------------+-------------+------------+--------------+\n",
      "| Total Return | Sharp Ratio | Volatility | Max Drawdown |\n",
      "+--------------+-------------+------------+--------------+\n",
      "| -51.071165%  |  -84.466772 | 0.429245%  |  51.311418%  |\n",
      "+--------------+-------------+------------+--------------+\n",
      "Train Episode: [7/20]\n",
      "+--------------+-------------+------------+--------------+\n",
      "| Total Return | Sharp Ratio | Volatility | Max Drawdown |\n",
      "+--------------+-------------+------------+--------------+\n",
      "| -99.792006%  |  -62.586622 | 0.399409%  |  99.792006%  |\n",
      "+--------------+-------------+------------+--------------+\n",
      "Valid Episode: [7/20]\n",
      "+--------------+-------------+------------+--------------+\n",
      "| Total Return | Sharp Ratio | Volatility | Max Drawdown |\n",
      "+--------------+-------------+------------+--------------+\n",
      "| -54.090820%  |  -96.456339 | 0.398115%  |  54.220233%  |\n",
      "+--------------+-------------+------------+--------------+\n",
      "Train Episode: [8/20]\n",
      "+--------------+-------------+------------+--------------+\n",
      "| Total Return | Sharp Ratio | Volatility | Max Drawdown |\n",
      "+--------------+-------------+------------+--------------+\n",
      "| -99.830004%  |  -62.422216 | 0.400613%  |  99.830107%  |\n",
      "+--------------+-------------+------------+--------------+\n",
      "Valid Episode: [8/20]\n",
      "+--------------+-------------+------------+--------------+\n",
      "| Total Return | Sharp Ratio | Volatility | Max Drawdown |\n",
      "+--------------+-------------+------------+--------------+\n",
      "| -50.721153%  |  -90.086831 | 0.399708%  |  50.994746%  |\n",
      "+--------------+-------------+------------+--------------+\n",
      "Train Episode: [9/20]\n",
      "+--------------+-------------+------------+--------------+\n",
      "| Total Return | Sharp Ratio | Volatility | Max Drawdown |\n",
      "+--------------+-------------+------------+--------------+\n",
      "| -99.823438%  |  -62.468563 | 0.400290%  |  99.823564%  |\n",
      "+--------------+-------------+------------+--------------+\n",
      "Valid Episode: [9/20]\n",
      "+--------------+-------------+------------+--------------+\n",
      "| Total Return | Sharp Ratio | Volatility | Max Drawdown |\n",
      "+--------------+-------------+------------+--------------+\n",
      "| -50.104850%  |  -89.605540 | 0.396972%  |  50.335467%  |\n",
      "+--------------+-------------+------------+--------------+\n",
      "Train Episode: [10/20]\n",
      "+--------------+-------------+------------+--------------+\n",
      "| Total Return | Sharp Ratio | Volatility | Max Drawdown |\n",
      "+--------------+-------------+------------+--------------+\n",
      "| -99.843678%  |  -61.560914 | 0.406274%  |  99.843678%  |\n",
      "+--------------+-------------+------------+--------------+\n",
      "Valid Episode: [10/20]\n",
      "+--------------+-------------+------------+--------------+\n",
      "| Total Return | Sharp Ratio | Volatility | Max Drawdown |\n",
      "+--------------+-------------+------------+--------------+\n",
      "| -50.196866%  |  -96.982435 | 0.367450%  |  50.230103%  |\n",
      "+--------------+-------------+------------+--------------+\n",
      "Train Episode: [11/20]\n",
      "+--------------+-------------+------------+--------------+\n",
      "| Total Return | Sharp Ratio | Volatility | Max Drawdown |\n",
      "+--------------+-------------+------------+--------------+\n",
      "| -99.828070%  |  -60.594231 | 0.412691%  |  99.828070%  |\n",
      "+--------------+-------------+------------+--------------+\n",
      "Valid Episode: [11/20]\n",
      "+--------------+-------------+------------+--------------+\n",
      "| Total Return | Sharp Ratio | Volatility | Max Drawdown |\n",
      "+--------------+-------------+------------+--------------+\n",
      "| -49.327847%  |  -85.303945 | 0.410524%  |  49.356794%  |\n",
      "+--------------+-------------+------------+--------------+\n",
      "Train Episode: [12/20]\n",
      "+--------------+-------------+------------+--------------+\n",
      "| Total Return | Sharp Ratio | Volatility | Max Drawdown |\n",
      "+--------------+-------------+------------+--------------+\n",
      "| -99.832747%  |  -63.128423 | 0.396143%  |  99.832789%  |\n",
      "+--------------+-------------+------------+--------------+\n",
      "Valid Episode: [12/20]\n",
      "+--------------+-------------+------------+--------------+\n",
      "| Total Return | Sharp Ratio | Volatility | Max Drawdown |\n",
      "+--------------+-------------+------------+--------------+\n",
      "| -52.426902%  |  -97.695218 | 0.380975%  |  52.742033%  |\n",
      "+--------------+-------------+------------+--------------+\n",
      "Train Episode: [13/20]\n",
      "+--------------+-------------+------------+--------------+\n",
      "| Total Return | Sharp Ratio | Volatility | Max Drawdown |\n",
      "+--------------+-------------+------------+--------------+\n",
      "| -99.800983%  |  -63.366742 | 0.394527%  |  99.800983%  |\n",
      "+--------------+-------------+------------+--------------+\n",
      "Valid Episode: [13/20]\n",
      "+--------------+-------------+------------+--------------+\n",
      "| Total Return | Sharp Ratio | Volatility | Max Drawdown |\n",
      "+--------------+-------------+------------+--------------+\n",
      "| -52.371088%  |  -96.562835 | 0.385032%  |  52.545665%  |\n",
      "+--------------+-------------+------------+--------------+\n",
      "Train Episode: [14/20]\n",
      "+--------------+-------------+------------+--------------+\n",
      "| Total Return | Sharp Ratio | Volatility | Max Drawdown |\n",
      "+--------------+-------------+------------+--------------+\n",
      "| -99.831621%  |  -61.896526 | 0.404022%  |  99.831630%  |\n",
      "+--------------+-------------+------------+--------------+\n",
      "Valid Episode: [14/20]\n",
      "+--------------+-------------+------------+--------------+\n",
      "| Total Return | Sharp Ratio | Volatility | Max Drawdown |\n",
      "+--------------+-------------+------------+--------------+\n",
      "| -48.780130%  |  -91.140222 | 0.379969%  |  48.872837%  |\n",
      "+--------------+-------------+------------+--------------+\n",
      "Train Episode: [15/20]\n",
      "+--------------+-------------+------------+--------------+\n",
      "| Total Return | Sharp Ratio | Volatility | Max Drawdown |\n",
      "+--------------+-------------+------------+--------------+\n",
      "| -99.829007%  |  -62.805850 | 0.398162%  |  99.829007%  |\n",
      "+--------------+-------------+------------+--------------+\n",
      "Valid Episode: [15/20]\n",
      "+--------------+-------------+------------+--------------+\n",
      "| Total Return | Sharp Ratio | Volatility | Max Drawdown |\n",
      "+--------------+-------------+------------+--------------+\n",
      "| -50.357424%  |  -86.724983 | 0.412225%  |  50.606705%  |\n",
      "+--------------+-------------+------------+--------------+\n",
      "Train Episode: [16/20]\n",
      "+--------------+-------------+------------+--------------+\n",
      "| Total Return | Sharp Ratio | Volatility | Max Drawdown |\n",
      "+--------------+-------------+------------+--------------+\n",
      "| -99.827741%  |  -63.424137 | 0.394276%  |  99.827741%  |\n",
      "+--------------+-------------+------------+--------------+\n",
      "Valid Episode: [16/20]\n",
      "+--------------+-------------+------------+--------------+\n",
      "| Total Return | Sharp Ratio | Volatility | Max Drawdown |\n",
      "+--------------+-------------+------------+--------------+\n",
      "| -54.085072%  |  -95.105420 | 0.403727%  |  54.223069%  |\n",
      "+--------------+-------------+------------+--------------+\n",
      "Train Episode: [17/20]\n",
      "+--------------+-------------+------------+--------------+\n",
      "| Total Return | Sharp Ratio | Volatility | Max Drawdown |\n",
      "+--------------+-------------+------------+--------------+\n",
      "| -99.830264%  |  -60.832343 | 0.411084%  |  99.830264%  |\n",
      "+--------------+-------------+------------+--------------+\n",
      "Valid Episode: [17/20]\n",
      "+--------------+-------------+------------+--------------+\n",
      "| Total Return | Sharp Ratio | Volatility | Max Drawdown |\n",
      "+--------------+-------------+------------+--------------+\n",
      "| -52.322249%  |  -99.251003 | 0.374254%  |  52.505239%  |\n",
      "+--------------+-------------+------------+--------------+\n",
      "Train Episode: [18/20]\n",
      "+--------------+-------------+------------+--------------+\n",
      "| Total Return | Sharp Ratio | Volatility | Max Drawdown |\n",
      "+--------------+-------------+------------+--------------+\n",
      "| -99.796847%  |  -64.742590 | 0.386127%  |  99.796995%  |\n",
      "+--------------+-------------+------------+--------------+\n",
      "Valid Episode: [18/20]\n",
      "+--------------+-------------+------------+--------------+\n",
      "| Total Return | Sharp Ratio | Volatility | Max Drawdown |\n",
      "+--------------+-------------+------------+--------------+\n",
      "| -48.929173%  |  -90.924974 | 0.382032%  |  49.058675%  |\n",
      "+--------------+-------------+------------+--------------+\n",
      "Train Episode: [19/20]\n",
      "+--------------+-------------+------------+--------------+\n",
      "| Total Return | Sharp Ratio | Volatility | Max Drawdown |\n",
      "+--------------+-------------+------------+--------------+\n",
      "| -99.811517%  |  -62.314853 | 0.401229%  |  99.811813%  |\n",
      "+--------------+-------------+------------+--------------+\n",
      "Valid Episode: [19/20]\n",
      "+--------------+-------------+------------+--------------+\n",
      "| Total Return | Sharp Ratio | Volatility | Max Drawdown |\n",
      "+--------------+-------------+------------+--------------+\n",
      "| -48.137132%  |  -87.040223 | 0.392623%  |  48.348312%  |\n",
      "+--------------+-------------+------------+--------------+\n",
      "Train Episode: [20/20]\n",
      "+--------------+-------------+------------+--------------+\n",
      "| Total Return | Sharp Ratio | Volatility | Max Drawdown |\n",
      "+--------------+-------------+------------+--------------+\n",
      "| -99.819446%  |  -62.421356 | 0.400576%  |  99.819551%  |\n",
      "+--------------+-------------+------------+--------------+\n",
      "Valid Episode: [20/20]\n",
      "+--------------+-------------+------------+--------------+\n",
      "| Total Return | Sharp Ratio | Volatility | Max Drawdown |\n",
      "+--------------+-------------+------------+--------------+\n",
      "| -50.339741%  | -100.094910 | 0.357038%  |  50.564869%  |\n",
      "+--------------+-------------+------------+--------------+\n"
     ]
    }
   ],
   "source": [
    "trainer.train_and_valid()"
   ]
  },
  {
   "cell_type": "code",
   "execution_count": 19,
   "metadata": {
    "collapsed": false
   },
   "outputs": [
    {
     "name": "stderr",
     "output_type": "stream",
     "text": [
      "2023-02-28 14:43:16,103\tWARNING env.py:135 -- Your env doesn't have a .spec.max_episode_steps attribute. This is fine if you have set 'horizon' in your config dictionary, or `soft_horizon`. However, if you haven't, 'horizon' will default to infinity, and your environment will not be reset.\n",
      "2023-02-28 14:43:16,176\tWARNING util.py:65 -- Install gputil for GPU system monitoring.\n",
      "2023-02-28 14:43:16,193\tWARNING eager_tf_policy.py:724 -- Cannot restore an optimizer's state for tf eager! Keras is not able to save the v1.x optimizers (from tf.compat.v1.train) since they aren't compatible with checkpoints.\n",
      "2023-02-28 14:43:16,481\tINFO trainable.py:588 -- Restored on 127.0.0.1 from checkpoint: C:\\Users\\AIR-USER3/ray_results\\PPOTrainer_portfolio_management_2023-02-28_14-43-15s66g6xv3\\tmpz8dd9b16restore_from_object\\checkpoint-6\n",
      "2023-02-28 14:43:16,483\tINFO trainable.py:597 -- Current state after restoring: {'_iteration': 6, '_timesteps_total': None, '_time_total': 214.41948294639587, '_episodes_total': 5}\n"
     ]
    },
    {
     "name": "stdout",
     "output_type": "stream",
     "text": [
      "Test Best Episode\n",
      "+--------------+-------------+------------+--------------+\n",
      "| Total Return | Sharp Ratio | Volatility | Max Drawdown |\n",
      "+--------------+-------------+------------+--------------+\n",
      "| -55.999426%  | -140.573479 | 0.283378%  |  56.309835%  |\n",
      "+--------------+-------------+------------+--------------+\n"
     ]
    }
   ],
   "source": [
    "import ray\n",
    "from ray.tune.registry import register_env\n",
    "from trademaster.environments.portfolio_management.environment import PortfolioManagementEnvironment\n",
    "def env_creator(env_name):\n",
    "    if env_name == 'portfolio_management':\n",
    "        env = PortfolioManagementEnvironment\n",
    "    else:\n",
    "        raise NotImplementedError\n",
    "    return env\n",
    "ray.init(ignore_reinit_error=True)\n",
    "register_env(\"portfolio_management\", lambda config: env_creator(\"portfolio_management\")(config))\n",
    "trainer.test();"
   ]
  },
  {
   "cell_type": "code",
   "execution_count": null,
   "metadata": {},
   "outputs": [],
   "source": [
    "plot(trainer.test_environment.save_asset_memory(),alg=\"PPO\")"
   ]
  }
 ],
 "metadata": {
  "kernelspec": {
   "display_name": "Python 3 (ipykernel)",
   "language": "python",
   "name": "python3"
  },
  "language_info": {
   "codemirror_mode": {
    "name": "ipython",
    "version": 3
   },
   "file_extension": ".py",
   "mimetype": "text/x-python",
   "name": "python",
   "nbconvert_exporter": "python",
   "pygments_lexer": "ipython3",
   "version": "3.7.13"
  },
  "vscode": {
   "interpreter": {
    "hash": "a1f97403911abd3f02553c8f2b0c54537fddc7efadd9f5d3e31784db6e40c347"
   }
  }
 },
 "nbformat": 4,
 "nbformat_minor": 0
}
