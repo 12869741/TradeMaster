{
 "cells": [
  {
   "cell_type": "markdown",
   "metadata": {},
   "source": [
    "# Tutorial 6\n",
    "We show how to train Double DQN for high frequency trading on Bitcoin."
   ]
  },
  {
   "cell_type": "markdown",
   "metadata": {},
   "source": [
    "## Step 1: Import Packages\n",
    "Modify the system path and load the corresponding packages and functions "
   ]
  },
  {
   "cell_type": "code",
   "execution_count": 1,
   "metadata": {},
   "outputs": [],
   "source": [
    "import os\n",
    "import sys\n",
    "from pathlib import Path\n",
    "import warnings\n",
    "warnings.filterwarnings(\"ignore\")\n",
    "\n",
    "ROOT = os.path.dirname(os.path.abspath(\".\"))\n",
    "sys.path.append(ROOT)\n",
    "\n",
    "import torch\n",
    "import argparse\n",
    "import os.path as osp\n",
    "from mmcv import Config\n",
    "from trademaster.utils import replace_cfg_vals\n",
    "from trademaster.nets.builder import build_net\n",
    "from trademaster.environments.builder import build_environment\n",
    "from trademaster.datasets.builder import build_dataset\n",
    "from trademaster.agents.builder import build_agent\n",
    "from trademaster.optimizers.builder import build_optimizer\n",
    "from trademaster.losses.builder import build_loss\n",
    "from trademaster.trainers.builder import build_trainer\n",
    "from trademaster.transition.builder import build_transition\n",
    "from trademaster.utils import plot"
   ]
  },
  {
   "cell_type": "markdown",
   "metadata": {},
   "source": [
    "## Step 2: Load Configs\n",
    "Load default config from the file `configs/high_frequency_trading/high_frequency_trading_BTC_dqn_dqn_adam_mse.py`"
   ]
  },
  {
   "cell_type": "code",
   "execution_count": 2,
   "metadata": {},
   "outputs": [],
   "source": [
    "parser = argparse.ArgumentParser(description='Download Alpaca Datasets')\n",
    "parser.add_argument(\"--config\", default=osp.join(ROOT, \"configs\", \"high_frequency_trading\", \"high_frequency_trading_BTC_dqn_dqn_adam_mse.py\"),\n",
    "                    help=\"download datasets config file path\")\n",
    "parser.add_argument(\"--task_name\", type=str, default=\"train\")\n",
    "\n",
    "args, _ = parser.parse_known_args()\n",
    "cfg = Config.fromfile(args.config)\n",
    "task_name = args.task_name\n",
    "cfg = replace_cfg_vals(cfg)"
   ]
  },
  {
   "cell_type": "code",
   "execution_count": 3,
   "metadata": {},
   "outputs": [
    {
     "data": {
      "text/plain": [
       "Config (path: E:\\workspace\\RA\\TradeMaster\\configs\\high_frequency_trading\\high_frequency_trading_BTC_dqn_dqn_adam_mse.py): {'data': {'type': 'HighFrequencyTradingDataset', 'data_path': 'data/high_frequency_trading/small_BTC', 'train_path': 'data/high_frequency_trading/small_BTC/train.csv', 'valid_path': 'data/high_frequency_trading/small_BTC/valid.csv', 'test_path': 'data/high_frequency_trading/small_BTC/test.csv', 'test_dynamic_path': 'data/high_frequency_trading/small_BTC/test_labeled_3_300_-0.01_0.01.csv', 'tech_indicator_list': ['imblance_volume_oe', 'sell_spread_oe', 'buy_spread_oe', 'kmid2', 'bid1_size_n', 'ksft2', 'ma_10', 'ksft', 'kmid', 'ask1_size_n', 'trade_diff', 'qtlu_10', 'qtld_10', 'cntd_10', 'beta_10', 'roc_10', 'bid5_size_n', 'rsv_10', 'imxd_10', 'ask5_size_n', 'ma_30', 'max_10', 'qtlu_30', 'imax_10', 'imin_10', 'min_10', 'qtld_30', 'cntn_10', 'rsv_30', 'cntp_10', 'ma_60', 'max_30', 'qtlu_60', 'qtld_60', 'cntd_30', 'roc_30', 'beta_30', 'bid4_size_n', 'rsv_60', 'ask4_size_n', 'imxd_30', 'min_30', 'max_60', 'imax_30', 'imin_30', 'cntd_60', 'roc_60', 'beta_60', 'cntn_30', 'min_60', 'cntp_30', 'bid3_size_n', 'imxd_60', 'ask3_size_n', 'sell_volume_oe', 'imax_60', 'imin_60', 'cntn_60', 'buy_volume_oe', 'cntp_60', 'bid2_size_n', 'kup', 'bid1_size', 'ask1_size', 'std_30', 'ask2_size_n'], 'transcation_cost': 0, 'backward_num_timestamp': 1, 'max_holding_number': 0.01, 'num_action': 11, 'max_punish': 1000000000000.0, 'episode_length': 14400}, 'environment': {'type': 'HighFrequencyTradingEnvironment'}, 'agent': {'type': 'HighFrequencyTradingDDQN', 'auxiliary_coffient': 512, 'reward_scale': 1, 'repeat_times': 1, 'gamma': 0.99, 'batch_size': 64, 'clip_grad_norm': 3.0, 'soft_update_tau': 0, 'state_value_tau': 0.005}, 'trainer': {'type': 'HighFrequencyTradingTrainer', 'epochs': 10, 'work_dir': 'work_dir/high_frequency_trading_BTC_high_frequency_trading_dqn_ddqn_adam_mse', 'seeds': 12345, 'batch_size': 512, 'horizon_len': 512, 'buffer_size': 100000.0, 'num_threads': 8, 'if_remove': False, 'if_discrete': True, 'if_off_policy': True, 'if_keep_save': True, 'if_over_write': False, 'if_save_buffer': False}, 'loss': {'type': 'HFTLoss', 'ada': 1}, 'optimizer': {'type': 'Adam', 'lr': 0.001}, 'act': {'type': 'HFTQNet', 'state_dim': 66, 'action_dim': 11, 'dims': 16, 'explore_rate': 0.25, 'max_punish': 0}, 'cri': None, 'task_name': 'high_frequency_trading', 'dataset_name': 'BTC', 'optimizer_name': 'adam', 'loss_name': 'mse', 'auxiliry_loss_name': 'KLdiv', 'net_name': 'high_frequency_trading_dqn', 'agent_name': 'ddqn', 'work_dir': 'work_dir/high_frequency_trading_BTC_high_frequency_trading_dqn_ddqn_adam_mse', 'batch_size': 512, 'train_environment': {'type': 'HighFrequencyTradingTrainingEnvironment'}}"
      ]
     },
     "execution_count": 3,
     "metadata": {},
     "output_type": "execute_result"
    }
   ],
   "source": [
    "cfg"
   ]
  },
  {
   "cell_type": "markdown",
   "metadata": {},
   "source": [
    "## Step 3: Build Dataset"
   ]
  },
  {
   "cell_type": "code",
   "execution_count": 4,
   "metadata": {},
   "outputs": [],
   "source": [
    "dataset = build_dataset(cfg)"
   ]
  },
  {
   "cell_type": "markdown",
   "metadata": {},
   "source": [
    "## Step 4: Build Reinforcement Learning Environments\n",
    "Build environments based on cfg and predefined dataset\n",
    "\n"
   ]
  },
  {
   "cell_type": "code",
   "execution_count": 5,
   "metadata": {},
   "outputs": [],
   "source": [
    "valid_environment = build_environment(cfg, default_args=dict(dataset=dataset, task=\"valid\"))\n",
    "test_environment = build_environment(cfg, default_args=dict(dataset=dataset, task=\"test\"))\n",
    "cfg.environment = cfg.train_environment\n",
    "train_environment = build_environment(cfg, default_args=dict(dataset=dataset, task=\"train\"))"
   ]
  },
  {
   "cell_type": "code",
   "execution_count": 6,
   "metadata": {},
   "outputs": [
    {
     "data": {
      "text/html": [
       "<div>\n",
       "<style scoped>\n",
       "    .dataframe tbody tr th:only-of-type {\n",
       "        vertical-align: middle;\n",
       "    }\n",
       "\n",
       "    .dataframe tbody tr th {\n",
       "        vertical-align: top;\n",
       "    }\n",
       "\n",
       "    .dataframe thead th {\n",
       "        text-align: right;\n",
       "    }\n",
       "</style>\n",
       "<table border=\"1\" class=\"dataframe\">\n",
       "  <thead>\n",
       "    <tr style=\"text-align: right;\">\n",
       "      <th></th>\n",
       "      <th>bid1_price</th>\n",
       "      <th>bid1_size</th>\n",
       "      <th>bid2_price</th>\n",
       "      <th>bid2_size</th>\n",
       "      <th>bid3_price</th>\n",
       "      <th>bid3_size</th>\n",
       "      <th>bid4_price</th>\n",
       "      <th>bid4_size</th>\n",
       "      <th>bid5_price</th>\n",
       "      <th>bid5_size</th>\n",
       "      <th>...</th>\n",
       "      <th>imxd_60</th>\n",
       "      <th>cntp_10</th>\n",
       "      <th>cntp_30</th>\n",
       "      <th>cntp_60</th>\n",
       "      <th>cntn_10</th>\n",
       "      <th>cntn_30</th>\n",
       "      <th>cntn_60</th>\n",
       "      <th>cntd_10</th>\n",
       "      <th>cntd_30</th>\n",
       "      <th>cntd_60</th>\n",
       "    </tr>\n",
       "  </thead>\n",
       "  <tbody>\n",
       "    <tr>\n",
       "      <th>0</th>\n",
       "      <td>23794.3</td>\n",
       "      <td>0.900828</td>\n",
       "      <td>23792.9</td>\n",
       "      <td>0.018588</td>\n",
       "      <td>23792.8</td>\n",
       "      <td>0.007388</td>\n",
       "      <td>23792.1</td>\n",
       "      <td>0.042018</td>\n",
       "      <td>23792.0</td>\n",
       "      <td>0.000300</td>\n",
       "      <td>...</td>\n",
       "      <td>1.193895</td>\n",
       "      <td>0.268138</td>\n",
       "      <td>0.963686</td>\n",
       "      <td>0.800684</td>\n",
       "      <td>-0.418841</td>\n",
       "      <td>-0.017993</td>\n",
       "      <td>-0.189727</td>\n",
       "      <td>0.469470</td>\n",
       "      <td>0.745885</td>\n",
       "      <td>0.877378</td>\n",
       "    </tr>\n",
       "    <tr>\n",
       "      <th>1</th>\n",
       "      <td>23794.3</td>\n",
       "      <td>0.000878</td>\n",
       "      <td>23793.2</td>\n",
       "      <td>0.014988</td>\n",
       "      <td>23793.1</td>\n",
       "      <td>0.147063</td>\n",
       "      <td>23792.8</td>\n",
       "      <td>0.007388</td>\n",
       "      <td>23792.0</td>\n",
       "      <td>0.000300</td>\n",
       "      <td>...</td>\n",
       "      <td>1.193895</td>\n",
       "      <td>0.268138</td>\n",
       "      <td>0.963686</td>\n",
       "      <td>0.800684</td>\n",
       "      <td>-1.027695</td>\n",
       "      <td>-0.017993</td>\n",
       "      <td>-0.358007</td>\n",
       "      <td>0.891105</td>\n",
       "      <td>0.745885</td>\n",
       "      <td>1.031828</td>\n",
       "    </tr>\n",
       "    <tr>\n",
       "      <th>2</th>\n",
       "      <td>23794.3</td>\n",
       "      <td>0.000878</td>\n",
       "      <td>23793.2</td>\n",
       "      <td>0.014988</td>\n",
       "      <td>23792.8</td>\n",
       "      <td>0.007388</td>\n",
       "      <td>23792.0</td>\n",
       "      <td>0.000300</td>\n",
       "      <td>23791.8</td>\n",
       "      <td>0.147071</td>\n",
       "      <td>...</td>\n",
       "      <td>1.139902</td>\n",
       "      <td>0.268138</td>\n",
       "      <td>1.257798</td>\n",
       "      <td>0.976534</td>\n",
       "      <td>-1.027695</td>\n",
       "      <td>-0.017993</td>\n",
       "      <td>-0.526286</td>\n",
       "      <td>0.891105</td>\n",
       "      <td>0.969180</td>\n",
       "      <td>1.340727</td>\n",
       "    </tr>\n",
       "    <tr>\n",
       "      <th>3</th>\n",
       "      <td>23794.3</td>\n",
       "      <td>0.000878</td>\n",
       "      <td>23793.2</td>\n",
       "      <td>0.014988</td>\n",
       "      <td>23792.8</td>\n",
       "      <td>0.007388</td>\n",
       "      <td>23792.0</td>\n",
       "      <td>0.000300</td>\n",
       "      <td>23791.8</td>\n",
       "      <td>0.147071</td>\n",
       "      <td>...</td>\n",
       "      <td>1.139902</td>\n",
       "      <td>0.268138</td>\n",
       "      <td>1.257798</td>\n",
       "      <td>0.800684</td>\n",
       "      <td>-1.027695</td>\n",
       "      <td>-0.017993</td>\n",
       "      <td>-0.526286</td>\n",
       "      <td>0.891105</td>\n",
       "      <td>0.969180</td>\n",
       "      <td>1.186278</td>\n",
       "    </tr>\n",
       "    <tr>\n",
       "      <th>4</th>\n",
       "      <td>23794.3</td>\n",
       "      <td>0.000878</td>\n",
       "      <td>23793.2</td>\n",
       "      <td>0.014988</td>\n",
       "      <td>23792.8</td>\n",
       "      <td>0.007388</td>\n",
       "      <td>23792.0</td>\n",
       "      <td>0.000300</td>\n",
       "      <td>23791.8</td>\n",
       "      <td>0.147071</td>\n",
       "      <td>...</td>\n",
       "      <td>1.112905</td>\n",
       "      <td>0.268138</td>\n",
       "      <td>0.963686</td>\n",
       "      <td>0.800684</td>\n",
       "      <td>-1.027695</td>\n",
       "      <td>-0.017993</td>\n",
       "      <td>-0.694566</td>\n",
       "      <td>0.891105</td>\n",
       "      <td>0.745885</td>\n",
       "      <td>1.340727</td>\n",
       "    </tr>\n",
       "  </tbody>\n",
       "</table>\n",
       "<p>5 rows × 96 columns</p>\n",
       "</div>"
      ],
      "text/plain": [
       "   bid1_price  bid1_size  bid2_price  bid2_size  bid3_price  bid3_size  \\\n",
       "0     23794.3   0.900828     23792.9   0.018588     23792.8   0.007388   \n",
       "1     23794.3   0.000878     23793.2   0.014988     23793.1   0.147063   \n",
       "2     23794.3   0.000878     23793.2   0.014988     23792.8   0.007388   \n",
       "3     23794.3   0.000878     23793.2   0.014988     23792.8   0.007388   \n",
       "4     23794.3   0.000878     23793.2   0.014988     23792.8   0.007388   \n",
       "\n",
       "   bid4_price  bid4_size  bid5_price  bid5_size  ...   imxd_60   cntp_10  \\\n",
       "0     23792.1   0.042018     23792.0   0.000300  ...  1.193895  0.268138   \n",
       "1     23792.8   0.007388     23792.0   0.000300  ...  1.193895  0.268138   \n",
       "2     23792.0   0.000300     23791.8   0.147071  ...  1.139902  0.268138   \n",
       "3     23792.0   0.000300     23791.8   0.147071  ...  1.139902  0.268138   \n",
       "4     23792.0   0.000300     23791.8   0.147071  ...  1.112905  0.268138   \n",
       "\n",
       "    cntp_30   cntp_60   cntn_10   cntn_30   cntn_60   cntd_10   cntd_30  \\\n",
       "0  0.963686  0.800684 -0.418841 -0.017993 -0.189727  0.469470  0.745885   \n",
       "1  0.963686  0.800684 -1.027695 -0.017993 -0.358007  0.891105  0.745885   \n",
       "2  1.257798  0.976534 -1.027695 -0.017993 -0.526286  0.891105  0.969180   \n",
       "3  1.257798  0.800684 -1.027695 -0.017993 -0.526286  0.891105  0.969180   \n",
       "4  0.963686  0.800684 -1.027695 -0.017993 -0.694566  0.891105  0.745885   \n",
       "\n",
       "    cntd_60  \n",
       "0  0.877378  \n",
       "1  1.031828  \n",
       "2  1.340727  \n",
       "3  1.186278  \n",
       "4  1.340727  \n",
       "\n",
       "[5 rows x 96 columns]"
      ]
     },
     "execution_count": 6,
     "metadata": {},
     "output_type": "execute_result"
    }
   ],
   "source": [
    "train_environment.df.head()"
   ]
  },
  {
<<<<<<< HEAD
   "cell_type": "code",
   "execution_count": 7,
   "metadata": {},
   "outputs": [
    {
     "data": {
      "text/html": [
       "<div>\n",
       "<style scoped>\n",
       "    .dataframe tbody tr th:only-of-type {\n",
       "        vertical-align: middle;\n",
       "    }\n",
       "\n",
       "    .dataframe tbody tr th {\n",
       "        vertical-align: top;\n",
       "    }\n",
       "\n",
       "    .dataframe thead th {\n",
       "        text-align: right;\n",
       "    }\n",
       "</style>\n",
       "<table border=\"1\" class=\"dataframe\">\n",
       "  <thead>\n",
       "    <tr style=\"text-align: right;\">\n",
       "      <th></th>\n",
       "      <th>bid1_price</th>\n",
       "      <th>bid1_size</th>\n",
       "      <th>bid2_price</th>\n",
       "      <th>bid2_size</th>\n",
       "      <th>bid3_price</th>\n",
       "      <th>bid3_size</th>\n",
       "      <th>bid4_price</th>\n",
       "      <th>bid4_size</th>\n",
       "      <th>bid5_price</th>\n",
       "      <th>bid5_size</th>\n",
       "      <th>...</th>\n",
       "      <th>imxd_60</th>\n",
       "      <th>cntp_10</th>\n",
       "      <th>cntp_30</th>\n",
       "      <th>cntp_60</th>\n",
       "      <th>cntn_10</th>\n",
       "      <th>cntn_30</th>\n",
       "      <th>cntn_60</th>\n",
       "      <th>cntd_10</th>\n",
       "      <th>cntd_30</th>\n",
       "      <th>cntd_60</th>\n",
       "    </tr>\n",
       "  </thead>\n",
       "  <tbody>\n",
       "    <tr>\n",
       "      <th>50000</th>\n",
       "      <td>23303.2</td>\n",
       "      <td>0.031181</td>\n",
       "      <td>23302.0</td>\n",
       "      <td>0.019908</td>\n",
       "      <td>23301.4</td>\n",
       "      <td>0.020000</td>\n",
       "      <td>23300.0</td>\n",
       "      <td>0.771447</td>\n",
       "      <td>23299.0</td>\n",
       "      <td>0.042905</td>\n",
       "      <td>...</td>\n",
       "      <td>-0.209928</td>\n",
       "      <td>-0.361983</td>\n",
       "      <td>0.081350</td>\n",
       "      <td>0.097285</td>\n",
       "      <td>-0.418841</td>\n",
       "      <td>-0.582354</td>\n",
       "      <td>-0.694566</td>\n",
       "      <td>0.047835</td>\n",
       "      <td>0.522590</td>\n",
       "      <td>0.722929</td>\n",
       "    </tr>\n",
       "    <tr>\n",
       "      <th>50001</th>\n",
       "      <td>23303.2</td>\n",
       "      <td>0.031181</td>\n",
       "      <td>23302.0</td>\n",
       "      <td>0.019908</td>\n",
       "      <td>23301.4</td>\n",
       "      <td>0.020000</td>\n",
       "      <td>23300.0</td>\n",
       "      <td>0.771447</td>\n",
       "      <td>23298.5</td>\n",
       "      <td>0.069680</td>\n",
       "      <td>...</td>\n",
       "      <td>-0.209928</td>\n",
       "      <td>-0.361983</td>\n",
       "      <td>0.081350</td>\n",
       "      <td>0.097285</td>\n",
       "      <td>-0.418841</td>\n",
       "      <td>-0.582354</td>\n",
       "      <td>-0.694566</td>\n",
       "      <td>0.047835</td>\n",
       "      <td>0.522590</td>\n",
       "      <td>0.722929</td>\n",
       "    </tr>\n",
       "    <tr>\n",
       "      <th>50002</th>\n",
       "      <td>23303.2</td>\n",
       "      <td>0.011181</td>\n",
       "      <td>23302.0</td>\n",
       "      <td>0.019908</td>\n",
       "      <td>23300.1</td>\n",
       "      <td>0.018296</td>\n",
       "      <td>23300.0</td>\n",
       "      <td>0.771447</td>\n",
       "      <td>23298.5</td>\n",
       "      <td>0.069680</td>\n",
       "      <td>...</td>\n",
       "      <td>-0.209928</td>\n",
       "      <td>-0.361983</td>\n",
       "      <td>0.081350</td>\n",
       "      <td>0.097285</td>\n",
       "      <td>-0.418841</td>\n",
       "      <td>-0.582354</td>\n",
       "      <td>-0.694566</td>\n",
       "      <td>0.047835</td>\n",
       "      <td>0.522590</td>\n",
       "      <td>0.722929</td>\n",
       "    </tr>\n",
       "    <tr>\n",
       "      <th>50003</th>\n",
       "      <td>23303.2</td>\n",
       "      <td>0.011181</td>\n",
       "      <td>23302.0</td>\n",
       "      <td>0.019908</td>\n",
       "      <td>23301.4</td>\n",
       "      <td>0.020000</td>\n",
       "      <td>23300.0</td>\n",
       "      <td>0.771447</td>\n",
       "      <td>23298.5</td>\n",
       "      <td>0.069680</td>\n",
       "      <td>...</td>\n",
       "      <td>-0.209928</td>\n",
       "      <td>-0.361983</td>\n",
       "      <td>-0.212761</td>\n",
       "      <td>0.097285</td>\n",
       "      <td>-0.418841</td>\n",
       "      <td>-0.582354</td>\n",
       "      <td>-0.694566</td>\n",
       "      <td>0.047835</td>\n",
       "      <td>0.299295</td>\n",
       "      <td>0.722929</td>\n",
       "    </tr>\n",
       "    <tr>\n",
       "      <th>50004</th>\n",
       "      <td>23303.2</td>\n",
       "      <td>0.011181</td>\n",
       "      <td>23302.0</td>\n",
       "      <td>0.019908</td>\n",
       "      <td>23301.4</td>\n",
       "      <td>0.020000</td>\n",
       "      <td>23300.0</td>\n",
       "      <td>0.771447</td>\n",
       "      <td>23298.9</td>\n",
       "      <td>0.042906</td>\n",
       "      <td>...</td>\n",
       "      <td>-0.182932</td>\n",
       "      <td>-0.361983</td>\n",
       "      <td>-0.212761</td>\n",
       "      <td>-0.078565</td>\n",
       "      <td>-0.418841</td>\n",
       "      <td>-0.582354</td>\n",
       "      <td>-0.694566</td>\n",
       "      <td>0.047835</td>\n",
       "      <td>0.299295</td>\n",
       "      <td>0.568479</td>\n",
       "    </tr>\n",
       "  </tbody>\n",
       "</table>\n",
       "<p>5 rows × 96 columns</p>\n",
       "</div>"
      ],
      "text/plain": [
       "       bid1_price  bid1_size  bid2_price  bid2_size  bid3_price  bid3_size  \\\n",
       "50000     23303.2   0.031181     23302.0   0.019908     23301.4   0.020000   \n",
       "50001     23303.2   0.031181     23302.0   0.019908     23301.4   0.020000   \n",
       "50002     23303.2   0.011181     23302.0   0.019908     23300.1   0.018296   \n",
       "50003     23303.2   0.011181     23302.0   0.019908     23301.4   0.020000   \n",
       "50004     23303.2   0.011181     23302.0   0.019908     23301.4   0.020000   \n",
       "\n",
       "       bid4_price  bid4_size  bid5_price  bid5_size  ...   imxd_60   cntp_10  \\\n",
       "50000     23300.0   0.771447     23299.0   0.042905  ... -0.209928 -0.361983   \n",
       "50001     23300.0   0.771447     23298.5   0.069680  ... -0.209928 -0.361983   \n",
       "50002     23300.0   0.771447     23298.5   0.069680  ... -0.209928 -0.361983   \n",
       "50003     23300.0   0.771447     23298.5   0.069680  ... -0.209928 -0.361983   \n",
       "50004     23300.0   0.771447     23298.9   0.042906  ... -0.182932 -0.361983   \n",
       "\n",
       "        cntp_30   cntp_60   cntn_10   cntn_30   cntn_60   cntd_10   cntd_30  \\\n",
       "50000  0.081350  0.097285 -0.418841 -0.582354 -0.694566  0.047835  0.522590   \n",
       "50001  0.081350  0.097285 -0.418841 -0.582354 -0.694566  0.047835  0.522590   \n",
       "50002  0.081350  0.097285 -0.418841 -0.582354 -0.694566  0.047835  0.522590   \n",
       "50003 -0.212761  0.097285 -0.418841 -0.582354 -0.694566  0.047835  0.299295   \n",
       "50004 -0.212761 -0.078565 -0.418841 -0.582354 -0.694566  0.047835  0.299295   \n",
       "\n",
       "        cntd_60  \n",
       "50000  0.722929  \n",
       "50001  0.722929  \n",
       "50002  0.722929  \n",
       "50003  0.722929  \n",
       "50004  0.568479  \n",
       "\n",
       "[5 rows x 96 columns]"
      ]
     },
     "execution_count": 7,
     "metadata": {},
     "output_type": "execute_result"
    }
   ],
   "source": [
    "valid_environment.df.head()"
   ]
  },
  {
   "cell_type": "code",
   "execution_count": 8,
   "metadata": {},
   "outputs": [
    {
     "data": {
      "text/html": [
       "<div>\n",
       "<style scoped>\n",
       "    .dataframe tbody tr th:only-of-type {\n",
       "        vertical-align: middle;\n",
       "    }\n",
       "\n",
       "    .dataframe tbody tr th {\n",
       "        vertical-align: top;\n",
       "    }\n",
       "\n",
       "    .dataframe thead th {\n",
       "        text-align: right;\n",
       "    }\n",
       "</style>\n",
       "<table border=\"1\" class=\"dataframe\">\n",
       "  <thead>\n",
       "    <tr style=\"text-align: right;\">\n",
       "      <th></th>\n",
       "      <th>bid1_price</th>\n",
       "      <th>bid1_size</th>\n",
       "      <th>bid2_price</th>\n",
       "      <th>bid2_size</th>\n",
       "      <th>bid3_price</th>\n",
       "      <th>bid3_size</th>\n",
       "      <th>bid4_price</th>\n",
       "      <th>bid4_size</th>\n",
       "      <th>bid5_price</th>\n",
       "      <th>bid5_size</th>\n",
       "      <th>...</th>\n",
       "      <th>imxd_60</th>\n",
       "      <th>cntp_10</th>\n",
       "      <th>cntp_30</th>\n",
       "      <th>cntp_60</th>\n",
       "      <th>cntn_10</th>\n",
       "      <th>cntn_30</th>\n",
       "      <th>cntn_60</th>\n",
       "      <th>cntd_10</th>\n",
       "      <th>cntd_30</th>\n",
       "      <th>cntd_60</th>\n",
       "    </tr>\n",
       "  </thead>\n",
       "  <tbody>\n",
       "    <tr>\n",
       "      <th>75000</th>\n",
       "      <td>23090.7</td>\n",
       "      <td>1.404109</td>\n",
       "      <td>23090.1</td>\n",
       "      <td>0.009321</td>\n",
       "      <td>23090.0</td>\n",
       "      <td>0.127430</td>\n",
       "      <td>23089.5</td>\n",
       "      <td>0.127430</td>\n",
       "      <td>23089.1</td>\n",
       "      <td>0.00030</td>\n",
       "      <td>...</td>\n",
       "      <td>-0.722864</td>\n",
       "      <td>0.268138</td>\n",
       "      <td>-0.506873</td>\n",
       "      <td>1.152384</td>\n",
       "      <td>0.798868</td>\n",
       "      <td>2.521634</td>\n",
       "      <td>1.493069</td>\n",
       "      <td>-0.373800</td>\n",
       "      <td>-2.380241</td>\n",
       "      <td>-0.358218</td>\n",
       "    </tr>\n",
       "    <tr>\n",
       "      <th>75001</th>\n",
       "      <td>23090.7</td>\n",
       "      <td>1.537382</td>\n",
       "      <td>23090.5</td>\n",
       "      <td>0.108546</td>\n",
       "      <td>23090.0</td>\n",
       "      <td>0.127430</td>\n",
       "      <td>23089.5</td>\n",
       "      <td>0.127430</td>\n",
       "      <td>23089.1</td>\n",
       "      <td>0.00030</td>\n",
       "      <td>...</td>\n",
       "      <td>-0.722864</td>\n",
       "      <td>-0.361983</td>\n",
       "      <td>-0.506873</td>\n",
       "      <td>1.152384</td>\n",
       "      <td>0.798868</td>\n",
       "      <td>2.239453</td>\n",
       "      <td>1.493069</td>\n",
       "      <td>-0.795436</td>\n",
       "      <td>-2.156947</td>\n",
       "      <td>-0.358218</td>\n",
       "    </tr>\n",
       "    <tr>\n",
       "      <th>75002</th>\n",
       "      <td>23089.1</td>\n",
       "      <td>0.000300</td>\n",
       "      <td>23088.9</td>\n",
       "      <td>0.000730</td>\n",
       "      <td>23088.5</td>\n",
       "      <td>0.007170</td>\n",
       "      <td>23087.4</td>\n",
       "      <td>0.011701</td>\n",
       "      <td>23087.3</td>\n",
       "      <td>0.00717</td>\n",
       "      <td>...</td>\n",
       "      <td>-0.722864</td>\n",
       "      <td>0.268138</td>\n",
       "      <td>-0.212761</td>\n",
       "      <td>1.328234</td>\n",
       "      <td>0.798868</td>\n",
       "      <td>1.957272</td>\n",
       "      <td>1.324789</td>\n",
       "      <td>-0.373800</td>\n",
       "      <td>-1.710357</td>\n",
       "      <td>-0.049319</td>\n",
       "    </tr>\n",
       "    <tr>\n",
       "      <th>75003</th>\n",
       "      <td>23088.9</td>\n",
       "      <td>0.000730</td>\n",
       "      <td>23088.5</td>\n",
       "      <td>0.007470</td>\n",
       "      <td>23087.4</td>\n",
       "      <td>0.009441</td>\n",
       "      <td>23087.3</td>\n",
       "      <td>0.007170</td>\n",
       "      <td>23086.5</td>\n",
       "      <td>0.00105</td>\n",
       "      <td>...</td>\n",
       "      <td>-0.722864</td>\n",
       "      <td>0.268138</td>\n",
       "      <td>-0.212761</td>\n",
       "      <td>1.152384</td>\n",
       "      <td>1.407722</td>\n",
       "      <td>2.239453</td>\n",
       "      <td>1.493069</td>\n",
       "      <td>-0.795436</td>\n",
       "      <td>-1.933652</td>\n",
       "      <td>-0.358218</td>\n",
       "    </tr>\n",
       "    <tr>\n",
       "      <th>75004</th>\n",
       "      <td>23088.9</td>\n",
       "      <td>0.000760</td>\n",
       "      <td>23088.5</td>\n",
       "      <td>0.007470</td>\n",
       "      <td>23087.4</td>\n",
       "      <td>0.008501</td>\n",
       "      <td>23087.3</td>\n",
       "      <td>0.007170</td>\n",
       "      <td>23086.5</td>\n",
       "      <td>0.00105</td>\n",
       "      <td>...</td>\n",
       "      <td>-0.722864</td>\n",
       "      <td>0.268138</td>\n",
       "      <td>-0.212761</td>\n",
       "      <td>1.152384</td>\n",
       "      <td>2.016576</td>\n",
       "      <td>2.521634</td>\n",
       "      <td>1.493069</td>\n",
       "      <td>-1.217071</td>\n",
       "      <td>-2.156947</td>\n",
       "      <td>-0.358218</td>\n",
       "    </tr>\n",
       "  </tbody>\n",
       "</table>\n",
       "<p>5 rows × 96 columns</p>\n",
       "</div>"
      ],
      "text/plain": [
       "       bid1_price  bid1_size  bid2_price  bid2_size  bid3_price  bid3_size  \\\n",
       "75000     23090.7   1.404109     23090.1   0.009321     23090.0   0.127430   \n",
       "75001     23090.7   1.537382     23090.5   0.108546     23090.0   0.127430   \n",
       "75002     23089.1   0.000300     23088.9   0.000730     23088.5   0.007170   \n",
       "75003     23088.9   0.000730     23088.5   0.007470     23087.4   0.009441   \n",
       "75004     23088.9   0.000760     23088.5   0.007470     23087.4   0.008501   \n",
       "\n",
       "       bid4_price  bid4_size  bid5_price  bid5_size  ...   imxd_60   cntp_10  \\\n",
       "75000     23089.5   0.127430     23089.1    0.00030  ... -0.722864  0.268138   \n",
       "75001     23089.5   0.127430     23089.1    0.00030  ... -0.722864 -0.361983   \n",
       "75002     23087.4   0.011701     23087.3    0.00717  ... -0.722864  0.268138   \n",
       "75003     23087.3   0.007170     23086.5    0.00105  ... -0.722864  0.268138   \n",
       "75004     23087.3   0.007170     23086.5    0.00105  ... -0.722864  0.268138   \n",
       "\n",
       "        cntp_30   cntp_60   cntn_10   cntn_30   cntn_60   cntd_10   cntd_30  \\\n",
       "75000 -0.506873  1.152384  0.798868  2.521634  1.493069 -0.373800 -2.380241   \n",
       "75001 -0.506873  1.152384  0.798868  2.239453  1.493069 -0.795436 -2.156947   \n",
       "75002 -0.212761  1.328234  0.798868  1.957272  1.324789 -0.373800 -1.710357   \n",
       "75003 -0.212761  1.152384  1.407722  2.239453  1.493069 -0.795436 -1.933652   \n",
       "75004 -0.212761  1.152384  2.016576  2.521634  1.493069 -1.217071 -2.156947   \n",
       "\n",
       "        cntd_60  \n",
       "75000 -0.358218  \n",
       "75001 -0.358218  \n",
       "75002 -0.049319  \n",
       "75003 -0.358218  \n",
       "75004 -0.358218  \n",
       "\n",
       "[5 rows x 96 columns]"
      ]
     },
     "execution_count": 8,
     "metadata": {},
     "output_type": "execute_result"
    }
   ],
   "source": [
    "test_environment.df.head()"
   ]
  },
  {
   "attachments": {},
=======
>>>>>>> 01fd0d3c9c3694425784d0c9787683eaf661dd40
   "cell_type": "markdown",
   "metadata": {},
   "source": [
    "## Step 5: Build Net \n",
    "Update information about the state and action dimension. Create networks and optimizer for Double DQN\n"
   ]
  },
  {
   "cell_type": "code",
   "execution_count": 9,
   "metadata": {},
   "outputs": [],
   "source": [
    "action_dim = train_environment.action_dim\n",
    "state_dim = train_environment.state_dim\n",
    "\n",
    "cfg.act.update(dict(action_dim=action_dim, state_dim=state_dim))\n",
    "act = build_net(cfg.act)\n",
    "act_optimizer = build_optimizer(cfg, default_args=dict(params=act.parameters()))\n",
    "if cfg.cri:\n",
    "    cfg.cri.update(dict(action_dim=action_dim, state_dim=state_dim))\n",
    "    cri = build_net(cfg.cri)\n",
    "    cri_optimizer = build_optimizer(cfg, default_args=dict(params=cri.parameters()))\n",
    "else:\n",
    "    cri = None\n",
    "    cri_optimizer = None"
   ]
  },
  {
   "cell_type": "markdown",
   "metadata": {},
   "source": [
    "## Step 6: Build Loss"
   ]
  },
  {
   "cell_type": "code",
   "execution_count": 10,
   "metadata": {},
   "outputs": [],
   "source": [
    "criterion = build_loss(cfg)"
   ]
  },
  {
   "cell_type": "markdown",
   "metadata": {},
   "source": [
    "## Step 7: Build Agent"
   ]
  },
  {
   "cell_type": "code",
   "execution_count": 11,
   "metadata": {},
   "outputs": [],
   "source": [
    "device = torch.device('cuda' if torch.cuda.is_available() else 'cpu')\n",
    "agent = build_agent(cfg,default_args=dict(action_dim=action_dim,state_dim=state_dim,act=act,cri=cri,act_optimizer=act_optimizer,cri_optimizer=cri_optimizer,criterion=criterion,device=device))\n"
   ]
  },
  {
   "cell_type": "markdown",
   "metadata": {},
   "source": [
    "## Step 8: Build Trainer\n",
    "Build trainer from config and create work directionary to save the result, model and config"
   ]
  },
  {
   "cell_type": "code",
   "execution_count": 12,
   "metadata": {},
   "outputs": [
    {
     "name": "stdout",
     "output_type": "stream",
     "text": [
      "| Arguments Keep work_dir: /data/sunshuo/qml/TradeMaster/work_dir/high_frequency_trading_BTC_high_frequency_trading_dqn_ddqn_adam_mse\n"
     ]
    }
   ],
   "source": [
    "\n",
    "trainer = build_trainer(cfg, default_args=dict(train_environment=train_environment,valid_environment=valid_environment,test_environment=test_environment,agent=agent,device=device))\n",
    "\n",
    "cfg.dump(osp.join(ROOT, cfg.work_dir, osp.basename(args.config)))"
   ]
  },
  {
   "cell_type": "markdown",
   "metadata": {},
   "source": [
    "## Step 9: RL Agent Training\n",
    "Train the Double DQN agent based on the config and save results in workdir"
   ]
  },
  {
   "cell_type": "code",
   "execution_count": 13,
   "metadata": {},
   "outputs": [
    {
     "name": "stdout",
     "output_type": "stream",
     "text": [
      "Train Episode: [1/10]\n",
      "+---------------+----------------+------------+--------------+\n",
      "| Profit Margin |  Sharp Ratio   | Volatility | Max Drawdown |\n",
      "+---------------+----------------+------------+--------------+\n",
      "|  -26.578258%  | -300560.920569 | 0.004138%  |  26.591124%  |\n",
      "+---------------+----------------+------------+--------------+\n",
      "+---------------+----------------+------------+--------------+\n",
      "| Profit Margin |  Sharp Ratio   | Volatility | Max Drawdown |\n",
      "+---------------+----------------+------------+--------------+\n",
      "|  -27.884073%  | -295720.496666 | 0.004413%  |  27.889140%  |\n",
      "+---------------+----------------+------------+--------------+\n",
      "Valid Episode: [1/10]\n",
      "+--------------+----------------+------------+--------------+\n",
      "| Total Return |  Sharp Ratio   | Volatility | Max Drawdown |\n",
      "+--------------+----------------+------------+--------------+\n",
      "| -38.177955%  | -310501.539184 | 0.004367%  |  38.177955%  |\n",
      "+--------------+----------------+------------+--------------+\n",
      "Train Episode: [2/10]\n",
      "Valid Episode: [2/10]\n",
      "+--------------+----------------+------------+--------------+\n",
      "| Total Return |  Sharp Ratio   | Volatility | Max Drawdown |\n",
      "+--------------+----------------+------------+--------------+\n",
      "| -37.972952%  | -310824.104918 | 0.004339%  |  37.972952%  |\n",
      "+--------------+----------------+------------+--------------+\n",
      "Train Episode: [3/10]\n",
      "Valid Episode: [3/10]\n",
      "+--------------+----------------+------------+--------------+\n",
      "| Total Return |  Sharp Ratio   | Volatility | Max Drawdown |\n",
      "+--------------+----------------+------------+--------------+\n",
      "| -38.053974%  | -311741.609606 | 0.004335%  |  38.053974%  |\n",
      "+--------------+----------------+------------+--------------+\n",
      "Train Episode: [4/10]\n",
      "Valid Episode: [4/10]\n",
      "+--------------+----------------+------------+--------------+\n",
      "| Total Return |  Sharp Ratio   | Volatility | Max Drawdown |\n",
      "+--------------+----------------+------------+--------------+\n",
      "| -37.874751%  | -307465.987789 | 0.004375%  |  37.874751%  |\n",
      "+--------------+----------------+------------+--------------+\n",
      "Train Episode: [5/10]\n",
      "Valid Episode: [5/10]\n",
      "+--------------+----------------+------------+--------------+\n",
      "| Total Return |  Sharp Ratio   | Volatility | Max Drawdown |\n",
      "+--------------+----------------+------------+--------------+\n",
      "| -37.750678%  | -303848.151169 | 0.004413%  |  37.750678%  |\n",
      "+--------------+----------------+------------+--------------+\n",
      "Train Episode: [6/10]\n",
      "Valid Episode: [6/10]\n",
      "+--------------+----------------+------------+--------------+\n",
      "| Total Return |  Sharp Ratio   | Volatility | Max Drawdown |\n",
      "+--------------+----------------+------------+--------------+\n",
      "| -37.689325%  | -303902.712719 | 0.004405%  |  37.689325%  |\n",
      "+--------------+----------------+------------+--------------+\n",
      "Train Episode: [7/10]\n",
      "Valid Episode: [7/10]\n",
      "+--------------+----------------+------------+--------------+\n",
      "| Total Return |  Sharp Ratio   | Volatility | Max Drawdown |\n",
      "+--------------+----------------+------------+--------------+\n",
      "| -37.244341%  | -294897.503951 | 0.004486%  |  37.244341%  |\n",
      "+--------------+----------------+------------+--------------+\n",
      "Train Episode: [8/10]\n",
      "Valid Episode: [8/10]\n",
      "+--------------+----------------+------------+--------------+\n",
      "| Total Return |  Sharp Ratio   | Volatility | Max Drawdown |\n",
      "+--------------+----------------+------------+--------------+\n",
      "| -36.737802%  | -277394.843338 | 0.004704%  |  36.737802%  |\n",
      "+--------------+----------------+------------+--------------+\n",
      "Train Episode: [9/10]\n",
      "Valid Episode: [9/10]\n",
      "+--------------+----------------+------------+--------------+\n",
      "| Total Return |  Sharp Ratio   | Volatility | Max Drawdown |\n",
      "+--------------+----------------+------------+--------------+\n",
      "| -36.346729%  | -269876.489523 | 0.004783%  |  36.346729%  |\n",
      "+--------------+----------------+------------+--------------+\n",
      "Train Episode: [10/10]\n",
      "Valid Episode: [10/10]\n",
      "+--------------+----------------+------------+--------------+\n",
      "| Total Return |  Sharp Ratio   | Volatility | Max Drawdown |\n",
      "+--------------+----------------+------------+--------------+\n",
      "| -35.124212%  | -256007.209214 | 0.004873%  |  35.124212%  |\n",
      "+--------------+----------------+------------+--------------+\n"
     ]
    }
   ],
   "source": [
    "trainer.train_and_valid()"
   ]
  },
  {
   "cell_type": "markdown",
   "metadata": {},
   "source": [
    "## Step 10: RL Agent Testing"
   ]
  },
  {
   "cell_type": "code",
<<<<<<< HEAD
   "execution_count": 14,
   "metadata": {
    "collapsed": false,
=======
   "execution_count": 30,
   "metadata": {
>>>>>>> 01fd0d3c9c3694425784d0c9787683eaf661dd40
    "pycharm": {
     "name": "#%%\n"
    }
   },
   "outputs": [
    {
     "name": "stdout",
     "output_type": "stream",
     "text": [
      "Resume checkpoint /data/sunshuo/qml/TradeMaster/work_dir/high_frequency_trading_BTC_high_frequency_trading_dqn_ddqn_adam_mse/checkpoints/best.pth\n",
      "Test Best Episode\n",
      "+--------------+----------------+------------+--------------+\n",
      "| Total Return |  Sharp Ratio   | Volatility | Max Drawdown |\n",
      "+--------------+----------------+------------+--------------+\n",
      "| -31.778419%  | -182976.791710 | 0.006168%  |  31.784243%  |\n",
      "+--------------+----------------+------------+--------------+\n"
     ]
<<<<<<< HEAD
=======
    },
    {
     "data": {
      "text/plain": [
       "array([ 0.        , -0.01565856, -0.016     , ..., -0.0114849 ,\n",
       "       -0.05748495, -0.01465415])"
      ]
     },
     "execution_count": 30,
     "metadata": {},
     "output_type": "execute_result"
>>>>>>> 01fd0d3c9c3694425784d0c9787683eaf661dd40
    }
   ],
   "source": [
    "trainer.test()"
   ]
  },
  {
   "cell_type": "code",
   "execution_count": 15,
   "metadata": {},
   "outputs": [
    {
     "data": {
<<<<<<< HEAD
      "image/png": "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",
      "text/plain": [
       "<Figure size 432x288 with 1 Axes>"
      ]
     },
     "metadata": {
      "needs_background": "light"
=======
      "image/png": "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\n",
      "text/plain": [
       "<Figure size 640x480 with 1 Axes>"
      ]
>>>>>>> 01fd0d3c9c3694425784d0c9787683eaf661dd40
     },
     "output_type": "display_data"
    }
   ],
   "source": [
    "plot(trainer.test_environment.save_asset_memoey(),alg=\"DDQN\")"
   ]
  }
 ],
 "metadata": {
  "kernelspec": {
<<<<<<< HEAD
   "display_name": "TradeMaster",
=======
   "display_name": "Python 3 (ipykernel)",
>>>>>>> 01fd0d3c9c3694425784d0c9787683eaf661dd40
   "language": "python",
   "name": "python3"
  },
  "language_info": {
   "codemirror_mode": {
    "name": "ipython",
    "version": 3
   },
   "file_extension": ".py",
   "mimetype": "text/x-python",
   "name": "python",
   "nbconvert_exporter": "python",
   "pygments_lexer": "ipython3",
<<<<<<< HEAD
   "version": "3.7.13"
=======
   "version": "3.8.12"
>>>>>>> 01fd0d3c9c3694425784d0c9787683eaf661dd40
  },
  "vscode": {
   "interpreter": {
    "hash": "a1f97403911abd3f02553c8f2b0c54537fddc7efadd9f5d3e31784db6e40c347"
   }
  }
 },
 "nbformat": 4,
 "nbformat_minor": 2
}
