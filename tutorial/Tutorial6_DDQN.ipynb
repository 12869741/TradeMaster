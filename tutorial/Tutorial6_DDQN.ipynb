{
 "cells": [
  {
   "cell_type": "markdown",
   "metadata": {},
   "source": [
    "# Tutorial 6\n",
    "We show how to train Double DQN for high frequency trading on Bitcoin."
   ]
  },
  {
   "cell_type": "markdown",
   "metadata": {},
   "source": [
    "## Step 1: Import Packages\n",
    "Modify the system path and load the corresponding packages and functions "
   ]
  },
  {
   "cell_type": "code",
   "execution_count": 17,
   "metadata": {},
   "outputs": [],
   "source": [
    "import os\n",
    "import sys\n",
    "from pathlib import Path\n",
    "import warnings\n",
    "warnings.filterwarnings(\"ignore\")\n",
    "\n",
    "ROOT = os.path.dirname(os.path.abspath(\".\"))\n",
    "sys.path.append(ROOT)\n",
    "\n",
    "import torch\n",
    "import argparse\n",
    "import os.path as osp\n",
    "from mmcv import Config\n",
    "from trademaster.utils import replace_cfg_vals\n",
    "from trademaster.nets.builder import build_net\n",
    "from trademaster.environments.builder import build_environment\n",
    "from trademaster.datasets.builder import build_dataset\n",
    "from trademaster.agents.builder import build_agent\n",
    "from trademaster.optimizers.builder import build_optimizer\n",
    "from trademaster.losses.builder import build_loss\n",
    "from trademaster.trainers.builder import build_trainer\n",
    "from trademaster.transition.builder import build_transition\n",
    "from trademaster.utils import plot"
   ]
  },
  {
   "cell_type": "markdown",
   "metadata": {},
   "source": [
    "## Step 2: Load Configs\n",
    "Load default config from the file `configs/high_frequency_trading/high_frequency_trading_BTC_dqn_dqn_adam_mse.py`"
   ]
  },
  {
   "cell_type": "code",
   "execution_count": 18,
   "metadata": {},
   "outputs": [],
   "source": [
    "parser = argparse.ArgumentParser(description='Download Alpaca Datasets')\n",
    "parser.add_argument(\"--config\", default=osp.join(ROOT, \"configs\", \"high_frequency_trading\", \"high_frequency_trading_BTC_dqn_dqn_adam_mse.py\"),\n",
    "                    help=\"download datasets config file path\")\n",
    "parser.add_argument(\"--task_name\", type=str, default=\"train\")\n",
    "\n",
    "args, _ = parser.parse_known_args()\n",
    "cfg = Config.fromfile(args.config)\n",
    "task_name = args.task_name\n",
    "cfg = replace_cfg_vals(cfg)"
   ]
  },
  {
   "cell_type": "code",
   "execution_count": 19,
   "metadata": {},
   "outputs": [
    {
     "data": {
      "text/plain": [
       "Config (path: E:\\workspace\\RA\\TradeMaster\\configs\\high_frequency_trading\\high_frequency_trading_BTC_dqn_dqn_adam_mse.py): {'data': {'type': 'HighFrequencyTradingDataset', 'data_path': 'data/high_frequency_trading/small_BTC', 'train_path': 'data/high_frequency_trading/small_BTC/train.csv', 'valid_path': 'data/high_frequency_trading/small_BTC/valid.csv', 'test_path': 'data/high_frequency_trading/small_BTC/test.csv', 'test_dynamic_path': 'data/high_frequency_trading/small_BTC/test_labeled_3_300_-0.01_0.01.csv', 'tech_indicator_list': ['imblance_volume_oe', 'sell_spread_oe', 'buy_spread_oe', 'kmid2', 'bid1_size_n', 'ksft2', 'ma_10', 'ksft', 'kmid', 'ask1_size_n', 'trade_diff', 'qtlu_10', 'qtld_10', 'cntd_10', 'beta_10', 'roc_10', 'bid5_size_n', 'rsv_10', 'imxd_10', 'ask5_size_n', 'ma_30', 'max_10', 'qtlu_30', 'imax_10', 'imin_10', 'min_10', 'qtld_30', 'cntn_10', 'rsv_30', 'cntp_10', 'ma_60', 'max_30', 'qtlu_60', 'qtld_60', 'cntd_30', 'roc_30', 'beta_30', 'bid4_size_n', 'rsv_60', 'ask4_size_n', 'imxd_30', 'min_30', 'max_60', 'imax_30', 'imin_30', 'cntd_60', 'roc_60', 'beta_60', 'cntn_30', 'min_60', 'cntp_30', 'bid3_size_n', 'imxd_60', 'ask3_size_n', 'sell_volume_oe', 'imax_60', 'imin_60', 'cntn_60', 'buy_volume_oe', 'cntp_60', 'bid2_size_n', 'kup', 'bid1_size', 'ask1_size', 'std_30', 'ask2_size_n'], 'transcation_cost': 0, 'backward_num_timestamp': 1, 'max_holding_number': 0.01, 'num_action': 11, 'max_punish': 1000000000000.0, 'episode_length': 14400}, 'environment': {'type': 'HighFrequencyTradingEnvironment'}, 'agent': {'type': 'HighFrequencyTradingDDQN', 'auxiliary_coffient': 512, 'reward_scale': 1, 'repeat_times': 1, 'gamma': 0.99, 'batch_size': 64, 'clip_grad_norm': 3.0, 'soft_update_tau': 0, 'state_value_tau': 0.005}, 'trainer': {'type': 'HighFrequencyTradingTrainer', 'epochs': 10, 'work_dir': 'work_dir/high_frequency_trading_BTC_high_frequency_trading_dqn_ddqn_adam_mse', 'seeds': 12345, 'batch_size': 512, 'horizon_len': 512, 'buffer_size': 100000.0, 'num_threads': 8, 'if_remove': False, 'if_discrete': True, 'if_off_policy': True, 'if_keep_save': True, 'if_over_write': False, 'if_save_buffer': False}, 'loss': {'type': 'HFTLoss', 'ada': 1}, 'optimizer': {'type': 'Adam', 'lr': 0.001}, 'act': {'type': 'HFTQNet', 'state_dim': 66, 'action_dim': 11, 'dims': 16, 'explore_rate': 0.25, 'max_punish': 0}, 'cri': None, 'task_name': 'high_frequency_trading', 'dataset_name': 'BTC', 'optimizer_name': 'adam', 'loss_name': 'mse', 'auxiliry_loss_name': 'KLdiv', 'net_name': 'high_frequency_trading_dqn', 'agent_name': 'ddqn', 'work_dir': 'work_dir/high_frequency_trading_BTC_high_frequency_trading_dqn_ddqn_adam_mse', 'batch_size': 512, 'train_environment': {'type': 'HighFrequencyTradingTrainingEnvironment'}}"
      ]
     },
     "execution_count": 19,
     "metadata": {},
     "output_type": "execute_result"
    }
   ],
   "source": [
    "cfg"
   ]
  },
  {
   "cell_type": "markdown",
   "metadata": {},
   "source": [
    "## Step 3: Build Dataset"
   ]
  },
  {
   "cell_type": "code",
   "execution_count": 20,
   "metadata": {},
   "outputs": [],
   "source": [
    "dataset = build_dataset(cfg)"
   ]
  },
  {
   "cell_type": "markdown",
   "metadata": {},
   "source": [
    "## Step 4: Build Reinforcement Learning Environments\n",
    "Build environments based on cfg and predefined dataset\n",
    "\n"
   ]
  },
  {
   "cell_type": "code",
   "execution_count": 21,
   "metadata": {},
   "outputs": [],
   "source": [
    "valid_environment = build_environment(cfg, default_args=dict(dataset=dataset, task=\"valid\"))\n",
    "test_environment = build_environment(cfg, default_args=dict(dataset=dataset, task=\"test\"))\n",
    "cfg.environment = cfg.train_environment\n",
    "train_environment = build_environment(cfg, default_args=dict(dataset=dataset, task=\"train\"))"
   ]
  },
  {
   "cell_type": "code",
   "execution_count": 22,
   "metadata": {},
   "outputs": [
    {
     "data": {
      "text/html": [
       "<div>\n",
       "<style scoped>\n",
       "    .dataframe tbody tr th:only-of-type {\n",
       "        vertical-align: middle;\n",
       "    }\n",
       "\n",
       "    .dataframe tbody tr th {\n",
       "        vertical-align: top;\n",
       "    }\n",
       "\n",
       "    .dataframe thead th {\n",
       "        text-align: right;\n",
       "    }\n",
       "</style>\n",
       "<table border=\"1\" class=\"dataframe\">\n",
       "  <thead>\n",
       "    <tr style=\"text-align: right;\">\n",
       "      <th></th>\n",
       "      <th>bid1_price</th>\n",
       "      <th>bid1_size</th>\n",
       "      <th>bid2_price</th>\n",
       "      <th>bid2_size</th>\n",
       "      <th>bid3_price</th>\n",
       "      <th>bid3_size</th>\n",
       "      <th>bid4_price</th>\n",
       "      <th>bid4_size</th>\n",
       "      <th>bid5_price</th>\n",
       "      <th>bid5_size</th>\n",
       "      <th>...</th>\n",
       "      <th>imxd_60</th>\n",
       "      <th>cntp_10</th>\n",
       "      <th>cntp_30</th>\n",
       "      <th>cntp_60</th>\n",
       "      <th>cntn_10</th>\n",
       "      <th>cntn_30</th>\n",
       "      <th>cntn_60</th>\n",
       "      <th>cntd_10</th>\n",
       "      <th>cntd_30</th>\n",
       "      <th>cntd_60</th>\n",
       "    </tr>\n",
       "  </thead>\n",
       "  <tbody>\n",
       "    <tr>\n",
       "      <th>0</th>\n",
       "      <td>23794.3</td>\n",
       "      <td>0.900828</td>\n",
       "      <td>23792.9</td>\n",
       "      <td>0.018588</td>\n",
       "      <td>23792.8</td>\n",
       "      <td>0.007388</td>\n",
       "      <td>23792.1</td>\n",
       "      <td>0.042018</td>\n",
       "      <td>23792.0</td>\n",
       "      <td>0.000300</td>\n",
       "      <td>...</td>\n",
       "      <td>1.193895</td>\n",
       "      <td>0.268138</td>\n",
       "      <td>0.963686</td>\n",
       "      <td>0.800684</td>\n",
       "      <td>-0.418841</td>\n",
       "      <td>-0.017993</td>\n",
       "      <td>-0.189727</td>\n",
       "      <td>0.469470</td>\n",
       "      <td>0.745885</td>\n",
       "      <td>0.877378</td>\n",
       "    </tr>\n",
       "    <tr>\n",
       "      <th>1</th>\n",
       "      <td>23794.3</td>\n",
       "      <td>0.000878</td>\n",
       "      <td>23793.2</td>\n",
       "      <td>0.014988</td>\n",
       "      <td>23793.1</td>\n",
       "      <td>0.147063</td>\n",
       "      <td>23792.8</td>\n",
       "      <td>0.007388</td>\n",
       "      <td>23792.0</td>\n",
       "      <td>0.000300</td>\n",
       "      <td>...</td>\n",
       "      <td>1.193895</td>\n",
       "      <td>0.268138</td>\n",
       "      <td>0.963686</td>\n",
       "      <td>0.800684</td>\n",
       "      <td>-1.027695</td>\n",
       "      <td>-0.017993</td>\n",
       "      <td>-0.358007</td>\n",
       "      <td>0.891105</td>\n",
       "      <td>0.745885</td>\n",
       "      <td>1.031828</td>\n",
       "    </tr>\n",
       "    <tr>\n",
       "      <th>2</th>\n",
       "      <td>23794.3</td>\n",
       "      <td>0.000878</td>\n",
       "      <td>23793.2</td>\n",
       "      <td>0.014988</td>\n",
       "      <td>23792.8</td>\n",
       "      <td>0.007388</td>\n",
       "      <td>23792.0</td>\n",
       "      <td>0.000300</td>\n",
       "      <td>23791.8</td>\n",
       "      <td>0.147071</td>\n",
       "      <td>...</td>\n",
       "      <td>1.139902</td>\n",
       "      <td>0.268138</td>\n",
       "      <td>1.257798</td>\n",
       "      <td>0.976534</td>\n",
       "      <td>-1.027695</td>\n",
       "      <td>-0.017993</td>\n",
       "      <td>-0.526286</td>\n",
       "      <td>0.891105</td>\n",
       "      <td>0.969180</td>\n",
       "      <td>1.340727</td>\n",
       "    </tr>\n",
       "    <tr>\n",
       "      <th>3</th>\n",
       "      <td>23794.3</td>\n",
       "      <td>0.000878</td>\n",
       "      <td>23793.2</td>\n",
       "      <td>0.014988</td>\n",
       "      <td>23792.8</td>\n",
       "      <td>0.007388</td>\n",
       "      <td>23792.0</td>\n",
       "      <td>0.000300</td>\n",
       "      <td>23791.8</td>\n",
       "      <td>0.147071</td>\n",
       "      <td>...</td>\n",
       "      <td>1.139902</td>\n",
       "      <td>0.268138</td>\n",
       "      <td>1.257798</td>\n",
       "      <td>0.800684</td>\n",
       "      <td>-1.027695</td>\n",
       "      <td>-0.017993</td>\n",
       "      <td>-0.526286</td>\n",
       "      <td>0.891105</td>\n",
       "      <td>0.969180</td>\n",
       "      <td>1.186278</td>\n",
       "    </tr>\n",
       "    <tr>\n",
       "      <th>4</th>\n",
       "      <td>23794.3</td>\n",
       "      <td>0.000878</td>\n",
       "      <td>23793.2</td>\n",
       "      <td>0.014988</td>\n",
       "      <td>23792.8</td>\n",
       "      <td>0.007388</td>\n",
       "      <td>23792.0</td>\n",
       "      <td>0.000300</td>\n",
       "      <td>23791.8</td>\n",
       "      <td>0.147071</td>\n",
       "      <td>...</td>\n",
       "      <td>1.112905</td>\n",
       "      <td>0.268138</td>\n",
       "      <td>0.963686</td>\n",
       "      <td>0.800684</td>\n",
       "      <td>-1.027695</td>\n",
       "      <td>-0.017993</td>\n",
       "      <td>-0.694566</td>\n",
       "      <td>0.891105</td>\n",
       "      <td>0.745885</td>\n",
       "      <td>1.340727</td>\n",
       "    </tr>\n",
       "  </tbody>\n",
       "</table>\n",
       "<p>5 rows × 96 columns</p>\n",
       "</div>"
      ],
      "text/plain": [
       "   bid1_price  bid1_size  bid2_price  bid2_size  bid3_price  bid3_size  \\\n",
       "0     23794.3   0.900828     23792.9   0.018588     23792.8   0.007388   \n",
       "1     23794.3   0.000878     23793.2   0.014988     23793.1   0.147063   \n",
       "2     23794.3   0.000878     23793.2   0.014988     23792.8   0.007388   \n",
       "3     23794.3   0.000878     23793.2   0.014988     23792.8   0.007388   \n",
       "4     23794.3   0.000878     23793.2   0.014988     23792.8   0.007388   \n",
       "\n",
       "   bid4_price  bid4_size  bid5_price  bid5_size  ...   imxd_60   cntp_10  \\\n",
       "0     23792.1   0.042018     23792.0   0.000300  ...  1.193895  0.268138   \n",
       "1     23792.8   0.007388     23792.0   0.000300  ...  1.193895  0.268138   \n",
       "2     23792.0   0.000300     23791.8   0.147071  ...  1.139902  0.268138   \n",
       "3     23792.0   0.000300     23791.8   0.147071  ...  1.139902  0.268138   \n",
       "4     23792.0   0.000300     23791.8   0.147071  ...  1.112905  0.268138   \n",
       "\n",
       "    cntp_30   cntp_60   cntn_10   cntn_30   cntn_60   cntd_10   cntd_30  \\\n",
       "0  0.963686  0.800684 -0.418841 -0.017993 -0.189727  0.469470  0.745885   \n",
       "1  0.963686  0.800684 -1.027695 -0.017993 -0.358007  0.891105  0.745885   \n",
       "2  1.257798  0.976534 -1.027695 -0.017993 -0.526286  0.891105  0.969180   \n",
       "3  1.257798  0.800684 -1.027695 -0.017993 -0.526286  0.891105  0.969180   \n",
       "4  0.963686  0.800684 -1.027695 -0.017993 -0.694566  0.891105  0.745885   \n",
       "\n",
       "    cntd_60  \n",
       "0  0.877378  \n",
       "1  1.031828  \n",
       "2  1.340727  \n",
       "3  1.186278  \n",
       "4  1.340727  \n",
       "\n",
       "[5 rows x 96 columns]"
      ]
     },
     "execution_count": 22,
     "metadata": {},
     "output_type": "execute_result"
    }
   ],
   "source": [
    "train_environment.df.head()"
   ]
  },
  {
   "cell_type": "markdown",
   "metadata": {},
   "source": [
    "## Step 5: Build Net \n",
    "Update information about the state and action dimension. Create networks and optimizer for Double DQN\n"
   ]
  },
  {
   "cell_type": "code",
   "execution_count": 25,
   "metadata": {},
   "outputs": [],
   "source": [
    "action_dim = train_environment.action_dim\n",
    "state_dim = train_environment.state_dim\n",
    "\n",
    "cfg.act.update(dict(action_dim=action_dim, state_dim=state_dim))\n",
    "act = build_net(cfg.act)\n",
    "act_optimizer = build_optimizer(cfg, default_args=dict(params=act.parameters()))\n",
    "if cfg.cri:\n",
    "    cfg.cri.update(dict(action_dim=action_dim, state_dim=state_dim))\n",
    "    cri = build_net(cfg.cri)\n",
    "    cri_optimizer = build_optimizer(cfg, default_args=dict(params=cri.parameters()))\n",
    "else:\n",
    "    cri = None\n",
    "    cri_optimizer = None"
   ]
  },
  {
   "cell_type": "markdown",
   "metadata": {},
   "source": [
    "## Step 6: Build Loss"
   ]
  },
  {
   "cell_type": "code",
   "execution_count": 26,
   "metadata": {},
   "outputs": [],
   "source": [
    "criterion = build_loss(cfg)"
   ]
  },
  {
   "cell_type": "markdown",
   "metadata": {},
   "source": [
    "## Step 7: Build Agent"
   ]
  },
  {
   "cell_type": "code",
   "execution_count": 27,
   "metadata": {},
   "outputs": [],
   "source": [
    "device = torch.device('cuda' if torch.cuda.is_available() else 'cpu')\n",
    "agent = build_agent(cfg,default_args=dict(action_dim=action_dim,state_dim=state_dim,act=act,cri=cri,act_optimizer=act_optimizer,cri_optimizer=cri_optimizer,criterion=criterion,device=device))\n"
   ]
  },
  {
   "cell_type": "markdown",
   "metadata": {},
   "source": [
    "## Step 8: Build Trainer\n",
    "Build trainer from config and create work directionary to save the result, model and config"
   ]
  },
  {
   "cell_type": "code",
   "execution_count": 28,
   "metadata": {},
   "outputs": [
    {
     "name": "stdout",
     "output_type": "stream",
     "text": [
      "| Arguments Keep work_dir: E:\\workspace\\RA\\TradeMaster\\work_dir/high_frequency_trading_BTC_high_frequency_trading_dqn_ddqn_adam_mse\n"
     ]
    }
   ],
   "source": [
    "\n",
    "trainer = build_trainer(cfg, default_args=dict(train_environment=train_environment,valid_environment=valid_environment,test_environment=test_environment,agent=agent,device=device))\n",
    "\n",
    "cfg.dump(osp.join(ROOT, cfg.work_dir, osp.basename(args.config)))"
   ]
  },
  {
   "cell_type": "markdown",
   "metadata": {},
   "source": [
    "## Step 9: RL Agent Training\n",
    "Train the Double DQN agent based on the config and save results in workdir"
   ]
  },
  {
   "cell_type": "code",
   "execution_count": 29,
   "metadata": {},
   "outputs": [
    {
     "name": "stdout",
     "output_type": "stream",
     "text": [
      "Train Episode: [1/10]\n",
      "+---------------+----------------+------------+--------------+\n",
      "| Profit Margin |  Sharp Ratio   | Volatility | Max Drawdown |\n",
      "+---------------+----------------+------------+--------------+\n",
      "|  -19.824600%  | -239691.192267 | 0.003871%  |  19.845428%  |\n",
      "+---------------+----------------+------------+--------------+\n",
      "+---------------+----------------+------------+--------------+\n",
      "| Profit Margin |  Sharp Ratio   | Volatility | Max Drawdown |\n",
      "+---------------+----------------+------------+--------------+\n",
      "|  -19.917355%  | -215706.416383 | 0.004321%  |  19.921304%  |\n",
      "+---------------+----------------+------------+--------------+\n",
      "Valid Episode: [1/10]\n",
      "+--------------+----------------+------------+--------------+\n",
      "| Total Return |  Sharp Ratio   | Volatility | Max Drawdown |\n",
      "+--------------+----------------+------------+--------------+\n",
      "| -40.916735%  | -239529.278864 | 0.006067%  |  40.921548%  |\n",
      "+--------------+----------------+------------+--------------+\n",
      "Train Episode: [2/10]\n",
      "Valid Episode: [2/10]\n",
      "+--------------+----------------+------------+--------------+\n",
      "| Total Return |  Sharp Ratio   | Volatility | Max Drawdown |\n",
      "+--------------+----------------+------------+--------------+\n",
      "| -43.372281%  | -262331.313517 | 0.005872%  |  43.375106%  |\n",
      "+--------------+----------------+------------+--------------+\n",
      "Train Episode: [3/10]\n",
      "Valid Episode: [3/10]\n",
      "+--------------+----------------+------------+--------------+\n",
      "| Total Return |  Sharp Ratio   | Volatility | Max Drawdown |\n",
      "+--------------+----------------+------------+--------------+\n",
      "| -45.432594%  | -275658.432715 | 0.005854%  |  45.435216%  |\n",
      "+--------------+----------------+------------+--------------+\n",
      "Train Episode: [4/10]\n",
      "Valid Episode: [4/10]\n",
      "+--------------+----------------+------------+--------------+\n",
      "| Total Return |  Sharp Ratio   | Volatility | Max Drawdown |\n",
      "+--------------+----------------+------------+--------------+\n",
      "| -47.094012%  | -297583.234221 | 0.005621%  |  47.096478%  |\n",
      "+--------------+----------------+------------+--------------+\n",
      "Train Episode: [5/10]\n",
      "Valid Episode: [5/10]\n",
      "+--------------+----------------+------------+--------------+\n",
      "| Total Return |  Sharp Ratio   | Volatility | Max Drawdown |\n",
      "+--------------+----------------+------------+--------------+\n",
      "| -48.182763%  | -307824.960931 | 0.005559%  |  48.182763%  |\n",
      "+--------------+----------------+------------+--------------+\n",
      "Train Episode: [6/10]\n",
      "Valid Episode: [6/10]\n",
      "+--------------+----------------+------------+--------------+\n",
      "| Total Return |  Sharp Ratio   | Volatility | Max Drawdown |\n",
      "+--------------+----------------+------------+--------------+\n",
      "| -49.302858%  | -326027.154664 | 0.005371%  |  49.302858%  |\n",
      "+--------------+----------------+------------+--------------+\n",
      "Train Episode: [7/10]\n",
      "Valid Episode: [7/10]\n",
      "+--------------+----------------+------------+--------------+\n",
      "| Total Return |  Sharp Ratio   | Volatility | Max Drawdown |\n",
      "+--------------+----------------+------------+--------------+\n",
      "| -50.523906%  | -339992.511809 | 0.005278%  |  50.523906%  |\n",
      "+--------------+----------------+------------+--------------+\n",
      "Train Episode: [8/10]\n",
      "Valid Episode: [8/10]\n",
      "+--------------+----------------+------------+--------------+\n",
      "| Total Return |  Sharp Ratio   | Volatility | Max Drawdown |\n",
      "+--------------+----------------+------------+--------------+\n",
      "| -51.424694%  | -351944.531892 | 0.005190%  |  51.424694%  |\n",
      "+--------------+----------------+------------+--------------+\n",
      "Train Episode: [9/10]\n",
      "Valid Episode: [9/10]\n",
      "+--------------+----------------+------------+--------------+\n",
      "| Total Return |  Sharp Ratio   | Volatility | Max Drawdown |\n",
      "+--------------+----------------+------------+--------------+\n",
      "| -52.399403%  | -366553.426075 | 0.005077%  |  52.399403%  |\n",
      "+--------------+----------------+------------+--------------+\n",
      "Train Episode: [10/10]\n",
      "Valid Episode: [10/10]\n",
      "+--------------+----------------+------------+--------------+\n",
      "| Total Return |  Sharp Ratio   | Volatility | Max Drawdown |\n",
      "+--------------+----------------+------------+--------------+\n",
      "| -53.154105%  | -382293.304911 | 0.004938%  |  53.154105%  |\n",
      "+--------------+----------------+------------+--------------+\n"
     ]
    }
   ],
   "source": [
    "trainer.train_and_valid()"
   ]
  },
  {
   "cell_type": "markdown",
   "metadata": {},
   "source": [
    "## Step 10: RL Agent Testing"
   ]
  },
  {
   "cell_type": "code",
   "execution_count": 30,
   "metadata": {
    "pycharm": {
     "name": "#%%\n"
    }
   },
   "outputs": [
    {
     "name": "stdout",
     "output_type": "stream",
     "text": [
      "Resume checkpoint E:\\workspace\\RA\\TradeMaster\\work_dir/high_frequency_trading_BTC_high_frequency_trading_dqn_ddqn_adam_mse\\checkpoints\\best.pth\n",
      "Test Best Episode\n",
      "+--------------+----------------+------------+--------------+\n",
      "| Total Return |  Sharp Ratio   | Volatility | Max Drawdown |\n",
      "+--------------+----------------+------------+--------------+\n",
      "| -50.842218%  | -278960.325993 | 0.006473%  |  50.842218%  |\n",
      "+--------------+----------------+------------+--------------+\n"
     ]
    },
    {
     "data": {
      "text/plain": [
       "array([ 0.        , -0.01565856, -0.016     , ..., -0.0114849 ,\n",
       "       -0.05748495, -0.01465415])"
      ]
     },
     "execution_count": 30,
     "metadata": {},
     "output_type": "execute_result"
    }
   ],
   "source": [
    "trainer.test()"
   ]
  },
  {
   "cell_type": "code",
   "execution_count": 31,
   "metadata": {},
   "outputs": [
    {
     "data": {
      "image/png": "[encoded data removed]",
      "text/plain": [
       "<Figure size 640x480 with 1 Axes>"
      ]
     },
     "metadata": {},
     "output_type": "display_data"
    }
   ],
   "source": [
    "plot(trainer.test_environment.save_asset_memoey(),alg=\"DDQN\")"
   ]
  }
 ],
 "metadata": {
  "kernelspec": {
   "display_name": "Python 3 (ipykernel)",
   "language": "python",
   "name": "python3"
  },
  "language_info": {
   "codemirror_mode": {
    "name": "ipython",
    "version": 3
   },
   "file_extension": ".py",
   "mimetype": "text/x-python",
   "name": "python",
   "nbconvert_exporter": "python",
   "pygments_lexer": "ipython3",
   "version": "3.8.12"
  },
  "vscode": {
   "interpreter": {
    "hash": "a1f97403911abd3f02553c8f2b0c54537fddc7efadd9f5d3e31784db6e40c347"
   }
  }
 },
 "nbformat": 4,
 "nbformat_minor": 2
}
