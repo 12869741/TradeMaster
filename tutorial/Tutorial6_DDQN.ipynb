{
   "cells": [
      {
         "cell_type": "markdown",
         "metadata": {},
         "source": [
            "# Tutorial 6\n",
            "We show how to train Double DQN for high frequency trading on Bitcoin."
         ]
      },
      {
         "cell_type": "markdown",
         "metadata": {},
         "source": [
            "## Step 1: Import Packages\n",
            "Modify the system path and load the corresponding packages and functions "
         ]
      },
      {
         "cell_type": "code",
         "execution_count": null,
         "metadata": {},
         "outputs": [],
         "source": [
            "import os\n",
            "import sys\n",
            "from pathlib import Path\n",
            "import warnings\n",
            "warnings.filterwarnings(\"ignore\")\n",
            "\n",
            "ROOT = os.path.dirname(os.path.abspath(\".\"))\n",
            "sys.path.append(ROOT)\n",
            "\n",
            "import torch\n",
            "import argparse\n",
            "import os.path as osp\n",
            "from mmcv import Config\n",
            "from trademaster.utils import replace_cfg_vals\n",
            "from trademaster.nets.builder import build_net\n",
            "from trademaster.environments.builder import build_environment\n",
            "from trademaster.datasets.builder import build_dataset\n",
            "from trademaster.agents.builder import build_agent\n",
            "from trademaster.optimizers.builder import build_optimizer\n",
            "from trademaster.losses.builder import build_loss\n",
            "from trademaster.trainers.builder import build_trainer\n",
            "from trademaster.transition.builder import build_transition\n",
            "from trademaster.utils import plot",
            "from trademaster.utils import set_seed",
            "set_seed(2023)"
         ]
      },
      {
         "cell_type": "markdown",
         "metadata": {},
         "source": [
            "## Step 2: Load Configs\n",
            "Load default config from the file `configs/high_frequency_trading/high_frequency_trading_BTC_dqn_dqn_adam_mse.py`"
         ]
      },
      {
         "cell_type": "code",
         "execution_count": null,
         "metadata": {},
         "outputs": [],
         "source": [
            "parser = argparse.ArgumentParser(description='Download Alpaca Datasets')\n",
            "parser.add_argument(\"--config\", default=osp.join(ROOT, \"configs\", \"high_frequency_trading\", \"high_frequency_trading_BTC_dqn_dqn_adam_mse.py\"),\n",
            "                    help=\"download datasets config file path\")\n",
            "parser.add_argument(\"--task_name\", type=str, default=\"train\")\n",
            "\n",
            "args, _ = parser.parse_known_args()\n",
            "cfg = Config.fromfile(args.config)\n",
            "task_name = args.task_name\n",
            "cfg = replace_cfg_vals(cfg)"
         ]
      },
      {
         "cell_type": "code",
         "execution_count": null,
         "metadata": {},
         "outputs": [],
         "source": [
            "cfg"
         ]
      },
      {
         "cell_type": "markdown",
         "metadata": {},
         "source": [
            "## Step 3: Build Dataset"
         ]
      },
      {
         "cell_type": "code",
         "execution_count": null,
         "metadata": {},
         "outputs": [],
         "source": [
            "dataset = build_dataset(cfg)"
         ]
      },
      {
         "cell_type": "markdown",
         "metadata": {},
         "source": [
            "## Step 4: Build Reinforcement Learning Environments\n",
            "Build environments based on cfg and predefined dataset\n",
            "\n"
         ]
      },
      {
         "cell_type": "code",
         "execution_count": null,
         "metadata": {},
         "outputs": [],
         "source": [
            "valid_environment = build_environment(cfg, default_args=dict(dataset=dataset, task=\"valid\"))\n",
            "test_environment = build_environment(cfg, default_args=dict(dataset=dataset, task=\"test\"))\n",
            "cfg.environment = cfg.train_environment\n",
            "train_environment = build_environment(cfg, default_args=dict(dataset=dataset, task=\"train\"))"
         ]
      },
      {
         "cell_type": "code",
         "execution_count": null,
         "metadata": {},
         "outputs": [],
         "source": [
            "train_environment.df.head()"
         ]
      },
      {
         "cell_type": "markdown",
         "metadata": {},
         "source": [
            "## Step 5: Build Net \n",
            "Update information about the state and action dimension. Create networks and optimizer for Double DQN\n"
         ]
      },
      {
         "cell_type": "code",
         "execution_count": null,
         "metadata": {},
         "outputs": [],
         "source": [
            "action_dim = train_environment.action_dim\n",
            "state_dim = train_environment.state_dim\n",
            "\n",
            "cfg.act.update(dict(action_dim=action_dim, state_dim=state_dim))\n",
            "act = build_net(cfg.act)\n",
            "act_optimizer = build_optimizer(cfg, default_args=dict(params=act.parameters()))\n",
            "if cfg.cri:\n",
            "    cfg.cri.update(dict(action_dim=action_dim, state_dim=state_dim))\n",
            "    cri = build_net(cfg.cri)\n",
            "    cri_optimizer = build_optimizer(cfg, default_args=dict(params=cri.parameters()))\n",
            "else:\n",
            "    cri = None\n",
            "    cri_optimizer = None"
         ]
      },
      {
         "cell_type": "markdown",
         "metadata": {},
         "source": [
            "## Step 6: Build Loss"
         ]
      },
      {
         "cell_type": "code",
         "execution_count": null,
         "metadata": {},
         "outputs": [],
         "source": [
            "criterion = build_loss(cfg)"
         ]
      },
      {
         "cell_type": "markdown",
         "metadata": {},
         "source": [
            "## Step 7: Build Agent"
         ]
      },
      {
         "cell_type": "code",
         "execution_count": null,
         "metadata": {},
         "outputs": [],
         "source": [
            "device = torch.device('cuda' if torch.cuda.is_available() else 'cpu')\n",
            "agent = build_agent(cfg,default_args=dict(action_dim=action_dim,state_dim=state_dim,act=act,cri=cri,act_optimizer=act_optimizer,cri_optimizer=cri_optimizer,criterion=criterion,device=device))\n"
         ]
      },
      {
         "cell_type": "markdown",
         "metadata": {},
         "source": [
            "## Step 8: Build Trainer\n",
            "Build trainer from config and create work directionary to save the result, model and config"
         ]
      },
      {
         "cell_type": "code",
         "execution_count": null,
         "metadata": {},
         "outputs": [],
         "source": [
            "\n",
            "trainer = build_trainer(cfg, default_args=dict(train_environment=train_environment,valid_environment=valid_environment,test_environment=test_environment,agent=agent,device=device))\n",
            "\n",
            "cfg.dump(osp.join(ROOT, cfg.work_dir, osp.basename(args.config)))"
         ]
      },
      {
         "cell_type": "markdown",
         "metadata": {},
         "source": [
            "## Step 9: RL Agent Training\n",
            "Train the Double DQN agent based on the config and save results in workdir"
         ]
      },
      {
         "cell_type": "code",
         "execution_count": null,
         "metadata": {},
         "outputs": [],
         "source": [
            "trainer.train_and_valid()"
         ]
      },
      {
         "cell_type": "markdown",
         "metadata": {},
         "source": [
            "## Step 10: RL Agent Testing"
         ]
      },
      {
         "cell_type": "code",
         "execution_count": null,
         "metadata": {
            "pycharm": {
               "name": "#%%\n"
            }
         },
         "outputs": [],
         "source": [
            "trainer.test();"
         ]
      },
      {
         "cell_type": "code",
         "execution_count": null,
         "metadata": {},
         "outputs": [],
         "source": [
            "plot(trainer.test_environment.save_asset_memoey(),alg=\"DDQN\")"
         ]
      }
   ],
   "metadata": {
      "kernelspec": {
         "display_name": "Python 3 (ipykernel)",
         "language": "python",
         "name": "python3"
      },
      "language_info": {
         "codemirror_mode": {
            "name": "ipython",
            "version": 3
         },
         "file_extension": ".py",
         "mimetype": "text/x-python",
         "name": "python",
         "nbconvert_exporter": "python",
         "pygments_lexer": "ipython3",
         "version": "3.7.13"
      },
      "vscode": {
         "interpreter": {
            "hash": "a1f97403911abd3f02553c8f2b0c54537fddc7efadd9f5d3e31784db6e40c347"
         }
      }
   },
   "nbformat": 4,
   "nbformat_minor": 2
}
