{
 "cells": [
  {
   "cell_type": "markdown",
   "metadata": {},
   "source": [
    "# Tutorial 2\n",
    "We show how to train DeepScalper on FX trading."
   ]
  },
  {
   "cell_type": "markdown",
   "metadata": {},
   "source": [
    "## Step 1: Import Packages\n",
    "Modify the system path and load the corresponding packages and functions "
   ]
  },
  {
   "cell_type": "code",
   "execution_count": 1,
   "metadata": {},
   "outputs": [
    {
     "name": "stderr",
     "output_type": "stream",
     "text": [
      "2023-03-02 14:37:51,629\tINFO services.py:1476 -- View the Ray dashboard at \u001b[1m\u001b[32mhttp://127.0.0.1:8266\u001b[39m\u001b[22m\n",
      "2023-03-02 14:37:53,616\tINFO worker.py:973 -- Calling ray.init() again after it has already been called.\n"
     ]
    }
   ],
   "source": [
    "import os\n",
    "import sys\n",
    "\n",
    "import warnings\n",
    "warnings.filterwarnings(\"ignore\")\n",
    "\n",
    "ROOT = os.path.dirname(os.path.abspath(\".\"))\n",
    "sys.path.append(ROOT)\n",
    "\n",
    "import torch\n",
    "import argparse\n",
    "import os.path as osp\n",
    "from mmcv import Config\n",
    "from trademaster.utils import replace_cfg_vals\n",
    "from trademaster.nets.builder import build_net\n",
    "from trademaster.environments.builder import build_environment\n",
    "from trademaster.datasets.builder import build_dataset\n",
    "from trademaster.agents.builder import build_agent\n",
    "from trademaster.optimizers.builder import build_optimizer\n",
    "from trademaster.losses.builder import build_loss\n",
    "from trademaster.trainers.builder import build_trainer\n",
    "from trademaster.transition.builder import build_transition\n",
    "from trademaster.utils import plot",
    "from trademaster.utils import set_seed",
    "set_seed(2023)"
   ]
  },
  {
   "cell_type": "markdown",
   "metadata": {},
   "source": [
    "## Step 2: Load Configs\n",
    "Load default config from the file `configs/algorithmic_trading/algorithmic_trading_FX_deepscalper_deepscalper_adam_mse.py`"
   ]
  },
  {
   "cell_type": "code",
   "execution_count": 2,
   "metadata": {},
   "outputs": [],
   "source": [
    "\n",
    "parser = argparse.ArgumentParser(description='Download Alpaca Datasets')\n",
    "parser.add_argument(\"--config\", default=osp.join(ROOT, \"configs\", \"algorithmic_trading\", \"algorithmic_trading_FX_deepscalper_deepscalper_adam_mse.py\"),\n",
    "                    help=\"download datasets config file path\")\n",
    "parser.add_argument(\"--task_name\", type=str, default=\"train\")\n",
    "args, _= parser.parse_known_args()\n",
    "\n",
    "cfg = Config.fromfile(args.config)\n",
    "task_name = args.task_name\n",
    "cfg = replace_cfg_vals(cfg)"
   ]
  },
  {
   "cell_type": "code",
   "execution_count": 3,
   "metadata": {},
   "outputs": [
    {
     "data": {
      "text/plain": [
       "Config (path: /data/sunshuo/qml/TradeMaster/configs/algorithmic_trading/algorithmic_trading_FX_deepscalper_deepscalper_adam_mse.py): {'data': {'type': 'AlgorithmicTradingDataset', 'data_path': 'data/algorithmic_trading/FX', 'train_path': 'data/algorithmic_trading/FX/train.csv', 'valid_path': 'data/algorithmic_trading/FX/valid.csv', 'test_path': 'data/algorithmic_trading/FX/test.csv', 'test_dynamic_path': 'data/algorithmic_trading/FX/test_labeled_3_24_-0.05_0.05.csv', 'tech_indicator_list': ['high', 'low', 'open', 'close', 'adjcp', 'zopen', 'zhigh', 'zlow', 'zadjcp', 'zclose', 'zd_5', 'zd_10', 'zd_15', 'zd_20', 'zd_25', 'zd_30'], 'backward_num_day': 5, 'forward_num_day': 5, 'test_dynamic': '-1'}, 'environment': {'type': 'AlgorithmicTradingEnvironment'}, 'agent': {'type': 'AlgorithmicTradingDQN', 'max_step': 12345, 'reward_scale': 1, 'repeat_times': 1, 'gamma': 0.9, 'batch_size': 64, 'clip_grad_norm': 3.0, 'soft_update_tau': 0, 'state_value_tau': 0.005}, 'trainer': {'type': 'AlgorithmicTradingTrainer', 'epochs': 20, 'work_dir': 'work_dir/algorithmic_trading_FX_deepscalper_deepscalper_adam_mse', 'seeds_list': (12345,), 'batch_size': 64, 'horizon_len': 128, 'buffer_size': 1000000.0, 'num_threads': 8, 'if_remove': False, 'if_discrete': True, 'if_off_policy': True, 'if_keep_save': True, 'if_over_write': False, 'if_save_buffer': False}, 'loss': {'type': 'MSELoss'}, 'optimizer': {'type': 'Adam', 'lr': 0.001}, 'act': {'type': 'QNet', 'state_dim': 82, 'action_dim': 3, 'dims': (64, 32), 'explore_rate': 0.25}, 'cri': None, 'transition': {'type': 'Transition'}, 'task_name': 'algorithmic_trading', 'dataset_name': 'FX', 'optimizer_name': 'adam', 'loss_name': 'mse', 'net_name': 'deepscalper', 'agent_name': 'deepscalper', 'work_dir': 'work_dir/algorithmic_trading_FX_deepscalper_deepscalper_adam_mse', 'batch_size': 64}"
      ]
     },
     "execution_count": 3,
     "metadata": {},
     "output_type": "execute_result"
    }
   ],
   "source": [
    "cfg"
   ]
  },
  {
   "cell_type": "markdown",
   "metadata": {},
   "source": [
    "## Step 3: Build Dataset"
   ]
  },
  {
   "cell_type": "code",
   "execution_count": 4,
   "metadata": {},
   "outputs": [],
   "source": [
    "dataset = build_dataset(cfg)"
   ]
  },
  {
   "cell_type": "markdown",
   "metadata": {},
   "source": [
    "## Step 4: Build Reinforcement Learning Environments\n",
    "Build environments based on cfg and predefined dataset"
   ]
  },
  {
   "cell_type": "code",
   "execution_count": 5,
   "metadata": {},
   "outputs": [],
   "source": [
    "train_environment = build_environment(cfg, default_args=dict(dataset=dataset, task=\"train\"))\n",
    "valid_environment = build_environment(cfg, default_args=dict(dataset=dataset, task=\"valid\"))\n",
    "test_environment = build_environment(cfg, default_args=dict(dataset=dataset, task=\"test\"))"
   ]
  },
  {
   "cell_type": "code",
   "execution_count": 6,
   "metadata": {},
   "outputs": [
    {
     "data": {
      "text/html": [
       "<div>\n",
       "<style scoped>\n",
       "    .dataframe tbody tr th:only-of-type {\n",
       "        vertical-align: middle;\n",
       "    }\n",
       "\n",
       "    .dataframe tbody tr th {\n",
       "        vertical-align: top;\n",
       "    }\n",
       "\n",
       "    .dataframe thead th {\n",
       "        text-align: right;\n",
       "    }\n",
       "</style>\n",
       "<table border=\"1\" class=\"dataframe\">\n",
       "  <thead>\n",
       "    <tr style=\"text-align: right;\">\n",
       "      <th></th>\n",
       "      <th>date</th>\n",
       "      <th>close</th>\n",
       "      <th>tic</th>\n",
       "      <th>open</th>\n",
       "      <th>high</th>\n",
       "      <th>low</th>\n",
       "      <th>adjcp</th>\n",
       "      <th>zopen</th>\n",
       "      <th>zhigh</th>\n",
       "      <th>zlow</th>\n",
       "      <th>zadjcp</th>\n",
       "      <th>zclose</th>\n",
       "      <th>zd_5</th>\n",
       "      <th>zd_10</th>\n",
       "      <th>zd_15</th>\n",
       "      <th>zd_20</th>\n",
       "      <th>zd_25</th>\n",
       "      <th>zd_30</th>\n",
       "    </tr>\n",
       "  </thead>\n",
       "  <tbody>\n",
       "    <tr>\n",
       "      <th>0</th>\n",
       "      <td>2000-01-04</td>\n",
       "      <td>0.120774</td>\n",
       "      <td>YUAN</td>\n",
       "      <td>0.120774</td>\n",
       "      <td>0.120774</td>\n",
       "      <td>0.120774</td>\n",
       "      <td>0.120774</td>\n",
       "      <td>0.0</td>\n",
       "      <td>0.0</td>\n",
       "      <td>0.0</td>\n",
       "      <td>0.0</td>\n",
       "      <td>-0.000012</td>\n",
       "      <td>-0.004914</td>\n",
       "      <td>-0.005947</td>\n",
       "      <td>-0.005263</td>\n",
       "      <td>-0.003942</td>\n",
       "      <td>-0.004124</td>\n",
       "      <td>-0.003351</td>\n",
       "    </tr>\n",
       "    <tr>\n",
       "      <th>1</th>\n",
       "      <td>2000-01-05</td>\n",
       "      <td>0.120776</td>\n",
       "      <td>YUAN</td>\n",
       "      <td>0.120776</td>\n",
       "      <td>0.120776</td>\n",
       "      <td>0.120776</td>\n",
       "      <td>0.120776</td>\n",
       "      <td>0.0</td>\n",
       "      <td>0.0</td>\n",
       "      <td>0.0</td>\n",
       "      <td>0.0</td>\n",
       "      <td>0.000012</td>\n",
       "      <td>-0.004914</td>\n",
       "      <td>-0.005947</td>\n",
       "      <td>-0.005263</td>\n",
       "      <td>-0.003942</td>\n",
       "      <td>-0.004124</td>\n",
       "      <td>-0.003351</td>\n",
       "    </tr>\n",
       "    <tr>\n",
       "      <th>2</th>\n",
       "      <td>2000-01-06</td>\n",
       "      <td>0.120777</td>\n",
       "      <td>YUAN</td>\n",
       "      <td>0.120777</td>\n",
       "      <td>0.120777</td>\n",
       "      <td>0.120777</td>\n",
       "      <td>0.120777</td>\n",
       "      <td>0.0</td>\n",
       "      <td>0.0</td>\n",
       "      <td>0.0</td>\n",
       "      <td>0.0</td>\n",
       "      <td>0.000012</td>\n",
       "      <td>-0.004914</td>\n",
       "      <td>-0.005947</td>\n",
       "      <td>-0.005263</td>\n",
       "      <td>-0.003942</td>\n",
       "      <td>-0.004124</td>\n",
       "      <td>-0.003351</td>\n",
       "    </tr>\n",
       "    <tr>\n",
       "      <th>3</th>\n",
       "      <td>2000-01-07</td>\n",
       "      <td>0.120782</td>\n",
       "      <td>YUAN</td>\n",
       "      <td>0.120782</td>\n",
       "      <td>0.120782</td>\n",
       "      <td>0.120782</td>\n",
       "      <td>0.120782</td>\n",
       "      <td>0.0</td>\n",
       "      <td>0.0</td>\n",
       "      <td>0.0</td>\n",
       "      <td>0.0</td>\n",
       "      <td>0.000036</td>\n",
       "      <td>-0.000039</td>\n",
       "      <td>-0.005947</td>\n",
       "      <td>-0.005263</td>\n",
       "      <td>-0.003942</td>\n",
       "      <td>-0.004124</td>\n",
       "      <td>-0.003351</td>\n",
       "    </tr>\n",
       "    <tr>\n",
       "      <th>4</th>\n",
       "      <td>2000-01-10</td>\n",
       "      <td>0.120782</td>\n",
       "      <td>YUAN</td>\n",
       "      <td>0.120782</td>\n",
       "      <td>0.120782</td>\n",
       "      <td>0.120782</td>\n",
       "      <td>0.120782</td>\n",
       "      <td>0.0</td>\n",
       "      <td>0.0</td>\n",
       "      <td>0.0</td>\n",
       "      <td>0.0</td>\n",
       "      <td>0.000000</td>\n",
       "      <td>-0.000029</td>\n",
       "      <td>-0.005947</td>\n",
       "      <td>-0.005263</td>\n",
       "      <td>-0.003942</td>\n",
       "      <td>-0.004124</td>\n",
       "      <td>-0.003351</td>\n",
       "    </tr>\n",
       "  </tbody>\n",
       "</table>\n",
       "</div>"
      ],
      "text/plain": [
       "         date     close   tic      open      high       low     adjcp  zopen  \\\n",
       "0  2000-01-04  0.120774  YUAN  0.120774  0.120774  0.120774  0.120774    0.0   \n",
       "1  2000-01-05  0.120776  YUAN  0.120776  0.120776  0.120776  0.120776    0.0   \n",
       "2  2000-01-06  0.120777  YUAN  0.120777  0.120777  0.120777  0.120777    0.0   \n",
       "3  2000-01-07  0.120782  YUAN  0.120782  0.120782  0.120782  0.120782    0.0   \n",
       "4  2000-01-10  0.120782  YUAN  0.120782  0.120782  0.120782  0.120782    0.0   \n",
       "\n",
       "   zhigh  zlow  zadjcp    zclose      zd_5     zd_10     zd_15     zd_20  \\\n",
       "0    0.0   0.0     0.0 -0.000012 -0.004914 -0.005947 -0.005263 -0.003942   \n",
       "1    0.0   0.0     0.0  0.000012 -0.004914 -0.005947 -0.005263 -0.003942   \n",
       "2    0.0   0.0     0.0  0.000012 -0.004914 -0.005947 -0.005263 -0.003942   \n",
       "3    0.0   0.0     0.0  0.000036 -0.000039 -0.005947 -0.005263 -0.003942   \n",
       "4    0.0   0.0     0.0  0.000000 -0.000029 -0.005947 -0.005263 -0.003942   \n",
       "\n",
       "      zd_25     zd_30  \n",
       "0 -0.004124 -0.003351  \n",
       "1 -0.004124 -0.003351  \n",
       "2 -0.004124 -0.003351  \n",
       "3 -0.004124 -0.003351  \n",
       "4 -0.004124 -0.003351  "
      ]
     },
     "execution_count": 6,
     "metadata": {},
     "output_type": "execute_result"
    }
   ],
   "source": [
    "train_environment.df.head()"
   ]
  },
  {
   "cell_type": "markdown",
   "metadata": {},
   "source": [
    "## Step 5: Build Net \n",
    "Update information about the state and action dimension. Create networks and optimizer for DeepScalper\n"
   ]
  },
  {
   "cell_type": "code",
   "execution_count": 7,
   "metadata": {},
   "outputs": [],
   "source": [
    "action_dim = train_environment.action_dim\n",
    "state_dim = train_environment.state_dim\n",
    "\n",
    "cfg.act.update(dict(action_dim=action_dim, state_dim=state_dim))\n",
    "act = build_net(cfg.act)\n",
    "act_optimizer = build_optimizer(cfg, default_args=dict(params=act.parameters()))\n",
    "if cfg.cri:\n",
    "    cfg.cri.update(dict(action_dim=action_dim, state_dim=state_dim))\n",
    "    cri = build_net(cfg.cri)\n",
    "    cri_optimizer = build_optimizer(cfg, default_args=dict(params=cri.parameters()))\n",
    "else:\n",
    "    cri = None\n",
    "    cri_optimizer = None"
   ]
  },
  {
   "cell_type": "markdown",
   "metadata": {},
   "source": [
    "## Step 6: Build Loss"
   ]
  },
  {
   "cell_type": "code",
   "execution_count": 8,
   "metadata": {},
   "outputs": [],
   "source": [
    "criterion = build_loss(cfg)"
   ]
  },
  {
   "cell_type": "markdown",
   "metadata": {},
   "source": [
    "## Step 7: Build Transition"
   ]
  },
  {
   "cell_type": "code",
   "execution_count": 9,
   "metadata": {},
   "outputs": [],
   "source": [
    "transition = build_transition(cfg)\n"
   ]
  },
  {
   "cell_type": "markdown",
   "metadata": {},
   "source": [
    "## Step 8: Build Agent"
   ]
  },
  {
   "cell_type": "code",
   "execution_count": 10,
   "metadata": {},
   "outputs": [],
   "source": [
    "device = torch.device('cuda' if torch.cuda.is_available() else 'cpu')\n",
    "agent = build_agent(cfg, default_args=dict(action_dim = action_dim,state_dim = state_dim,act = act,cri = cri,act_optimizer = act_optimizer,cri_optimizer = cri_optimizer, criterion = criterion,transition = transition,device=device))"
   ]
  },
  {
   "cell_type": "markdown",
   "metadata": {},
   "source": [
    "## Step 9: Build Trainer\n",
    "Build trainer from config and create work directionary to save the result, model and config"
   ]
  },
  {
   "cell_type": "code",
   "execution_count": 11,
   "metadata": {},
   "outputs": [
    {
     "name": "stdout",
     "output_type": "stream",
     "text": [
      "| Arguments Keep work_dir: /data/sunshuo/qml/TradeMaster/work_dir/algorithmic_trading_FX_deepscalper_deepscalper_adam_mse\n"
     ]
    }
   ],
   "source": [
    "trainer = build_trainer(cfg, default_args=dict(train_environment=train_environment,valid_environment=valid_environment,test_environment=test_environment,agent=agent,device=device))"
   ]
  },
  {
   "cell_type": "markdown",
   "metadata": {},
   "source": [
    "## Step 10: Train the RL Agent\n",
    "Train the trainer based on the config and save results in workdir"
   ]
  },
  {
   "cell_type": "code",
   "execution_count": 12,
   "metadata": {},
   "outputs": [
    {
     "name": "stdout",
     "output_type": "stream",
     "text": [
      "Train Episode: [1/20]\n",
      "+--------------+-------------+------------+--------------+\n",
      "| Total Return | Sharp Ratio | Volatility | Max Drawdown |\n",
      "+--------------+-------------+------------+--------------+\n",
      "|  -0.096750%  | -124.108494 | 0.000196%  |  0.137177%   |\n",
      "+--------------+-------------+------------+--------------+\n",
      "Valid Episode: [1/20]\n",
      "+--------------+-------------+------------+--------------+\n",
      "| Total Return | Sharp Ratio | Volatility | Max Drawdown |\n",
      "+--------------+-------------+------------+--------------+\n",
      "|  0.000905%   |   7.226111  | 0.000090%  |  0.001914%   |\n",
      "+--------------+-------------+------------+--------------+\n",
      "Train Episode: [2/20]\n",
      "+--------------+-------------+------------+--------------+\n",
      "| Total Return | Sharp Ratio | Volatility | Max Drawdown |\n",
      "+--------------+-------------+------------+--------------+\n",
      "|  0.017753%   |  49.035435  | 0.000091%  |  0.006434%   |\n",
      "+--------------+-------------+------------+--------------+\n",
      "Valid Episode: [2/20]\n",
      "+--------------+--------------+------------+--------------+\n",
      "| Total Return | Sharp Ratio  | Volatility | Max Drawdown |\n",
      "+--------------+--------------+------------+--------------+\n",
      "|  -0.147375%  | -1176.497490 | 0.000090%  |  0.147375%   |\n",
      "+--------------+--------------+------------+--------------+\n",
      "Train Episode: [3/20]\n",
      "+--------------+-------------+------------+--------------+\n",
      "| Total Return | Sharp Ratio | Volatility | Max Drawdown |\n",
      "+--------------+-------------+------------+--------------+\n",
      "|  -0.075074%  |  -83.253344 | 0.000226%  |  0.124212%   |\n",
      "+--------------+-------------+------------+--------------+\n",
      "Valid Episode: [3/20]\n",
      "+--------------+-------------+------------+--------------+\n",
      "| Total Return | Sharp Ratio | Volatility | Max Drawdown |\n",
      "+--------------+-------------+------------+--------------+\n",
      "|  0.000905%   |   7.226111  | 0.000090%  |  0.001914%   |\n",
      "+--------------+-------------+------------+--------------+\n",
      "Train Episode: [4/20]\n",
      "+--------------+-------------+------------+--------------+\n",
      "| Total Return | Sharp Ratio | Volatility | Max Drawdown |\n",
      "+--------------+-------------+------------+--------------+\n",
      "|  -0.008265%  |  -22.537834 | 0.000092%  |  0.020626%   |\n",
      "+--------------+-------------+------------+--------------+\n",
      "Valid Episode: [4/20]\n",
      "+--------------+-------------+------------+--------------+\n",
      "| Total Return | Sharp Ratio | Volatility | Max Drawdown |\n",
      "+--------------+-------------+------------+--------------+\n",
      "|  0.000905%   |   7.226111  | 0.000090%  |  0.001914%   |\n",
      "+--------------+-------------+------------+--------------+\n",
      "Train Episode: [5/20]\n",
      "+--------------+-------------+------------+--------------+\n",
      "| Total Return | Sharp Ratio | Volatility | Max Drawdown |\n",
      "+--------------+-------------+------------+--------------+\n",
      "|  -0.045031%  |  -48.041936 | 0.000235%  |  0.099481%   |\n",
      "+--------------+-------------+------------+--------------+\n",
      "Valid Episode: [5/20]\n",
      "+--------------+--------------+------------+--------------+\n",
      "| Total Return | Sharp Ratio  | Volatility | Max Drawdown |\n",
      "+--------------+--------------+------------+--------------+\n",
      "|  -0.147375%  | -1176.497490 | 0.000090%  |  0.147375%   |\n",
      "+--------------+--------------+------------+--------------+\n",
      "Train Episode: [6/20]\n",
      "+--------------+-------------+------------+--------------+\n",
      "| Total Return | Sharp Ratio | Volatility | Max Drawdown |\n",
      "+--------------+-------------+------------+--------------+\n",
      "|  -0.039660%  |  -44.977846 | 0.000221%  |  0.067008%   |\n",
      "+--------------+-------------+------------+--------------+\n",
      "Valid Episode: [6/20]\n",
      "+--------------+--------------+------------+--------------+\n",
      "| Total Return | Sharp Ratio  | Volatility | Max Drawdown |\n",
      "+--------------+--------------+------------+--------------+\n",
      "|  -0.147375%  | -1176.497490 | 0.000090%  |  0.147375%   |\n",
      "+--------------+--------------+------------+--------------+\n",
      "Train Episode: [7/20]\n",
      "+--------------+-------------+------------+--------------+\n",
      "| Total Return | Sharp Ratio | Volatility | Max Drawdown |\n",
      "+--------------+-------------+------------+--------------+\n",
      "|  0.005916%   |  28.703631  | 0.000052%  |  0.013307%   |\n",
      "+--------------+-------------+------------+--------------+\n",
      "Valid Episode: [7/20]\n",
      "+--------------+--------------+------------+--------------+\n",
      "| Total Return | Sharp Ratio  | Volatility | Max Drawdown |\n",
      "+--------------+--------------+------------+--------------+\n",
      "|  -0.147375%  | -1176.497490 | 0.000090%  |  0.147375%   |\n",
      "+--------------+--------------+------------+--------------+\n",
      "Train Episode: [8/20]\n",
      "+--------------+-------------+------------+--------------+\n",
      "| Total Return | Sharp Ratio | Volatility | Max Drawdown |\n",
      "+--------------+-------------+------------+--------------+\n",
      "|  0.008927%   |  25.421022  | 0.000088%  |  0.024172%   |\n",
      "+--------------+-------------+------------+--------------+\n",
      "Valid Episode: [8/20]\n",
      "+--------------+-------------+------------+--------------+\n",
      "| Total Return | Sharp Ratio | Volatility | Max Drawdown |\n",
      "+--------------+-------------+------------+--------------+\n",
      "|  0.000905%   |   7.226111  | 0.000090%  |  0.001914%   |\n",
      "+--------------+-------------+------------+--------------+\n",
      "Train Episode: [9/20]\n",
      "+--------------+-------------+------------+--------------+\n",
      "| Total Return | Sharp Ratio | Volatility | Max Drawdown |\n",
      "+--------------+-------------+------------+--------------+\n",
      "|  0.003254%   |  10.667936  | 0.000077%  |  0.020591%   |\n",
      "+--------------+-------------+------------+--------------+\n",
      "Valid Episode: [9/20]\n",
      "+--------------+-------------+------------+--------------+\n",
      "| Total Return | Sharp Ratio | Volatility | Max Drawdown |\n",
      "+--------------+-------------+------------+--------------+\n",
      "|  0.000905%   |   7.226111  | 0.000090%  |  0.001914%   |\n",
      "+--------------+-------------+------------+--------------+\n",
      "Train Episode: [10/20]\n",
      "+--------------+-------------+------------+--------------+\n",
      "| Total Return | Sharp Ratio | Volatility | Max Drawdown |\n",
      "+--------------+-------------+------------+--------------+\n",
      "|  -0.056621%  |  -73.142622 | 0.000194%  |  0.089323%   |\n",
      "+--------------+-------------+------------+--------------+\n",
      "Valid Episode: [10/20]\n",
      "+--------------+-------------+------------+--------------+\n",
      "| Total Return | Sharp Ratio | Volatility | Max Drawdown |\n",
      "+--------------+-------------+------------+--------------+\n",
      "|  0.000905%   |   7.226111  | 0.000090%  |  0.001914%   |\n",
      "+--------------+-------------+------------+--------------+\n",
      "Train Episode: [11/20]\n",
      "+--------------+-------------+------------+--------------+\n",
      "| Total Return | Sharp Ratio | Volatility | Max Drawdown |\n",
      "+--------------+-------------+------------+--------------+\n",
      "|  0.005057%   |  32.813954  | 0.000039%  |  0.003575%   |\n",
      "+--------------+-------------+------------+--------------+\n",
      "Valid Episode: [11/20]\n",
      "+--------------+--------------+------------+--------------+\n",
      "| Total Return | Sharp Ratio  | Volatility | Max Drawdown |\n",
      "+--------------+--------------+------------+--------------+\n",
      "|  -0.147375%  | -1176.497490 | 0.000090%  |  0.147375%   |\n",
      "+--------------+--------------+------------+--------------+\n",
      "Train Episode: [12/20]\n",
      "+--------------+-------------+------------+--------------+\n",
      "| Total Return | Sharp Ratio | Volatility | Max Drawdown |\n",
      "+--------------+-------------+------------+--------------+\n",
      "|  0.018847%   |  42.113894  | 0.000112%  |  0.023931%   |\n",
      "+--------------+-------------+------------+--------------+\n",
      "Valid Episode: [12/20]\n",
      "+--------------+-------------+------------+--------------+\n",
      "| Total Return | Sharp Ratio | Volatility | Max Drawdown |\n",
      "+--------------+-------------+------------+--------------+\n",
      "|  -0.000000%  |  -0.000159  | 0.000000%  |  0.000000%   |\n",
      "+--------------+-------------+------------+--------------+\n",
      "Train Episode: [13/20]\n",
      "+--------------+-------------+------------+--------------+\n",
      "| Total Return | Sharp Ratio | Volatility | Max Drawdown |\n",
      "+--------------+-------------+------------+--------------+\n",
      "|  0.009190%   |  58.468575  | 0.000039%  |  0.001544%   |\n",
      "+--------------+-------------+------------+--------------+\n",
      "Valid Episode: [13/20]\n",
      "+--------------+-------------+------------+--------------+\n",
      "| Total Return | Sharp Ratio | Volatility | Max Drawdown |\n",
      "+--------------+-------------+------------+--------------+\n",
      "|  -0.000000%  |  -0.000159  | 0.000000%  |  0.000000%   |\n",
      "+--------------+-------------+------------+--------------+\n",
      "Train Episode: [14/20]\n",
      "+--------------+-------------+------------+--------------+\n",
      "| Total Return | Sharp Ratio | Volatility | Max Drawdown |\n",
      "+--------------+-------------+------------+--------------+\n",
      "|  0.002707%   |   6.758106  | 0.000101%  |  0.024952%   |\n",
      "+--------------+-------------+------------+--------------+\n",
      "Valid Episode: [14/20]\n",
      "+--------------+-------------+------------+--------------+\n",
      "| Total Return | Sharp Ratio | Volatility | Max Drawdown |\n",
      "+--------------+-------------+------------+--------------+\n",
      "|  0.000905%   |   7.226111  | 0.000090%  |  0.001914%   |\n",
      "+--------------+-------------+------------+--------------+\n",
      "Train Episode: [15/20]\n",
      "+--------------+-------------+------------+--------------+\n",
      "| Total Return | Sharp Ratio | Volatility | Max Drawdown |\n",
      "+--------------+-------------+------------+--------------+\n",
      "|  0.005766%   |   8.470528  | 0.000171%  |  0.094660%   |\n",
      "+--------------+-------------+------------+--------------+\n",
      "Valid Episode: [15/20]\n",
      "+--------------+-------------+------------+--------------+\n",
      "| Total Return | Sharp Ratio | Volatility | Max Drawdown |\n",
      "+--------------+-------------+------------+--------------+\n",
      "|  0.000905%   |   7.226111  | 0.000090%  |  0.001914%   |\n",
      "+--------------+-------------+------------+--------------+\n",
      "Train Episode: [16/20]\n",
      "+--------------+-------------+------------+--------------+\n",
      "| Total Return | Sharp Ratio | Volatility | Max Drawdown |\n",
      "+--------------+-------------+------------+--------------+\n",
      "|  0.001758%   |   3.954459  | 0.000112%  |  0.028437%   |\n",
      "+--------------+-------------+------------+--------------+\n",
      "Valid Episode: [16/20]\n",
      "+--------------+--------------+------------+--------------+\n",
      "| Total Return | Sharp Ratio  | Volatility | Max Drawdown |\n",
      "+--------------+--------------+------------+--------------+\n",
      "|  -0.147375%  | -1176.497490 | 0.000090%  |  0.147375%   |\n",
      "+--------------+--------------+------------+--------------+\n",
      "Train Episode: [17/20]\n",
      "+--------------+-------------+------------+--------------+\n",
      "| Total Return | Sharp Ratio | Volatility | Max Drawdown |\n",
      "+--------------+-------------+------------+--------------+\n",
      "|  0.011115%   |  12.552306  | 0.000222%  |  0.115719%   |\n",
      "+--------------+-------------+------------+--------------+\n",
      "Valid Episode: [17/20]\n",
      "+--------------+-------------+------------+--------------+\n",
      "| Total Return | Sharp Ratio | Volatility | Max Drawdown |\n",
      "+--------------+-------------+------------+--------------+\n",
      "|  -0.000000%  |  -0.000159  | 0.000000%  |  0.000000%   |\n",
      "+--------------+-------------+------------+--------------+\n",
      "Train Episode: [18/20]\n",
      "+--------------+-------------+------------+--------------+\n",
      "| Total Return | Sharp Ratio | Volatility | Max Drawdown |\n",
      "+--------------+-------------+------------+--------------+\n",
      "|  -0.073808%  |  -80.346891 | 0.000231%  |  0.095320%   |\n",
      "+--------------+-------------+------------+--------------+\n",
      "Valid Episode: [18/20]\n",
      "+--------------+-------------+------------+--------------+\n",
      "| Total Return | Sharp Ratio | Volatility | Max Drawdown |\n",
      "+--------------+-------------+------------+--------------+\n",
      "|  -0.000000%  |  -0.000159  | 0.000000%  |  0.000000%   |\n",
      "+--------------+-------------+------------+--------------+\n",
      "Train Episode: [19/20]\n",
      "+--------------+-------------+------------+--------------+\n",
      "| Total Return | Sharp Ratio | Volatility | Max Drawdown |\n",
      "+--------------+-------------+------------+--------------+\n",
      "|  -0.106194%  | -159.366096 | 0.000167%  |  0.111498%   |\n",
      "+--------------+-------------+------------+--------------+\n",
      "Valid Episode: [19/20]\n",
      "+--------------+-------------+------------+--------------+\n",
      "| Total Return | Sharp Ratio | Volatility | Max Drawdown |\n",
      "+--------------+-------------+------------+--------------+\n",
      "|  -0.000000%  |  -0.000159  | 0.000000%  |  0.000000%   |\n",
      "+--------------+-------------+------------+--------------+\n",
      "Train Episode: [20/20]\n",
      "+--------------+-------------+------------+--------------+\n",
      "| Total Return | Sharp Ratio | Volatility | Max Drawdown |\n",
      "+--------------+-------------+------------+--------------+\n",
      "|  0.013390%   |  44.401752  | 0.000076%  |  0.004719%   |\n",
      "+--------------+-------------+------------+--------------+\n",
      "Valid Episode: [20/20]\n",
      "+--------------+--------------+------------+--------------+\n",
      "| Total Return | Sharp Ratio  | Volatility | Max Drawdown |\n",
      "+--------------+--------------+------------+--------------+\n",
      "|  -0.147375%  | -1176.497490 | 0.000090%  |  0.147375%   |\n",
      "+--------------+--------------+------------+--------------+\n"
     ]
    }
   ],
   "source": [
    "trainer.train_and_valid()"
   ]
  },
  {
   "cell_type": "markdown",
   "metadata": {},
   "source": [
    "## Step 11: RL Agent Testing"
   ]
  },
  {
   "cell_type": "code",
   "execution_count": 13,
   "metadata": {},
   "outputs": [
    {
     "name": "stdout",
     "output_type": "stream",
     "text": [
      "Resume checkpoint /data/sunshuo/qml/TradeMaster/work_dir/algorithmic_trading_FX_deepscalper_deepscalper_adam_mse/checkpoints/best.pth\n",
      "Test Best Episode\n",
      "+--------------+-------------+------------+--------------+\n",
      "| Total Return | Sharp Ratio | Volatility | Max Drawdown |\n",
      "+--------------+-------------+------------+--------------+\n",
      "|  -0.142947%  | -979.346013 | 0.000104%  |  0.142947%   |\n",
      "+--------------+-------------+------------+--------------+\n"
     ]
    }
   ],
   "source": [
    "trainer.test();"
   ]
  },
  {
   "cell_type": "code",
   "execution_count": 14,
   "metadata": {},
   "outputs": [
    {
     "data": {
      "image/png": "[encoded data removed]",
      "text/plain": [
       "<Figure size 432x288 with 1 Axes>"
      ]
     },
     "metadata": {
      "needs_background": "light"
     },
     "output_type": "display_data"
    }
   ],
   "source": [
    "plot(trainer.test_environment.save_asset_memory(),alg=\"DeepScalper\")"
   ]
  }
 ],
 "metadata": {
  "kernelspec": {
   "display_name": "Python 3 (ipykernel)",
   "language": "python",
   "name": "python3"
  },
  "language_info": {
   "codemirror_mode": {
    "name": "ipython",
    "version": 3
   },
   "file_extension": ".py",
   "mimetype": "text/x-python",
   "name": "python",
   "nbconvert_exporter": "python",
   "pygments_lexer": "ipython3",
   "version": "3.7.13"
  },
  "vscode": {
   "interpreter": {
    "hash": "a1f97403911abd3f02553c8f2b0c54537fddc7efadd9f5d3e31784db6e40c347"
   }
  }
 },
 "nbformat": 4,
 "nbformat_minor": 2
}
