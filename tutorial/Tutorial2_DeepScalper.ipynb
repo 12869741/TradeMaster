{
 "cells": [
  {
   "attachments": {},
   "cell_type": "markdown",
   "metadata": {},
   "source": [
    "## Step 1: Import Packages\n",
    "Modify the system path and load the corresponding packages and functions "
   ]
  },
  {
   "cell_type": "code",
   "execution_count": 19,
   "metadata": {},
   "outputs": [],
   "source": [
    "import os\n",
    "import sys\n",
    "\n",
    "import warnings\n",
    "warnings.filterwarnings(\"ignore\")\n",
    "\n",
    "ROOT = os.path.dirname(os.path.abspath(\".\"))\n",
    "sys.path.append(ROOT)\n",
    "\n",
    "import torch\n",
    "import argparse\n",
    "import os.path as osp\n",
    "from mmcv import Config\n",
    "from trademaster.utils import replace_cfg_vals\n",
    "from trademaster.nets.builder import build_net\n",
    "from trademaster.environments.builder import build_environment\n",
    "from trademaster.datasets.builder import build_dataset\n",
    "from trademaster.agents.builder import build_agent\n",
    "from trademaster.optimizers.builder import build_optimizer\n",
    "from trademaster.losses.builder import build_loss\n",
    "from trademaster.trainers.builder import build_trainer\n",
    "from trademaster.transition.builder import build_transition"
   ]
  },
  {
   "attachments": {},
   "cell_type": "markdown",
   "metadata": {},
   "source": [
    "## Step 2: Load Configs\n",
    "Load default config from the folder `configs/algorithmic_trading/algorithmic_trading_FX_deepscalper_deepscalper_adam_mse.py`"
   ]
  },
  {
   "cell_type": "code",
   "execution_count": 20,
   "metadata": {},
   "outputs": [],
   "source": [
    "\n",
    "parser = argparse.ArgumentParser(description='Download Alpaca Datasets')\n",
    "parser.add_argument(\"--config\", default=osp.join(ROOT, \"configs\", \"algorithmic_trading\", \"algorithmic_trading_FX_deepscalper_deepscalper_adam_mse.py\"),\n",
    "                    help=\"download datasets config file path\")\n",
    "parser.add_argument(\"--task_name\", type=str, default=\"train\")\n",
    "args, _= parser.parse_known_args()\n",
    "\n",
    "cfg = Config.fromfile(args.config)\n",
    "task_name = args.task_name\n",
    "cfg = replace_cfg_vals(cfg)"
   ]
  },
  {
   "cell_type": "code",
   "execution_count": 21,
   "metadata": {},
   "outputs": [
    {
     "data": {
      "text/plain": "Config (path: D:\\pycharm_workspace\\TradeMaster\\configs\\algorithmic_trading\\algorithmic_trading_FX_deepscalper_deepscalper_adam_mse.py): {'data': {'type': 'AlgorithmicTradingDataset', 'data_path': 'data/algorithmic_trading/FX', 'train_path': 'data/algorithmic_trading/FX/train.csv', 'valid_path': 'data/algorithmic_trading/FX/valid.csv', 'test_path': 'data/algorithmic_trading/FX/test.csv', 'test_dynamic_path': 'data/algorithmic_trading/FX/test_labeled_3_24_-0.15_0.15.csv', 'tech_indicator_list': ['high', 'low', 'open', 'close', 'adjcp', 'zopen', 'zhigh', 'zlow', 'zadjcp', 'zclose', 'zd_5', 'zd_10', 'zd_15', 'zd_20', 'zd_25', 'zd_30'], 'backward_num_day': 5, 'forward_num_day': 5, 'test_dynamic': '-1'}, 'environment': {'type': 'AlgorithmicTradingEnvironment'}, 'agent': {'type': 'AlgorithmicTradingDQN', 'max_step': 12345, 'reward_scale': 1, 'repeat_times': 1, 'gamma': 0.9, 'batch_size': 64, 'clip_grad_norm': 3.0, 'soft_update_tau': 0, 'state_value_tau': 0.005}, 'trainer': {'type': 'AlgorithmicTradingTrainer', 'epochs': 20, 'work_dir': 'work_dir/algorithmic_trading_FX_deepscalper_deepscalper_adam_mse', 'seeds_list': (12345,), 'batch_size': 64, 'horizon_len': 128, 'buffer_size': 1000000.0, 'num_threads': 8, 'if_remove': False, 'if_discrete': True, 'if_off_policy': True, 'if_keep_save': True, 'if_over_write': False, 'if_save_buffer': False}, 'loss': {'type': 'MSELoss'}, 'optimizer': {'type': 'Adam', 'lr': 0.001}, 'act': {'type': 'QNet', 'state_dim': 82, 'action_dim': 3, 'dims': (64, 32), 'explore_rate': 0.25}, 'cri': None, 'transition': {'type': 'Transition'}, 'task_name': 'algorithmic_trading', 'dataset_name': 'FX', 'optimizer_name': 'adam', 'loss_name': 'mse', 'net_name': 'deepscalper', 'agent_name': 'deepscalper', 'work_dir': 'work_dir/algorithmic_trading_FX_deepscalper_deepscalper_adam_mse', 'batch_size': 64}"
     },
     "execution_count": 21,
     "metadata": {},
     "output_type": "execute_result"
    }
   ],
   "source": [
    "cfg"
   ]
  },
  {
   "attachments": {},
   "cell_type": "markdown",
   "metadata": {},
   "source": [
    "## Step 3: Build Dataset\n",
    "Build datasets from cfg defined above"
   ]
  },
  {
   "cell_type": "code",
   "execution_count": 24,
   "metadata": {},
   "outputs": [],
   "source": [
    "dataset = build_dataset(cfg)"
   ]
  },
  {
   "attachments": {},
   "cell_type": "markdown",
   "metadata": {},
   "source": [
    "## Step 4: Build Reinforcement Learning Environments\n",
    "Build environments based on cfg and previously-defined dataset\n",
    "\n",
    "A style-test is provided as an option to test the algorithm's performance under different market conditions"
   ]
  },
  {
   "cell_type": "code",
   "execution_count": 25,
   "metadata": {},
   "outputs": [],
   "source": [
    "train_environment = build_environment(cfg, default_args=dict(dataset=dataset, task=\"train\"))\n",
    "valid_environment = build_environment(cfg, default_args=dict(dataset=dataset, task=\"valid\"))\n",
    "test_environment = build_environment(cfg, default_args=dict(dataset=dataset, task=\"test\"))"
   ]
  },
  {
   "cell_type": "code",
   "execution_count": 26,
   "metadata": {},
   "outputs": [
    {
     "data": {
      "text/plain": "         date     close   tic      open      high       low     adjcp  zopen  \\\n0  2000-01-04  0.120774  YUAN  0.120774  0.120774  0.120774  0.120774    0.0   \n1  2000-01-05  0.120776  YUAN  0.120776  0.120776  0.120776  0.120776    0.0   \n2  2000-01-06  0.120777  YUAN  0.120777  0.120777  0.120777  0.120777    0.0   \n3  2000-01-07  0.120782  YUAN  0.120782  0.120782  0.120782  0.120782    0.0   \n4  2000-01-10  0.120782  YUAN  0.120782  0.120782  0.120782  0.120782    0.0   \n\n   zhigh  zlow  zadjcp    zclose      zd_5     zd_10     zd_15     zd_20  \\\n0    0.0   0.0     0.0 -0.000012 -0.004914 -0.005947 -0.005263 -0.003942   \n1    0.0   0.0     0.0  0.000012 -0.004914 -0.005947 -0.005263 -0.003942   \n2    0.0   0.0     0.0  0.000012 -0.004914 -0.005947 -0.005263 -0.003942   \n3    0.0   0.0     0.0  0.000036 -0.000039 -0.005947 -0.005263 -0.003942   \n4    0.0   0.0     0.0  0.000000 -0.000029 -0.005947 -0.005263 -0.003942   \n\n      zd_25     zd_30  \n0 -0.004124 -0.003351  \n1 -0.004124 -0.003351  \n2 -0.004124 -0.003351  \n3 -0.004124 -0.003351  \n4 -0.004124 -0.003351  ",
      "text/html": "<div>\n<style scoped>\n    .dataframe tbody tr th:only-of-type {\n        vertical-align: middle;\n    }\n\n    .dataframe tbody tr th {\n        vertical-align: top;\n    }\n\n    .dataframe thead th {\n        text-align: right;\n    }\n</style>\n<table border=\"1\" class=\"dataframe\">\n  <thead>\n    <tr style=\"text-align: right;\">\n      <th></th>\n      <th>date</th>\n      <th>close</th>\n      <th>tic</th>\n      <th>open</th>\n      <th>high</th>\n      <th>low</th>\n      <th>adjcp</th>\n      <th>zopen</th>\n      <th>zhigh</th>\n      <th>zlow</th>\n      <th>zadjcp</th>\n      <th>zclose</th>\n      <th>zd_5</th>\n      <th>zd_10</th>\n      <th>zd_15</th>\n      <th>zd_20</th>\n      <th>zd_25</th>\n      <th>zd_30</th>\n    </tr>\n  </thead>\n  <tbody>\n    <tr>\n      <th>0</th>\n      <td>2000-01-04</td>\n      <td>0.120774</td>\n      <td>YUAN</td>\n      <td>0.120774</td>\n      <td>0.120774</td>\n      <td>0.120774</td>\n      <td>0.120774</td>\n      <td>0.0</td>\n      <td>0.0</td>\n      <td>0.0</td>\n      <td>0.0</td>\n      <td>-0.000012</td>\n      <td>-0.004914</td>\n      <td>-0.005947</td>\n      <td>-0.005263</td>\n      <td>-0.003942</td>\n      <td>-0.004124</td>\n      <td>-0.003351</td>\n    </tr>\n    <tr>\n      <th>1</th>\n      <td>2000-01-05</td>\n      <td>0.120776</td>\n      <td>YUAN</td>\n      <td>0.120776</td>\n      <td>0.120776</td>\n      <td>0.120776</td>\n      <td>0.120776</td>\n      <td>0.0</td>\n      <td>0.0</td>\n      <td>0.0</td>\n      <td>0.0</td>\n      <td>0.000012</td>\n      <td>-0.004914</td>\n      <td>-0.005947</td>\n      <td>-0.005263</td>\n      <td>-0.003942</td>\n      <td>-0.004124</td>\n      <td>-0.003351</td>\n    </tr>\n    <tr>\n      <th>2</th>\n      <td>2000-01-06</td>\n      <td>0.120777</td>\n      <td>YUAN</td>\n      <td>0.120777</td>\n      <td>0.120777</td>\n      <td>0.120777</td>\n      <td>0.120777</td>\n      <td>0.0</td>\n      <td>0.0</td>\n      <td>0.0</td>\n      <td>0.0</td>\n      <td>0.000012</td>\n      <td>-0.004914</td>\n      <td>-0.005947</td>\n      <td>-0.005263</td>\n      <td>-0.003942</td>\n      <td>-0.004124</td>\n      <td>-0.003351</td>\n    </tr>\n    <tr>\n      <th>3</th>\n      <td>2000-01-07</td>\n      <td>0.120782</td>\n      <td>YUAN</td>\n      <td>0.120782</td>\n      <td>0.120782</td>\n      <td>0.120782</td>\n      <td>0.120782</td>\n      <td>0.0</td>\n      <td>0.0</td>\n      <td>0.0</td>\n      <td>0.0</td>\n      <td>0.000036</td>\n      <td>-0.000039</td>\n      <td>-0.005947</td>\n      <td>-0.005263</td>\n      <td>-0.003942</td>\n      <td>-0.004124</td>\n      <td>-0.003351</td>\n    </tr>\n    <tr>\n      <th>4</th>\n      <td>2000-01-10</td>\n      <td>0.120782</td>\n      <td>YUAN</td>\n      <td>0.120782</td>\n      <td>0.120782</td>\n      <td>0.120782</td>\n      <td>0.120782</td>\n      <td>0.0</td>\n      <td>0.0</td>\n      <td>0.0</td>\n      <td>0.0</td>\n      <td>0.000000</td>\n      <td>-0.000029</td>\n      <td>-0.005947</td>\n      <td>-0.005263</td>\n      <td>-0.003942</td>\n      <td>-0.004124</td>\n      <td>-0.003351</td>\n    </tr>\n  </tbody>\n</table>\n</div>"
     },
     "execution_count": 26,
     "metadata": {},
     "output_type": "execute_result"
    }
   ],
   "source": [
    "train_environment.df.head()"
   ]
  },
  {
   "cell_type": "code",
   "execution_count": 27,
   "metadata": {},
   "outputs": [
    {
     "data": {
      "text/plain": "         date     close   tic      open      high       low     adjcp  zopen  \\\n0  2015-12-24  0.154421  YUAN  0.154421  0.154421  0.154421  0.154421    0.0   \n1  2015-12-28  0.154373  YUAN  0.154373  0.154373  0.154373  0.154373    0.0   \n2  2015-12-29  0.154373  YUAN  0.154373  0.154373  0.154373  0.154373    0.0   \n3  2015-12-30  0.154093  YUAN  0.154093  0.154093  0.154093  0.154093    0.0   \n4  2015-12-31  0.154373  YUAN  0.154373  0.154373  0.154373  0.154373    0.0   \n\n   zhigh  zlow  zadjcp        zclose      zd_5     zd_10     zd_15     zd_20  \\\n0    0.0   0.0     0.0  7.721054e-05 -0.000315  0.000647  0.003583  0.006062   \n1    0.0   0.0     0.0 -3.087468e-04  0.000062  0.000584  0.002959  0.005722   \n2    0.0   0.0     0.0  4.440892e-16  0.000108  0.000290  0.002234  0.005021   \n3    0.0   0.0     0.0 -1.818294e-03  0.001566  0.001654  0.003297  0.006059   \n4    0.0   0.0     0.0  1.821606e-03 -0.000302 -0.000253  0.000946  0.003529   \n\n      zd_25     zd_30  \n0  0.007656  0.009026  \n1  0.007370  0.008768  \n2  0.006779  0.008223  \n3  0.007983  0.009433  \n4  0.005590  0.007072  ",
      "text/html": "<div>\n<style scoped>\n    .dataframe tbody tr th:only-of-type {\n        vertical-align: middle;\n    }\n\n    .dataframe tbody tr th {\n        vertical-align: top;\n    }\n\n    .dataframe thead th {\n        text-align: right;\n    }\n</style>\n<table border=\"1\" class=\"dataframe\">\n  <thead>\n    <tr style=\"text-align: right;\">\n      <th></th>\n      <th>date</th>\n      <th>close</th>\n      <th>tic</th>\n      <th>open</th>\n      <th>high</th>\n      <th>low</th>\n      <th>adjcp</th>\n      <th>zopen</th>\n      <th>zhigh</th>\n      <th>zlow</th>\n      <th>zadjcp</th>\n      <th>zclose</th>\n      <th>zd_5</th>\n      <th>zd_10</th>\n      <th>zd_15</th>\n      <th>zd_20</th>\n      <th>zd_25</th>\n      <th>zd_30</th>\n    </tr>\n  </thead>\n  <tbody>\n    <tr>\n      <th>0</th>\n      <td>2015-12-24</td>\n      <td>0.154421</td>\n      <td>YUAN</td>\n      <td>0.154421</td>\n      <td>0.154421</td>\n      <td>0.154421</td>\n      <td>0.154421</td>\n      <td>0.0</td>\n      <td>0.0</td>\n      <td>0.0</td>\n      <td>0.0</td>\n      <td>7.721054e-05</td>\n      <td>-0.000315</td>\n      <td>0.000647</td>\n      <td>0.003583</td>\n      <td>0.006062</td>\n      <td>0.007656</td>\n      <td>0.009026</td>\n    </tr>\n    <tr>\n      <th>1</th>\n      <td>2015-12-28</td>\n      <td>0.154373</td>\n      <td>YUAN</td>\n      <td>0.154373</td>\n      <td>0.154373</td>\n      <td>0.154373</td>\n      <td>0.154373</td>\n      <td>0.0</td>\n      <td>0.0</td>\n      <td>0.0</td>\n      <td>0.0</td>\n      <td>-3.087468e-04</td>\n      <td>0.000062</td>\n      <td>0.000584</td>\n      <td>0.002959</td>\n      <td>0.005722</td>\n      <td>0.007370</td>\n      <td>0.008768</td>\n    </tr>\n    <tr>\n      <th>2</th>\n      <td>2015-12-29</td>\n      <td>0.154373</td>\n      <td>YUAN</td>\n      <td>0.154373</td>\n      <td>0.154373</td>\n      <td>0.154373</td>\n      <td>0.154373</td>\n      <td>0.0</td>\n      <td>0.0</td>\n      <td>0.0</td>\n      <td>0.0</td>\n      <td>4.440892e-16</td>\n      <td>0.000108</td>\n      <td>0.000290</td>\n      <td>0.002234</td>\n      <td>0.005021</td>\n      <td>0.006779</td>\n      <td>0.008223</td>\n    </tr>\n    <tr>\n      <th>3</th>\n      <td>2015-12-30</td>\n      <td>0.154093</td>\n      <td>YUAN</td>\n      <td>0.154093</td>\n      <td>0.154093</td>\n      <td>0.154093</td>\n      <td>0.154093</td>\n      <td>0.0</td>\n      <td>0.0</td>\n      <td>0.0</td>\n      <td>0.0</td>\n      <td>-1.818294e-03</td>\n      <td>0.001566</td>\n      <td>0.001654</td>\n      <td>0.003297</td>\n      <td>0.006059</td>\n      <td>0.007983</td>\n      <td>0.009433</td>\n    </tr>\n    <tr>\n      <th>4</th>\n      <td>2015-12-31</td>\n      <td>0.154373</td>\n      <td>YUAN</td>\n      <td>0.154373</td>\n      <td>0.154373</td>\n      <td>0.154373</td>\n      <td>0.154373</td>\n      <td>0.0</td>\n      <td>0.0</td>\n      <td>0.0</td>\n      <td>0.0</td>\n      <td>1.821606e-03</td>\n      <td>-0.000302</td>\n      <td>-0.000253</td>\n      <td>0.000946</td>\n      <td>0.003529</td>\n      <td>0.005590</td>\n      <td>0.007072</td>\n    </tr>\n  </tbody>\n</table>\n</div>"
     },
     "execution_count": 27,
     "metadata": {},
     "output_type": "execute_result"
    }
   ],
   "source": [
    "valid_environment.df.head()"
   ]
  },
  {
   "cell_type": "code",
   "execution_count": 28,
   "metadata": {},
   "outputs": [
    {
     "data": {
      "text/plain": "         date     close   tic      open      high       low     adjcp  zopen  \\\n0  2017-12-26  0.152837  YUAN  0.152837  0.152837  0.152837  0.152837    0.0   \n1  2017-12-27  0.152532  YUAN  0.152532  0.152532  0.152532  0.152532    0.0   \n2  2017-12-28  0.153088  YUAN  0.153088  0.153088  0.153088  0.153088    0.0   \n3  2017-12-29  0.153697  YUAN  0.153697  0.153697  0.153697  0.153697    0.0   \n4  2018-01-02  0.154059  YUAN  0.154059  0.154059  0.154059  0.154059    0.0   \n\n   zhigh  zlow  zadjcp    zclose      zd_5     zd_10     zd_15     zd_20  \\\n0    0.0   0.0     0.0  0.004906 -0.005238 -0.007916 -0.009013 -0.009333   \n1    0.0   0.0     0.0 -0.001998 -0.001649 -0.004948 -0.006414 -0.006983   \n2    0.0   0.0     0.0  0.003643 -0.003907 -0.007277 -0.009201 -0.010006   \n3    0.0   0.0     0.0  0.003981 -0.005518 -0.009658 -0.012011 -0.013154   \n4    0.0   0.0     0.0  0.002357 -0.005301 -0.010204 -0.013036 -0.014547   \n\n      zd_25     zd_30  \n0 -0.009532 -0.010110  \n1 -0.007136 -0.007713  \n2 -0.010171 -0.010799  \n3 -0.013476 -0.014149  \n4 -0.015137 -0.015782  ",
      "text/html": "<div>\n<style scoped>\n    .dataframe tbody tr th:only-of-type {\n        vertical-align: middle;\n    }\n\n    .dataframe tbody tr th {\n        vertical-align: top;\n    }\n\n    .dataframe thead th {\n        text-align: right;\n    }\n</style>\n<table border=\"1\" class=\"dataframe\">\n  <thead>\n    <tr style=\"text-align: right;\">\n      <th></th>\n      <th>date</th>\n      <th>close</th>\n      <th>tic</th>\n      <th>open</th>\n      <th>high</th>\n      <th>low</th>\n      <th>adjcp</th>\n      <th>zopen</th>\n      <th>zhigh</th>\n      <th>zlow</th>\n      <th>zadjcp</th>\n      <th>zclose</th>\n      <th>zd_5</th>\n      <th>zd_10</th>\n      <th>zd_15</th>\n      <th>zd_20</th>\n      <th>zd_25</th>\n      <th>zd_30</th>\n    </tr>\n  </thead>\n  <tbody>\n    <tr>\n      <th>0</th>\n      <td>2017-12-26</td>\n      <td>0.152837</td>\n      <td>YUAN</td>\n      <td>0.152837</td>\n      <td>0.152837</td>\n      <td>0.152837</td>\n      <td>0.152837</td>\n      <td>0.0</td>\n      <td>0.0</td>\n      <td>0.0</td>\n      <td>0.0</td>\n      <td>0.004906</td>\n      <td>-0.005238</td>\n      <td>-0.007916</td>\n      <td>-0.009013</td>\n      <td>-0.009333</td>\n      <td>-0.009532</td>\n      <td>-0.010110</td>\n    </tr>\n    <tr>\n      <th>1</th>\n      <td>2017-12-27</td>\n      <td>0.152532</td>\n      <td>YUAN</td>\n      <td>0.152532</td>\n      <td>0.152532</td>\n      <td>0.152532</td>\n      <td>0.152532</td>\n      <td>0.0</td>\n      <td>0.0</td>\n      <td>0.0</td>\n      <td>0.0</td>\n      <td>-0.001998</td>\n      <td>-0.001649</td>\n      <td>-0.004948</td>\n      <td>-0.006414</td>\n      <td>-0.006983</td>\n      <td>-0.007136</td>\n      <td>-0.007713</td>\n    </tr>\n    <tr>\n      <th>2</th>\n      <td>2017-12-28</td>\n      <td>0.153088</td>\n      <td>YUAN</td>\n      <td>0.153088</td>\n      <td>0.153088</td>\n      <td>0.153088</td>\n      <td>0.153088</td>\n      <td>0.0</td>\n      <td>0.0</td>\n      <td>0.0</td>\n      <td>0.0</td>\n      <td>0.003643</td>\n      <td>-0.003907</td>\n      <td>-0.007277</td>\n      <td>-0.009201</td>\n      <td>-0.010006</td>\n      <td>-0.010171</td>\n      <td>-0.010799</td>\n    </tr>\n    <tr>\n      <th>3</th>\n      <td>2017-12-29</td>\n      <td>0.153697</td>\n      <td>YUAN</td>\n      <td>0.153697</td>\n      <td>0.153697</td>\n      <td>0.153697</td>\n      <td>0.153697</td>\n      <td>0.0</td>\n      <td>0.0</td>\n      <td>0.0</td>\n      <td>0.0</td>\n      <td>0.003981</td>\n      <td>-0.005518</td>\n      <td>-0.009658</td>\n      <td>-0.012011</td>\n      <td>-0.013154</td>\n      <td>-0.013476</td>\n      <td>-0.014149</td>\n    </tr>\n    <tr>\n      <th>4</th>\n      <td>2018-01-02</td>\n      <td>0.154059</td>\n      <td>YUAN</td>\n      <td>0.154059</td>\n      <td>0.154059</td>\n      <td>0.154059</td>\n      <td>0.154059</td>\n      <td>0.0</td>\n      <td>0.0</td>\n      <td>0.0</td>\n      <td>0.0</td>\n      <td>0.002357</td>\n      <td>-0.005301</td>\n      <td>-0.010204</td>\n      <td>-0.013036</td>\n      <td>-0.014547</td>\n      <td>-0.015137</td>\n      <td>-0.015782</td>\n    </tr>\n  </tbody>\n</table>\n</div>"
     },
     "execution_count": 28,
     "metadata": {},
     "output_type": "execute_result"
    }
   ],
   "source": [
    "test_environment.df.head()"
   ]
  },
  {
   "attachments": {},
   "cell_type": "markdown",
   "metadata": {},
   "source": [
    "## Step 5: Build Net \n",
    "Update information about the state and action dimension in the config and create nets and optimizer for DQN\n"
   ]
  },
  {
   "cell_type": "code",
   "execution_count": 29,
   "metadata": {},
   "outputs": [],
   "source": [
    "action_dim = train_environment.action_dim\n",
    "state_dim = train_environment.state_dim\n",
    "\n",
    "cfg.act.update(dict(action_dim=action_dim, state_dim=state_dim))\n",
    "act = build_net(cfg.act)\n",
    "act_optimizer = build_optimizer(cfg, default_args=dict(params=act.parameters()))\n",
    "if cfg.cri:\n",
    "    cfg.cri.update(dict(action_dim=action_dim, state_dim=state_dim))\n",
    "    cri = build_net(cfg.cri)\n",
    "    cri_optimizer = build_optimizer(cfg, default_args=dict(params=cri.parameters()))\n",
    "else:\n",
    "    cri = None\n",
    "    cri_optimizer = None"
   ]
  },
  {
   "attachments": {},
   "cell_type": "markdown",
   "metadata": {},
   "source": [
    "## Step 6: Build Loss\n",
    "Build loss from config"
   ]
  },
  {
   "cell_type": "code",
   "execution_count": 30,
   "metadata": {},
   "outputs": [],
   "source": [
    "criterion = build_loss(cfg)"
   ]
  },
  {
   "attachments": {},
   "cell_type": "markdown",
   "metadata": {},
   "source": [
    "## Step 7: Build Transition\n",
    "Build transition from config"
   ]
  },
  {
   "cell_type": "code",
   "execution_count": 31,
   "metadata": {},
   "outputs": [],
   "source": [
    "transition = build_transition(cfg)\n"
   ]
  },
  {
   "attachments": {},
   "cell_type": "markdown",
   "metadata": {},
   "source": [
    "## Step 8: Build Agent\n",
    "Build agent from config and detect device"
   ]
  },
  {
   "cell_type": "code",
   "execution_count": 32,
   "metadata": {},
   "outputs": [],
   "source": [
    "device = torch.device('cuda' if torch.cuda.is_available() else 'cpu')\n",
    "agent = build_agent(cfg, default_args=dict(action_dim = action_dim,state_dim = state_dim,act = act,cri = cri,act_optimizer = act_optimizer,cri_optimizer = cri_optimizer, criterion = criterion,transition = transition,device=device))"
   ]
  },
  {
   "attachments": {},
   "cell_type": "markdown",
   "metadata": {},
   "source": [
    "## Step 9: Build Trainer\n",
    "Build trainer from config and create work directionary to save the result, model and config"
   ]
  },
  {
   "cell_type": "code",
   "execution_count": 33,
   "metadata": {},
   "outputs": [
    {
     "name": "stdout",
     "output_type": "stream",
     "text": [
      "| Arguments Keep work_dir: D:\\pycharm_workspace\\TradeMaster\\work_dir/algorithmic_trading_FX_deepscalper_deepscalper_adam_mse\n"
     ]
    }
   ],
   "source": [
    "trainer = build_trainer(cfg, default_args=dict(train_environment=train_environment,\n",
    "                                                    valid_environment=valid_environment,\n",
    "                                                    test_environment=test_environment,\n",
    "                                                    agent=agent,\n",
    "                                                    device=device))"
   ]
  },
  {
   "attachments": {},
   "cell_type": "markdown",
   "metadata": {},
   "source": [
    "## Step 10: Train the Trainer\n",
    "Train the trainer based on the config and get results from workdir"
   ]
  },
  {
   "cell_type": "code",
   "execution_count": 34,
   "metadata": {},
   "outputs": [
    {
     "name": "stdout",
     "output_type": "stream",
     "text": [
      "Train Episode: [1/20]\n"
     ]
    },
    {
     "ename": "KeyboardInterrupt",
     "evalue": "",
     "output_type": "error",
     "traceback": [
      "\u001B[1;31m---------------------------------------------------------------------------\u001B[0m",
      "\u001B[1;31mKeyboardInterrupt\u001B[0m                         Traceback (most recent call last)",
      "Cell \u001B[1;32mIn[34], line 1\u001B[0m\n\u001B[1;32m----> 1\u001B[0m \u001B[43mtrainer\u001B[49m\u001B[38;5;241;43m.\u001B[39;49m\u001B[43mtrain_and_valid\u001B[49m\u001B[43m(\u001B[49m\u001B[43m)\u001B[49m\n\u001B[0;32m      2\u001B[0m trainer\u001B[38;5;241m.\u001B[39mtest()\n",
      "File \u001B[1;32mD:\\pycharm_workspace\\TradeMaster\\trademaster\\trainers\\algorithmic_trading\\trainer.py:135\u001B[0m, in \u001B[0;36mAlgorithmicTradingTrainer.train_and_valid\u001B[1;34m(self)\u001B[0m\n\u001B[0;32m    132\u001B[0m     buffer[:] \u001B[38;5;241m=\u001B[39m buffer_items\n\u001B[0;32m    134\u001B[0m torch\u001B[38;5;241m.\u001B[39mset_grad_enabled(\u001B[38;5;28;01mTrue\u001B[39;00m)\n\u001B[1;32m--> 135\u001B[0m logging_tuple \u001B[38;5;241m=\u001B[39m \u001B[38;5;28;43mself\u001B[39;49m\u001B[38;5;241;43m.\u001B[39;49m\u001B[43magent\u001B[49m\u001B[38;5;241;43m.\u001B[39;49m\u001B[43mupdate_net\u001B[49m\u001B[43m(\u001B[49m\u001B[43mbuffer\u001B[49m\u001B[43m)\u001B[49m\n\u001B[0;32m    136\u001B[0m torch\u001B[38;5;241m.\u001B[39mset_grad_enabled(\u001B[38;5;28;01mFalse\u001B[39;00m)\n\u001B[0;32m    138\u001B[0m \u001B[38;5;28;01mif\u001B[39;00m torch\u001B[38;5;241m.\u001B[39mmean(buffer_items\u001B[38;5;241m.\u001B[39mundone) \u001B[38;5;241m<\u001B[39m \u001B[38;5;241m1.0\u001B[39m:\n",
      "File \u001B[1;32mD:\\pycharm_workspace\\TradeMaster\\trademaster\\agents\\algorithmic_trading\\dqn.py:153\u001B[0m, in \u001B[0;36mAlgorithmicTradingDQN.update_net\u001B[1;34m(self, buffer)\u001B[0m\n\u001B[0;32m    151\u001B[0m \u001B[38;5;28;01mfor\u001B[39;00m _ \u001B[38;5;129;01min\u001B[39;00m \u001B[38;5;28mrange\u001B[39m(update_times):\n\u001B[0;32m    152\u001B[0m     obj_critic, q_value \u001B[38;5;241m=\u001B[39m \u001B[38;5;28mself\u001B[39m\u001B[38;5;241m.\u001B[39mget_obj_critic(buffer, \u001B[38;5;28mself\u001B[39m\u001B[38;5;241m.\u001B[39mbatch_size)\n\u001B[1;32m--> 153\u001B[0m     obj_critics \u001B[38;5;241m+\u001B[39m\u001B[38;5;241m=\u001B[39m \u001B[43mobj_critic\u001B[49m\u001B[38;5;241;43m.\u001B[39;49m\u001B[43mitem\u001B[49m\u001B[43m(\u001B[49m\u001B[43m)\u001B[49m\n\u001B[0;32m    154\u001B[0m     obj_actors \u001B[38;5;241m+\u001B[39m\u001B[38;5;241m=\u001B[39m q_value\u001B[38;5;241m.\u001B[39mmean()\u001B[38;5;241m.\u001B[39mitem()\n\u001B[0;32m    155\u001B[0m     \u001B[38;5;28mself\u001B[39m\u001B[38;5;241m.\u001B[39moptimizer_update(\u001B[38;5;28mself\u001B[39m\u001B[38;5;241m.\u001B[39mcri_optimizer, obj_critic)\n",
      "\u001B[1;31mKeyboardInterrupt\u001B[0m: "
     ]
    }
   ],
   "source": [
    "trainer.train_and_valid()"
   ]
  },
  {
   "cell_type": "code",
   "execution_count": null,
   "outputs": [],
   "source": [
    "trainer.test()"
   ],
   "metadata": {
    "collapsed": false
   }
  }
 ],
 "metadata": {
  "kernelspec": {
   "display_name": "HFT",
   "language": "python",
   "name": "python3"
  },
  "language_info": {
   "codemirror_mode": {
    "name": "ipython",
    "version": 3
   },
   "file_extension": ".py",
   "mimetype": "text/x-python",
   "name": "python",
   "nbconvert_exporter": "python",
   "pygments_lexer": "ipython3",
   "version": "3.7.15"
  },
  "orig_nbformat": 4,
  "vscode": {
   "interpreter": {
    "hash": "c33605b009166d65f90ad63d824c8e63d22d0973c031452c4b4158e2872c99ad"
   }
  }
 },
 "nbformat": 4,
 "nbformat_minor": 2
}
