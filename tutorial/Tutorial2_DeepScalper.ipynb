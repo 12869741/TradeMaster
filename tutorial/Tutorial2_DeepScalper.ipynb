{
 "cells": [
  {
   "attachments": {},
   "cell_type": "markdown",
   "metadata": {},
   "source": [
    "## Step 1: Import Packages\n",
    "Modify the system path and load the corresponding packages and functions "
   ]
  },
  {
   "cell_type": "code",
   "execution_count": 4,
   "metadata": {},
   "outputs": [],
   "source": [
    "import os\n",
    "import sys\n",
    "from pathlib import Path\n",
    "import warnings\n",
    "warnings.filterwarnings(\"ignore\")\n",
    "ROOT = str(Path(\"__file__\").resolve().parents[1])\n",
    "sys.path.append(ROOT)\n",
    "import torch\n",
    "import argparse\n",
    "import os.path as osp\n",
    "from mmcv import Config\n",
    "from trademaster.utils import replace_cfg_vals\n",
    "from trademaster.nets.builder import build_net\n",
    "from trademaster.environments.builder import build_environment\n",
    "from trademaster.datasets.builder import build_dataset\n",
    "from trademaster.agents.builder import build_agent\n",
    "from trademaster.optimizers.builder import build_optimizer\n",
    "from trademaster.losses.builder import build_loss\n",
    "from trademaster.trainers.builder import build_trainer\n",
    "from trademaster.transition.builder import build_transition"
   ]
  },
  {
   "attachments": {},
   "cell_type": "markdown",
   "metadata": {},
   "source": [
    "## Step 2: Load Configs\n",
    "Load default config from the folder `configs/algorithmic_trading/algorithmic_trading_BTC_dqn_dqn_adam_mse.py`"
   ]
  },
  {
   "cell_type": "code",
   "execution_count": 5,
   "metadata": {},
   "outputs": [],
   "source": [
    "\n",
    "parser = argparse.ArgumentParser(description='Download Alpaca Datasets')\n",
    "parser.add_argument(\"--config\", default=osp.join(ROOT, \"configs\", \"algorithmic_trading\", \"algorithmic_trading_BTC_dqn_dqn_adam_mse.py\"),\n",
    "                    help=\"download datasets config file path\")\n",
    "parser.add_argument(\"--task_name\", type=str, default=\"train\")\n",
    "args, _= parser.parse_known_args()\n",
    "\n",
    "cfg = Config.fromfile(args.config)\n",
    "task_name = args.task_name\n",
    "cfg = replace_cfg_vals(cfg)"
   ]
  },
  {
   "cell_type": "code",
   "execution_count": 6,
   "metadata": {},
   "outputs": [
    {
     "data": {
      "text/plain": "Config (path: /Users/wentaozhang/workspace/RA/TradeMaster/configs/algorithmic_trading/algorithmic_trading_BTC_dqn_dqn_adam_mse.py): {'data': {'type': 'AlgorithmicTradingDataset', 'data_path': 'data/algorithmic_trading/BTC', 'train_path': 'data/algorithmic_trading/BTC/train.csv', 'valid_path': 'data/algorithmic_trading/BTC/valid.csv', 'test_path': 'data/algorithmic_trading/BTC/test.csv', 'test_dynamic_path': 'data/algorithmic_trading/BTC/test_labeled_3_24_-0.15_0.15.csv', 'tech_indicator_list': ['high', 'low', 'open', 'close', 'adjcp', 'zopen', 'zhigh', 'zlow', 'zadjcp', 'zclose', 'zd_5', 'zd_10', 'zd_15', 'zd_20', 'zd_25', 'zd_30'], 'backward_num_day': 5, 'forward_num_day': 5, 'test_dynamic': '-1'}, 'environment': {'type': 'AlgorithmicTradingEnvironment'}, 'agent': {'type': 'AlgorithmicTradingDQN', 'max_step': 12345, 'reward_scale': 1, 'repeat_times': 1, 'gamma': 0.9, 'batch_size': 64, 'clip_grad_norm': 3.0, 'soft_update_tau': 0, 'state_value_tau': 0.005}, 'trainer': {'type': 'AlgorithmicTradingTrainer', 'epochs': 20, 'work_dir': 'work_dir/algorithmic_trading_BTC_dqn_dqn_adam_mse', 'seeds_list': (12345,), 'batch_size': 64, 'horizon_len': 1024, 'buffer_size': 1000000.0, 'num_threads': 8, 'if_remove': False, 'if_discrete': True, 'if_off_policy': True, 'if_keep_save': True, 'if_over_write': False, 'if_save_buffer': False}, 'loss': {'type': 'MSELoss'}, 'optimizer': {'type': 'Adam', 'lr': 0.001}, 'act': {'type': 'QNet', 'state_dim': 82, 'action_dim': 3, 'dims': (64, 32), 'explore_rate': 0.25}, 'cri': None, 'transition': {'type': 'Transition'}, 'task_name': 'algorithmic_trading', 'dataset_name': 'BTC', 'optimizer_name': 'adam', 'loss_name': 'mse', 'net_name': 'dqn', 'agent_name': 'dqn', 'work_dir': 'work_dir/algorithmic_trading_BTC_dqn_dqn_adam_mse', 'batch_size': 64}"
     },
     "execution_count": 6,
     "metadata": {},
     "output_type": "execute_result"
    }
   ],
   "source": [
    "cfg"
   ]
  },
  {
   "attachments": {},
   "cell_type": "markdown",
   "metadata": {},
   "source": [
    "## Step 3: Build Dataset\n",
    "Build datasets from cfg defined above"
   ]
  },
  {
   "cell_type": "code",
   "execution_count": 7,
   "metadata": {},
   "outputs": [],
   "source": [
    "dataset = build_dataset(cfg)"
   ]
  },
  {
   "cell_type": "code",
   "execution_count": 8,
   "metadata": {},
   "outputs": [
    {
     "data": {
      "text/plain": "<trademaster.datasets.algorithmic_trading.dataset.AlgorithmicTradingDataset at 0x7f947ab2e430>"
     },
     "execution_count": 8,
     "metadata": {},
     "output_type": "execute_result"
    }
   ],
   "source": [
    "dataset"
   ]
  },
  {
   "attachments": {},
   "cell_type": "markdown",
   "metadata": {},
   "source": [
    "## Step 4: Build Reinforcement Learning Environments\n",
    "Build environments based on cfg and previously-defined dataset\n",
    "\n",
    "A style-test is provided as an option to test the algorithm's performance under different market conditions"
   ]
  },
  {
   "cell_type": "code",
   "execution_count": 9,
   "metadata": {},
   "outputs": [],
   "source": [
    "train_environment = build_environment(cfg, default_args=dict(dataset=dataset, task=\"train\"))\n",
    "valid_environment = build_environment(cfg, default_args=dict(dataset=dataset, task=\"valid\"))\n",
    "test_environment = build_environment(cfg, default_args=dict(dataset=dataset, task=\"test\"))"
   ]
  },
  {
   "cell_type": "code",
   "execution_count": 10,
   "metadata": {},
   "outputs": [
    {
     "data": {
      "text/plain": "<trademaster.environments.algorithmic_trading.environment.AlgorithmicTradingEnvironment at 0x7f9469bbce80>"
     },
     "execution_count": 10,
     "metadata": {},
     "output_type": "execute_result"
    }
   ],
   "source": [
    "train_environment"
   ]
  },
  {
   "cell_type": "code",
   "execution_count": 11,
   "metadata": {},
   "outputs": [
    {
     "data": {
      "text/plain": "<trademaster.environments.algorithmic_trading.environment.AlgorithmicTradingEnvironment at 0x7f9469bb1af0>"
     },
     "execution_count": 11,
     "metadata": {},
     "output_type": "execute_result"
    }
   ],
   "source": [
    "valid_environment"
   ]
  },
  {
   "cell_type": "code",
   "execution_count": 12,
   "metadata": {},
   "outputs": [
    {
     "data": {
      "text/plain": "<trademaster.environments.algorithmic_trading.environment.AlgorithmicTradingEnvironment at 0x7f9438573f40>"
     },
     "execution_count": 12,
     "metadata": {},
     "output_type": "execute_result"
    }
   ],
   "source": [
    "test_environment"
   ]
  },
  {
   "attachments": {},
   "cell_type": "markdown",
   "metadata": {},
   "source": [
    "## Step 5: Build Net \n",
    "Update information about the state and action dimension in the config and create nets and optimizer for DQN\n"
   ]
  },
  {
   "cell_type": "code",
   "execution_count": 13,
   "metadata": {},
   "outputs": [],
   "source": [
    "action_dim = train_environment.action_dim\n",
    "state_dim = train_environment.state_dim\n",
    "\n",
    "cfg.act.update(dict(action_dim=action_dim, state_dim=state_dim))\n",
    "act = build_net(cfg.act)\n",
    "act_optimizer = build_optimizer(cfg, default_args=dict(params=act.parameters()))\n",
    "if cfg.cri:\n",
    "    cfg.cri.update(dict(action_dim=action_dim, state_dim=state_dim))\n",
    "    cri = build_net(cfg.cri)\n",
    "    cri_optimizer = build_optimizer(cfg, default_args=dict(params=cri.parameters()))\n",
    "else:\n",
    "    cri = None\n",
    "    cri_optimizer = None"
   ]
  },
  {
   "attachments": {},
   "cell_type": "markdown",
   "metadata": {},
   "source": [
    "## Step 6: Build Loss\n",
    "Build loss from config"
   ]
  },
  {
   "cell_type": "code",
   "execution_count": 14,
   "metadata": {},
   "outputs": [],
   "source": [
    "criterion = build_loss(cfg)"
   ]
  },
  {
   "attachments": {},
   "cell_type": "markdown",
   "metadata": {},
   "source": [
    "## Step 7: Build Transition\n",
    "Build transition from config"
   ]
  },
  {
   "cell_type": "code",
   "execution_count": 15,
   "metadata": {},
   "outputs": [],
   "source": [
    "transition = build_transition(cfg)\n"
   ]
  },
  {
   "attachments": {},
   "cell_type": "markdown",
   "metadata": {},
   "source": [
    "## Step 8: Build Agent\n",
    "Build agent from config and detect device"
   ]
  },
  {
   "cell_type": "code",
   "execution_count": 16,
   "metadata": {},
   "outputs": [],
   "source": [
    "device = torch.device('cuda' if torch.cuda.is_available() else 'cpu')\n",
    "agent = build_agent(cfg, default_args=dict(action_dim = action_dim,\n",
    "                                               state_dim = state_dim,\n",
    "                                               act = act,\n",
    "                                               cri = cri,\n",
    "                                               act_optimizer = act_optimizer,\n",
    "                                               cri_optimizer = cri_optimizer,\n",
    "                                               criterion = criterion,\n",
    "                                               transition = transition,\n",
    "                                               device=device))"
   ]
  },
  {
   "attachments": {},
   "cell_type": "markdown",
   "metadata": {},
   "source": [
    "## Step 9: Build Trainer\n",
    "Build trainer from config and create work directionary to save the result, model and config"
   ]
  },
  {
   "cell_type": "code",
   "execution_count": 17,
   "metadata": {},
   "outputs": [
    {
     "name": "stdout",
     "output_type": "stream",
     "text": [
      "| Arguments Keep work_dir: /Users/wentaozhang/workspace/RA/TradeMaster/work_dir/algorithmic_trading_BTC_dqn_dqn_adam_mse\n"
     ]
    }
   ],
   "source": [
    "trainer = build_trainer(cfg, default_args=dict(train_environment=train_environment,\n",
    "                                                    valid_environment=valid_environment,\n",
    "                                                    test_environment=test_environment,\n",
    "                                                    agent=agent,\n",
    "                                                    device=device))"
   ]
  },
  {
   "attachments": {},
   "cell_type": "markdown",
   "metadata": {},
   "source": [
    "## Step 10: Train the Trainer\n",
    "Train the trainer based on the config and get results from workdir"
   ]
  },
  {
   "cell_type": "code",
   "execution_count": 18,
   "metadata": {},
   "outputs": [
    {
     "name": "stdout",
     "output_type": "stream",
     "text": [
      "Train Episode: [1/20]\n",
      "+---------------+-------------+------------+--------------+\n",
      "| Profit Margin | Sharp Ratio | Volatility | Max Drawdown |\n",
      "+---------------+-------------+------------+--------------+\n",
      "| -1671.124288% |  -44.318845 | 12.264496% | 3286.128741% |\n",
      "+---------------+-------------+------------+--------------+\n",
      "metric result saved to metric_train_-1_agent_-1.pickle\n",
      "Valid Episode: [1/20]\n",
      "+---------------+-------------+-------------+--------------+\n",
      "| Profit Margin | Sharp Ratio |  Volatility | Max Drawdown |\n",
      "+---------------+-------------+-------------+--------------+\n",
      "|  -103.345503% |  -0.113632  | 849.260789% | 147.326764%  |\n",
      "+---------------+-------------+-------------+--------------+\n",
      "metric result saved to metric_valid_-1_agent_-1.pickle\n",
      "Valid Episode Reward Sum: -41921.302390\n",
      "save path /Users/wentaozhang/workspace/RA/TradeMaster/work_dir/algorithmic_trading_BTC_dqn_dqn_adam_mse/checkpoints/checkpoint-00001.pth\n",
      "Train Episode: [2/20]\n",
      "+---------------+-------------+-------------+--------------+\n",
      "| Profit Margin | Sharp Ratio |  Volatility | Max Drawdown |\n",
      "+---------------+-------------+-------------+--------------+\n",
      "| -1701.955024% |  -3.417030  | 162.005078% | 4404.909787% |\n",
      "+---------------+-------------+-------------+--------------+\n",
      "metric result saved to metric_train_-1_agent_-1.pickle\n",
      "Valid Episode: [2/20]\n",
      "+---------------+-------------+------------+--------------+\n",
      "| Profit Margin | Sharp Ratio | Volatility | Max Drawdown |\n",
      "+---------------+-------------+------------+--------------+\n",
      "|   13.113732%  |   1.062964  | 11.520179% |  58.053790%  |\n",
      "+---------------+-------------+------------+--------------+\n",
      "metric result saved to metric_valid_-1_agent_-1.pickle\n",
      "Valid Episode Reward Sum: 3212.706905\n",
      "save path /Users/wentaozhang/workspace/RA/TradeMaster/work_dir/algorithmic_trading_BTC_dqn_dqn_adam_mse/checkpoints/checkpoint-00002.pth\n",
      "Train Episode: [3/20]\n",
      "+---------------+-------------+------------+--------------+\n",
      "| Profit Margin | Sharp Ratio | Volatility | Max Drawdown |\n",
      "+---------------+-------------+------------+--------------+\n",
      "|  1479.017656% |  151.655310 | 3.172087%  |  83.199002%  |\n",
      "+---------------+-------------+------------+--------------+\n",
      "metric result saved to metric_train_-1_agent_-1.pickle\n",
      "Valid Episode: [3/20]\n",
      "+---------------+-------------+------------+--------------+\n",
      "| Profit Margin | Sharp Ratio | Volatility | Max Drawdown |\n",
      "+---------------+-------------+------------+--------------+\n",
      "|   33.876938%  |   9.676197  | 3.269270%  |  44.669926%  |\n",
      "+---------------+-------------+------------+--------------+\n",
      "metric result saved to metric_valid_-1_agent_-1.pickle\n",
      "Valid Episode Reward Sum: 59740.010593\n",
      "save path /Users/wentaozhang/workspace/RA/TradeMaster/work_dir/algorithmic_trading_BTC_dqn_dqn_adam_mse/checkpoints/checkpoint-00003.pth\n",
      "Train Episode: [4/20]\n",
      "+---------------+-------------+------------+--------------+\n",
      "| Profit Margin | Sharp Ratio | Volatility | Max Drawdown |\n",
      "+---------------+-------------+------------+--------------+\n",
      "|  2142.651005% |  182.395019 | 3.820919%  |  83.177947%  |\n",
      "+---------------+-------------+------------+--------------+\n",
      "metric result saved to metric_train_-1_agent_-1.pickle\n",
      "Valid Episode: [4/20]\n",
      "+---------------+-------------+------------+--------------+\n",
      "| Profit Margin | Sharp Ratio | Volatility | Max Drawdown |\n",
      "+---------------+-------------+------------+--------------+\n",
      "|   36.243173%  |   8.935169  | 3.787693%  |  50.707941%  |\n",
      "+---------------+-------------+------------+--------------+\n",
      "metric result saved to metric_valid_-1_agent_-1.pickle\n",
      "Valid Episode Reward Sum: 56390.914075\n",
      "save path /Users/wentaozhang/workspace/RA/TradeMaster/work_dir/algorithmic_trading_BTC_dqn_dqn_adam_mse/checkpoints/checkpoint-00004.pth\n",
      "Train Episode: [5/20]\n",
      "+---------------+-------------+------------+--------------+\n",
      "| Profit Margin | Sharp Ratio | Volatility | Max Drawdown |\n",
      "+---------------+-------------+------------+--------------+\n",
      "|  2235.465766% |  19.452480  | 37.378550% | 3896.489163% |\n",
      "+---------------+-------------+------------+--------------+\n",
      "metric result saved to metric_train_-1_agent_-1.pickle\n",
      "Valid Episode: [5/20]\n",
      "+---------------+-------------+------------+--------------+\n",
      "| Profit Margin | Sharp Ratio | Volatility | Max Drawdown |\n",
      "+---------------+-------------+------------+--------------+\n",
      "|   11.483429%  |   0.917495  | 11.687439% |  58.344466%  |\n",
      "+---------------+-------------+------------+--------------+\n",
      "metric result saved to metric_valid_-1_agent_-1.pickle\n",
      "Valid Episode Reward Sum: 5004.339436\n",
      "save path /Users/wentaozhang/workspace/RA/TradeMaster/work_dir/algorithmic_trading_BTC_dqn_dqn_adam_mse/checkpoints/checkpoint-00005.pth\n",
      "Train Episode: [6/20]\n",
      "+---------------+-------------+------------+--------------+\n",
      "| Profit Margin | Sharp Ratio | Volatility | Max Drawdown |\n",
      "+---------------+-------------+------------+--------------+\n",
      "|  2165.751254% |  183.825605 | 3.832057%  |  83.357633%  |\n",
      "+---------------+-------------+------------+--------------+\n",
      "metric result saved to metric_train_-1_agent_-1.pickle\n",
      "Valid Episode: [6/20]\n",
      "+---------------+-------------+------------+--------------+\n",
      "| Profit Margin | Sharp Ratio | Volatility | Max Drawdown |\n",
      "+---------------+-------------+------------+--------------+\n",
      "|   31.502920%  |   9.375682  | 3.137613%  |  43.207881%  |\n",
      "+---------------+-------------+------------+--------------+\n",
      "metric result saved to metric_valid_-1_agent_-1.pickle\n",
      "Valid Episode Reward Sum: 54772.303721\n",
      "save path /Users/wentaozhang/workspace/RA/TradeMaster/work_dir/algorithmic_trading_BTC_dqn_dqn_adam_mse/checkpoints/checkpoint-00006.pth\n",
      "Train Episode: [7/20]\n",
      "+---------------+-------------+------------+--------------+\n",
      "| Profit Margin | Sharp Ratio | Volatility | Max Drawdown |\n",
      "+---------------+-------------+------------+--------------+\n",
      "|  -527.066617% |  -22.357088 | 7.667957%  | 460.433535%  |\n",
      "+---------------+-------------+------------+--------------+\n",
      "metric result saved to metric_train_-1_agent_-1.pickle\n",
      "Valid Episode: [7/20]\n",
      "+---------------+-------------+------------+--------------+\n",
      "| Profit Margin | Sharp Ratio | Volatility | Max Drawdown |\n",
      "+---------------+-------------+------------+--------------+\n",
      "|  -18.313738%  |  -3.284189  | 5.207152%  |  65.293627%  |\n",
      "+---------------+-------------+------------+--------------+\n",
      "metric result saved to metric_valid_-1_agent_-1.pickle\n",
      "Valid Episode Reward Sum: -40914.236838\n",
      "save path /Users/wentaozhang/workspace/RA/TradeMaster/work_dir/algorithmic_trading_BTC_dqn_dqn_adam_mse/checkpoints/checkpoint-00007.pth\n",
      "Train Episode: [8/20]\n",
      "+---------------+-------------+------------+--------------+\n",
      "| Profit Margin | Sharp Ratio | Volatility | Max Drawdown |\n",
      "+---------------+-------------+------------+--------------+\n",
      "|  2430.311819% |  213.974298 | 3.694280%  |  83.249355%  |\n",
      "+---------------+-------------+------------+--------------+\n",
      "metric result saved to metric_train_-1_agent_-1.pickle\n",
      "Valid Episode: [8/20]\n",
      "+---------------+-------------+------------+--------------+\n",
      "| Profit Margin | Sharp Ratio | Volatility | Max Drawdown |\n",
      "+---------------+-------------+------------+--------------+\n",
      "|   36.139328%  |   9.853412  | 3.424875%  |  45.601497%  |\n",
      "+---------------+-------------+------------+--------------+\n",
      "metric result saved to metric_valid_-1_agent_-1.pickle\n",
      "Valid Episode Reward Sum: 62063.707859\n",
      "save path /Users/wentaozhang/workspace/RA/TradeMaster/work_dir/algorithmic_trading_BTC_dqn_dqn_adam_mse/checkpoints/checkpoint-00008.pth\n",
      "Train Episode: [9/20]\n",
      "+---------------+-------------+--------------+--------------+\n",
      "| Profit Margin | Sharp Ratio |  Volatility  | Max Drawdown |\n",
      "+---------------+-------------+--------------+--------------+\n",
      "| -1683.986940% |  -0.318250  | 1721.075208% | 7478.719204% |\n",
      "+---------------+-------------+--------------+--------------+\n",
      "metric result saved to metric_train_-1_agent_-1.pickle\n",
      "Valid Episode: [9/20]\n",
      "+---------------+-------------+------------+--------------+\n",
      "| Profit Margin | Sharp Ratio | Volatility | Max Drawdown |\n",
      "+---------------+-------------+------------+--------------+\n",
      "|   36.243173%  |   8.935169  | 3.787693%  |  50.707941%  |\n",
      "+---------------+-------------+------------+--------------+\n",
      "metric result saved to metric_valid_-1_agent_-1.pickle\n",
      "Valid Episode Reward Sum: 56390.914075\n",
      "save path /Users/wentaozhang/workspace/RA/TradeMaster/work_dir/algorithmic_trading_BTC_dqn_dqn_adam_mse/checkpoints/checkpoint-00009.pth\n",
      "Train Episode: [10/20]\n",
      "+---------------+-------------+------------+--------------+\n",
      "| Profit Margin | Sharp Ratio | Volatility | Max Drawdown |\n",
      "+---------------+-------------+------------+--------------+\n",
      "| -2461.611499% |  -8.500451  | 94.190463% | 5299.532421% |\n",
      "+---------------+-------------+------------+--------------+\n",
      "metric result saved to metric_train_-1_agent_-1.pickle\n",
      "Valid Episode: [10/20]\n",
      "+---------------+-------------+------------+--------------+\n",
      "| Profit Margin | Sharp Ratio | Volatility | Max Drawdown |\n",
      "+---------------+-------------+------------+--------------+\n",
      "|  -78.315628%  |  -13.221746 | 5.531093%  |  88.361154%  |\n",
      "+---------------+-------------+------------+--------------+\n",
      "metric result saved to metric_valid_-1_agent_-1.pickle\n",
      "Valid Episode Reward Sum: -39965.862214\n",
      "save path /Users/wentaozhang/workspace/RA/TradeMaster/work_dir/algorithmic_trading_BTC_dqn_dqn_adam_mse/checkpoints/checkpoint-00010.pth\n",
      "Train Episode: [11/20]\n",
      "+---------------+-------------+------------+--------------+\n",
      "| Profit Margin | Sharp Ratio | Volatility | Max Drawdown |\n",
      "+---------------+-------------+------------+--------------+\n",
      "| -1816.492013% |  -51.707393 | 11.426421% | 4803.892907% |\n",
      "+---------------+-------------+------------+--------------+\n",
      "metric result saved to metric_train_-1_agent_-1.pickle\n",
      "Valid Episode: [11/20]\n",
      "+---------------+-------------+------------+--------------+\n",
      "| Profit Margin | Sharp Ratio | Volatility | Max Drawdown |\n",
      "+---------------+-------------+------------+--------------+\n",
      "|   32.903205%  |   9.737615  | 3.155273%  |  44.027015%  |\n",
      "+---------------+-------------+------------+--------------+\n",
      "metric result saved to metric_valid_-1_agent_-1.pickle\n",
      "Valid Episode Reward Sum: 56894.093015\n",
      "save path /Users/wentaozhang/workspace/RA/TradeMaster/work_dir/algorithmic_trading_BTC_dqn_dqn_adam_mse/checkpoints/checkpoint-00011.pth\n",
      "Train Episode: [12/20]\n",
      "+---------------+-------------+-------------+--------------+\n",
      "| Profit Margin | Sharp Ratio |  Volatility | Max Drawdown |\n",
      "+---------------+-------------+-------------+--------------+\n",
      "| -2269.118608% |  -7.037686  | 104.871319% | 4418.531673% |\n",
      "+---------------+-------------+-------------+--------------+\n",
      "metric result saved to metric_train_-1_agent_-1.pickle\n",
      "Valid Episode: [12/20]\n",
      "+---------------+-------------+------------+--------------+\n",
      "| Profit Margin | Sharp Ratio | Volatility | Max Drawdown |\n",
      "+---------------+-------------+------------+--------------+\n",
      "|   36.243173%  |   8.935169  | 3.787693%  |  50.707941%  |\n",
      "+---------------+-------------+------------+--------------+\n",
      "metric result saved to metric_valid_-1_agent_-1.pickle\n",
      "Valid Episode Reward Sum: 56390.914075\n",
      "save path /Users/wentaozhang/workspace/RA/TradeMaster/work_dir/algorithmic_trading_BTC_dqn_dqn_adam_mse/checkpoints/checkpoint-00012.pth\n",
      "Train Episode: [13/20]\n",
      "+---------------+-------------+------------+--------------+\n",
      "| Profit Margin | Sharp Ratio | Volatility | Max Drawdown |\n",
      "+---------------+-------------+------------+--------------+\n",
      "|  925.843921%  |  100.708118 | 2.990217%  |  76.232507%  |\n",
      "+---------------+-------------+------------+--------------+\n",
      "metric result saved to metric_train_-1_agent_-1.pickle\n",
      "Valid Episode: [13/20]\n",
      "+---------------+-------------+------------+--------------+\n",
      "| Profit Margin | Sharp Ratio | Volatility | Max Drawdown |\n",
      "+---------------+-------------+------------+--------------+\n",
      "|   10.776652%  |   0.891261  | 11.290946% |  46.014441%  |\n",
      "+---------------+-------------+------------+--------------+\n",
      "metric result saved to metric_valid_-1_agent_-1.pickle\n",
      "Valid Episode Reward Sum: 3850.440339\n",
      "save path /Users/wentaozhang/workspace/RA/TradeMaster/work_dir/algorithmic_trading_BTC_dqn_dqn_adam_mse/checkpoints/checkpoint-00013.pth\n",
      "Train Episode: [14/20]\n",
      "+---------------+-------------+------------+--------------+\n",
      "| Profit Margin | Sharp Ratio | Volatility | Max Drawdown |\n",
      "+---------------+-------------+------------+--------------+\n",
      "| -2684.021717% |  -14.191316 | 61.516661% | 5609.926179% |\n",
      "+---------------+-------------+------------+--------------+\n",
      "metric result saved to metric_train_-1_agent_-1.pickle\n",
      "Valid Episode: [14/20]\n",
      "+---------------+-------------+------------+--------------+\n",
      "| Profit Margin | Sharp Ratio | Volatility | Max Drawdown |\n",
      "+---------------+-------------+------------+--------------+\n",
      "|   32.026455%  |   8.896553  | 3.361541%  |  45.541682%  |\n",
      "+---------------+-------------+------------+--------------+\n",
      "metric result saved to metric_valid_-1_agent_-1.pickle\n",
      "Valid Episode Reward Sum: 54495.563958\n",
      "save path /Users/wentaozhang/workspace/RA/TradeMaster/work_dir/algorithmic_trading_BTC_dqn_dqn_adam_mse/checkpoints/checkpoint-00014.pth\n",
      "Train Episode: [15/20]\n",
      "+---------------+-------------+------------+--------------+\n",
      "| Profit Margin | Sharp Ratio | Volatility | Max Drawdown |\n",
      "+---------------+-------------+------------+--------------+\n",
      "| -1977.942123% |  -18.897246 | 34.044304% | 4016.618425% |\n",
      "+---------------+-------------+------------+--------------+\n",
      "metric result saved to metric_train_-1_agent_-1.pickle\n",
      "Valid Episode: [15/20]\n",
      "+---------------+-------------+------------+--------------+\n",
      "| Profit Margin | Sharp Ratio | Volatility | Max Drawdown |\n",
      "+---------------+-------------+------------+--------------+\n",
      "|   15.896816%  |   1.441471  | 10.298066% |  45.687549%  |\n",
      "+---------------+-------------+------------+--------------+\n",
      "metric result saved to metric_valid_-1_agent_-1.pickle\n",
      "Valid Episode Reward Sum: 16821.796864\n",
      "save path /Users/wentaozhang/workspace/RA/TradeMaster/work_dir/algorithmic_trading_BTC_dqn_dqn_adam_mse/checkpoints/checkpoint-00015.pth\n",
      "Train Episode: [16/20]\n",
      "+---------------+-------------+------------+--------------+\n",
      "| Profit Margin | Sharp Ratio | Volatility | Max Drawdown |\n",
      "+---------------+-------------+------------+--------------+\n",
      "| -1976.161567% |  -61.611213 | 10.432589% | 3420.025963% |\n",
      "+---------------+-------------+------------+--------------+\n",
      "metric result saved to metric_train_-1_agent_-1.pickle\n",
      "Valid Episode: [16/20]\n",
      "+---------------+-------------+------------+--------------+\n",
      "| Profit Margin | Sharp Ratio | Volatility | Max Drawdown |\n",
      "+---------------+-------------+------------+--------------+\n",
      "|   8.280643%   |   0.678358  | 11.398728% |  47.478172%  |\n",
      "+---------------+-------------+------------+--------------+\n",
      "metric result saved to metric_valid_-1_agent_-1.pickle\n",
      "Valid Episode Reward Sum: 514.203284\n",
      "save path /Users/wentaozhang/workspace/RA/TradeMaster/work_dir/algorithmic_trading_BTC_dqn_dqn_adam_mse/checkpoints/checkpoint-00016.pth\n",
      "Train Episode: [17/20]\n",
      "+---------------+-------------+------------+--------------+\n",
      "| Profit Margin | Sharp Ratio | Volatility | Max Drawdown |\n",
      "+---------------+-------------+------------+--------------+\n",
      "| -2181.947510% |  -67.442100 | 10.523073% | 4535.391229% |\n",
      "+---------------+-------------+------------+--------------+\n",
      "metric result saved to metric_train_-1_agent_-1.pickle\n",
      "Valid Episode: [17/20]\n",
      "+---------------+-------------+------------+--------------+\n",
      "| Profit Margin | Sharp Ratio | Volatility | Max Drawdown |\n",
      "+---------------+-------------+------------+--------------+\n",
      "|   35.222726%  |  11.289963  | 2.913277%  |  39.041110%  |\n",
      "+---------------+-------------+------------+--------------+\n",
      "metric result saved to metric_valid_-1_agent_-1.pickle\n",
      "Valid Episode Reward Sum: 62995.685488\n",
      "save path /Users/wentaozhang/workspace/RA/TradeMaster/work_dir/algorithmic_trading_BTC_dqn_dqn_adam_mse/checkpoints/checkpoint-00017.pth\n",
      "Train Episode: [18/20]\n",
      "+---------------+-------------+------------+--------------+\n",
      "| Profit Margin | Sharp Ratio | Volatility | Max Drawdown |\n",
      "+---------------+-------------+------------+--------------+\n",
      "| -1344.635261% |  -6.756828  | 64.727830% | 3360.824257% |\n",
      "+---------------+-------------+------------+--------------+\n",
      "metric result saved to metric_train_-1_agent_-1.pickle\n",
      "Valid Episode: [18/20]\n",
      "+---------------+-------------+------------+--------------+\n",
      "| Profit Margin | Sharp Ratio | Volatility | Max Drawdown |\n",
      "+---------------+-------------+------------+--------------+\n",
      "|   31.324268%  |   8.963436  | 3.263306%  |  44.758161%  |\n",
      "+---------------+-------------+------------+--------------+\n",
      "metric result saved to metric_valid_-1_agent_-1.pickle\n",
      "Valid Episode Reward Sum: 55820.311367\n",
      "save path /Users/wentaozhang/workspace/RA/TradeMaster/work_dir/algorithmic_trading_BTC_dqn_dqn_adam_mse/checkpoints/checkpoint-00018.pth\n",
      "Train Episode: [19/20]\n",
      "+---------------+-------------+------------+--------------+\n",
      "| Profit Margin | Sharp Ratio | Volatility | Max Drawdown |\n",
      "+---------------+-------------+------------+--------------+\n",
      "| -1152.497207% |  -34.432430 | 10.886834% | 2202.603843% |\n",
      "+---------------+-------------+------------+--------------+\n",
      "metric result saved to metric_train_-1_agent_-1.pickle\n",
      "Valid Episode: [19/20]\n",
      "+---------------+-------------+------------+--------------+\n",
      "| Profit Margin | Sharp Ratio | Volatility | Max Drawdown |\n",
      "+---------------+-------------+------------+--------------+\n",
      "|   32.863304%  |   9.738514  | 3.151156%  |  43.811816%  |\n",
      "+---------------+-------------+------------+--------------+\n",
      "metric result saved to metric_valid_-1_agent_-1.pickle\n",
      "Valid Episode Reward Sum: 56979.323720\n",
      "save path /Users/wentaozhang/workspace/RA/TradeMaster/work_dir/algorithmic_trading_BTC_dqn_dqn_adam_mse/checkpoints/checkpoint-00019.pth\n",
      "Train Episode: [20/20]\n",
      "+---------------+-------------+------------+--------------+\n",
      "| Profit Margin | Sharp Ratio | Volatility | Max Drawdown |\n",
      "+---------------+-------------+------------+--------------+\n",
      "| -1963.036721% |  -50.777325 | 12.574421% | 3669.060906% |\n",
      "+---------------+-------------+------------+--------------+\n",
      "metric result saved to metric_train_-1_agent_-1.pickle\n",
      "Valid Episode: [20/20]\n",
      "+---------------+-------------+------------+--------------+\n",
      "| Profit Margin | Sharp Ratio | Volatility | Max Drawdown |\n",
      "+---------------+-------------+------------+--------------+\n",
      "|  -34.138728%  |  -3.069102  | 10.386935% |  87.182191%  |\n",
      "+---------------+-------------+------------+--------------+\n",
      "metric result saved to metric_valid_-1_agent_-1.pickle\n",
      "Valid Episode Reward Sum: -49079.772615\n",
      "save path /Users/wentaozhang/workspace/RA/TradeMaster/work_dir/algorithmic_trading_BTC_dqn_dqn_adam_mse/checkpoints/checkpoint-00020.pth\n",
      "save path /Users/wentaozhang/workspace/RA/TradeMaster/work_dir/algorithmic_trading_BTC_dqn_dqn_adam_mse/checkpoints/best.pth\n",
      "Resume checkpoint /Users/wentaozhang/workspace/RA/TradeMaster/work_dir/algorithmic_trading_BTC_dqn_dqn_adam_mse/checkpoints/best.pth\n",
      "Test Best Episode\n",
      "+---------------+-------------+------------+--------------+\n",
      "| Profit Margin | Sharp Ratio | Volatility | Max Drawdown |\n",
      "+---------------+-------------+------------+--------------+\n",
      "|  132.023888%  |  35.718097  | 3.451561%  |  43.414011%  |\n",
      "+---------------+-------------+------------+--------------+\n",
      "metric result saved to metric_test_-1_agent_-1.pickle\n",
      "Test Best Episode Reward Sum: 288245.965611\n"
     ]
    },
    {
     "data": {
      "text/plain": "array([ 0.00000000e+00,  0.00000000e+00,  0.00000000e+00, -0.00000000e+00,\n       -0.00000000e+00,  0.00000000e+00, -0.00000000e+00, -0.00000000e+00,\n        0.00000000e+00, -0.00000000e+00,  0.00000000e+00, -0.00000000e+00,\n        0.00000000e+00,  0.00000000e+00, -0.00000000e+00,  0.00000000e+00,\n       -0.00000000e+00, -0.00000000e+00, -0.00000000e+00, -0.00000000e+00,\n        0.00000000e+00,  0.00000000e+00, -0.00000000e+00,  0.00000000e+00,\n        0.00000000e+00,  0.00000000e+00,  0.00000000e+00,  0.00000000e+00,\n        0.00000000e+00, -0.00000000e+00,  0.00000000e+00,  0.00000000e+00,\n       -0.00000000e+00,  0.00000000e+00,  0.00000000e+00,  0.00000000e+00,\n        0.00000000e+00,  0.00000000e+00,  0.00000000e+00, -0.00000000e+00,\n        0.00000000e+00, -0.00000000e+00,  4.40733860e+01,  1.15794149e+03,\n       -1.14879921e+03,  6.66391491e+02,  5.43195140e+02,  1.40683460e+03,\n       -3.07194117e+02, -1.11972267e+03,  2.79868024e+03,  1.10043783e+03,\n        1.01229892e+04, -8.38072768e+01, -5.12488531e+03,  3.87487759e+03,\n       -1.03076009e+03, -2.48477496e+02,  2.87305936e+03,  3.45002530e+03,\n        2.90249686e+02, -1.49801690e+03, -7.87858876e+02,  4.56314331e+03,\n        6.50506111e+03,  9.51599188e+02,  9.15923076e+01,  4.82534473e+03,\n        1.46428776e+02, -1.63338145e+03, -4.11665262e+01,  4.46005715e+03,\n       -1.87671836e+03, -9.48898320e+03, -2.95552952e+02,  3.65407970e+03,\n        2.30034204e+03,  8.69010966e+03, -4.11418365e+03,  2.38855714e+03,\n        1.71015126e+03, -4.47379720e+03,  2.27232759e+03,  1.14533897e+03,\n       -7.67448359e+02, -5.22291823e+03,  1.16385230e+03, -1.73353962e+03,\n       -1.03044380e+03,  4.46852114e+03,  1.69362832e+03,  6.25570847e+02,\n        1.19302184e+03,  1.13611326e+04,  7.47281681e+03,  1.99679442e+03,\n        4.39122842e+03, -2.35522060e+03, -3.37106894e+03,  5.87968257e+03,\n       -2.70841819e+03,  2.96762918e+03,  4.64420273e+03,  1.06334834e+04,\n       -8.23714710e+02,  4.87507992e+03,  1.38814336e+03,  8.87110117e+03,\n        8.03832012e+02,  2.23459240e+03,  1.37655803e+04,  3.92853916e+03,\n       -4.05055472e+03,  1.21230949e+04,  1.41596753e+04,  1.52800677e+04,\n        7.13284183e+03, -3.25838533e+03, -9.49053496e+03, -1.67387014e+04,\n       -8.21847679e+03,  1.35735953e+04,  9.35484361e+03, -9.44784908e+03,\n       -3.23613475e+03, -2.32116588e+03,  4.19398881e+03, -2.24107716e+03,\n       -2.61027754e+03, -2.83323143e+04,  1.09003253e+04, -3.75248272e+03,\n        1.10867602e+03,  3.08059848e+02,  1.01728254e+03, -1.28238149e+04,\n        1.51677464e+04,  5.10174775e+03, -2.34330543e+02, -6.93098276e+03,\n        2.11409536e+03,  1.18386733e+04,  9.80900533e+03, -3.27615383e+03,\n        6.09121199e+03,  6.73022323e+03, -1.81284628e+03,  4.37581334e+04,\n        1.42320258e+03, -9.37751846e+03,  1.49557335e+04, -2.42688007e+03,\n       -1.99666855e+03,  6.44709095e+03, -3.86116689e+03,  5.01925805e+03,\n        1.47456810e+04, -1.87684337e+03,  2.10416849e+04,  8.45547325e+02,\n        7.20211577e+03, -1.33304984e+04, -2.69144610e+04,  3.52362579e+03,\n       -1.30574015e+04, -3.01637174e+03, -7.56544038e+02, -4.20272323e+03,\n        2.24673545e+04, -5.00901327e+03,  1.07962768e+04, -7.90830904e+03,\n        1.83069200e+03, -5.96912970e+01,  1.14715561e+04,  4.15931743e+03,\n        1.28879775e+04,  4.73772636e+03,  8.98286809e+03, -1.89213622e+03,\n        1.95549790e+04, -7.76307115e+03, -1.69755838e+04,  3.59080402e+03,\n        1.03299605e+04, -4.04789051e+03,  2.43866134e+03, -1.32041460e+02,\n       -3.95110811e+03, -1.19771015e+04,  1.04899660e+03, -7.85872496e+03,\n       -5.35050883e+03,  1.37326072e+04,  4.18098558e+03, -9.10602689e+01,\n        8.99727048e+03,  4.66997269e+03,  5.69834325e+00,  7.07901057e+02,\n        1.44252690e+03, -7.12169674e+03,  5.77333559e+03,  1.19729070e+03,\n       -4.32760141e+03, -8.57368349e+03,  1.13750788e+04, -3.15802315e+02,\n        7.74116205e+03,  1.64691801e+03, -1.55756513e+03,  1.44400242e+04,\n       -1.96880998e+03,  8.17259642e+02, -8.70610622e+03, -3.55587347e+03,\n       -2.23381812e+04, -1.96767162e+03,  3.74382591e+03, -1.02677769e+04,\n       -1.07190800e+04, -2.67448537e+03, -5.21391247e+03, -4.18645981e+03,\n        2.50875076e+04,  4.04545290e+03, -1.04206559e+03, -7.61757842e+03,\n        2.09753443e+04,  3.11493146e+02, -5.98486610e+03,  2.27685524e+03,\n       -1.93337674e+04,  1.63618728e+04, -5.13745892e+03,  3.83955085e+03,\n        7.23686966e+03, -2.28583867e+03, -1.18625930e+04,  3.37910206e+03,\n       -3.77701959e+04,  2.26263091e+03,  8.21709089e+02, -1.24813874e+04,\n       -1.52064043e+03, -1.16741883e+04, -3.14055232e+03, -2.36278418e+04,\n        1.89014890e+04, -1.39121904e+04,  1.15970221e+03, -1.65962849e+04,\n        1.96769751e+04, -1.82252872e+03,  4.45986765e+03, -5.14337308e+03,\n       -1.36968107e+04, -6.48923032e+03,  5.31030600e+03,  9.92834691e+03,\n       -3.23964586e+03,  5.34153035e+03,  8.16793210e+03, -1.38861640e+04,\n       -6.71223302e+03,  1.86251401e+03, -1.15083494e+04, -5.28456538e+02,\n        1.93624487e+04, -3.85513267e+03,  3.15900075e+03, -1.06912943e+04,\n        1.77267187e+04,  6.72370178e+03,  9.38955636e+02, -1.23552346e+04,\n       -1.46779527e+03, -1.35975563e+04, -8.56877559e+02,  3.29708693e+02,\n       -2.01080136e+04,  4.97379655e+03,  6.08684577e+03,  5.63644149e+03,\n       -1.51232792e+04,  3.29098569e+03,  1.23168346e+04, -1.29185564e+03,\n        7.16721211e+03])"
     },
     "execution_count": 18,
     "metadata": {},
     "output_type": "execute_result"
    }
   ],
   "source": [
    "trainer.train_and_valid()\n",
    "trainer.test()"
   ]
  },
  {
   "cell_type": "code",
   "execution_count": null,
   "outputs": [],
   "source": [],
   "metadata": {
    "collapsed": false
   }
  }
 ],
 "metadata": {
  "kernelspec": {
   "display_name": "HFT",
   "language": "python",
   "name": "python3"
  },
  "language_info": {
   "codemirror_mode": {
    "name": "ipython",
    "version": 3
   },
   "file_extension": ".py",
   "mimetype": "text/x-python",
   "name": "python",
   "nbconvert_exporter": "python",
   "pygments_lexer": "ipython3",
   "version": "3.7.15"
  },
  "orig_nbformat": 4,
  "vscode": {
   "interpreter": {
    "hash": "c33605b009166d65f90ad63d824c8e63d22d0973c031452c4b4158e2872c99ad"
   }
  }
 },
 "nbformat": 4,
 "nbformat_minor": 2
}
