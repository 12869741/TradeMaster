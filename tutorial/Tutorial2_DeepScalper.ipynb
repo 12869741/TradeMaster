{
 "cells": [
  {
   "attachments": {},
   "cell_type": "markdown",
   "metadata": {},
   "source": [
    "This tutorial is for demonstrating DeepScalper using CNY to US Dollar"
   ]
  },
  {
   "attachments": {},
   "cell_type": "markdown",
   "metadata": {},
   "source": [
    "## Step 1: Import Packages\n",
    "Modify the system path and load the corresponding packages and functions "
   ]
  },
  {
   "cell_type": "code",
   "execution_count": 2,
   "metadata": {},
   "outputs": [],
   "source": [
    "import os\n",
    "import sys\n",
    "\n",
    "import warnings\n",
    "warnings.filterwarnings(\"ignore\")\n",
    "\n",
    "ROOT = os.path.dirname(os.path.abspath(\".\"))\n",
    "sys.path.append(ROOT)\n",
    "\n",
    "import torch\n",
    "import argparse\n",
    "import os.path as osp\n",
    "from mmcv import Config\n",
    "from trademaster.utils import replace_cfg_vals\n",
    "from trademaster.nets.builder import build_net\n",
    "from trademaster.environments.builder import build_environment\n",
    "from trademaster.datasets.builder import build_dataset\n",
    "from trademaster.agents.builder import build_agent\n",
    "from trademaster.optimizers.builder import build_optimizer\n",
    "from trademaster.losses.builder import build_loss\n",
    "from trademaster.trainers.builder import build_trainer\n",
    "from trademaster.transition.builder import build_transition\n",
    "from trademaster.utils import plot"
   ]
  },
  {
   "attachments": {},
   "cell_type": "markdown",
   "metadata": {},
   "source": [
    "## Step 2: Load Configs\n",
    "Load default config from the folder `configs/algorithmic_trading/algorithmic_trading_FX_deepscalper_deepscalper_adam_mse.py`"
   ]
  },
  {
   "cell_type": "code",
   "execution_count": 3,
   "metadata": {},
   "outputs": [],
   "source": [
    "\n",
    "parser = argparse.ArgumentParser(description='Download Alpaca Datasets')\n",
    "parser.add_argument(\"--config\", default=osp.join(ROOT, \"configs\", \"algorithmic_trading\", \"algorithmic_trading_FX_deepscalper_deepscalper_adam_mse.py\"),\n",
    "                    help=\"download datasets config file path\")\n",
    "parser.add_argument(\"--task_name\", type=str, default=\"train\")\n",
    "args, _= parser.parse_known_args()\n",
    "\n",
    "cfg = Config.fromfile(args.config)\n",
    "task_name = args.task_name\n",
    "cfg = replace_cfg_vals(cfg)"
   ]
  },
  {
   "cell_type": "code",
   "execution_count": 4,
   "metadata": {},
   "outputs": [
    {
     "data": {
      "text/plain": "Config (path: E:\\workspace\\RA\\TradeMaster\\configs\\algorithmic_trading\\algorithmic_trading_FX_deepscalper_deepscalper_adam_mse.py): {'data': {'type': 'AlgorithmicTradingDataset', 'data_path': 'data/algorithmic_trading/FX', 'train_path': 'data/algorithmic_trading/FX/train.csv', 'valid_path': 'data/algorithmic_trading/FX/valid.csv', 'test_path': 'data/algorithmic_trading/FX/test.csv', 'test_dynamic_path': 'data/algorithmic_trading/FX/test_labeled_3_24_-0.15_0.15.csv', 'tech_indicator_list': ['high', 'low', 'open', 'close', 'adjcp', 'zopen', 'zhigh', 'zlow', 'zadjcp', 'zclose', 'zd_5', 'zd_10', 'zd_15', 'zd_20', 'zd_25', 'zd_30'], 'backward_num_day': 5, 'forward_num_day': 5, 'test_dynamic': '-1'}, 'environment': {'type': 'AlgorithmicTradingEnvironment'}, 'agent': {'type': 'AlgorithmicTradingDQN', 'max_step': 12345, 'reward_scale': 1, 'repeat_times': 1, 'gamma': 0.9, 'batch_size': 64, 'clip_grad_norm': 3.0, 'soft_update_tau': 0, 'state_value_tau': 0.005}, 'trainer': {'type': 'AlgorithmicTradingTrainer', 'epochs': 20, 'work_dir': 'work_dir/algorithmic_trading_FX_deepscalper_deepscalper_adam_mse', 'seeds_list': (12345,), 'batch_size': 64, 'horizon_len': 128, 'buffer_size': 1000000.0, 'num_threads': 8, 'if_remove': False, 'if_discrete': True, 'if_off_policy': True, 'if_keep_save': True, 'if_over_write': False, 'if_save_buffer': False}, 'loss': {'type': 'MSELoss'}, 'optimizer': {'type': 'Adam', 'lr': 0.001}, 'act': {'type': 'QNet', 'state_dim': 82, 'action_dim': 3, 'dims': (64, 32), 'explore_rate': 0.25}, 'cri': None, 'transition': {'type': 'Transition'}, 'task_name': 'algorithmic_trading', 'dataset_name': 'FX', 'optimizer_name': 'adam', 'loss_name': 'mse', 'net_name': 'deepscalper', 'agent_name': 'deepscalper', 'work_dir': 'work_dir/algorithmic_trading_FX_deepscalper_deepscalper_adam_mse', 'batch_size': 64}"
     },
     "execution_count": 4,
     "metadata": {},
     "output_type": "execute_result"
    }
   ],
   "source": [
    "cfg"
   ]
  },
  {
   "attachments": {},
   "cell_type": "markdown",
   "metadata": {},
   "source": [
    "## Step 3: Build Dataset\n",
    "Build datasets from cfg defined above"
   ]
  },
  {
   "cell_type": "code",
   "execution_count": 5,
   "metadata": {},
   "outputs": [],
   "source": [
    "dataset = build_dataset(cfg)"
   ]
  },
  {
   "attachments": {},
   "cell_type": "markdown",
   "metadata": {},
   "source": [
    "## Step 4: Build Reinforcement Learning Environments\n",
    "Build environments based on cfg and previously-defined dataset\n",
    "\n",
    "A style-test is provided as an option to test the algorithm's performance under different market conditions"
   ]
  },
  {
   "cell_type": "code",
   "execution_count": 6,
   "metadata": {},
   "outputs": [],
   "source": [
    "train_environment = build_environment(cfg, default_args=dict(dataset=dataset, task=\"train\"))\n",
    "valid_environment = build_environment(cfg, default_args=dict(dataset=dataset, task=\"valid\"))\n",
    "test_environment = build_environment(cfg, default_args=dict(dataset=dataset, task=\"test\"))"
   ]
  },
  {
   "cell_type": "code",
   "execution_count": 7,
   "metadata": {},
   "outputs": [
    {
     "data": {
      "text/plain": "         date     close   tic      open      high       low     adjcp  zopen  \\\n0  2000-01-04  0.120774  YUAN  0.120774  0.120774  0.120774  0.120774    0.0   \n1  2000-01-05  0.120776  YUAN  0.120776  0.120776  0.120776  0.120776    0.0   \n2  2000-01-06  0.120777  YUAN  0.120777  0.120777  0.120777  0.120777    0.0   \n3  2000-01-07  0.120782  YUAN  0.120782  0.120782  0.120782  0.120782    0.0   \n4  2000-01-10  0.120782  YUAN  0.120782  0.120782  0.120782  0.120782    0.0   \n\n   zhigh  zlow  zadjcp    zclose      zd_5     zd_10     zd_15     zd_20  \\\n0    0.0   0.0     0.0 -0.000012 -0.004914 -0.005947 -0.005263 -0.003942   \n1    0.0   0.0     0.0  0.000012 -0.004914 -0.005947 -0.005263 -0.003942   \n2    0.0   0.0     0.0  0.000012 -0.004914 -0.005947 -0.005263 -0.003942   \n3    0.0   0.0     0.0  0.000036 -0.000039 -0.005947 -0.005263 -0.003942   \n4    0.0   0.0     0.0  0.000000 -0.000029 -0.005947 -0.005263 -0.003942   \n\n      zd_25     zd_30  \n0 -0.004124 -0.003351  \n1 -0.004124 -0.003351  \n2 -0.004124 -0.003351  \n3 -0.004124 -0.003351  \n4 -0.004124 -0.003351  ",
      "text/html": "<div>\n<style scoped>\n    .dataframe tbody tr th:only-of-type {\n        vertical-align: middle;\n    }\n\n    .dataframe tbody tr th {\n        vertical-align: top;\n    }\n\n    .dataframe thead th {\n        text-align: right;\n    }\n</style>\n<table border=\"1\" class=\"dataframe\">\n  <thead>\n    <tr style=\"text-align: right;\">\n      <th></th>\n      <th>date</th>\n      <th>close</th>\n      <th>tic</th>\n      <th>open</th>\n      <th>high</th>\n      <th>low</th>\n      <th>adjcp</th>\n      <th>zopen</th>\n      <th>zhigh</th>\n      <th>zlow</th>\n      <th>zadjcp</th>\n      <th>zclose</th>\n      <th>zd_5</th>\n      <th>zd_10</th>\n      <th>zd_15</th>\n      <th>zd_20</th>\n      <th>zd_25</th>\n      <th>zd_30</th>\n    </tr>\n  </thead>\n  <tbody>\n    <tr>\n      <th>0</th>\n      <td>2000-01-04</td>\n      <td>0.120774</td>\n      <td>YUAN</td>\n      <td>0.120774</td>\n      <td>0.120774</td>\n      <td>0.120774</td>\n      <td>0.120774</td>\n      <td>0.0</td>\n      <td>0.0</td>\n      <td>0.0</td>\n      <td>0.0</td>\n      <td>-0.000012</td>\n      <td>-0.004914</td>\n      <td>-0.005947</td>\n      <td>-0.005263</td>\n      <td>-0.003942</td>\n      <td>-0.004124</td>\n      <td>-0.003351</td>\n    </tr>\n    <tr>\n      <th>1</th>\n      <td>2000-01-05</td>\n      <td>0.120776</td>\n      <td>YUAN</td>\n      <td>0.120776</td>\n      <td>0.120776</td>\n      <td>0.120776</td>\n      <td>0.120776</td>\n      <td>0.0</td>\n      <td>0.0</td>\n      <td>0.0</td>\n      <td>0.0</td>\n      <td>0.000012</td>\n      <td>-0.004914</td>\n      <td>-0.005947</td>\n      <td>-0.005263</td>\n      <td>-0.003942</td>\n      <td>-0.004124</td>\n      <td>-0.003351</td>\n    </tr>\n    <tr>\n      <th>2</th>\n      <td>2000-01-06</td>\n      <td>0.120777</td>\n      <td>YUAN</td>\n      <td>0.120777</td>\n      <td>0.120777</td>\n      <td>0.120777</td>\n      <td>0.120777</td>\n      <td>0.0</td>\n      <td>0.0</td>\n      <td>0.0</td>\n      <td>0.0</td>\n      <td>0.000012</td>\n      <td>-0.004914</td>\n      <td>-0.005947</td>\n      <td>-0.005263</td>\n      <td>-0.003942</td>\n      <td>-0.004124</td>\n      <td>-0.003351</td>\n    </tr>\n    <tr>\n      <th>3</th>\n      <td>2000-01-07</td>\n      <td>0.120782</td>\n      <td>YUAN</td>\n      <td>0.120782</td>\n      <td>0.120782</td>\n      <td>0.120782</td>\n      <td>0.120782</td>\n      <td>0.0</td>\n      <td>0.0</td>\n      <td>0.0</td>\n      <td>0.0</td>\n      <td>0.000036</td>\n      <td>-0.000039</td>\n      <td>-0.005947</td>\n      <td>-0.005263</td>\n      <td>-0.003942</td>\n      <td>-0.004124</td>\n      <td>-0.003351</td>\n    </tr>\n    <tr>\n      <th>4</th>\n      <td>2000-01-10</td>\n      <td>0.120782</td>\n      <td>YUAN</td>\n      <td>0.120782</td>\n      <td>0.120782</td>\n      <td>0.120782</td>\n      <td>0.120782</td>\n      <td>0.0</td>\n      <td>0.0</td>\n      <td>0.0</td>\n      <td>0.0</td>\n      <td>0.000000</td>\n      <td>-0.000029</td>\n      <td>-0.005947</td>\n      <td>-0.005263</td>\n      <td>-0.003942</td>\n      <td>-0.004124</td>\n      <td>-0.003351</td>\n    </tr>\n  </tbody>\n</table>\n</div>"
     },
     "execution_count": 7,
     "metadata": {},
     "output_type": "execute_result"
    }
   ],
   "source": [
    "train_environment.df.head()"
   ]
  },
  {
   "cell_type": "code",
   "execution_count": 8,
   "metadata": {},
   "outputs": [
    {
     "data": {
      "text/plain": "         date     close   tic      open      high       low     adjcp  zopen  \\\n0  2015-12-24  0.154421  YUAN  0.154421  0.154421  0.154421  0.154421    0.0   \n1  2015-12-28  0.154373  YUAN  0.154373  0.154373  0.154373  0.154373    0.0   \n2  2015-12-29  0.154373  YUAN  0.154373  0.154373  0.154373  0.154373    0.0   \n3  2015-12-30  0.154093  YUAN  0.154093  0.154093  0.154093  0.154093    0.0   \n4  2015-12-31  0.154373  YUAN  0.154373  0.154373  0.154373  0.154373    0.0   \n\n   zhigh  zlow  zadjcp        zclose      zd_5     zd_10     zd_15     zd_20  \\\n0    0.0   0.0     0.0  7.721054e-05 -0.000315  0.000647  0.003583  0.006062   \n1    0.0   0.0     0.0 -3.087468e-04  0.000062  0.000584  0.002959  0.005722   \n2    0.0   0.0     0.0  4.440892e-16  0.000108  0.000290  0.002234  0.005021   \n3    0.0   0.0     0.0 -1.818294e-03  0.001566  0.001654  0.003297  0.006059   \n4    0.0   0.0     0.0  1.821606e-03 -0.000302 -0.000253  0.000946  0.003529   \n\n      zd_25     zd_30  \n0  0.007656  0.009026  \n1  0.007370  0.008768  \n2  0.006779  0.008223  \n3  0.007983  0.009433  \n4  0.005590  0.007072  ",
      "text/html": "<div>\n<style scoped>\n    .dataframe tbody tr th:only-of-type {\n        vertical-align: middle;\n    }\n\n    .dataframe tbody tr th {\n        vertical-align: top;\n    }\n\n    .dataframe thead th {\n        text-align: right;\n    }\n</style>\n<table border=\"1\" class=\"dataframe\">\n  <thead>\n    <tr style=\"text-align: right;\">\n      <th></th>\n      <th>date</th>\n      <th>close</th>\n      <th>tic</th>\n      <th>open</th>\n      <th>high</th>\n      <th>low</th>\n      <th>adjcp</th>\n      <th>zopen</th>\n      <th>zhigh</th>\n      <th>zlow</th>\n      <th>zadjcp</th>\n      <th>zclose</th>\n      <th>zd_5</th>\n      <th>zd_10</th>\n      <th>zd_15</th>\n      <th>zd_20</th>\n      <th>zd_25</th>\n      <th>zd_30</th>\n    </tr>\n  </thead>\n  <tbody>\n    <tr>\n      <th>0</th>\n      <td>2015-12-24</td>\n      <td>0.154421</td>\n      <td>YUAN</td>\n      <td>0.154421</td>\n      <td>0.154421</td>\n      <td>0.154421</td>\n      <td>0.154421</td>\n      <td>0.0</td>\n      <td>0.0</td>\n      <td>0.0</td>\n      <td>0.0</td>\n      <td>7.721054e-05</td>\n      <td>-0.000315</td>\n      <td>0.000647</td>\n      <td>0.003583</td>\n      <td>0.006062</td>\n      <td>0.007656</td>\n      <td>0.009026</td>\n    </tr>\n    <tr>\n      <th>1</th>\n      <td>2015-12-28</td>\n      <td>0.154373</td>\n      <td>YUAN</td>\n      <td>0.154373</td>\n      <td>0.154373</td>\n      <td>0.154373</td>\n      <td>0.154373</td>\n      <td>0.0</td>\n      <td>0.0</td>\n      <td>0.0</td>\n      <td>0.0</td>\n      <td>-3.087468e-04</td>\n      <td>0.000062</td>\n      <td>0.000584</td>\n      <td>0.002959</td>\n      <td>0.005722</td>\n      <td>0.007370</td>\n      <td>0.008768</td>\n    </tr>\n    <tr>\n      <th>2</th>\n      <td>2015-12-29</td>\n      <td>0.154373</td>\n      <td>YUAN</td>\n      <td>0.154373</td>\n      <td>0.154373</td>\n      <td>0.154373</td>\n      <td>0.154373</td>\n      <td>0.0</td>\n      <td>0.0</td>\n      <td>0.0</td>\n      <td>0.0</td>\n      <td>4.440892e-16</td>\n      <td>0.000108</td>\n      <td>0.000290</td>\n      <td>0.002234</td>\n      <td>0.005021</td>\n      <td>0.006779</td>\n      <td>0.008223</td>\n    </tr>\n    <tr>\n      <th>3</th>\n      <td>2015-12-30</td>\n      <td>0.154093</td>\n      <td>YUAN</td>\n      <td>0.154093</td>\n      <td>0.154093</td>\n      <td>0.154093</td>\n      <td>0.154093</td>\n      <td>0.0</td>\n      <td>0.0</td>\n      <td>0.0</td>\n      <td>0.0</td>\n      <td>-1.818294e-03</td>\n      <td>0.001566</td>\n      <td>0.001654</td>\n      <td>0.003297</td>\n      <td>0.006059</td>\n      <td>0.007983</td>\n      <td>0.009433</td>\n    </tr>\n    <tr>\n      <th>4</th>\n      <td>2015-12-31</td>\n      <td>0.154373</td>\n      <td>YUAN</td>\n      <td>0.154373</td>\n      <td>0.154373</td>\n      <td>0.154373</td>\n      <td>0.154373</td>\n      <td>0.0</td>\n      <td>0.0</td>\n      <td>0.0</td>\n      <td>0.0</td>\n      <td>1.821606e-03</td>\n      <td>-0.000302</td>\n      <td>-0.000253</td>\n      <td>0.000946</td>\n      <td>0.003529</td>\n      <td>0.005590</td>\n      <td>0.007072</td>\n    </tr>\n  </tbody>\n</table>\n</div>"
     },
     "execution_count": 8,
     "metadata": {},
     "output_type": "execute_result"
    }
   ],
   "source": [
    "valid_environment.df.head()"
   ]
  },
  {
   "cell_type": "code",
   "execution_count": 9,
   "metadata": {},
   "outputs": [
    {
     "data": {
      "text/plain": "         date     close   tic      open      high       low     adjcp  zopen  \\\n0  2017-12-26  0.152837  YUAN  0.152837  0.152837  0.152837  0.152837    0.0   \n1  2017-12-27  0.152532  YUAN  0.152532  0.152532  0.152532  0.152532    0.0   \n2  2017-12-28  0.153088  YUAN  0.153088  0.153088  0.153088  0.153088    0.0   \n3  2017-12-29  0.153697  YUAN  0.153697  0.153697  0.153697  0.153697    0.0   \n4  2018-01-02  0.154059  YUAN  0.154059  0.154059  0.154059  0.154059    0.0   \n\n   zhigh  zlow  zadjcp    zclose      zd_5     zd_10     zd_15     zd_20  \\\n0    0.0   0.0     0.0  0.004906 -0.005238 -0.007916 -0.009013 -0.009333   \n1    0.0   0.0     0.0 -0.001998 -0.001649 -0.004948 -0.006414 -0.006983   \n2    0.0   0.0     0.0  0.003643 -0.003907 -0.007277 -0.009201 -0.010006   \n3    0.0   0.0     0.0  0.003981 -0.005518 -0.009658 -0.012011 -0.013154   \n4    0.0   0.0     0.0  0.002357 -0.005301 -0.010204 -0.013036 -0.014547   \n\n      zd_25     zd_30  \n0 -0.009532 -0.010110  \n1 -0.007136 -0.007713  \n2 -0.010171 -0.010799  \n3 -0.013476 -0.014149  \n4 -0.015137 -0.015782  ",
      "text/html": "<div>\n<style scoped>\n    .dataframe tbody tr th:only-of-type {\n        vertical-align: middle;\n    }\n\n    .dataframe tbody tr th {\n        vertical-align: top;\n    }\n\n    .dataframe thead th {\n        text-align: right;\n    }\n</style>\n<table border=\"1\" class=\"dataframe\">\n  <thead>\n    <tr style=\"text-align: right;\">\n      <th></th>\n      <th>date</th>\n      <th>close</th>\n      <th>tic</th>\n      <th>open</th>\n      <th>high</th>\n      <th>low</th>\n      <th>adjcp</th>\n      <th>zopen</th>\n      <th>zhigh</th>\n      <th>zlow</th>\n      <th>zadjcp</th>\n      <th>zclose</th>\n      <th>zd_5</th>\n      <th>zd_10</th>\n      <th>zd_15</th>\n      <th>zd_20</th>\n      <th>zd_25</th>\n      <th>zd_30</th>\n    </tr>\n  </thead>\n  <tbody>\n    <tr>\n      <th>0</th>\n      <td>2017-12-26</td>\n      <td>0.152837</td>\n      <td>YUAN</td>\n      <td>0.152837</td>\n      <td>0.152837</td>\n      <td>0.152837</td>\n      <td>0.152837</td>\n      <td>0.0</td>\n      <td>0.0</td>\n      <td>0.0</td>\n      <td>0.0</td>\n      <td>0.004906</td>\n      <td>-0.005238</td>\n      <td>-0.007916</td>\n      <td>-0.009013</td>\n      <td>-0.009333</td>\n      <td>-0.009532</td>\n      <td>-0.010110</td>\n    </tr>\n    <tr>\n      <th>1</th>\n      <td>2017-12-27</td>\n      <td>0.152532</td>\n      <td>YUAN</td>\n      <td>0.152532</td>\n      <td>0.152532</td>\n      <td>0.152532</td>\n      <td>0.152532</td>\n      <td>0.0</td>\n      <td>0.0</td>\n      <td>0.0</td>\n      <td>0.0</td>\n      <td>-0.001998</td>\n      <td>-0.001649</td>\n      <td>-0.004948</td>\n      <td>-0.006414</td>\n      <td>-0.006983</td>\n      <td>-0.007136</td>\n      <td>-0.007713</td>\n    </tr>\n    <tr>\n      <th>2</th>\n      <td>2017-12-28</td>\n      <td>0.153088</td>\n      <td>YUAN</td>\n      <td>0.153088</td>\n      <td>0.153088</td>\n      <td>0.153088</td>\n      <td>0.153088</td>\n      <td>0.0</td>\n      <td>0.0</td>\n      <td>0.0</td>\n      <td>0.0</td>\n      <td>0.003643</td>\n      <td>-0.003907</td>\n      <td>-0.007277</td>\n      <td>-0.009201</td>\n      <td>-0.010006</td>\n      <td>-0.010171</td>\n      <td>-0.010799</td>\n    </tr>\n    <tr>\n      <th>3</th>\n      <td>2017-12-29</td>\n      <td>0.153697</td>\n      <td>YUAN</td>\n      <td>0.153697</td>\n      <td>0.153697</td>\n      <td>0.153697</td>\n      <td>0.153697</td>\n      <td>0.0</td>\n      <td>0.0</td>\n      <td>0.0</td>\n      <td>0.0</td>\n      <td>0.003981</td>\n      <td>-0.005518</td>\n      <td>-0.009658</td>\n      <td>-0.012011</td>\n      <td>-0.013154</td>\n      <td>-0.013476</td>\n      <td>-0.014149</td>\n    </tr>\n    <tr>\n      <th>4</th>\n      <td>2018-01-02</td>\n      <td>0.154059</td>\n      <td>YUAN</td>\n      <td>0.154059</td>\n      <td>0.154059</td>\n      <td>0.154059</td>\n      <td>0.154059</td>\n      <td>0.0</td>\n      <td>0.0</td>\n      <td>0.0</td>\n      <td>0.0</td>\n      <td>0.002357</td>\n      <td>-0.005301</td>\n      <td>-0.010204</td>\n      <td>-0.013036</td>\n      <td>-0.014547</td>\n      <td>-0.015137</td>\n      <td>-0.015782</td>\n    </tr>\n  </tbody>\n</table>\n</div>"
     },
     "execution_count": 9,
     "metadata": {},
     "output_type": "execute_result"
    }
   ],
   "source": [
    "test_environment.df.head()"
   ]
  },
  {
   "attachments": {},
   "cell_type": "markdown",
   "metadata": {},
   "source": [
    "## Step 5: Build Net \n",
    "Update information about the state and action dimension in the config and create nets and optimizer for DQN\n"
   ]
  },
  {
   "cell_type": "code",
   "execution_count": 10,
   "metadata": {},
   "outputs": [],
   "source": [
    "action_dim = train_environment.action_dim\n",
    "state_dim = train_environment.state_dim\n",
    "\n",
    "cfg.act.update(dict(action_dim=action_dim, state_dim=state_dim))\n",
    "act = build_net(cfg.act)\n",
    "act_optimizer = build_optimizer(cfg, default_args=dict(params=act.parameters()))\n",
    "if cfg.cri:\n",
    "    cfg.cri.update(dict(action_dim=action_dim, state_dim=state_dim))\n",
    "    cri = build_net(cfg.cri)\n",
    "    cri_optimizer = build_optimizer(cfg, default_args=dict(params=cri.parameters()))\n",
    "else:\n",
    "    cri = None\n",
    "    cri_optimizer = None"
   ]
  },
  {
   "attachments": {},
   "cell_type": "markdown",
   "metadata": {},
   "source": [
    "## Step 6: Build Loss\n",
    "Build loss from config"
   ]
  },
  {
   "cell_type": "code",
   "execution_count": 11,
   "metadata": {},
   "outputs": [],
   "source": [
    "criterion = build_loss(cfg)"
   ]
  },
  {
   "attachments": {},
   "cell_type": "markdown",
   "metadata": {},
   "source": [
    "## Step 7: Build Transition\n",
    "Build transition from config"
   ]
  },
  {
   "cell_type": "code",
   "execution_count": 12,
   "metadata": {},
   "outputs": [],
   "source": [
    "transition = build_transition(cfg)\n"
   ]
  },
  {
   "attachments": {},
   "cell_type": "markdown",
   "metadata": {},
   "source": [
    "## Step 8: Build Agent\n",
    "Build agent from config and detect device"
   ]
  },
  {
   "cell_type": "code",
   "execution_count": 13,
   "metadata": {},
   "outputs": [],
   "source": [
    "device = torch.device('cuda' if torch.cuda.is_available() else 'cpu')\n",
    "agent = build_agent(cfg, default_args=dict(action_dim = action_dim,state_dim = state_dim,act = act,cri = cri,act_optimizer = act_optimizer,cri_optimizer = cri_optimizer, criterion = criterion,transition = transition,device=device))"
   ]
  },
  {
   "attachments": {},
   "cell_type": "markdown",
   "metadata": {},
   "source": [
    "## Step 9: Build Trainer\n",
    "Build trainer from config and create work directionary to save the result, model and config"
   ]
  },
  {
   "cell_type": "code",
   "execution_count": 14,
   "metadata": {},
   "outputs": [
    {
     "name": "stdout",
     "output_type": "stream",
     "text": [
      "| Arguments Keep work_dir: E:\\workspace\\RA\\TradeMaster\\work_dir/algorithmic_trading_FX_deepscalper_deepscalper_adam_mse\n"
     ]
    }
   ],
   "source": [
    "trainer = build_trainer(cfg, default_args=dict(train_environment=train_environment,valid_environment=valid_environment,test_environment=test_environment,agent=agent,device=device))"
   ]
  },
  {
   "attachments": {},
   "cell_type": "markdown",
   "metadata": {},
   "source": [
    "## Step 10: Train the Trainer\n",
    "Train the trainer based on the config and get results from workdir"
   ]
  },
  {
   "cell_type": "code",
   "execution_count": 15,
   "metadata": {},
   "outputs": [
    {
     "name": "stdout",
     "output_type": "stream",
     "text": [
      "Train Episode: [1/20]\n",
      "+--------------+-------------+------------+--------------+\n",
      "| Total Return | Sharp Ratio | Volatility | Max Drawdown |\n",
      "+--------------+-------------+------------+--------------+\n",
      "|  -0.049085%  |  -71.210560 | 0.000173%  |  0.107833%   |\n",
      "+--------------+-------------+------------+--------------+\n",
      "Valid Episode: [1/20]\n",
      "+--------------+-------------+------------+--------------+\n",
      "| Total Return | Sharp Ratio | Volatility | Max Drawdown |\n",
      "+--------------+-------------+------------+--------------+\n",
      "|  0.000905%   |   7.226111  | 0.000090%  |  0.001914%   |\n",
      "+--------------+-------------+------------+--------------+\n",
      "Train Episode: [2/20]\n",
      "+--------------+-------------+------------+--------------+\n",
      "| Total Return | Sharp Ratio | Volatility | Max Drawdown |\n",
      "+--------------+-------------+------------+--------------+\n",
      "|  -0.189065%  | -206.026579 | 0.000230%  |  0.195093%   |\n",
      "+--------------+-------------+------------+--------------+\n",
      "Valid Episode: [2/20]\n",
      "+--------------+-------------+------------+--------------+\n",
      "| Total Return | Sharp Ratio | Volatility | Max Drawdown |\n",
      "+--------------+-------------+------------+--------------+\n",
      "|  0.000905%   |   7.226111  | 0.000090%  |  0.001914%   |\n",
      "+--------------+-------------+------------+--------------+\n",
      "Train Episode: [3/20]\n",
      "+--------------+-------------+------------+--------------+\n",
      "| Total Return | Sharp Ratio | Volatility | Max Drawdown |\n",
      "+--------------+-------------+------------+--------------+\n",
      "|  0.008505%   |  19.919135  | 0.000107%  |  0.033777%   |\n",
      "+--------------+-------------+------------+--------------+\n",
      "Valid Episode: [3/20]\n",
      "+--------------+-------------+------------+--------------+\n",
      "| Total Return | Sharp Ratio | Volatility | Max Drawdown |\n",
      "+--------------+-------------+------------+--------------+\n",
      "|  -0.000000%  |  -0.000159  | 0.000000%  |  0.000000%   |\n",
      "+--------------+-------------+------------+--------------+\n",
      "Train Episode: [4/20]\n",
      "+--------------+-------------+------------+--------------+\n",
      "| Total Return | Sharp Ratio | Volatility | Max Drawdown |\n",
      "+--------------+-------------+------------+--------------+\n",
      "|  0.005526%   |  23.852602  | 0.000058%  |  0.003864%   |\n",
      "+--------------+-------------+------------+--------------+\n",
      "Valid Episode: [4/20]\n",
      "+--------------+-------------+------------+--------------+\n",
      "| Total Return | Sharp Ratio | Volatility | Max Drawdown |\n",
      "+--------------+-------------+------------+--------------+\n",
      "|  0.000905%   |   7.226111  | 0.000090%  |  0.001914%   |\n",
      "+--------------+-------------+------------+--------------+\n",
      "Train Episode: [5/20]\n",
      "+--------------+-------------+------------+--------------+\n",
      "| Total Return | Sharp Ratio | Volatility | Max Drawdown |\n",
      "+--------------+-------------+------------+--------------+\n",
      "|  -0.041947%  |  -49.040703 | 0.000215%  |  0.130793%   |\n",
      "+--------------+-------------+------------+--------------+\n",
      "Valid Episode: [5/20]\n",
      "+--------------+-------------+------------+--------------+\n",
      "| Total Return | Sharp Ratio | Volatility | Max Drawdown |\n",
      "+--------------+-------------+------------+--------------+\n",
      "|  -0.000000%  |  -0.000159  | 0.000000%  |  0.000000%   |\n",
      "+--------------+-------------+------------+--------------+\n",
      "Train Episode: [6/20]\n",
      "+--------------+-------------+------------+--------------+\n",
      "| Total Return | Sharp Ratio | Volatility | Max Drawdown |\n",
      "+--------------+-------------+------------+--------------+\n",
      "|  -0.057112%  |  -63.209296 | 0.000227%  |  0.142530%   |\n",
      "+--------------+-------------+------------+--------------+\n",
      "Valid Episode: [6/20]\n",
      "+--------------+-------------+------------+--------------+\n",
      "| Total Return | Sharp Ratio | Volatility | Max Drawdown |\n",
      "+--------------+-------------+------------+--------------+\n",
      "|  0.000905%   |   7.226111  | 0.000090%  |  0.001914%   |\n",
      "+--------------+-------------+------------+--------------+\n",
      "Train Episode: [7/20]\n",
      "+--------------+-------------+------------+--------------+\n",
      "| Total Return | Sharp Ratio | Volatility | Max Drawdown |\n",
      "+--------------+-------------+------------+--------------+\n",
      "|  -0.207944%  | -253.682719 | 0.000206%  |  0.247825%   |\n",
      "+--------------+-------------+------------+--------------+\n",
      "Valid Episode: [7/20]\n",
      "+--------------+-------------+------------+--------------+\n",
      "| Total Return | Sharp Ratio | Volatility | Max Drawdown |\n",
      "+--------------+-------------+------------+--------------+\n",
      "|  0.000905%   |   7.226111  | 0.000090%  |  0.001914%   |\n",
      "+--------------+-------------+------------+--------------+\n",
      "Train Episode: [8/20]\n",
      "+--------------+-------------+------------+--------------+\n",
      "| Total Return | Sharp Ratio | Volatility | Max Drawdown |\n",
      "+--------------+-------------+------------+--------------+\n",
      "|  -0.030731%  | -108.662385 | 0.000071%  |  0.040862%   |\n",
      "+--------------+-------------+------------+--------------+\n",
      "Valid Episode: [8/20]\n",
      "+--------------+--------------+------------+--------------+\n",
      "| Total Return | Sharp Ratio  | Volatility | Max Drawdown |\n",
      "+--------------+--------------+------------+--------------+\n",
      "|  -0.147375%  | -1176.497490 | 0.000090%  |  0.147375%   |\n",
      "+--------------+--------------+------------+--------------+\n",
      "Train Episode: [9/20]\n",
      "+--------------+-------------+------------+--------------+\n",
      "| Total Return | Sharp Ratio | Volatility | Max Drawdown |\n",
      "+--------------+-------------+------------+--------------+\n",
      "|  -0.383082%  | -400.467925 | 0.000240%  |  0.383789%   |\n",
      "+--------------+-------------+------------+--------------+\n",
      "Valid Episode: [9/20]\n",
      "+--------------+-------------+------------+--------------+\n",
      "| Total Return | Sharp Ratio | Volatility | Max Drawdown |\n",
      "+--------------+-------------+------------+--------------+\n",
      "|  -0.000000%  |  -0.000159  | 0.000000%  |  0.000000%   |\n",
      "+--------------+-------------+------------+--------------+\n",
      "Train Episode: [10/20]\n",
      "+--------------+-------------+------------+--------------+\n",
      "| Total Return | Sharp Ratio | Volatility | Max Drawdown |\n",
      "+--------------+-------------+------------+--------------+\n",
      "|  -0.340556%  | -357.029663 | 0.000239%  |  0.361947%   |\n",
      "+--------------+-------------+------------+--------------+\n",
      "Valid Episode: [10/20]\n",
      "+--------------+--------------+------------+--------------+\n",
      "| Total Return | Sharp Ratio  | Volatility | Max Drawdown |\n",
      "+--------------+--------------+------------+--------------+\n",
      "|  -0.147375%  | -1176.497490 | 0.000090%  |  0.147375%   |\n",
      "+--------------+--------------+------------+--------------+\n",
      "Train Episode: [11/20]\n",
      "+--------------+-------------+------------+--------------+\n",
      "| Total Return | Sharp Ratio | Volatility | Max Drawdown |\n",
      "+--------------+-------------+------------+--------------+\n",
      "|  -0.319755%  | -375.766442 | 0.000214%  |  0.320684%   |\n",
      "+--------------+-------------+------------+--------------+\n",
      "Valid Episode: [11/20]\n",
      "+--------------+-------------+------------+--------------+\n",
      "| Total Return | Sharp Ratio | Volatility | Max Drawdown |\n",
      "+--------------+-------------+------------+--------------+\n",
      "|  0.000905%   |   7.226111  | 0.000090%  |  0.001914%   |\n",
      "+--------------+-------------+------------+--------------+\n",
      "Train Episode: [12/20]\n",
      "+--------------+-------------+------------+--------------+\n",
      "| Total Return | Sharp Ratio | Volatility | Max Drawdown |\n",
      "+--------------+-------------+------------+--------------+\n",
      "|  -0.447141%  | -424.737101 | 0.000264%  |  0.489499%   |\n",
      "+--------------+-------------+------------+--------------+\n",
      "Valid Episode: [12/20]\n",
      "+--------------+--------------+------------+--------------+\n",
      "| Total Return | Sharp Ratio  | Volatility | Max Drawdown |\n",
      "+--------------+--------------+------------+--------------+\n",
      "|  -0.147375%  | -1176.497490 | 0.000090%  |  0.147375%   |\n",
      "+--------------+--------------+------------+--------------+\n",
      "Train Episode: [13/20]\n",
      "+--------------+-------------+------------+--------------+\n",
      "| Total Return | Sharp Ratio | Volatility | Max Drawdown |\n",
      "+--------------+-------------+------------+--------------+\n",
      "|  -0.309251%  | -293.107324 | 0.000265%  |  0.356133%   |\n",
      "+--------------+-------------+------------+--------------+\n",
      "Valid Episode: [13/20]\n",
      "+--------------+--------------+------------+--------------+\n",
      "| Total Return | Sharp Ratio  | Volatility | Max Drawdown |\n",
      "+--------------+--------------+------------+--------------+\n",
      "|  -0.147375%  | -1176.497490 | 0.000090%  |  0.147375%   |\n",
      "+--------------+--------------+------------+--------------+\n",
      "Train Episode: [14/20]\n",
      "+--------------+-------------+------------+--------------+\n",
      "| Total Return | Sharp Ratio | Volatility | Max Drawdown |\n",
      "+--------------+-------------+------------+--------------+\n",
      "|  -0.311973%  | -316.587860 | 0.000247%  |  0.321678%   |\n",
      "+--------------+-------------+------------+--------------+\n",
      "Valid Episode: [14/20]\n",
      "+--------------+-------------+------------+--------------+\n",
      "| Total Return | Sharp Ratio | Volatility | Max Drawdown |\n",
      "+--------------+-------------+------------+--------------+\n",
      "|  -0.000000%  |  -0.000159  | 0.000000%  |  0.000000%   |\n",
      "+--------------+-------------+------------+--------------+\n",
      "Train Episode: [15/20]\n",
      "+--------------+-------------+------------+--------------+\n",
      "| Total Return | Sharp Ratio | Volatility | Max Drawdown |\n",
      "+--------------+-------------+------------+--------------+\n",
      "|  -0.077214%  |  -87.438786 | 0.000222%  |  0.142536%   |\n",
      "+--------------+-------------+------------+--------------+\n",
      "Valid Episode: [15/20]\n",
      "+--------------+--------------+------------+--------------+\n",
      "| Total Return | Sharp Ratio  | Volatility | Max Drawdown |\n",
      "+--------------+--------------+------------+--------------+\n",
      "|  -0.147375%  | -1176.497490 | 0.000090%  |  0.147375%   |\n",
      "+--------------+--------------+------------+--------------+\n",
      "Train Episode: [16/20]\n",
      "+--------------+-------------+------------+--------------+\n",
      "| Total Return | Sharp Ratio | Volatility | Max Drawdown |\n",
      "+--------------+-------------+------------+--------------+\n",
      "|  -0.390278%  | -357.698944 | 0.000274%  |  0.428966%   |\n",
      "+--------------+-------------+------------+--------------+\n",
      "Valid Episode: [16/20]\n",
      "+--------------+-------------+------------+--------------+\n",
      "| Total Return | Sharp Ratio | Volatility | Max Drawdown |\n",
      "+--------------+-------------+------------+--------------+\n",
      "|  -0.000000%  |  -0.000159  | 0.000000%  |  0.000000%   |\n",
      "+--------------+-------------+------------+--------------+\n",
      "Train Episode: [17/20]\n",
      "+--------------+-------------+------------+--------------+\n",
      "| Total Return | Sharp Ratio | Volatility | Max Drawdown |\n",
      "+--------------+-------------+------------+--------------+\n",
      "|  -0.266238%  | -254.445671 | 0.000263%  |  0.302967%   |\n",
      "+--------------+-------------+------------+--------------+\n",
      "Valid Episode: [17/20]\n",
      "+--------------+-------------+------------+--------------+\n",
      "| Total Return | Sharp Ratio | Volatility | Max Drawdown |\n",
      "+--------------+-------------+------------+--------------+\n",
      "|  -0.000000%  |  -0.000159  | 0.000000%  |  0.000000%   |\n",
      "+--------------+-------------+------------+--------------+\n",
      "Train Episode: [18/20]\n",
      "+--------------+-------------+------------+--------------+\n",
      "| Total Return | Sharp Ratio | Volatility | Max Drawdown |\n",
      "+--------------+-------------+------------+--------------+\n",
      "|  -0.279504%  | -320.057915 | 0.000219%  |  0.279504%   |\n",
      "+--------------+-------------+------------+--------------+\n",
      "Valid Episode: [18/20]\n",
      "+--------------+--------------+------------+--------------+\n",
      "| Total Return | Sharp Ratio  | Volatility | Max Drawdown |\n",
      "+--------------+--------------+------------+--------------+\n",
      "|  -0.147375%  | -1176.497490 | 0.000090%  |  0.147375%   |\n",
      "+--------------+--------------+------------+--------------+\n",
      "Train Episode: [19/20]\n",
      "+--------------+-------------+------------+--------------+\n",
      "| Total Return | Sharp Ratio | Volatility | Max Drawdown |\n",
      "+--------------+-------------+------------+--------------+\n",
      "|  -0.169140%  | -176.260394 | 0.000241%  |  0.207642%   |\n",
      "+--------------+-------------+------------+--------------+\n",
      "Valid Episode: [19/20]\n",
      "+--------------+-------------+------------+--------------+\n",
      "| Total Return | Sharp Ratio | Volatility | Max Drawdown |\n",
      "+--------------+-------------+------------+--------------+\n",
      "|  -0.000000%  |  -0.000159  | 0.000000%  |  0.000000%   |\n",
      "+--------------+-------------+------------+--------------+\n",
      "Train Episode: [20/20]\n",
      "+--------------+-------------+------------+--------------+\n",
      "| Total Return | Sharp Ratio | Volatility | Max Drawdown |\n",
      "+--------------+-------------+------------+--------------+\n",
      "|  -0.398387%  | -376.338092 | 0.000266%  |  0.407660%   |\n",
      "+--------------+-------------+------------+--------------+\n",
      "Valid Episode: [20/20]\n",
      "+--------------+-------------+------------+--------------+\n",
      "| Total Return | Sharp Ratio | Volatility | Max Drawdown |\n",
      "+--------------+-------------+------------+--------------+\n",
      "|  0.000905%   |   7.226111  | 0.000090%  |  0.001914%   |\n",
      "+--------------+-------------+------------+--------------+\n"
     ]
    }
   ],
   "source": [
    "trainer.train_and_valid()"
   ]
  },
  {
   "cell_type": "code",
   "execution_count": 16,
   "metadata": {
    "collapsed": false
   },
   "outputs": [
    {
     "name": "stdout",
     "output_type": "stream",
     "text": [
      "Resume checkpoint E:\\workspace\\RA\\TradeMaster\\work_dir/algorithmic_trading_FX_deepscalper_deepscalper_adam_mse\\checkpoints\\best.pth\n",
      "Test Best Episode\n",
      "+--------------+-------------+------------+--------------+\n",
      "| Total Return | Sharp Ratio | Volatility | Max Drawdown |\n",
      "+--------------+-------------+------------+--------------+\n",
      "|  -0.002787%  |  -19.159380 | 0.000104%  |  0.004424%   |\n",
      "+--------------+-------------+------------+--------------+\n"
     ]
    },
    {
     "data": {
      "text/plain": "array([ 0.00000000e+00, -2.36978106e-04,  4.50223721e-04,  2.84943539e-04,\n       -9.01557351e-04, -3.45507695e-03,  2.93945537e-03,  1.63996009e-03,\n        6.65298533e-03,  4.58613302e-03,  1.56908929e-03,  4.12995153e-03,\n        5.40598687e-03, -1.42766510e-03,  1.19563520e-03,  1.28878633e-02,\n        1.83392266e-02, -4.25693709e-04, -5.80171294e-03,  6.12403032e-03,\n        1.80285056e-02, -6.79296506e-03, -8.32064331e-04,  7.78569011e-03,\n        1.21553899e-03,  1.14957519e-02, -3.76136602e-02,  1.73631851e-02,\n       -1.99668583e-02, -9.40434571e-03, -4.32760417e-03,  0.00000000e+00,\n        0.00000000e+00,  7.14381559e-03,  0.00000000e+00, -1.04452893e-02,\n        1.27178259e-02,  1.98098086e-02, -5.14684119e-03, -1.08297171e-02,\n       -2.83413367e-02,  1.39317398e-02, -6.57047330e-03,  4.27226499e-02,\n       -1.45598396e-02, -1.84142325e-02,  1.19254970e-02,  1.76072081e-03,\n        1.08070284e-02,  4.91328405e-03, -7.76830547e-03, -1.24928556e-02,\n        1.16815423e-03, -4.89260172e-03,  1.72699420e-02, -1.51204941e-02,\n        2.80315769e-02,  6.12353177e-02, -1.41484012e-02, -2.46342639e-02,\n        1.06119757e-02,  2.32000326e-02, -9.28838501e-03, -1.53192126e-02,\n       -2.64760830e-02,  0.00000000e+00,  0.00000000e+00,  1.68594109e-03,\n        4.07126798e-02,  2.50774620e-02, -3.92689848e-02,  2.71837721e-02,\n       -4.93887482e-03, -9.63188585e-03,  1.54041723e-02, -8.19204422e-03,\n       -3.46263988e-02, -4.12553924e-02,  2.40984765e-02, -3.98361171e-02,\n       -2.07721226e-02,  3.02916563e-03,  0.00000000e+00,  0.00000000e+00,\n       -5.94324388e-02,  1.89332666e-02, -1.46911251e-02, -1.09642079e-02,\n       -1.08555356e-02,  2.30756201e-02,  3.23513689e-02,  2.42343812e-02,\n       -6.19022397e-03, -9.20830006e-02,  1.24966316e-02,  1.42925201e-02,\n       -2.90943901e-02, -1.12032499e-02,  3.73911107e-02, -5.23451088e-02,\n        2.89749850e-02, -3.61930438e-02, -6.44318789e-02, -3.25189719e-03,\n        1.99739347e-02, -2.14406499e-02,  3.35220347e-02,  2.08684284e-03,\n        5.07106522e-02, -1.06879078e-02, -3.79130414e-02,  8.39681170e-03,\n        2.18777347e-03,  1.32554415e-02, -1.00314408e-02, -1.11399252e-01,\n        0.00000000e+00, -1.18629744e-01,  2.50433297e-02, -5.29849267e-02,\n       -3.61115851e-02, -9.48033845e-02, -1.13257112e-01, -6.60411370e-02,\n       -6.89364837e-02,  1.82530208e-02, -1.31740990e-01,  7.58169079e-02,\n        7.84933726e-03, -1.61075122e-02,  8.08372506e-02, -5.16984501e-02,\n       -1.39569367e-01,  4.00630748e-02, -8.11657174e-02,  1.02608000e-02,\n       -4.61302374e-02, -4.35259228e-02, -1.63893077e-01,  1.27451054e-02,\n       -8.16384632e-02,  4.58481078e-03,  7.84976011e-02, -6.44675809e-02,\n       -7.22897369e-02, -1.56332820e-03,  2.01660772e-02, -3.67732856e-02,\n       -7.17711175e-02,  2.26484035e-02, -6.12288535e-02,  7.10257035e-02,\n       -2.08463323e-02,  4.75971592e-02, -8.54315471e-02, -1.38716079e-01,\n        2.33692386e-02, -1.71463202e-01,  1.78229762e-01,  1.74844914e-02,\n        6.58764319e-02,  3.50032644e-02,  1.52256628e-02, -1.20628709e-01,\n        2.51772187e-01, -4.09305252e-02,  4.54835082e-02, -6.19298987e-02,\n       -8.10251378e-02,  4.15922591e-02, -4.61960070e-02,  5.74696246e-02,\n       -1.91752624e-02, -3.58988506e-02, -4.67484580e-02, -5.90850176e-02,\n        4.85640071e-02,  6.30129352e-02, -1.00789450e-01,  5.05795023e-02,\n       -1.95268166e-02,  4.81777482e-02,  4.27153474e-03, -4.05522336e-02,\n        0.00000000e+00, -2.87014250e-02, -5.16300766e-02, -4.61933558e-02,\n        7.94812008e-02,  0.00000000e+00,  0.00000000e+00,  0.00000000e+00,\n        0.00000000e+00,  0.00000000e+00, -2.19145702e-01, -2.84880805e-03,\n        1.41404974e-01, -1.24849532e-01,  2.11139464e-02,  1.20805753e-02,\n       -6.72765878e-02, -4.35086077e-02,  3.19400227e-02, -6.53888457e-02,\n        3.09111609e-02, -2.00067541e-02, -2.43453717e-02,  2.23160201e-02,\n       -7.74781985e-02, -2.49995199e-02, -3.19878890e-02,  2.32591240e-01,\n        1.38285733e-01, -1.58494082e-01,  3.44001756e-02, -8.98659631e-04,\n       -6.48675253e-02, -1.05770780e-01,  3.15476134e-03,  2.08422685e-02,\n        5.47500887e-02,  5.96964380e-03, -1.42960086e-02, -2.31349289e-02,\n        9.31560437e-02, -1.07095127e-01,  3.74987397e-02, -4.75372690e-02,\n       -1.69850890e-02,  5.45579139e-02, -6.62090257e-02,  3.66861952e-01,\n        2.24506815e-01, -2.34333078e-01,  4.10619174e-02, -1.70265845e-01,\n        5.39954793e-02,  9.49302822e-02, -1.00596205e-02, -1.26782393e-01,\n        4.43527327e-02,  1.16592349e-02,  1.06963847e-02,  4.30278738e-02,\n       -1.09862503e-01,  1.03591952e-01,  1.03057846e-01, -5.54707856e-02,\n        0.00000000e+00,  8.34155514e-02, -5.88776622e-02,  2.39417645e-02,\n        8.67952322e-02, -9.70253233e-03,  2.18772758e-01,  1.33472007e-01,\n        1.55673012e-01,  5.62467656e-04,  3.56070563e-02, -1.14940493e-01,\n       -1.69932335e-02, -1.73702044e-01,  9.92019579e-02,  3.54032411e-02,\n        2.23301678e-01,  6.40871916e-03,  7.79460586e-02,  1.11715284e-01,\n        9.36294299e-02, -2.78848469e-01,  0.00000000e+00,  0.00000000e+00,\n        0.00000000e+00,  0.00000000e+00,  0.00000000e+00, -2.88892209e-01,\n        1.08621973e-01,  7.74462628e-02, -6.86325547e-02,  1.88732338e-02,\n        7.34834074e-02,  2.25929315e-01,  5.19027132e-02,  1.69066911e-01,\n       -8.62679891e-02,  1.00609116e-01, -5.75685196e-02, -8.70023466e-02,\n        1.92203601e-03, -9.64182307e-03, -2.51352384e-02, -2.13187283e-02,\n       -4.46608126e-02, -9.08141908e-03,  9.45629089e-02,  3.93509759e-03,\n       -9.52232120e-02,  5.26633916e-02,  5.29099870e-03,  9.95732487e-03,\n        1.26935626e-01, -2.41866360e-02, -1.41038949e-01,  5.58226592e-02,\n       -4.45468769e-02, -7.90136722e-02, -8.03454263e-02,  1.82621969e-01,\n        6.83935380e-03, -8.28877775e-02,  8.59101033e-02, -4.76150181e-02,\n       -1.03713902e-02,  1.66496419e-02,  3.27443250e-02, -2.93562593e-02,\n       -2.45130863e-02,  1.04863969e-01, -2.33384643e-02, -2.83471392e-02,\n        1.72557500e-01, -1.50992938e-01,  3.50889398e-02, -5.74394338e-02,\n       -9.83511778e-02,  3.02017641e-02, -1.51813251e-01,  9.80419417e-02,\n       -3.62012395e-02, -1.08829689e-02,  2.03805575e-02, -1.31434410e-02,\n        0.00000000e+00, -1.93854907e-01, -1.11567321e-01, -4.59302732e-02,\n       -3.17927120e-01,  2.82267618e-02, -3.94854594e-01,  2.00816646e-02,\n       -3.59779310e-03, -6.48611040e-02, -2.51368381e-01,  5.09345154e-02,\n        7.50155776e-02, -3.40278857e-02, -2.39334256e-02,  6.55157085e-02,\n       -5.91417675e-02, -4.38450036e-02,  9.31615343e-02, -1.17893478e-02,\n       -7.38751497e-04, -3.25761728e-02, -8.90235690e-03,  1.48770208e-03,\n        1.86559512e-02, -1.79786406e-01,  1.42782063e-01, -4.05606498e-02,\n       -3.83557089e-02, -2.63628819e-02, -3.01954530e-03,  1.89155182e-01,\n        4.58740456e-03,  3.75276399e-01, -1.36889949e-01, -5.59509029e-02,\n       -2.56747900e-02,  7.79877261e-03,  1.48640904e-02,  8.80243630e-02,\n        1.28967969e-01, -1.82290625e-01, -7.03997483e-02, -9.40968626e-02,\n        9.27594142e-02, -4.61450957e-02,  1.28624729e-01,  1.84729293e-02,\n       -9.16816302e-02,  2.17436697e-02,  1.29270367e-02,  1.78310591e-02,\n       -4.62957085e-02, -1.95206875e-02,  7.33767139e-03,  1.30832971e-02,\n        5.74591511e-02,  2.47150466e-03, -5.85846694e-02, -1.17106765e-01,\n        7.76654470e-02,  0.00000000e+00, -1.15356350e-01, -3.42526567e-01,\n       -8.85854386e-01,  2.31914912e-01, -3.21292035e-01,  1.21966806e-01,\n       -1.39124009e-01,  2.81616701e-02,  1.25364301e-01,  1.62165340e-01,\n       -8.42579589e-02, -7.03361406e-02, -7.03377837e-02, -8.01403587e-02,\n       -2.12765448e-02, -1.68435355e-01, -8.07960682e-02, -4.65980442e-01,\n       -8.04714328e-02, -2.01314945e-02,  1.56969139e-01, -8.85120660e-02,\n       -1.96830639e-01,  2.81339657e-01, -2.29235164e-02,  2.77762352e-01,\n       -6.55053063e-02,  7.39832256e-02, -2.66852551e-02,  3.07379380e-01,\n        2.79367121e-02,  8.07595799e-02, -2.09170463e-01,  4.75998206e-02,\n       -9.36472962e-02,  4.26303059e-02, -2.20689717e-01,  2.55394836e-02,\n       -1.49022360e-01,  1.10706472e-02,  7.00848711e-02, -2.21326253e-01,\n        3.41380062e-03,  0.00000000e+00,  0.00000000e+00,  0.00000000e+00,\n        0.00000000e+00,  4.40590112e-02,  9.19833349e-02,  1.42302044e-01,\n        2.50948404e-01,  4.78833435e-02, -9.41353779e-02,  1.37162335e-01,\n       -3.48701685e-02,  5.10908470e-02, -1.16855118e-02,  1.23637677e-01,\n       -5.43270666e-02,  3.35648788e-02, -2.09148557e-02,  1.36686198e-02,\n        1.04300210e-01,  1.49123645e-01,  1.01727850e-02,  6.30944364e-02,\n        2.03541285e-01,  1.07176564e-01,  1.91183347e-01, -1.78353840e-01,\n       -1.06026915e-01, -1.48376766e-01,  2.64702712e-02,  1.13927572e-01,\n       -1.62576308e-01, -1.61537544e-02, -7.70245426e-02,  5.62060686e-02,\n       -9.92219810e-02,  3.82083610e-02,  2.87454414e-02,  3.74846774e-02,\n       -2.69729525e-02, -6.94059765e-02, -2.20269343e-01,  1.15487598e-01,\n        4.25326450e-02,  9.41488202e-02, -3.99093215e-02,  5.95173935e-02,\n       -5.47559322e-02,  4.52322305e-01,  0.00000000e+00,  3.98427078e-03,\n       -4.58856375e-02, -6.18770173e-02, -6.78777810e-02,  3.39916502e-02])"
     },
     "execution_count": 16,
     "metadata": {},
     "output_type": "execute_result"
    }
   ],
   "source": [
    "trainer.test()"
   ]
  },
  {
   "cell_type": "code",
   "execution_count": 17,
   "metadata": {},
   "outputs": [
    {
     "data": {
      "text/plain": "<Figure size 640x480 with 1 Axes>",
      "image/png": "[encoded data removed]"
     },
     "metadata": {},
     "output_type": "display_data"
    }
   ],
   "source": [
    "plot(trainer.test_environment.save_asset_memory(),alg=\"DeepScalper\")"
   ]
  }
 ],
 "metadata": {
  "kernelspec": {
   "name": "pycharm-5c427241",
   "language": "python",
   "display_name": "PyCharm (TradeMaster)"
  },
  "language_info": {
   "codemirror_mode": {
    "name": "ipython",
    "version": 3
   },
   "file_extension": ".py",
   "mimetype": "text/x-python",
   "name": "python",
   "nbconvert_exporter": "python",
   "pygments_lexer": "ipython3",
   "version": "3.7.13"
  },
  "orig_nbformat": 4,
  "vscode": {
   "interpreter": {
    "hash": "a1f97403911abd3f02553c8f2b0c54537fddc7efadd9f5d3e31784db6e40c347"
   }
  }
 },
 "nbformat": 4,
 "nbformat_minor": 2
}