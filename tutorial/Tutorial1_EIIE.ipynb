{
 "cells": [
  {
   "cell_type": "markdown",
   "metadata": {},
   "source": [
    "# Tutorial1\n",
    "We show how to train a profitable RL agent on portfolio managemnt with EIIE algorithm on US stock market."
   ]
  },
  {
   "cell_type": "markdown",
   "metadata": {},
   "source": [
    "## Step 1: Import Packages\n",
    "Modify the system path and load the corresponding packages and functions"
   ]
  },
  {
   "cell_type": "code",
   "execution_count": 1,
   "metadata": {},
   "outputs": [
    {
     "name": "stderr",
     "output_type": "stream",
     "text": [
      "2023-03-02 14:36:32,051\tINFO services.py:1476 -- View the Ray dashboard at \u001b[1m\u001b[32mhttp://127.0.0.1:8265\u001b[39m\u001b[22m\n",
      "2023-03-02 14:36:34,076\tINFO worker.py:973 -- Calling ray.init() again after it has already been called.\n"
     ]
    }
   ],
   "source": [
    "import os\n",
    "import sys\n",
    "from pathlib import Path\n",
    "import warnings\n",
    "warnings.filterwarnings(\"ignore\")\n",
    "ROOT = os.path.dirname(os.path.abspath(\".\"))\n",
    "sys.path.append(ROOT)\n",
    "import torch\n",
    "import argparse\n",
    "import os.path as osp\n",
    "from mmcv import Config\n",
    "from trademaster.utils import replace_cfg_vals\n",
    "from trademaster.nets.builder import build_net\n",
    "from trademaster.environments.builder import build_environment\n",
    "from trademaster.datasets.builder import build_dataset\n",
    "from trademaster.agents.builder import build_agent\n",
    "from trademaster.optimizers.builder import build_optimizer\n",
    "from trademaster.losses.builder import build_loss\n",
    "from trademaster.trainers.builder import build_trainer\n",
    "from trademaster.transition.builder import build_transition\n",
    "from trademaster.utils import plot"
   ]
  },
  {
   "cell_type": "markdown",
   "metadata": {},
   "source": [
    "## Step 2: Load Configs\n",
    "Load default config from the file `configs/portfolio_management/portfolio_management_dj30_eiie_eiie_adam_mse.py`"
   ]
  },
  {
   "cell_type": "code",
   "execution_count": 2,
   "metadata": {},
   "outputs": [],
   "source": [
    "parser = argparse.ArgumentParser(description='Download Alpaca Datasets')\n",
    "parser.add_argument(\"--config\", default=osp.join(ROOT, \"configs\", \"portfolio_management\", \"portfolio_management_dj30_eiie_eiie_adam_mse.py\"),\n",
    "                    help=\"download datasets config file path\")\n",
    "parser.add_argument(\"--task_name\", type=str, default=\"train\")\n",
    "\n",
    "args, _= parser.parse_known_args()\n",
    "cfg = Config.fromfile(args.config)\n",
    "task_name = args.task_name\n",
    "cfg = replace_cfg_vals(cfg)"
   ]
  },
  {
   "cell_type": "code",
   "execution_count": 3,
   "metadata": {},
   "outputs": [
    {
     "data": {
      "text/plain": [
       "Config (path: /data/sunshuo/qml/TradeMaster/configs/portfolio_management/portfolio_management_dj30_eiie_eiie_adam_mse.py): {'data': {'type': 'PortfolioManagementDataset', 'data_path': 'data/portfolio_management/dj30', 'train_path': 'data/portfolio_management/dj30/train.csv', 'valid_path': 'data/portfolio_management/dj30/valid.csv', 'test_path': 'data/portfolio_management/dj30/test.csv', 'tech_indicator_list': ['zopen', 'zhigh', 'zlow', 'zadjcp', 'zclose', 'zd_5', 'zd_10', 'zd_15', 'zd_20', 'zd_25', 'zd_30'], 'length_day': 10, 'initial_amount': 100000, 'transaction_cost_pct': 0.001, 'test_dynamic_path': 'data/portfolio_management/dj30/DJI_label_by_DJIindex_3_24_-0.25_0.25.csv'}, 'environment': {'type': 'PortfolioManagementEIIEEnvironment'}, 'agent': {'type': 'PortfolioManagementEIIE', 'memory_capacity': 1000, 'gamma': 0.99, 'policy_update_frequency': 500}, 'trainer': {'type': 'PortfolioManagementEIIETrainer', 'epochs': 10, 'work_dir': 'work_dir/portfolio_management_dj30_eiie_eiie_adam_mse', 'if_remove': False}, 'loss': {'type': 'MSELoss'}, 'optimizer': {'type': 'Adam', 'lr': 0.001}, 'act': {'type': 'EIIEConv', 'input_dim': None, 'output_dim': 1, 'time_steps': 10, 'kernel_size': 3, 'dims': [32]}, 'cri': {'type': 'EIIECritic', 'input_dim': None, 'action_dim': None, 'output_dim': 1, 'time_steps': None, 'num_layers': 1, 'hidden_size': 32}, 'transition': {'type': 'Transition'}, 'task_name': 'portfolio_management', 'dataset_name': 'dj30', 'net_name': 'eiie', 'agent_name': 'eiie', 'optimizer_name': 'adam', 'loss_name': 'mse', 'work_dir': 'work_dir/portfolio_management_dj30_eiie_eiie_adam_mse'}"
      ]
     },
     "execution_count": 3,
     "metadata": {},
     "output_type": "execute_result"
    }
   ],
   "source": [
    "cfg"
   ]
  },
  {
   "cell_type": "markdown",
   "metadata": {},
   "source": [
    "## Step 3: Build Dataset"
   ]
  },
  {
   "cell_type": "code",
   "execution_count": 4,
   "metadata": {},
   "outputs": [],
   "source": [
    "dataset = build_dataset(cfg)"
   ]
  },
  {
   "cell_type": "markdown",
   "metadata": {},
   "source": [
    "## Step 4: Build Reinforcement Learning Environments"
   ]
  },
  {
   "cell_type": "code",
   "execution_count": 5,
   "metadata": {},
   "outputs": [],
   "source": [
    "train_environment = build_environment(cfg, default_args=dict(dataset=dataset, task=\"train\"))\n",
    "valid_environment = build_environment(cfg, default_args=dict(dataset=dataset, task=\"valid\"))\n",
    "test_environment = build_environment(cfg, default_args=dict(dataset=dataset, task=\"test\"))"
   ]
  },
  {
   "cell_type": "code",
   "execution_count": 6,
   "metadata": {},
   "outputs": [
    {
     "data": {
      "text/html": [
       "<div>\n",
       "<style scoped>\n",
       "    .dataframe tbody tr th:only-of-type {\n",
       "        vertical-align: middle;\n",
       "    }\n",
       "\n",
       "    .dataframe tbody tr th {\n",
       "        vertical-align: top;\n",
       "    }\n",
       "\n",
       "    .dataframe thead th {\n",
       "        text-align: right;\n",
       "    }\n",
       "</style>\n",
       "<table border=\"1\" class=\"dataframe\">\n",
       "  <thead>\n",
       "    <tr style=\"text-align: right;\">\n",
       "      <th></th>\n",
       "      <th>date</th>\n",
       "      <th>open</th>\n",
       "      <th>high</th>\n",
       "      <th>low</th>\n",
       "      <th>close</th>\n",
       "      <th>adjcp</th>\n",
       "      <th>tic</th>\n",
       "      <th>zopen</th>\n",
       "      <th>zhigh</th>\n",
       "      <th>zlow</th>\n",
       "      <th>zadjcp</th>\n",
       "      <th>zclose</th>\n",
       "      <th>zd_5</th>\n",
       "      <th>zd_10</th>\n",
       "      <th>zd_15</th>\n",
       "      <th>zd_20</th>\n",
       "      <th>zd_25</th>\n",
       "      <th>zd_30</th>\n",
       "    </tr>\n",
       "  </thead>\n",
       "  <tbody>\n",
       "    <tr>\n",
       "      <th>0</th>\n",
       "      <td>2012-01-04</td>\n",
       "      <td>14.642857</td>\n",
       "      <td>14.810000</td>\n",
       "      <td>14.617143</td>\n",
       "      <td>14.765714</td>\n",
       "      <td>12.643501</td>\n",
       "      <td>AAPL</td>\n",
       "      <td>-0.008320</td>\n",
       "      <td>0.002999</td>\n",
       "      <td>-0.010062</td>\n",
       "      <td>-0.143726</td>\n",
       "      <td>0.005374</td>\n",
       "      <td>-0.010348</td>\n",
       "      <td>-0.011415</td>\n",
       "      <td>0.002751</td>\n",
       "      <td>-0.061124</td>\n",
       "      <td>-0.072128</td>\n",
       "      <td>-0.126481</td>\n",
       "    </tr>\n",
       "    <tr>\n",
       "      <th>0</th>\n",
       "      <td>2012-01-04</td>\n",
       "      <td>64.099998</td>\n",
       "      <td>64.129997</td>\n",
       "      <td>63.400002</td>\n",
       "      <td>63.759998</td>\n",
       "      <td>49.393219</td>\n",
       "      <td>AMGN</td>\n",
       "      <td>0.005332</td>\n",
       "      <td>0.005803</td>\n",
       "      <td>-0.005646</td>\n",
       "      <td>-0.225326</td>\n",
       "      <td>-0.005459</td>\n",
       "      <td>0.007794</td>\n",
       "      <td>-0.008521</td>\n",
       "      <td>-0.008222</td>\n",
       "      <td>-0.017393</td>\n",
       "      <td>-0.031253</td>\n",
       "      <td>-0.042012</td>\n",
       "    </tr>\n",
       "    <tr>\n",
       "      <th>0</th>\n",
       "      <td>2012-01-04</td>\n",
       "      <td>48.020000</td>\n",
       "      <td>48.380001</td>\n",
       "      <td>47.400002</td>\n",
       "      <td>48.240002</td>\n",
       "      <td>41.672607</td>\n",
       "      <td>AXP</td>\n",
       "      <td>-0.004561</td>\n",
       "      <td>0.002902</td>\n",
       "      <td>-0.017413</td>\n",
       "      <td>-0.136140</td>\n",
       "      <td>-0.003100</td>\n",
       "      <td>0.004561</td>\n",
       "      <td>-0.004885</td>\n",
       "      <td>-0.017185</td>\n",
       "      <td>-0.029824</td>\n",
       "      <td>-0.045096</td>\n",
       "      <td>-0.052918</td>\n",
       "    </tr>\n",
       "    <tr>\n",
       "      <th>0</th>\n",
       "      <td>2012-01-04</td>\n",
       "      <td>74.099998</td>\n",
       "      <td>74.599998</td>\n",
       "      <td>73.589996</td>\n",
       "      <td>74.330002</td>\n",
       "      <td>60.821106</td>\n",
       "      <td>BA</td>\n",
       "      <td>-0.003094</td>\n",
       "      <td>0.003632</td>\n",
       "      <td>-0.009956</td>\n",
       "      <td>-0.181742</td>\n",
       "      <td>0.001482</td>\n",
       "      <td>0.002922</td>\n",
       "      <td>-0.007421</td>\n",
       "      <td>-0.004776</td>\n",
       "      <td>-0.002812</td>\n",
       "      <td>-0.013054</td>\n",
       "      <td>-0.001687</td>\n",
       "    </tr>\n",
       "    <tr>\n",
       "      <th>0</th>\n",
       "      <td>2012-01-04</td>\n",
       "      <td>93.410004</td>\n",
       "      <td>95.510002</td>\n",
       "      <td>93.410004</td>\n",
       "      <td>94.849998</td>\n",
       "      <td>70.945084</td>\n",
       "      <td>CAT</td>\n",
       "      <td>-0.015182</td>\n",
       "      <td>0.006958</td>\n",
       "      <td>-0.015182</td>\n",
       "      <td>-0.252029</td>\n",
       "      <td>0.009257</td>\n",
       "      <td>0.010322</td>\n",
       "      <td>-0.004803</td>\n",
       "      <td>-0.010627</td>\n",
       "      <td>-0.001714</td>\n",
       "      <td>-0.005438</td>\n",
       "      <td>0.006133</td>\n",
       "    </tr>\n",
       "  </tbody>\n",
       "</table>\n",
       "</div>"
      ],
      "text/plain": [
       "         date       open       high        low      close      adjcp   tic  \\\n",
       "0  2012-01-04  14.642857  14.810000  14.617143  14.765714  12.643501  AAPL   \n",
       "0  2012-01-04  64.099998  64.129997  63.400002  63.759998  49.393219  AMGN   \n",
       "0  2012-01-04  48.020000  48.380001  47.400002  48.240002  41.672607   AXP   \n",
       "0  2012-01-04  74.099998  74.599998  73.589996  74.330002  60.821106    BA   \n",
       "0  2012-01-04  93.410004  95.510002  93.410004  94.849998  70.945084   CAT   \n",
       "\n",
       "      zopen     zhigh      zlow    zadjcp    zclose      zd_5     zd_10  \\\n",
       "0 -0.008320  0.002999 -0.010062 -0.143726  0.005374 -0.010348 -0.011415   \n",
       "0  0.005332  0.005803 -0.005646 -0.225326 -0.005459  0.007794 -0.008521   \n",
       "0 -0.004561  0.002902 -0.017413 -0.136140 -0.003100  0.004561 -0.004885   \n",
       "0 -0.003094  0.003632 -0.009956 -0.181742  0.001482  0.002922 -0.007421   \n",
       "0 -0.015182  0.006958 -0.015182 -0.252029  0.009257  0.010322 -0.004803   \n",
       "\n",
       "      zd_15     zd_20     zd_25     zd_30  \n",
       "0  0.002751 -0.061124 -0.072128 -0.126481  \n",
       "0 -0.008222 -0.017393 -0.031253 -0.042012  \n",
       "0 -0.017185 -0.029824 -0.045096 -0.052918  \n",
       "0 -0.004776 -0.002812 -0.013054 -0.001687  \n",
       "0 -0.010627 -0.001714 -0.005438  0.006133  "
      ]
     },
     "execution_count": 6,
     "metadata": {},
     "output_type": "execute_result"
    }
   ],
   "source": [
    "train_environment.df.head()"
   ]
  },
  {
   "cell_type": "markdown",
   "metadata": {},
   "source": [
    "## Step 5: Build Net \n",
    "Update information on the state and action dimension. Crreate networks and optimizer for EIIE."
   ]
  },
  {
   "cell_type": "code",
   "execution_count": 7,
   "metadata": {},
   "outputs": [],
   "source": [
    "action_dim = train_environment.action_dim # 29\n",
    "state_dim = train_environment.state_dim # 11\n",
    "input_dim = len(train_environment.tech_indicator_list)\n",
    "time_steps = train_environment.time_steps\n",
    "\n",
    "cfg.act.update(dict(input_dim=input_dim, time_steps=time_steps))\n",
    "cfg.cri.update(dict(input_dim=input_dim, action_dim= action_dim, time_steps=time_steps))\n",
    "\n",
    "act = build_net(cfg.act)\n",
    "cri = build_net(cfg.cri)\n",
    "act_optimizer = build_optimizer(cfg, default_args=dict(params=act.parameters()))\n",
    "cri_optimizer = build_optimizer(cfg, default_args=dict(params=cri.parameters()))"
   ]
  },
  {
   "cell_type": "markdown",
   "metadata": {},
   "source": [
    "## Step 6: Build Loss Function"
   ]
  },
  {
   "cell_type": "code",
   "execution_count": 8,
   "metadata": {},
   "outputs": [],
   "source": [
    "criterion = build_loss(cfg)"
   ]
  },
  {
   "cell_type": "markdown",
   "metadata": {},
   "source": [
    "## Step 7: Build Transition"
   ]
  },
  {
   "cell_type": "code",
   "execution_count": 9,
   "metadata": {},
   "outputs": [],
   "source": [
    "transition = build_transition(cfg)\n"
   ]
  },
  {
   "cell_type": "markdown",
   "metadata": {},
   "source": [
    "## Step 8: Build Agent"
   ]
  },
  {
   "cell_type": "code",
   "execution_count": 10,
   "metadata": {},
   "outputs": [],
   "source": [
    "device = torch.device('cuda' if torch.cuda.is_available() else 'cpu')\n",
    "agent = build_agent(cfg, default_args=dict(action_dim=action_dim,state_dim=state_dim,time_steps = time_steps,act=act,cri=cri,act_optimizer=act_optimizer,cri_optimizer = cri_optimizer,criterion=criterion,transition = transition,device = device))"
   ]
  },
  {
   "cell_type": "markdown",
   "metadata": {},
   "source": [
    "## Step 9: Build Trainer\n",
    "Build trainer from config and create work directionary to save the result, model and config"
   ]
  },
  {
   "cell_type": "code",
   "execution_count": 11,
   "metadata": {},
   "outputs": [
    {
     "name": "stdout",
     "output_type": "stream",
     "text": [
      "| Arguments Keep work_dir: /data/sunshuo/qml/TradeMaster/work_dir/portfolio_management_dj30_eiie_eiie_adam_mse\n"
     ]
    }
   ],
   "source": [
    "trainer = build_trainer(cfg, default_args=dict(train_environment=train_environment,valid_environment=valid_environment,test_environment=test_environment,agent=agent,device=device))\n",
    "work_dir = os.path.join(ROOT, cfg.trainer.work_dir)\n",
    "\n",
    "if not os.path.exists(work_dir):\n",
    "    os.makedirs(work_dir)\n",
    "cfg.dump(osp.join(work_dir, osp.basename(args.config)))"
   ]
  },
  {
   "cell_type": "markdown",
   "metadata": {},
   "source": [
    "## Step 10: RL Agent Training\n",
    "Train the EIIE agent based on the config and save results in workdir"
   ]
  },
  {
   "cell_type": "code",
   "execution_count": 12,
   "metadata": {},
   "outputs": [
    {
     "name": "stdout",
     "output_type": "stream",
     "text": [
      "Train Episode: [1/2]\n",
      "+--------------+-------------+------------+--------------+\n",
      "| Total Return | Sharp Ratio | Volatility | Max Drawdown |\n",
      "+--------------+-------------+------------+--------------+\n",
      "| 180.258297%  |  84.495989  | 0.756881%  |  15.019442%  |\n",
      "+--------------+-------------+------------+--------------+\n",
      "Valid Episode: [1/2]\n",
      "+--------------+-------------+------------+--------------+\n",
      "| Total Return | Sharp Ratio | Volatility | Max Drawdown |\n",
      "+--------------+-------------+------------+--------------+\n",
      "|  9.587790%   |   4.551697  | 2.140674%  |  31.090111%  |\n",
      "+--------------+-------------+------------+--------------+\n",
      "Train Episode: [2/2]\n",
      "+--------------+-------------+------------+--------------+\n",
      "| Total Return | Sharp Ratio | Volatility | Max Drawdown |\n",
      "+--------------+-------------+------------+--------------+\n",
      "| 180.255686%  |  84.494494  | 0.756883%  |  15.019641%  |\n",
      "+--------------+-------------+------------+--------------+\n",
      "Valid Episode: [2/2]\n",
      "+--------------+-------------+------------+--------------+\n",
      "| Total Return | Sharp Ratio | Volatility | Max Drawdown |\n",
      "+--------------+-------------+------------+--------------+\n",
      "|  9.587263%   |   4.551391  | 2.140700%  |  31.090776%  |\n",
      "+--------------+-------------+------------+--------------+\n"
     ]
    }
   ],
   "source": [
    "trainer.train_and_valid()"
   ]
  },
  {
   "cell_type": "markdown",
   "metadata": {},
   "source": [
    "## Step 11: RL Agent Testing"
   ]
  },
  {
   "cell_type": "code",
   "execution_count": 12,
   "metadata": {},
   "outputs": [
    {
     "name": "stdout",
     "output_type": "stream",
     "text": [
      "Resume checkpoint /data/sunshuo/qml/TradeMaster/work_dir/portfolio_management_dj30_eiie_eiie_adam_mse/checkpoints/best.pth\n",
      "Test Best Episode\n",
      "+--------------+-------------+------------+--------------+\n",
      "| Total Return | Sharp Ratio | Volatility | Max Drawdown |\n",
      "+--------------+-------------+------------+--------------+\n",
      "|  14.644974%  |  20.735932  | 0.719221%  |  6.744258%   |\n",
      "+--------------+-------------+------------+--------------+\n"
     ]
    }
   ],
   "source": [
    "trainer.test();"
   ]
  },
  {
   "cell_type": "code",
   "execution_count": 14,
   "metadata": {},
   "outputs": [
    {
     "data": {
      "image/png": "[encoded data removed]",
      "text/plain": [
       "<Figure size 432x288 with 1 Axes>"
      ]
     },
     "metadata": {
      "needs_background": "light"
     },
     "output_type": "display_data"
    }
   ],
   "source": [
    "plot(trainer.test_environment.save_asset_memory(),alg=\"EIIE\")"
   ]
  }
 ],
 "metadata": {
  "kernelspec": {
   "display_name": "Python 3 (ipykernel)",
   "language": "python",
   "name": "python3"
  },
  "language_info": {
   "codemirror_mode": {
    "name": "ipython",
    "version": 3
   },
   "file_extension": ".py",
   "mimetype": "text/x-python",
   "name": "python",
   "nbconvert_exporter": "python",
   "pygments_lexer": "ipython3",
   "version": "3.7.13"
  },
  "vscode": {
   "interpreter": {
    "hash": "a1f97403911abd3f02553c8f2b0c54537fddc7efadd9f5d3e31784db6e40c347"
   }
  }
 },
 "nbformat": 4,
 "nbformat_minor": 2
}
